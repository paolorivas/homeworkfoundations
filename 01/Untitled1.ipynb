{
 "cells": [
  {
   "cell_type": "code",
   "execution_count": 1,
   "metadata": {
    "collapsed": false
   },
   "outputs": [
    {
     "ename": "SyntaxError",
     "evalue": "invalid character in identifier (<ipython-input-1-fe4da1ecf9ed>, line 2)",
     "output_type": "error",
     "traceback": [
      "\u001b[0;36m  File \u001b[0;32m\"<ipython-input-1-fe4da1ecf9ed>\"\u001b[0;36m, line \u001b[0;32m2\u001b[0m\n\u001b[0;31m    ​\u001b[0m\n\u001b[0m    ^\u001b[0m\n\u001b[0;31mSyntaxError\u001b[0m\u001b[0;31m:\u001b[0m invalid character in identifier\n"
     ]
    }
   ],
   "source": [
    "kittens = document.find_all('div', {'class': 'kitten'})\n",
    "​\n",
    "for item in kittens:\n",
    "    h2_tag = item.find('h2') # this is actually searching the ENTIRE document\n",
    "    a_tags = item.find_all('a')    \n",
    "    all_shows_str = []\n",
    "    \n",
    "    for a_tag_item in a_tags:\n",
    "        tag_str = a_tag_item.string\n",
    "        all_shows_str.append(tag_str)\n",
    "        \n",
    "    string_with_all_show_names = ', '.join(all_shows_str)\n",
    "    print(h2_tag.string + \":\" + string_with_all_show_names)"
   ]
  },
  {
   "cell_type": "code",
   "execution_count": null,
   "metadata": {
    "collapsed": true
   },
   "outputs": [],
   "source": []
  }
 ],
 "metadata": {
  "kernelspec": {
   "display_name": "Python 3",
   "language": "python",
   "name": "python3"
  },
  "language_info": {
   "codemirror_mode": {
    "name": "ipython",
    "version": 3
   },
   "file_extension": ".py",
   "mimetype": "text/x-python",
   "name": "python",
   "nbconvert_exporter": "python",
   "pygments_lexer": "ipython3",
   "version": "3.5.1"
  }
 },
 "nbformat": 4,
 "nbformat_minor": 0
}
