{
 "cells": [
  {
   "cell_type": "markdown",
   "metadata": {},
   "source": [
    "# HW Review"
   ]
  },
  {
   "cell_type": "markdown",
   "metadata": {},
   "source": [
    "## Sorting lists -- what we already know"
   ]
  },
  {
   "cell_type": "code",
   "execution_count": 5,
   "metadata": {
    "collapsed": true
   },
   "outputs": [],
   "source": [
    "x = [\"duck\", \"aardvark\", \"crocodile\", \"emu\", \"bee\",]"
   ]
  },
  {
   "cell_type": "code",
   "execution_count": 6,
   "metadata": {
    "collapsed": false
   },
   "outputs": [
    {
     "data": {
      "text/plain": [
       "['aardvark', 'bee', 'crocodile', 'duck', 'emu']"
      ]
     },
     "execution_count": 6,
     "metadata": {},
     "output_type": "execute_result"
    }
   ],
   "source": [
    "sorted(x)"
   ]
  },
  {
   "cell_type": "code",
   "execution_count": 7,
   "metadata": {
    "collapsed": true
   },
   "outputs": [],
   "source": [
    "# Sorts the original list\n",
    "x.sort()"
   ]
  },
  {
   "cell_type": "code",
   "execution_count": 8,
   "metadata": {
    "collapsed": false
   },
   "outputs": [
    {
     "data": {
      "text/plain": [
       "['aardvark', 'bee', 'crocodile', 'duck', 'emu']"
      ]
     },
     "execution_count": 8,
     "metadata": {},
     "output_type": "execute_result"
    }
   ],
   "source": [
    "x"
   ]
  },
  {
   "cell_type": "code",
   "execution_count": 9,
   "metadata": {
    "collapsed": false,
    "scrolled": true
   },
   "outputs": [
    {
     "data": {
      "text/plain": [
       "['emu', 'duck', 'crocodile', 'bee', 'aardvark']"
      ]
     },
     "execution_count": 9,
     "metadata": {},
     "output_type": "execute_result"
    }
   ],
   "source": [
    "# Similar to order by DESC in SQL\n",
    "sorted(x, reverse=True)"
   ]
  },
  {
   "cell_type": "markdown",
   "metadata": {},
   "source": [
    "## Sorting lists using functions in the key parameter"
   ]
  },
  {
   "cell_type": "code",
   "execution_count": 10,
   "metadata": {
    "collapsed": true
   },
   "outputs": [],
   "source": [
    "# Sorted by second letter of each string: aardvard, bee, emu, crocodile, duck\n",
    "# We're going to do something like this:\n",
    "# sorted(x, key=???)"
   ]
  },
  {
   "cell_type": "code",
   "execution_count": 11,
   "metadata": {
    "collapsed": true
   },
   "outputs": [],
   "source": [
    "def get_second_letter(s):\n",
    "    return s[1]"
   ]
  },
  {
   "cell_type": "code",
   "execution_count": 12,
   "metadata": {
    "collapsed": false
   },
   "outputs": [
    {
     "data": {
      "text/plain": [
       "'h'"
      ]
     },
     "execution_count": 12,
     "metadata": {},
     "output_type": "execute_result"
    }
   ],
   "source": [
    "get_second_letter(\"cheese\")"
   ]
  },
  {
   "cell_type": "code",
   "execution_count": 13,
   "metadata": {
    "collapsed": false
   },
   "outputs": [
    {
     "data": {
      "text/plain": [
       "['aardvark', 'bee', 'emu', 'crocodile', 'duck']"
      ]
     },
     "execution_count": 13,
     "metadata": {},
     "output_type": "execute_result"
    }
   ],
   "source": [
    "# You are passing our get_second_letter function as a parameter to your sorted() function\n",
    "sorted(x, key=get_second_letter)"
   ]
  },
  {
   "cell_type": "code",
   "execution_count": 14,
   "metadata": {
    "collapsed": false
   },
   "outputs": [
    {
     "data": {
      "text/plain": [
       "int"
      ]
     },
     "execution_count": 14,
     "metadata": {},
     "output_type": "execute_result"
    }
   ],
   "source": [
    "type(12)"
   ]
  },
  {
   "cell_type": "code",
   "execution_count": 15,
   "metadata": {
    "collapsed": false
   },
   "outputs": [
    {
     "data": {
      "text/plain": [
       "str"
      ]
     },
     "execution_count": 15,
     "metadata": {},
     "output_type": "execute_result"
    }
   ],
   "source": [
    "type(\"hello\")"
   ]
  },
  {
   "cell_type": "code",
   "execution_count": 16,
   "metadata": {
    "collapsed": false
   },
   "outputs": [
    {
     "data": {
      "text/plain": [
       "function"
      ]
     },
     "execution_count": 16,
     "metadata": {},
     "output_type": "execute_result"
    }
   ],
   "source": [
    "# Function is just another kind of value in Python -- therefore, you can pass them around like variables\n",
    "type(get_second_letter)"
   ]
  },
  {
   "cell_type": "markdown",
   "metadata": {},
   "source": [
    "## Lambda functions"
   ]
  },
  {
   "cell_type": "markdown",
   "metadata": {},
   "source": [
    "A alternate way of writing functions; written on a single line."
   ]
  },
  {
   "cell_type": "code",
   "execution_count": 17,
   "metadata": {
    "collapsed": true
   },
   "outputs": [],
   "source": [
    "# Normal function:\n",
    "def get_second_letter(s):\n",
    "    return s[1]\n",
    "\n",
    "# The above function is pretty simple -- passing only one parameter, and get a simple return statement\n",
    "get_second_letter = lambda s: s[1] # This translates EXACTLY to the function above; achieves exactly the same thing\n",
    "\n",
    "# Note that if we had expressions other than our return statement, we could NOT use a lambda function"
   ]
  },
  {
   "cell_type": "code",
   "execution_count": 18,
   "metadata": {
    "collapsed": false
   },
   "outputs": [
    {
     "data": {
      "text/plain": [
       "'e'"
      ]
     },
     "execution_count": 18,
     "metadata": {},
     "output_type": "execute_result"
    }
   ],
   "source": [
    "get_second_letter(\"hello\")"
   ]
  },
  {
   "cell_type": "code",
   "execution_count": 19,
   "metadata": {
    "collapsed": false
   },
   "outputs": [
    {
     "data": {
      "text/plain": [
       "function"
      ]
     },
     "execution_count": 19,
     "metadata": {},
     "output_type": "execute_result"
    }
   ],
   "source": [
    "# This expression itself is a function\n",
    "# This function does not need to have a variable associated with it; it doesn't need a name! \n",
    "# Allows you to define a function without assigning it to a variable\n",
    "# Great when you only want to use a function once \n",
    "\n",
    "type(lambda s: s[1])"
   ]
  },
  {
   "cell_type": "code",
   "execution_count": 20,
   "metadata": {
    "collapsed": false
   },
   "outputs": [
    {
     "data": {
      "text/plain": [
       "['aardvark', 'bee', 'emu', 'crocodile', 'duck']"
      ]
     },
     "execution_count": 20,
     "metadata": {},
     "output_type": "execute_result"
    }
   ],
   "source": [
    "sorted(x, key=lambda s: s[1])\n",
    "\n",
    "# same as: sorted(x, key=get_second_letter)"
   ]
  },
  {
   "cell_type": "markdown",
   "metadata": {},
   "source": [
    "### The extra credit from HW4"
   ]
  },
  {
   "cell_type": "code",
   "execution_count": 21,
   "metadata": {
    "collapsed": true
   },
   "outputs": [],
   "source": [
    "planets = [\n",
    " {'diameter': 0.382,\n",
    "  'mass': 0.06,\n",
    "  'moons': 0,\n",
    "  'name': 'Mercury',\n",
    "  'orbital_period': 0.24,\n",
    "  'rings': 'no',\n",
    "  'type': 'terrestrial'},\n",
    " {'diameter': 0.949,\n",
    "  'mass': 0.82,\n",
    "  'moons': 0,\n",
    "  'name': 'Venus',\n",
    "  'orbital_period': 0.62,\n",
    "  'rings': 'no',\n",
    "  'type': 'terrestrial'},\n",
    " {'diameter': 1.00,\n",
    "  'mass': 1.00,\n",
    "  'moons': 1,\n",
    "  'name': 'Earth',\n",
    "  'orbital_period': 1.00,\n",
    "  'rings': 'no',\n",
    "  'type': 'terrestrial'},\n",
    " {'diameter': 0.532,\n",
    "  'mass': 0.11,\n",
    "  'moons': 2,\n",
    "  'name': 'Mars',\n",
    "  'orbital_period': 1.88,\n",
    "  'rings': 'no',\n",
    "  'type': 'terrestrial'},\n",
    " {'diameter': 11.209,\n",
    "  'mass': 317.8,\n",
    "  'moons': 67,\n",
    "  'name': 'Jupiter',\n",
    "  'orbital_period': 11.86,\n",
    "  'rings': 'yes',\n",
    "  'type': 'gas giant'},\n",
    " {'diameter': 9.449,\n",
    "  'mass': 95.2,\n",
    "  'moons': 62,\n",
    "  'name': 'Saturn',\n",
    "  'orbital_period': 29.46,\n",
    "  'rings': 'yes',\n",
    "  'type': 'gas giant'},\n",
    " {'diameter': 4.007,\n",
    "  'mass': 14.6,\n",
    "  'moons': 27,\n",
    "  'name': 'Uranus',\n",
    "  'orbital_period': 84.01,\n",
    "  'rings': 'yes',\n",
    "  'type': 'ice giant'},\n",
    " {'diameter': 3.883,\n",
    "  'mass': 17.2,\n",
    "  'moons': 14,\n",
    "  'name': 'Neptune',\n",
    "  'orbital_period': 164.8,\n",
    "  'rings': 'yes',\n",
    "  'type': 'ice giant'}]"
   ]
  },
  {
   "cell_type": "code",
   "execution_count": 22,
   "metadata": {
    "collapsed": false
   },
   "outputs": [
    {
     "data": {
      "text/plain": [
       "['Mercury', 'Venus', 'Earth', 'Mars', 'Neptune', 'Uranus', 'Saturn', 'Jupiter']"
      ]
     },
     "execution_count": 22,
     "metadata": {},
     "output_type": "execute_result"
    }
   ],
   "source": [
    "[p['name'] for p in sorted(planets, key=lambda x: x['moons'])]"
   ]
  },
  {
   "cell_type": "code",
   "execution_count": 23,
   "metadata": {
    "collapsed": false
   },
   "outputs": [
    {
     "data": {
      "text/plain": [
       "['Mercury', 'Venus', 'Earth', 'Mars', 'Neptune', 'Uranus', 'Saturn', 'Jupiter']"
      ]
     },
     "execution_count": 23,
     "metadata": {},
     "output_type": "execute_result"
    }
   ],
   "source": [
    "def get_moon_count(d):\n",
    "    return d['moons']\n",
    "\n",
    "[p['name'] for p in sorted(planets, key=get_moon_count)]"
   ]
  },
  {
   "cell_type": "markdown",
   "metadata": {},
   "source": [
    "**What it would look like in SQL:**\n",
    "\n",
    "````\n",
    "SELECT name FROM planets\n",
    "ORDER BY moons\n",
    "\n",
    "````"
   ]
  },
  {
   "cell_type": "code",
   "execution_count": 24,
   "metadata": {
    "collapsed": false
   },
   "outputs": [
    {
     "data": {
      "text/plain": [
       "['Jupiter', 'Saturn', 'Uranus', 'Neptune', 'Earth', 'Venus', 'Mars', 'Mercury']"
      ]
     },
     "execution_count": 24,
     "metadata": {},
     "output_type": "execute_result"
    }
   ],
   "source": [
    "[p['name'] for p in sorted(planets, key=lambda d: d['diameter'], reverse=True)]\n",
    "\n"
   ]
  },
  {
   "cell_type": "markdown",
   "metadata": {},
   "source": [
    "> **Aside:** putting `\\` in a python line allows you to write the rest of what you were writing on the next line! "
   ]
  },
  {
   "cell_type": "code",
   "execution_count": 25,
   "metadata": {
    "collapsed": false
   },
   "outputs": [
    {
     "data": {
      "text/plain": [
       "['Jupiter', 'Saturn', 'Uranus']"
      ]
     },
     "execution_count": 25,
     "metadata": {},
     "output_type": "execute_result"
    }
   ],
   "source": [
    "[p['name'] for p in \\\n",
    "sorted(planets, key=lambda d: d['diameter'], reverse=True) \\\n",
    "if p['diameter'] > 4]\n"
   ]
  },
  {
   "cell_type": "markdown",
   "metadata": {},
   "source": [
    "## Tuples (tuple is pronounced like it rhymes with 'supple')"
   ]
  },
  {
   "cell_type": "markdown",
   "metadata": {},
   "source": [
    "Tuple is kind of like a strict list. It looks kind of like a list."
   ]
  },
  {
   "cell_type": "code",
   "execution_count": 26,
   "metadata": {
    "collapsed": true
   },
   "outputs": [],
   "source": [
    "t = (5, 10, 15)"
   ]
  },
  {
   "cell_type": "code",
   "execution_count": 27,
   "metadata": {
    "collapsed": false
   },
   "outputs": [
    {
     "data": {
      "text/plain": [
       "tuple"
      ]
     },
     "execution_count": 27,
     "metadata": {},
     "output_type": "execute_result"
    }
   ],
   "source": [
    "type(t)"
   ]
  },
  {
   "cell_type": "code",
   "execution_count": 28,
   "metadata": {
    "collapsed": false
   },
   "outputs": [
    {
     "data": {
      "text/plain": [
       "5"
      ]
     },
     "execution_count": 28,
     "metadata": {},
     "output_type": "execute_result"
    }
   ],
   "source": [
    "t[0]"
   ]
  },
  {
   "cell_type": "code",
   "execution_count": 29,
   "metadata": {
    "collapsed": false
   },
   "outputs": [
    {
     "name": "stdout",
     "output_type": "stream",
     "text": [
      "25\n",
      "100\n",
      "225\n"
     ]
    }
   ],
   "source": [
    "for item in t:\n",
    "    print(item * item)"
   ]
  },
  {
   "cell_type": "markdown",
   "metadata": {},
   "source": [
    "**The main difference between a tuple and a list:** you can't add new values to a tuple. "
   ]
  },
  {
   "cell_type": "code",
   "execution_count": 30,
   "metadata": {
    "collapsed": false
   },
   "outputs": [
    {
     "ename": "AttributeError",
     "evalue": "'tuple' object has no attribute 'append'",
     "output_type": "error",
     "traceback": [
      "\u001b[0;31m---------------------------------------------------------------------------\u001b[0m",
      "\u001b[0;31mAttributeError\u001b[0m                            Traceback (most recent call last)",
      "\u001b[0;32m<ipython-input-30-e0d05117f4e7>\u001b[0m in \u001b[0;36m<module>\u001b[0;34m()\u001b[0m\n\u001b[0;32m----> 1\u001b[0;31m \u001b[0mt\u001b[0m\u001b[0;34m.\u001b[0m\u001b[0mappend\u001b[0m\u001b[0;34m(\u001b[0m\u001b[0;36m30\u001b[0m\u001b[0;34m)\u001b[0m\u001b[0;34m\u001b[0m\u001b[0m\n\u001b[0m",
      "\u001b[0;31mAttributeError\u001b[0m: 'tuple' object has no attribute 'append'"
     ]
    }
   ],
   "source": [
    "t.append(30)"
   ]
  },
  {
   "cell_type": "code",
   "execution_count": 31,
   "metadata": {
    "collapsed": true
   },
   "outputs": [],
   "source": [
    "carefree_list = [5, 10, 15, 20, 25]"
   ]
  },
  {
   "cell_type": "code",
   "execution_count": 32,
   "metadata": {
    "collapsed": false
   },
   "outputs": [
    {
     "data": {
      "text/plain": [
       "[5, 10, 15, 20, 25]"
      ]
     },
     "execution_count": 32,
     "metadata": {},
     "output_type": "execute_result"
    }
   ],
   "source": [
    "carefree_list"
   ]
  },
  {
   "cell_type": "code",
   "execution_count": 33,
   "metadata": {
    "collapsed": true
   },
   "outputs": [],
   "source": [
    "carefree_list.append(30)"
   ]
  },
  {
   "cell_type": "code",
   "execution_count": 34,
   "metadata": {
    "collapsed": false
   },
   "outputs": [
    {
     "data": {
      "text/plain": [
       "[5, 10, 15, 20, 25, 30]"
      ]
     },
     "execution_count": 34,
     "metadata": {},
     "output_type": "execute_result"
    }
   ],
   "source": [
    "carefree_list"
   ]
  },
  {
   "cell_type": "code",
   "execution_count": 35,
   "metadata": {
    "collapsed": true
   },
   "outputs": [],
   "source": [
    "carefree_list[1] = \"Mr. Fluffypants\""
   ]
  },
  {
   "cell_type": "code",
   "execution_count": 36,
   "metadata": {
    "collapsed": false
   },
   "outputs": [
    {
     "data": {
      "text/plain": [
       "[5, 'Mr. Fluffypants', 15, 20, 25, 30]"
      ]
     },
     "execution_count": 36,
     "metadata": {},
     "output_type": "execute_result"
    }
   ],
   "source": [
    "carefree_list"
   ]
  },
  {
   "cell_type": "markdown",
   "metadata": {},
   "source": [
    "A **tuple** is called an **immutable data type**. You can't change it after it has been defined! \n",
    "\n",
    "**Benefits of using tuples:**\n",
    "+ If you are passing data to a function, you know that it will not change your data. Fewer bugs in your data!\n",
    "+ It's also memory efficient. With lists, Python has to allocate more memory than it (probably) needs; expanding the memory allocated to a data structure is computationally expensive. With immutable data structures, Python knows how big it is and how big it always will be. "
   ]
  },
  {
   "cell_type": "code",
   "execution_count": 37,
   "metadata": {
    "collapsed": false
   },
   "outputs": [
    {
     "ename": "TypeError",
     "evalue": "'tuple' object does not support item assignment",
     "output_type": "error",
     "traceback": [
      "\u001b[0;31m---------------------------------------------------------------------------\u001b[0m",
      "\u001b[0;31mTypeError\u001b[0m                                 Traceback (most recent call last)",
      "\u001b[0;32m<ipython-input-37-39ca4188a8d7>\u001b[0m in \u001b[0;36m<module>\u001b[0;34m()\u001b[0m\n\u001b[1;32m      1\u001b[0m \u001b[0;31m# Immutable data type\u001b[0m\u001b[0;34m\u001b[0m\u001b[0;34m\u001b[0m\u001b[0m\n\u001b[1;32m      2\u001b[0m \u001b[0;31m# You can't change it after it has been defined\u001b[0m\u001b[0;34m\u001b[0m\u001b[0;34m\u001b[0m\u001b[0m\n\u001b[0;32m----> 3\u001b[0;31m \u001b[0mt\u001b[0m\u001b[0;34m[\u001b[0m\u001b[0;36m1\u001b[0m\u001b[0;34m]\u001b[0m \u001b[0;34m=\u001b[0m \u001b[0;34m\"Mr. Fluffypants\"\u001b[0m\u001b[0;34m\u001b[0m\u001b[0m\n\u001b[0m",
      "\u001b[0;31mTypeError\u001b[0m: 'tuple' object does not support item assignment"
     ]
    }
   ],
   "source": [
    "# Immutable data type\n",
    "# You can't change it after it has been defined \n",
    "t[1] = \"Mr. Fluffypants\""
   ]
  },
  {
   "cell_type": "code",
   "execution_count": 38,
   "metadata": {
    "collapsed": true
   },
   "outputs": [],
   "source": [
    "hello = [1, 2, 3]"
   ]
  },
  {
   "cell_type": "code",
   "execution_count": 39,
   "metadata": {
    "collapsed": true
   },
   "outputs": [],
   "source": [
    "foo = (1, 2, 3)"
   ]
  },
  {
   "cell_type": "code",
   "execution_count": 40,
   "metadata": {
    "collapsed": false
   },
   "outputs": [
    {
     "data": {
      "text/plain": [
       "88"
      ]
     },
     "execution_count": 40,
     "metadata": {},
     "output_type": "execute_result"
    }
   ],
   "source": [
    "import sys\n",
    "sys.getsizeof(hello)"
   ]
  },
  {
   "cell_type": "code",
   "execution_count": 41,
   "metadata": {
    "collapsed": false
   },
   "outputs": [
    {
     "data": {
      "text/plain": [
       "72"
      ]
     },
     "execution_count": 41,
     "metadata": {},
     "output_type": "execute_result"
    }
   ],
   "source": [
    "# Our tuple take up less memory! \n",
    "sys.getsizeof(foo)"
   ]
  },
  {
   "cell_type": "markdown",
   "metadata": {},
   "source": [
    "In most applications, we want lists because we're working with data. We want to be able to append, delete or otherwise modify our data. A list is like a notebook and a tuple is stone tablet.\n",
    "\n",
    "The standard library will have functions that return data structures as tuples (because it has an interest in efficiency)."
   ]
  },
  {
   "cell_type": "markdown",
   "metadata": {},
   "source": [
    "# Back to regular expressions!"
   ]
  },
  {
   "cell_type": "markdown",
   "metadata": {},
   "source": [
    "### Grouping with multiple matches in the same string"
   ]
  },
  {
   "cell_type": "code",
   "execution_count": 42,
   "metadata": {
    "collapsed": false
   },
   "outputs": [
    {
     "data": {
      "text/plain": [
       "['one 1', 'two 2', 'three 3', 'four 4', 'five 5']"
      ]
     },
     "execution_count": 42,
     "metadata": {},
     "output_type": "execute_result"
    }
   ],
   "source": [
    "import re\n",
    "test = \"one 1 two 2 three 3 four 4 five 5\"\n",
    "\n",
    "# we want every occurence of a word followed by a number\n",
    "# .findall() finds every occurence of the regular expression in our string \n",
    "re.findall(r\"\\w+ \\d\", test)"
   ]
  },
  {
   "cell_type": "code",
   "execution_count": 43,
   "metadata": {
    "collapsed": false
   },
   "outputs": [
    {
     "ename": "NameError",
     "evalue": "name 'number_s' is not defined",
     "output_type": "error",
     "traceback": [
      "\u001b[0;31m---------------------------------------------------------------------------\u001b[0m",
      "\u001b[0;31mNameError\u001b[0m                                 Traceback (most recent call last)",
      "\u001b[0;32m<ipython-input-43-bde8c3eadc68>\u001b[0m in \u001b[0;36m<module>\u001b[0;34m()\u001b[0m\n\u001b[1;32m      1\u001b[0m \u001b[0;31m# We want to access one and 1 individually\u001b[0m\u001b[0;34m\u001b[0m\u001b[0;34m\u001b[0m\u001b[0m\n\u001b[1;32m      2\u001b[0m \u001b[0;32mfor\u001b[0m \u001b[0mitem\u001b[0m \u001b[0;32min\u001b[0m \u001b[0mre\u001b[0m\u001b[0;34m.\u001b[0m\u001b[0mfindall\u001b[0m\u001b[0;34m(\u001b[0m\u001b[0;34mr\"\\w+ \\d\"\u001b[0m\u001b[0;34m,\u001b[0m \u001b[0mtest\u001b[0m\u001b[0;34m)\u001b[0m\u001b[0;34m:\u001b[0m\u001b[0;34m\u001b[0m\u001b[0m\n\u001b[0;32m----> 3\u001b[0;31m     \u001b[0mprint\u001b[0m\u001b[0;34m(\u001b[0m\u001b[0mnumber_s\u001b[0m\u001b[0;34m)\u001b[0m\u001b[0;34m\u001b[0m\u001b[0m\n\u001b[0m\u001b[1;32m      4\u001b[0m     \u001b[0mprint\u001b[0m\u001b[0;34m(\u001b[0m\u001b[0mnumber_i\u001b[0m\u001b[0;34m)\u001b[0m\u001b[0;34m\u001b[0m\u001b[0m\n",
      "\u001b[0;31mNameError\u001b[0m: name 'number_s' is not defined"
     ]
    }
   ],
   "source": [
    "# We want to access one and 1 individually\n",
    "for item in re.findall(r\"\\w+ \\d\", test):\n",
    "    print(number_s)\n",
    "    print(number_i)"
   ]
  },
  {
   "cell_type": "code",
   "execution_count": 44,
   "metadata": {
    "collapsed": false
   },
   "outputs": [
    {
     "name": "stdout",
     "output_type": "stream",
     "text": [
      "one\n",
      "1\n",
      "two\n",
      "2\n",
      "three\n",
      "3\n",
      "four\n",
      "4\n",
      "five\n",
      "5\n"
     ]
    }
   ],
   "source": [
    "# This particular example is trivial because we know we can do this:\n",
    "for item in re.findall(r\"\\w+ \\d\", test):\n",
    "    x = item.split(\" \")\n",
    "    print(x[0])\n",
    "    print(x[1])"
   ]
  },
  {
   "cell_type": "code",
   "execution_count": 45,
   "metadata": {
    "collapsed": false
   },
   "outputs": [
    {
     "data": {
      "text/plain": [
       "[('one', '1'), ('two', '2'), ('three', '3'), ('four', '4'), ('five', '5')]"
      ]
     },
     "execution_count": 45,
     "metadata": {},
     "output_type": "execute_result"
    }
   ],
   "source": [
    "test = \"one 1 two 2 three 3 four 4 five 5\"\n",
    "re.findall(r\"(\\w+) (\\d)\", test)\n",
    "\n",
    "# returns a list of tuples"
   ]
  },
  {
   "cell_type": "code",
   "execution_count": 46,
   "metadata": {
    "collapsed": true
   },
   "outputs": [],
   "source": [
    "all_subjects = open(\"enronsubjects.txt\").read()"
   ]
  },
  {
   "cell_type": "code",
   "execution_count": 47,
   "metadata": {
    "collapsed": false,
    "scrolled": true
   },
   "outputs": [
    {
     "data": {
      "text/plain": [
       "['713-853-4743',\n",
       " '713-222-7667',\n",
       " '713-222-7667',\n",
       " '713-222-7667',\n",
       " '713-222-7667',\n",
       " '713-222-7667',\n",
       " '713-222-7667',\n",
       " '713-222-7667',\n",
       " '713-222-7667',\n",
       " '713-222-7667',\n",
       " '713-222-7667',\n",
       " '281-296-0573',\n",
       " '713-851-2499',\n",
       " '713-345-7896',\n",
       " '713-345-7896',\n",
       " '713-345-7896',\n",
       " '713-345-7896',\n",
       " '713-345-7896',\n",
       " '281-367-8953',\n",
       " '713-528-0759',\n",
       " '713-850-9002',\n",
       " '713-703-8294',\n",
       " '614-888-9588',\n",
       " '713-767-8686',\n",
       " '303-571-6135',\n",
       " '281-537-9334',\n",
       " '800-937-6563',\n",
       " '800-937-6563',\n",
       " '888-296-1938']"
      ]
     },
     "execution_count": 47,
     "metadata": {},
     "output_type": "execute_result"
    }
   ],
   "source": [
    "re.findall(r\"\\d{3}-\\d{3}-\\d{4}\", all_subjects)"
   ]
  },
  {
   "cell_type": "code",
   "execution_count": 48,
   "metadata": {
    "collapsed": false,
    "scrolled": true
   },
   "outputs": [
    {
     "data": {
      "text/plain": [
       "[('713', '853', '4743'),\n",
       " ('713', '222', '7667'),\n",
       " ('713', '222', '7667'),\n",
       " ('713', '222', '7667'),\n",
       " ('713', '222', '7667'),\n",
       " ('713', '222', '7667'),\n",
       " ('713', '222', '7667'),\n",
       " ('713', '222', '7667'),\n",
       " ('713', '222', '7667'),\n",
       " ('713', '222', '7667'),\n",
       " ('713', '222', '7667'),\n",
       " ('281', '296', '0573'),\n",
       " ('713', '851', '2499'),\n",
       " ('713', '345', '7896'),\n",
       " ('713', '345', '7896'),\n",
       " ('713', '345', '7896'),\n",
       " ('713', '345', '7896'),\n",
       " ('713', '345', '7896'),\n",
       " ('281', '367', '8953'),\n",
       " ('713', '528', '0759'),\n",
       " ('713', '850', '9002'),\n",
       " ('713', '703', '8294'),\n",
       " ('614', '888', '9588'),\n",
       " ('713', '767', '8686'),\n",
       " ('303', '571', '6135'),\n",
       " ('281', '537', '9334'),\n",
       " ('800', '937', '6563'),\n",
       " ('800', '937', '6563'),\n",
       " ('888', '296', '1938')]"
      ]
     },
     "execution_count": 48,
     "metadata": {},
     "output_type": "execute_result"
    }
   ],
   "source": [
    "# What if we wanted to grab them as separate items? \n",
    "re.findall(r\"(\\d{3})-(\\d{3})-(\\d{4})\", all_subjects)"
   ]
  },
  {
   "cell_type": "code",
   "execution_count": 49,
   "metadata": {
    "collapsed": false,
    "scrolled": true
   },
   "outputs": [
    {
     "name": "stdout",
     "output_type": "stream",
     "text": [
      "713\n",
      "713\n",
      "713\n",
      "713\n",
      "713\n",
      "713\n",
      "713\n",
      "713\n",
      "713\n",
      "713\n",
      "713\n",
      "281\n",
      "713\n",
      "713\n",
      "713\n",
      "713\n",
      "713\n",
      "713\n",
      "281\n",
      "713\n",
      "713\n",
      "713\n",
      "614\n",
      "713\n",
      "303\n",
      "281\n",
      "800\n",
      "800\n",
      "888\n"
     ]
    }
   ],
   "source": [
    "for item in re.findall(r\"(\\d{3})-(\\d{3})-(\\d{4})\", all_subjects):\n",
    "    print(item[0])"
   ]
  },
  {
   "cell_type": "code",
   "execution_count": 50,
   "metadata": {
    "collapsed": false,
    "scrolled": true
   },
   "outputs": [
    {
     "data": {
      "text/plain": [
       "['713',\n",
       " '713',\n",
       " '713',\n",
       " '713',\n",
       " '713',\n",
       " '713',\n",
       " '713',\n",
       " '713',\n",
       " '713',\n",
       " '713',\n",
       " '713',\n",
       " '281',\n",
       " '713',\n",
       " '713',\n",
       " '713',\n",
       " '713',\n",
       " '713',\n",
       " '713',\n",
       " '281',\n",
       " '713',\n",
       " '713',\n",
       " '713',\n",
       " '614',\n",
       " '713',\n",
       " '303',\n",
       " '281',\n",
       " '800',\n",
       " '800',\n",
       " '888']"
      ]
     },
     "execution_count": 50,
     "metadata": {},
     "output_type": "execute_result"
    }
   ],
   "source": [
    "[item[0] for item in re.findall(r\"(\\d{3})-(\\d{3})-(\\d{4})\", all_subjects)]"
   ]
  },
  {
   "cell_type": "markdown",
   "metadata": {},
   "source": [
    "### Finding monetary amounts in the subject lines\n",
    "\n",
    "match something like $ 10 m, k, b"
   ]
  },
  {
   "cell_type": "code",
   "execution_count": 51,
   "metadata": {
    "collapsed": false
   },
   "outputs": [
    {
     "data": {
      "text/plain": [
       "'\\\\$(\\\\d+) ?(\\\\w+)'"
      ]
     },
     "execution_count": 51,
     "metadata": {},
     "output_type": "execute_result"
    }
   ],
   "source": [
    "# dollar sign, followed by some number of digits, followed by 0 or 1 space(s), followed by some number of alphanumberic chracters\n",
    "r\"\\$(\\d+) ?(\\w+)\""
   ]
  },
  {
   "cell_type": "code",
   "execution_count": 52,
   "metadata": {
    "collapsed": false
   },
   "outputs": [
    {
     "data": {
      "text/plain": [
       "[('22', '8'),\n",
       " ('22', '8'),\n",
       " ('10', 'M'),\n",
       " ('10', 'M'),\n",
       " ('10', 'M'),\n",
       " ('10', 'M'),\n",
       " ('6', '8'),\n",
       " ('25', 'million'),\n",
       " ('25', 'million'),\n",
       " ('25', 'million'),\n",
       " ('25', 'million'),\n",
       " ('25', 'million'),\n",
       " ('25', 'million'),\n",
       " ('25', 'million'),\n",
       " ('25', 'million'),\n",
       " ('25', 'million'),\n",
       " ('25', 'million'),\n",
       " ('25', 'million'),\n",
       " ('25', 'million'),\n",
       " ('25', 'million'),\n",
       " ('25', 'million'),\n",
       " ('82', '0'),\n",
       " ('82', '0'),\n",
       " ('40', 'Million'),\n",
       " ('27', 'Billion'),\n",
       " ('27', 'Billion'),\n",
       " ('5', '0'),\n",
       " ('5', '0'),\n",
       " ('89', '5'),\n",
       " ('89', '5'),\n",
       " ('1', '9'),\n",
       " ('1', '9'),\n",
       " ('1', '9'),\n",
       " ('1', '9'),\n",
       " ('870', 'K'),\n",
       " ('870', 'K'),\n",
       " ('14', '1'),\n",
       " ('14', '1'),\n",
       " ('21', 'billion'),\n",
       " ('6', 'million'),\n",
       " ('14', 'bln'),\n",
       " ('14', 'bln'),\n",
       " ('100', 'PRICE'),\n",
       " ('250', 'Cap'),\n",
       " ('350', 'MM'),\n",
       " ('1', '2'),\n",
       " ('1', '2'),\n",
       " ('1', '2'),\n",
       " ('1', '2'),\n",
       " ('10', 'Three'),\n",
       " ('70', '0'),\n",
       " ('70', '0'),\n",
       " ('70', '0'),\n",
       " ('10', 'you'),\n",
       " ('10', 'you'),\n",
       " ('13', 'B'),\n",
       " ('13', 'B'),\n",
       " ('100', 'on'),\n",
       " ('500', 'k'),\n",
       " ('500', 'k'),\n",
       " ('500', 'k'),\n",
       " ('500', 'k'),\n",
       " ('500', 'k'),\n",
       " ('500', 'k'),\n",
       " ('500', 'k'),\n",
       " ('500', 'k'),\n",
       " ('500', 'k'),\n",
       " ('2', 'Billion'),\n",
       " ('2', 'Billion'),\n",
       " ('2', 'Billion'),\n",
       " ('2', 'Billion'),\n",
       " ('97', '1'),\n",
       " ('97', '1'),\n",
       " ('97', '1'),\n",
       " ('97', '1'),\n",
       " ('97', '1'),\n",
       " ('97', '1'),\n",
       " ('1', 'Billion'),\n",
       " ('1', 'Billion'),\n",
       " ('39', 'in'),\n",
       " ('39', 'in'),\n",
       " ('1', '0'),\n",
       " ('1', '0'),\n",
       " ('14', '9'),\n",
       " ('5', '0'),\n",
       " ('5', '0'),\n",
       " ('5', '0'),\n",
       " ('2', '1'),\n",
       " ('21', 'P'),\n",
       " ('550', 'Million'),\n",
       " ('455', 'Million'),\n",
       " ('5', 'million'),\n",
       " ('5', 'million'),\n",
       " ('5', 'million'),\n",
       " ('7', 'MM'),\n",
       " ('7', 'MM'),\n",
       " ('7', 'MM'),\n",
       " ('7', 'MM'),\n",
       " ('7', 'MM'),\n",
       " ('7', 'MM'),\n",
       " ('100', 'Price'),\n",
       " ('2', '0'),\n",
       " ('2', '0'),\n",
       " ('2', '0'),\n",
       " ('2', '0'),\n",
       " ('10', '0'),\n",
       " ('10', '0'),\n",
       " ('10', '0'),\n",
       " ('2', '0'),\n",
       " ('2', '0'),\n",
       " ('2', '9'),\n",
       " ('2', '9'),\n",
       " ('2', '9'),\n",
       " ('2', '9'),\n",
       " ('2', '9'),\n",
       " ('2', '9'),\n",
       " ('160', '0'),\n",
       " ('160', '0'),\n",
       " ('160', '0'),\n",
       " ('160', '0'),\n",
       " ('160', '0'),\n",
       " ('160', '0'),\n",
       " ('160', '0'),\n",
       " ('2', 'Billion'),\n",
       " ('2', 'Billion'),\n",
       " ('2', 'Billion'),\n",
       " ('6', '7'),\n",
       " ('100', 'mil'),\n",
       " ('50', 'per'),\n",
       " ('21', '2'),\n",
       " ('21', '2'),\n",
       " ('21', '2'),\n",
       " ('21', '2'),\n",
       " ('21', '2'),\n",
       " ('21', '2'),\n",
       " ('19', '5'),\n",
       " ('19', '5'),\n",
       " ('19', '5'),\n",
       " ('19', '5'),\n",
       " ('19', '5'),\n",
       " ('19', '5'),\n",
       " ('19', '5'),\n",
       " ('19', '5'),\n",
       " ('19', '5'),\n",
       " ('19', '5'),\n",
       " ('19', '5'),\n",
       " ('19', '5'),\n",
       " ('4', '2'),\n",
       " ('4', '2'),\n",
       " ('4', '2'),\n",
       " ('7', 'MM'),\n",
       " ('7', 'MM'),\n",
       " ('7', 'MM'),\n",
       " ('1', '0'),\n",
       " ('1', '0'),\n",
       " ('1', '6'),\n",
       " ('1', '6'),\n",
       " ('1', '6'),\n",
       " ('8', 'Million'),\n",
       " ('8', 'Million'),\n",
       " ('500', 'mm'),\n",
       " ('500', 'mm'),\n",
       " ('500', 'mm'),\n",
       " ('80', 'million'),\n",
       " ('80', 'million'),\n",
       " ('80', 'million'),\n",
       " ('80', 'million'),\n",
       " ('80', 'million'),\n",
       " ('80', 'million'),\n",
       " ('80', 'million'),\n",
       " ('50', 'M'),\n",
       " ('102', 'Target'),\n",
       " ('102', 'Target'),\n",
       " ('20', '0'),\n",
       " ('5', '0'),\n",
       " ('25', 'Million'),\n",
       " ('25', 'Million'),\n",
       " ('25', 'Million'),\n",
       " ('120', 'EXTRA'),\n",
       " ('120', 'EXTRA'),\n",
       " ('45', 'Million'),\n",
       " ('45', 'Million'),\n",
       " ('14', '7'),\n",
       " ('14', '7'),\n",
       " ('14', '7'),\n",
       " ('14', '7'),\n",
       " ('14', '7'),\n",
       " ('14', '7'),\n",
       " ('14', '7'),\n",
       " ('600', 'B'),\n",
       " ('600', 'B'),\n",
       " ('14', '7'),\n",
       " ('14', '7'),\n",
       " ('14', '7'),\n",
       " ('24', '0'),\n",
       " ('24', '0'),\n",
       " ('2', '2'),\n",
       " ('2', '2'),\n",
       " ('2', '2'),\n",
       " ('100', 'k'),\n",
       " ('7', '7'),\n",
       " ('18', '3'),\n",
       " ('130', 'Million'),\n",
       " ('130', 'Million'),\n",
       " ('130', 'Million'),\n",
       " ('1', 'mm'),\n",
       " ('1', '0'),\n",
       " ('1', '0'),\n",
       " ('1', '0'),\n",
       " ('1', '0'),\n",
       " ('1', '0'),\n",
       " ('1', '0'),\n",
       " ('128', 'Return'),\n",
       " ('128', 'Return')]"
      ]
     },
     "execution_count": 52,
     "metadata": {},
     "output_type": "execute_result"
    }
   ],
   "source": [
    "re.findall(r\"\\$(\\d+) ?(\\w+)\", all_subjects)"
   ]
  },
  {
   "cell_type": "code",
   "execution_count": 53,
   "metadata": {
    "collapsed": false,
    "scrolled": true
   },
   "outputs": [
    {
     "data": {
      "text/plain": [
       "[('10', 'M'),\n",
       " ('10', 'M'),\n",
       " ('10', 'M'),\n",
       " ('10', 'M'),\n",
       " ('25', 'm'),\n",
       " ('25', 'm'),\n",
       " ('25', 'm'),\n",
       " ('25', 'm'),\n",
       " ('25', 'm'),\n",
       " ('25', 'm'),\n",
       " ('25', 'm'),\n",
       " ('25', 'm'),\n",
       " ('25', 'm'),\n",
       " ('25', 'm'),\n",
       " ('25', 'm'),\n",
       " ('25', 'm'),\n",
       " ('25', 'm'),\n",
       " ('25', 'm'),\n",
       " ('40', 'M'),\n",
       " ('27', 'B'),\n",
       " ('27', 'B'),\n",
       " ('21', 'b'),\n",
       " ('6', 'm'),\n",
       " ('14', 'b'),\n",
       " ('14', 'b'),\n",
       " ('350', 'M'),\n",
       " ('13', 'B'),\n",
       " ('13', 'B'),\n",
       " ('2', 'B'),\n",
       " ('2', 'B'),\n",
       " ('2', 'B'),\n",
       " ('2', 'B'),\n",
       " ('1', 'B'),\n",
       " ('1', 'B'),\n",
       " ('550', 'M'),\n",
       " ('455', 'M'),\n",
       " ('5', 'm'),\n",
       " ('5', 'm'),\n",
       " ('5', 'm'),\n",
       " ('7', 'M'),\n",
       " ('7', 'M'),\n",
       " ('7', 'M'),\n",
       " ('7', 'M'),\n",
       " ('7', 'M'),\n",
       " ('7', 'M'),\n",
       " ('2', 'B'),\n",
       " ('2', 'B'),\n",
       " ('2', 'B'),\n",
       " ('100', 'm'),\n",
       " ('7', 'M'),\n",
       " ('7', 'M'),\n",
       " ('7', 'M'),\n",
       " ('8', 'M'),\n",
       " ('8', 'M'),\n",
       " ('500', 'm'),\n",
       " ('500', 'm'),\n",
       " ('500', 'm'),\n",
       " ('80', 'm'),\n",
       " ('80', 'm'),\n",
       " ('80', 'm'),\n",
       " ('80', 'm'),\n",
       " ('80', 'm'),\n",
       " ('80', 'm'),\n",
       " ('80', 'm'),\n",
       " ('50', 'M'),\n",
       " ('25', 'M'),\n",
       " ('25', 'M'),\n",
       " ('25', 'M'),\n",
       " ('45', 'M'),\n",
       " ('45', 'M'),\n",
       " ('600', 'B'),\n",
       " ('600', 'B'),\n",
       " ('130', 'M'),\n",
       " ('130', 'M'),\n",
       " ('130', 'M'),\n",
       " ('1', 'm')]"
      ]
     },
     "execution_count": 53,
     "metadata": {},
     "output_type": "execute_result"
    }
   ],
   "source": [
    "# Let's refine our search\n",
    "re.findall(r\"\\$(\\d+) ?([bBmM])\", all_subjects)"
   ]
  },
  {
   "cell_type": "code",
   "execution_count": 54,
   "metadata": {
    "collapsed": false,
    "scrolled": true
   },
   "outputs": [
    {
     "data": {
      "text/plain": [
       "1349651000000"
      ]
     },
     "execution_count": 54,
     "metadata": {},
     "output_type": "execute_result"
    }
   ],
   "source": [
    "# Add up all the values mentioned in the subject lines \n",
    "vals = []\n",
    "for item in re.findall(r\"\\$(\\d+) ?([bBmM])\", all_subjects):\n",
    "    \n",
    "    multiplier = item[1].lower()\n",
    "    number_val = int(item[0])\n",
    "    if multiplier == 'k':\n",
    "        number_val *= 1000\n",
    "    elif multiplier == 'm':\n",
    "        number_val *= 1000000\n",
    "    elif multiplier == 'b':\n",
    "        number_val *= 1000000000\n",
    "    vals.append(number_val)\n",
    "    \n",
    "sum(vals)"
   ]
  },
  {
   "cell_type": "markdown",
   "metadata": {},
   "source": [
    "**The point:** re.findall() returns a list of tuples because the number of groups that will be returned will not be changed. "
   ]
  },
  {
   "cell_type": "markdown",
   "metadata": {},
   "source": [
    "### Substitution with regular expressions "
   ]
  },
  {
   "cell_type": "code",
   "execution_count": 55,
   "metadata": {
    "collapsed": true
   },
   "outputs": [],
   "source": [
    "message = \"This is a test, this is only a test\""
   ]
  },
  {
   "cell_type": "code",
   "execution_count": 56,
   "metadata": {
    "collapsed": false
   },
   "outputs": [
    {
     "data": {
      "text/plain": [
       "'This is a walrus, that is only a walrus'"
      ]
     },
     "execution_count": 56,
     "metadata": {},
     "output_type": "execute_result"
    }
   ],
   "source": [
    "# You can chain .replace()\n",
    "message.replace(\"this\", \"that\").replace(\"test\", \"walrus\")"
   ]
  },
  {
   "cell_type": "code",
   "execution_count": 57,
   "metadata": {
    "collapsed": false,
    "scrolled": true
   },
   "outputs": [
    {
     "data": {
      "text/plain": [
       "['713-853-4743',\n",
       " '713-222-7667',\n",
       " '713-222-7667',\n",
       " '713-222-7667',\n",
       " '713-222-7667',\n",
       " '713-222-7667',\n",
       " '713-222-7667',\n",
       " '713-222-7667',\n",
       " '713-222-7667',\n",
       " '713-222-7667',\n",
       " '713-222-7667',\n",
       " '281-296-0573',\n",
       " '713-851-2499',\n",
       " '713-345-7896',\n",
       " '713-345-7896',\n",
       " '713-345-7896',\n",
       " '713-345-7896',\n",
       " '713-345-7896',\n",
       " '281-367-8953',\n",
       " '713-528-0759',\n",
       " '713-850-9002',\n",
       " '713-703-8294',\n",
       " '614-888-9588',\n",
       " '713-767-8686',\n",
       " '303-571-6135',\n",
       " '281-537-9334',\n",
       " '800-937-6563',\n",
       " '800-937-6563',\n",
       " '888-296-1938']"
      ]
     },
     "execution_count": 57,
     "metadata": {},
     "output_type": "execute_result"
    }
   ],
   "source": [
    "re.findall(r\"\\d{3}-\\d{3}-\\d{4}\", all_subjects)"
   ]
  },
  {
   "cell_type": "code",
   "execution_count": 58,
   "metadata": {
    "collapsed": true
   },
   "outputs": [],
   "source": [
    "message = \"This is a test, this is only a test\""
   ]
  },
  {
   "cell_type": "code",
   "execution_count": 59,
   "metadata": {
    "collapsed": false
   },
   "outputs": [
    {
     "data": {
      "text/plain": [
       "'that is a test, that is only a test'"
      ]
     },
     "execution_count": 59,
     "metadata": {},
     "output_type": "execute_result"
    }
   ],
   "source": [
    "# re.sub(???, ???, ???): takes 3 parameters\n",
    "# word to find, the word to replace found word with, a string\n",
    "re.sub(r\"[Tt]his\", \"that\", message)"
   ]
  },
  {
   "cell_type": "code",
   "execution_count": 60,
   "metadata": {
    "collapsed": false
   },
   "outputs": [
    {
     "data": {
      "text/plain": [
       "'This is a test, this is only a test'"
      ]
     },
     "execution_count": 60,
     "metadata": {},
     "output_type": "execute_result"
    }
   ],
   "source": [
    "message"
   ]
  },
  {
   "cell_type": "code",
   "execution_count": 61,
   "metadata": {
    "collapsed": false
   },
   "outputs": [
    {
     "data": {
      "text/plain": [
       "'walrus walrus walrus walrus, walrus walrus walrus walrus walrus'"
      ]
     },
     "execution_count": 61,
     "metadata": {},
     "output_type": "execute_result"
    }
   ],
   "source": [
    "re.sub(r\"\\b\\w+\\b\", \"walrus\", message)"
   ]
  },
  {
   "cell_type": "code",
   "execution_count": 62,
   "metadata": {
    "collapsed": true
   },
   "outputs": [],
   "source": [
    "# You could also pass a function as the second parameter\n",
    "# re.sub(r\"\\b\\w+\\b\", function, message)"
   ]
  },
  {
   "cell_type": "code",
   "execution_count": 63,
   "metadata": {
    "collapsed": false
   },
   "outputs": [],
   "source": [
    "anon = re.sub(r\"\\d{3}-\\d{3}-\\d{4}\", \"555-555-5555\", all_subjects)"
   ]
  },
  {
   "cell_type": "code",
   "execution_count": 64,
   "metadata": {
    "collapsed": false,
    "scrolled": true
   },
   "outputs": [
    {
     "data": {
      "text/plain": [
       "['555-555-5555',\n",
       " '555-555-5555',\n",
       " '555-555-5555',\n",
       " '555-555-5555',\n",
       " '555-555-5555',\n",
       " '555-555-5555',\n",
       " '555-555-5555',\n",
       " '555-555-5555',\n",
       " '555-555-5555',\n",
       " '555-555-5555',\n",
       " '555-555-5555',\n",
       " '555-555-5555',\n",
       " '555-555-5555',\n",
       " '555-555-5555',\n",
       " '555-555-5555',\n",
       " '555-555-5555',\n",
       " '555-555-5555',\n",
       " '555-555-5555',\n",
       " '555-555-5555',\n",
       " '555-555-5555',\n",
       " '555-555-5555',\n",
       " '555-555-5555',\n",
       " '555-555-5555',\n",
       " '555-555-5555',\n",
       " '555-555-5555',\n",
       " '555-555-5555',\n",
       " '555-555-5555',\n",
       " '555-555-5555',\n",
       " '555-555-5555']"
      ]
     },
     "execution_count": 64,
     "metadata": {},
     "output_type": "execute_result"
    }
   ],
   "source": [
    "re.findall(r\"\\d{3}-\\d{3}-\\d{4}\", anon)"
   ]
  },
  {
   "cell_type": "code",
   "execution_count": 65,
   "metadata": {
    "collapsed": false
   },
   "outputs": [
    {
     "data": {
      "text/plain": [
       "['Call Chris 555-555-5555',\n",
       " \"git's Contact Info: 555-555-5555\",\n",
       " \"git's Contact Info: 555-555-5555\",\n",
       " \"git's Contact Info: 555-555-5555\",\n",
       " \"git's Contact Info: 555-555-5555\",\n",
       " \"git's Contact Info: 555-555-5555\",\n",
       " \"git's Contact Info: 555-555-5555\",\n",
       " \"git's Contact Info: 555-555-5555\",\n",
       " \"git's Contact Info: 555-555-5555\",\n",
       " \"git's Contact Info: 555-555-5555\",\n",
       " \"git's Contact Info: 555-555-5555\",\n",
       " 'Terry 555-555-5555',\n",
       " 'Re: 555-555-5555',\n",
       " \"W: Mark's number is 555-555-5555\",\n",
       " \"E: Mark's number is 555-555-5555\",\n",
       " \"Mark's number is 555-555-5555\",\n",
       " \"E: Mark's number is 555-555-5555\",\n",
       " \"Mark's number is 555-555-5555\",\n",
       " 'ease call for map 1-555-555-5555 or',\n",
       " 'Bill F 555-555-5555',\n",
       " ' Jonathon Fairbanks 555-555-5555w/555-555-5555c and ',\n",
       " 'irk re CGAS lawsuit 555-555-5555',\n",
       " ' Johnston at Dynegy 555-555-5555 re Debbie Chance',\n",
       " 'data /Tracy Ashmore-555-555-5555',\n",
       " 'Re: Kaye Ellis - 555-555-5555 (home)',\n",
       " 'n Paper Conf Call 1-555-555-5555,',\n",
       " 'O policies.  Dial 1-555-555-5555 and ask for the Jul',\n",
       " 'nf Call (Alvarez) 1-555-555-5555, HC:']"
      ]
     },
     "execution_count": 65,
     "metadata": {},
     "output_type": "execute_result"
    }
   ],
   "source": [
    "# Find twenty characters before and after our phone numbers \n",
    "re.findall(r\".{,20}\\d{3}-\\d{3}-\\d{4}.{,20}\", anon)"
   ]
  },
  {
   "cell_type": "code",
   "execution_count": 66,
   "metadata": {
    "collapsed": false
   },
   "outputs": [],
   "source": [
    "anon2 = re.sub(r\"(\\d{3})-(\\d{3})-(\\d{4})\", r\"\\1-\\2-XXXX\", anon)"
   ]
  },
  {
   "cell_type": "code",
   "execution_count": 67,
   "metadata": {
    "collapsed": false,
    "scrolled": true
   },
   "outputs": [
    {
     "data": {
      "text/plain": [
       "['Call Chris 555-555-XXXX',\n",
       " \"git's Contact Info: 555-555-XXXX\",\n",
       " \"git's Contact Info: 555-555-XXXX\",\n",
       " \"git's Contact Info: 555-555-XXXX\",\n",
       " \"git's Contact Info: 555-555-XXXX\",\n",
       " \"git's Contact Info: 555-555-XXXX\",\n",
       " \"git's Contact Info: 555-555-XXXX\",\n",
       " \"git's Contact Info: 555-555-XXXX\",\n",
       " \"git's Contact Info: 555-555-XXXX\",\n",
       " \"git's Contact Info: 555-555-XXXX\",\n",
       " \"git's Contact Info: 555-555-XXXX\",\n",
       " 'Terry 555-555-XXXX',\n",
       " 'Re: 555-555-XXXX',\n",
       " \"W: Mark's number is 555-555-XXXX\",\n",
       " \"E: Mark's number is 555-555-XXXX\",\n",
       " \"Mark's number is 555-555-XXXX\",\n",
       " \"E: Mark's number is 555-555-XXXX\",\n",
       " \"Mark's number is 555-555-XXXX\",\n",
       " 'ease call for map 1-555-555-XXXX or',\n",
       " 'Bill F 555-555-XXXX',\n",
       " ' Jonathon Fairbanks 555-555-XXXXw/555-555-XXXXc and ',\n",
       " 'irk re CGAS lawsuit 555-555-XXXX',\n",
       " ' Johnston at Dynegy 555-555-XXXX re Debbie Chance',\n",
       " 'data /Tracy Ashmore-555-555-XXXX',\n",
       " 'Re: Kaye Ellis - 555-555-XXXX (home)',\n",
       " 'n Paper Conf Call 1-555-555-XXXX,',\n",
       " 'O policies.  Dial 1-555-555-XXXX and ask for the Jul',\n",
       " 'nf Call (Alvarez) 1-555-555-XXXX, HC:']"
      ]
     },
     "execution_count": 67,
     "metadata": {},
     "output_type": "execute_result"
    }
   ],
   "source": [
    "re.findall(r\".{,20}\\d{3}-\\d{3}-X{4}.{,20}\", anon2)"
   ]
  },
  {
   "cell_type": "markdown",
   "metadata": {},
   "source": [
    "# HTML to SQL"
   ]
  },
  {
   "cell_type": "markdown",
   "metadata": {},
   "source": [
    "We've done a lot of work getting data out of databases, but SQL databases are also a good place to store your data. "
   ]
  },
  {
   "cell_type": "markdown",
   "metadata": {},
   "source": [
    "## Scraping menupages"
   ]
  },
  {
   "cell_type": "code",
   "execution_count": 68,
   "metadata": {
    "collapsed": false
   },
   "outputs": [
    {
     "data": {
      "text/plain": [
       "('menupages-morningside-heights.html',\n",
       " <http.client.HTTPMessage at 0x104a82d68>)"
      ]
     },
     "execution_count": 68,
     "metadata": {},
     "output_type": "execute_result"
    }
   ],
   "source": [
    "from urllib.request import urlretrieve\n",
    "urlretrieve(\"https://raw.githubusercontent.com/ledeprogram/data-and-databases/master/menupages-morningside-heights.html\",\n",
    "           \"menupages-morningside-heights.html\")"
   ]
  },
  {
   "cell_type": "markdown",
   "metadata": {},
   "source": [
    "### We want to store:\n",
    "+ restuarant name\n",
    "+ price\n",
    "+ cuisine\n",
    "\n",
    "### Research phase:\n",
    "+ every restaurant has a `<tr>` that is a child of the `<table>` tag with class `search-results`\n",
    "+ restaurants seem to be in `<td>` tags with class `name-address`\n",
    "+ restuarant names are in an `<a>` tag inside that `<td>`\n",
    "+ restaurant price in a `<span>` inside a `<td>` with class `price`\n",
    "+ the cuisine of the restaurant is in a `<td>` tag that has no class. 5th `<td>` tag that is a child of the restaurant's `<tr>` tag\n",
    "\n",
    "### Target: \n",
    "+ a list of dictionary (this will be our intermediary format before we make an actual SQL table)\n",
    "\n",
    "        [\n",
    "            { \"name\": \"Brad's\", \"price\": \"1\", \"cuisine\": '['coffee'] },\n",
    "            { \"name\": \"Cafe Nana\", \"price\": \"0\", \"cuisine\": '['Middle Eastern', 'Kosher'] },\n",
    "            ...\n",
    "        ]"
   ]
  },
  {
   "cell_type": "code",
   "execution_count": 69,
   "metadata": {
    "collapsed": true
   },
   "outputs": [],
   "source": [
    "from bs4 import BeautifulSoup"
   ]
  },
  {
   "cell_type": "code",
   "execution_count": 70,
   "metadata": {
    "collapsed": true
   },
   "outputs": [],
   "source": [
    "raw_html = open(\"menupages-morningside-heights.html\").read() # read in as a string\n",
    "soup = BeautifulSoup(raw_html, \"html.parser\") # parse it as html"
   ]
  },
  {
   "cell_type": "code",
   "execution_count": 71,
   "metadata": {
    "collapsed": false
   },
   "outputs": [
    {
     "name": "stdout",
     "output_type": "stream",
     "text": [
      "<tr> <td class=\"name-address\" scope=\"row\"> <a class=\"link search_result_link\" data-clickstream=\"\" data-cs-fires-on-click-link=\"clicked_searchresults\" data-cs-with-property-text='masterlistid: \"7116\"' href=\"/restaurants/milano-market/\">Milano Market</a> Deli Food, Sandwiches<br/> 2892 Broadway | Btwn 112th &amp; 113th St  </td> <td class=\"price\"> <span class=\"price2\">2</span> </td> <td>uptown</td> <td>morningside-heights</td> <td>deli, sandwiches</td> <td>0</td></tr>\n",
      "______________________\n",
      "\n",
      "<tr> <td class=\"name-address\" scope=\"row\"> <a class=\"link search_result_link\" data-clickstream=\"\" data-cs-fires-on-click-link=\"clicked_searchresults\" data-cs-with-property-text='masterlistid: \"17586\"' href=\"/restaurants/massawa/\">Massawa</a> Ethiopian, African<br/> 1239 Amsterdam Ave | At 121st St   <div class=\"seamless-order-url_from_search_results\"><a class=\"seamless-order-url\" data-clickstream=\"\" data-cs-fires-on-click-link=\"clicked_seamless-order-url_from_search_results\" data-cs-with-property-text='city: New York, masterlistid: \"17586\"' href=\"https://www.seamless.com/r/a/1124/menu/menupages/24697?utm_source=menupages.com&amp;utm_medium=referral&amp;utm_campaign=order%20online\" onclick=\"_gaq.push(['_trackEvent', 'Partner Link Clicks_Seamless', 'click_Search Results', '']);\" target=\"_blank\">Order From This Restaurant</a></div> </td> <td class=\"price\"> N/A</td> <td>uptown</td> <td>morningside-heights</td> <td>ethiopian, african</td> <td>1</td></tr>\n",
      "______________________\n",
      "\n",
      "<tr> <td class=\"name-address\" scope=\"row\"> <a class=\"link search_result_link\" data-clickstream=\"\" data-cs-fires-on-click-link=\"clicked_searchresults\" data-cs-with-property-text='masterlistid: \"18020\"' href=\"/restaurants/china-place/\">China Place</a> Chinese, Japanese, Sushi<br/> 3141 Broadway | Btwn Tiemann Pl &amp; La Salle St  </td> <td class=\"price\"> N/A</td> <td>uptown</td> <td>morningside-heights</td> <td>chinese, japanese, sushi</td> <td>0</td></tr>\n",
      "______________________\n",
      "\n",
      "<tr> <td class=\"name-address\" scope=\"row\"> <a class=\"link search_result_link\" data-clickstream=\"\" data-cs-fires-on-click-link=\"clicked_searchresults\" data-cs-with-property-text='masterlistid: \"18297\"' href=\"/restaurants/subsconscious/\">Subsconscious</a> Cheesesteaks, Deli Food, Sandwiches, Salads<br/> 1213 Amsterdam Ave | Btwn 119th &amp; 120th St   <div class=\"seamless-order-url_from_search_results\"><a class=\"seamless-order-url\" data-clickstream=\"\" data-cs-fires-on-click-link=\"clicked_seamless-order-url_from_search_results\" data-cs-with-property-text='city: New York, masterlistid: \"18297\"' href=\"https://www.seamless.com/r/a/1124/menu/menupages/260684?utm_source=menupages.com&amp;utm_medium=referral&amp;utm_campaign=order%20online\" onclick=\"_gaq.push(['_trackEvent', 'Partner Link Clicks_Seamless', 'click_Search Results', '']);\" target=\"_blank\">Order From This Restaurant</a></div> </td> <td class=\"price\"> N/A</td> <td>uptown</td> <td>morningside-heights</td> <td>cheese-steaks, deli, sandwiches, salads</td> <td>1</td></tr>\n",
      "______________________\n",
      "\n",
      "<tr> <td class=\"name-address\" scope=\"row\"> <a class=\"link search_result_link\" data-clickstream=\"\" data-cs-fires-on-click-link=\"clicked_searchresults\" data-cs-with-property-text='masterlistid: \"18662\"' href=\"/restaurants/famous-famiglia-5/\">Famous Famiglia</a> Italian, Pizza<br/> 2859 Broadway | At 111th St   <div class=\"seamless-order-url_from_search_results\"><a class=\"seamless-order-url\" data-clickstream=\"\" data-cs-fires-on-click-link=\"clicked_seamless-order-url_from_search_results\" data-cs-with-property-text='city: New York, masterlistid: \"18662\"' href=\"https://www.seamless.com/r/a/1124/menu/menupages/66387?utm_source=menupages.com&amp;utm_medium=referral&amp;utm_campaign=order%20online\" onclick=\"_gaq.push(['_trackEvent', 'Partner Link Clicks_Seamless', 'click_Search Results', '']);\" target=\"_blank\">Order From This Restaurant</a></div> </td> <td class=\"price\"> N/A</td> <td>uptown</td> <td>morningside-heights</td> <td>italian, pizza</td> <td>1</td></tr>\n",
      "______________________\n",
      "\n",
      "<tr> <td class=\"name-address\" scope=\"row\"> <a class=\"link search_result_link\" data-clickstream=\"\" data-cs-fires-on-click-link=\"clicked_searchresults\" data-cs-with-property-text='masterlistid: \"18823\"' href=\"/restaurants/kitchenette/\">Kitchenette</a> Bakery &amp; Pastries, American, Desserts<br/> 1272 Amsterdam Ave | At 122nd St   <div class=\"seamless-order-url_from_search_results\"><a class=\"seamless-order-url\" data-clickstream=\"\" data-cs-fires-on-click-link=\"clicked_seamless-order-url_from_search_results\" data-cs-with-property-text='city: New York, masterlistid: \"18823\"' href=\"https://www.seamless.com/r/a/1124/menu/menupages/267149?utm_source=menupages.com&amp;utm_medium=referral&amp;utm_campaign=order%20online\" onclick=\"_gaq.push(['_trackEvent', 'Partner Link Clicks_Seamless', 'click_Search Results', '']);\" target=\"_blank\">Order From This Restaurant</a></div> </td> <td class=\"price\"> N/A</td> <td>uptown</td> <td>morningside-heights</td> <td>bakery-pastries, american, desserts</td> <td>1</td></tr>\n",
      "______________________\n",
      "\n",
      "<tr> <td class=\"name-address\" scope=\"row\"> <a class=\"link search_result_link\" data-clickstream=\"\" data-cs-fires-on-click-link=\"clicked_searchresults\" data-cs-with-property-text='masterlistid: \"18854\"' href=\"/restaurants/v-t-pizza/\">V &amp; T Pizza</a> Italian, Pizza<br/> 1024 Amsterdam Ave | Btwn 110th &amp; 111th St   <div class=\"seamless-order-url_from_search_results\"><a class=\"seamless-order-url\" data-clickstream=\"\" data-cs-fires-on-click-link=\"clicked_seamless-order-url_from_search_results\" data-cs-with-property-text='city: New York, masterlistid: \"18854\"' href=\"https://www.seamless.com/r/a/1124/menu/menupages/263773?utm_source=menupages.com&amp;utm_medium=referral&amp;utm_campaign=order%20online\" onclick=\"_gaq.push(['_trackEvent', 'Partner Link Clicks_Seamless', 'click_Search Results', '']);\" target=\"_blank\">Order From This Restaurant</a></div> </td> <td class=\"price\"> N/A</td> <td>uptown</td> <td>morningside-heights</td> <td>italian, pizza</td> <td>1</td></tr>\n",
      "______________________\n",
      "\n",
      "<tr> <td class=\"name-address\" scope=\"row\"> <a class=\"link search_result_link\" data-clickstream=\"\" data-cs-fires-on-click-link=\"clicked_searchresults\" data-cs-with-property-text='masterlistid: \"47426\"' href=\"/restaurants/new-aroma/\">New Aroma</a> Chinese<br/> 465 W 125th St | Btwn Morningside &amp; Amsterdam Ave  </td> <td class=\"price\"> <span class=\"price1\">1</span> </td> <td>uptown</td> <td>morningside-heights</td> <td>chinese</td> <td>0</td></tr>\n",
      "______________________\n",
      "\n",
      "<tr> <td class=\"name-address\" scope=\"row\"> <a class=\"link search_result_link\" data-clickstream=\"\" data-cs-fires-on-click-link=\"clicked_searchresults\" data-cs-with-property-text='masterlistid: \"48702\"' href=\"/restaurants/peking-garden/\">Peking Garden</a> Chinese<br/> 3163 Broadway | Btwn 124th &amp; 125th St  </td> <td class=\"price\"> <span class=\"price1\">1</span> </td> <td>uptown</td> <td>morningside-heights</td> <td>chinese</td> <td>0</td></tr>\n",
      "______________________\n",
      "\n",
      "<tr> <td class=\"name-address\" scope=\"row\"> <a class=\"link search_result_link\" data-clickstream=\"\" data-cs-fires-on-click-link=\"clicked_searchresults\" data-cs-with-property-text='masterlistid: \"48704\"' href=\"/restaurants/toms-restaurant-2/\">Tom's Restaurant</a> Diner<br/> 2880 Broadway | At 112th St  </td> <td class=\"price\"> <span class=\"price1\">1</span> </td> <td>uptown</td> <td>morningside-heights</td> <td>diner</td> <td>0</td></tr>\n",
      "______________________\n",
      "\n",
      "<tr> <td class=\"name-address\" scope=\"row\"> <a class=\"link search_result_link\" data-clickstream=\"\" data-cs-fires-on-click-link=\"clicked_searchresults\" data-cs-with-property-text='masterlistid: \"48706\"' href=\"/restaurants/pisticci/\">Pisticci</a> Italian<br/> 125 La Salle St | Btwn Broadway &amp; Claremont Ave  </td> <td class=\"price\"> <span class=\"price1\">1</span> </td> <td>uptown</td> <td>morningside-heights</td> <td>italian</td> <td>0</td></tr>\n",
      "______________________\n",
      "\n",
      "<tr> <td class=\"name-address\" scope=\"row\"> <a class=\"link search_result_link\" data-clickstream=\"\" data-cs-fires-on-click-link=\"clicked_searchresults\" data-cs-with-property-text='masterlistid: \"48710\"' href=\"/restaurants/deluxe/\">Deluxe</a> Diner, American<br/> 2896 Broadway | Btwn 112th &amp; 113th St   <div class=\"seamless-order-url_from_search_results\"><a class=\"seamless-order-url\" data-clickstream=\"\" data-cs-fires-on-click-link=\"clicked_seamless-order-url_from_search_results\" data-cs-with-property-text='city: New York, masterlistid: \"48710\"' href=\"https://www.seamless.com/r/a/1124/menu/menupages/2422?utm_source=menupages.com&amp;utm_medium=referral&amp;utm_campaign=order%20online\" onclick=\"_gaq.push(['_trackEvent', 'Partner Link Clicks_Seamless', 'click_Search Results', '']);\" target=\"_blank\">Order From This Restaurant</a></div> </td> <td class=\"price\"> <span class=\"price1\">1</span> </td> <td>uptown</td> <td>morningside-heights</td> <td>diner, american</td> <td>1</td></tr>\n",
      "______________________\n",
      "\n",
      "<tr> <td class=\"name-address\" scope=\"row\"> <a class=\"link search_result_link\" data-clickstream=\"\" data-cs-fires-on-click-link=\"clicked_searchresults\" data-cs-with-property-text='masterlistid: \"48713\"' href=\"/restaurants/toast/\">Toast</a> American, Bar Food<br/> 3157 Broadway | Btwn Tiemann Pl &amp; La Salle St  </td> <td class=\"price\"> <span class=\"price2\">2</span> </td> <td>uptown</td> <td>morningside-heights</td> <td>american, bar-food</td> <td>0</td></tr>\n",
      "______________________\n",
      "\n",
      "<tr> <td class=\"name-address\" scope=\"row\"> <a class=\"link search_result_link\" data-clickstream=\"\" data-cs-fires-on-click-link=\"clicked_searchresults\" data-cs-with-property-text='masterlistid: \"48714\"' href=\"/restaurants/toms-delicious-pizza/\">Tom's Delicious Pizza</a> Italian, Pizza<br/> 3161 Broadway | Btwn Lasalle &amp; Tiemann Pl   <div class=\"seamless-order-url_from_search_results\"><a class=\"seamless-order-url\" data-clickstream=\"\" data-cs-fires-on-click-link=\"clicked_seamless-order-url_from_search_results\" data-cs-with-property-text='city: New York, masterlistid: \"48714\"' href=\"https://www.seamless.com/r/a/1124/menu/menupages/66485?utm_source=menupages.com&amp;utm_medium=referral&amp;utm_campaign=order%20online\" onclick=\"_gaq.push(['_trackEvent', 'Partner Link Clicks_Seamless', 'click_Search Results', '']);\" target=\"_blank\">Order From This Restaurant</a></div> </td> <td class=\"price\"> <span class=\"price2\">2</span> </td> <td>uptown</td> <td>morningside-heights</td> <td>italian, pizza</td> <td>1</td></tr>\n",
      "______________________\n",
      "\n",
      "<tr> <td class=\"name-address\" scope=\"row\"> <a class=\"link search_result_link\" data-clickstream=\"\" data-cs-fires-on-click-link=\"clicked_searchresults\" data-cs-with-property-text='masterlistid: \"48764\"' href=\"/restaurants/west-place/\">West Place</a> Chinese<br/> 1288 Amsterdam Ave | Btwn 123rd &amp; LaSalle St  </td> <td class=\"price\"> <span class=\"price1\">1</span> </td> <td>uptown</td> <td>morningside-heights</td> <td>chinese</td> <td>0</td></tr>\n",
      "______________________\n",
      "\n",
      "<tr> <td class=\"name-address\" scope=\"row\"> <a class=\"link search_result_link\" data-clickstream=\"\" data-cs-fires-on-click-link=\"clicked_searchresults\" data-cs-with-property-text='masterlistid: \"48765\"' href=\"/restaurants/che-bella-pizza/\">Che' Bella Pizza</a> Italian, Pizza<br/> 1215 Amsterdam Ave | Btwn 119th &amp; 120th St   <div class=\"seamless-order-url_from_search_results\"><a class=\"seamless-order-url\" data-clickstream=\"\" data-cs-fires-on-click-link=\"clicked_seamless-order-url_from_search_results\" data-cs-with-property-text='city: New York, masterlistid: \"48765\"' href=\"https://www.seamless.com/r/a/1124/menu/menupages/261047?utm_source=menupages.com&amp;utm_medium=referral&amp;utm_campaign=order%20online\" onclick=\"_gaq.push(['_trackEvent', 'Partner Link Clicks_Seamless', 'click_Search Results', '']);\" target=\"_blank\">Order From This Restaurant</a></div> </td> <td class=\"price\"> N/A</td> <td>uptown</td> <td>morningside-heights</td> <td>italian, pizza</td> <td>1</td></tr>\n",
      "______________________\n",
      "\n",
      "<tr> <td class=\"name-address\" scope=\"row\"> <a class=\"link search_result_link\" data-clickstream=\"\" data-cs-fires-on-click-link=\"clicked_searchresults\" data-cs-with-property-text='masterlistid: \"48771\"' href=\"/restaurants/ajanta/\">Ajanta</a> Indian<br/> 1237 Amsterdam Ave | Btwn 120th &amp; 121st St   <div class=\"seamless-order-url_from_search_results\"><a class=\"seamless-order-url\" data-clickstream=\"\" data-cs-fires-on-click-link=\"clicked_seamless-order-url_from_search_results\" data-cs-with-property-text='city: New York, masterlistid: \"48771\"' href=\"https://www.seamless.com/r/a/1124/menu/menupages/66330?utm_source=menupages.com&amp;utm_medium=referral&amp;utm_campaign=order%20online\" onclick=\"_gaq.push(['_trackEvent', 'Partner Link Clicks_Seamless', 'click_Search Results', '']);\" target=\"_blank\">Order From This Restaurant</a></div> </td> <td class=\"price\"> N/A</td> <td>uptown</td> <td>morningside-heights</td> <td>indian</td> <td>1</td></tr>\n",
      "______________________\n",
      "\n",
      "<tr> <td class=\"name-address\" scope=\"row\"> <a class=\"link search_result_link\" data-clickstream=\"\" data-cs-fires-on-click-link=\"clicked_searchresults\" data-cs-with-property-text='masterlistid: \"48772\"' href=\"/restaurants/panino-sportivo-roma/\">Panino Sportivo Roma</a> Italian, Coffee &amp; Tea, Sandwiches<br/> 1231 Amsterdam Ave | Btwn 120th &amp; 121st St  </td> <td class=\"price\"> <span class=\"price2\">2</span> </td> <td>uptown</td> <td>morningside-heights</td> <td>italian, coffee-tea, sandwiches</td> <td>0</td></tr>\n",
      "______________________\n",
      "\n",
      "<tr> <td class=\"name-address\" scope=\"row\"> <a class=\"link search_result_link\" data-clickstream=\"\" data-cs-fires-on-click-link=\"clicked_searchresults\" data-cs-with-property-text='masterlistid: \"48782\"' href=\"/restaurants/max-soha/\">Max Soha</a> Italian<br/> 1274 Amsterdam Ave | At 123rd St  </td> <td class=\"price\"> <span class=\"price2\">2</span> </td> <td>uptown</td> <td>morningside-heights</td> <td>italian</td> <td>0</td></tr>\n",
      "______________________\n",
      "\n",
      "<tr> <td class=\"name-address\" scope=\"row\"> <a class=\"link search_result_link\" data-clickstream=\"\" data-cs-fires-on-click-link=\"clicked_searchresults\" data-cs-with-property-text='masterlistid: \"48810\"' href=\"/restaurants/strokos-pizza/\">Strokos Pizza</a> Deli Food, Pizza, Sandwiches, Chicken<br/> 1090 Amsterdam Ave | At 114th St   <div class=\"seamless-order-url_from_search_results\"><a class=\"seamless-order-url\" data-clickstream=\"\" data-cs-fires-on-click-link=\"clicked_seamless-order-url_from_search_results\" data-cs-with-property-text='city: New York, masterlistid: \"48810\"' href=\"https://www.seamless.com/r/a/1124/menu/menupages/284424?utm_source=menupages.com&amp;utm_medium=referral&amp;utm_campaign=order%20online\" onclick=\"_gaq.push(['_trackEvent', 'Partner Link Clicks_Seamless', 'click_Search Results', '']);\" target=\"_blank\">Order From This Restaurant</a></div> </td> <td class=\"price\"> <span class=\"price3\">3</span> </td> <td>uptown</td> <td>morningside-heights</td> <td>deli, pizza, sandwiches, chicken</td> <td>1</td></tr>\n",
      "______________________\n",
      "\n",
      "<tr> <td class=\"name-address\" scope=\"row\"> <a class=\"link search_result_link\" data-clickstream=\"\" data-cs-fires-on-click-link=\"clicked_searchresults\" data-cs-with-property-text='masterlistid: \"48811\"' href=\"/restaurants/camilles/\">Camille's</a> American<br/> 1135 Amsterdam Ave | At 116th St   <div class=\"seamless-order-url_from_search_results\"><a class=\"seamless-order-url\" data-clickstream=\"\" data-cs-fires-on-click-link=\"clicked_seamless-order-url_from_search_results\" data-cs-with-property-text='city: New York, masterlistid: \"48811\"' href=\"https://www.seamless.com/r/a/1124/menu/menupages/304834?utm_source=menupages.com&amp;utm_medium=referral&amp;utm_campaign=order%20online\" onclick=\"_gaq.push(['_trackEvent', 'Partner Link Clicks_Seamless', 'click_Search Results', '']);\" target=\"_blank\">Order From This Restaurant</a></div> </td> <td class=\"price\"> <span class=\"price1\">1</span> </td> <td>uptown</td> <td>morningside-heights</td> <td>american</td> <td>1</td></tr>\n",
      "______________________\n",
      "\n",
      "<tr> <td class=\"name-address\" scope=\"row\"> <a class=\"link search_result_link\" data-clickstream=\"\" data-cs-fires-on-click-link=\"clicked_searchresults\" data-cs-with-property-text='masterlistid: \"48816\"' href=\"/restaurants/amsterdam-restaurant/\">Amsterdam Restaurant</a> American (New), Tapas<br/> 1207 Amsterdam Ave | Btwn 119th &amp; 120th St  </td> <td class=\"price\"> <span class=\"price1\">1</span> </td> <td>uptown</td> <td>morningside-heights</td> <td>american-new, tapas</td> <td>0</td></tr>\n",
      "______________________\n",
      "\n",
      "<tr> <td class=\"name-address\" scope=\"row\"> <a class=\"link search_result_link\" data-clickstream=\"\" data-cs-fires-on-click-link=\"clicked_searchresults\" data-cs-with-property-text='masterlistid: \"48856\"' href=\"/restaurants/nussbaum-wu/\">Nussbaum &amp; Wu</a> Deli Food, Sandwiches, Bagels, Salads<br/> 2897 Broadway | At 113th St   <div class=\"seamless-order-url_from_search_results\"><a class=\"seamless-order-url\" data-clickstream=\"\" data-cs-fires-on-click-link=\"clicked_seamless-order-url_from_search_results\" data-cs-with-property-text='city: New York, masterlistid: \"48856\"' href=\"https://www.seamless.com/r/a/1124/menu/menupages/264262?utm_source=menupages.com&amp;utm_medium=referral&amp;utm_campaign=order%20online\" onclick=\"_gaq.push(['_trackEvent', 'Partner Link Clicks_Seamless', 'click_Search Results', '']);\" target=\"_blank\">Order From This Restaurant</a></div> </td> <td class=\"price\"> N/A</td> <td>uptown</td> <td>morningside-heights</td> <td>deli, sandwiches, bagels, salads</td> <td>1</td></tr>\n",
      "______________________\n",
      "\n",
      "<tr> <td class=\"name-address\" scope=\"row\"> <a class=\"link search_result_link\" data-clickstream=\"\" data-cs-fires-on-click-link=\"clicked_searchresults\" data-cs-with-property-text='masterlistid: \"48858\"' href=\"/restaurants/amirs-falafel/\">Amir's Grill</a> Middle Eastern<br/> 2911 Broadway | Btwn 113th &amp; 114th St   <div class=\"seamless-order-url_from_search_results\"><a class=\"seamless-order-url\" data-clickstream=\"\" data-cs-fires-on-click-link=\"clicked_seamless-order-url_from_search_results\" data-cs-with-property-text='city: New York, masterlistid: \"48858\"' href=\"https://www.seamless.com/r/a/1124/menu/menupages/274793?utm_source=menupages.com&amp;utm_medium=referral&amp;utm_campaign=order%20online\" onclick=\"_gaq.push(['_trackEvent', 'Partner Link Clicks_Seamless', 'click_Search Results', '']);\" target=\"_blank\">Order From This Restaurant</a></div> </td> <td class=\"price\"> <span class=\"price1\">1</span> </td> <td>uptown</td> <td>morningside-heights</td> <td>middle-eastern</td> <td>1</td></tr>\n",
      "______________________\n",
      "\n",
      "<tr> <td class=\"name-address\" scope=\"row\"> <a class=\"link search_result_link\" data-clickstream=\"\" data-cs-fires-on-click-link=\"clicked_searchresults\" data-cs-with-property-text='masterlistid: \"48859\"' href=\"/restaurants/m2m-morning-to-midnight/\">M2M - Morning To Midnight</a> Japanese, Sushi, Deli Food, Sandwiches<br/> 2935 Broadway | Btwn 114th &amp; 115th St  </td> <td class=\"price\"> <span class=\"price1\">1</span> </td> <td>uptown</td> <td>morningside-heights</td> <td>japanese, sushi, deli, sandwiches</td> <td>0</td></tr>\n",
      "______________________\n",
      "\n",
      "<tr> <td class=\"name-address\" scope=\"row\"> <a class=\"link search_result_link\" data-clickstream=\"\" data-cs-fires-on-click-link=\"clicked_searchresults\" data-cs-with-property-text='masterlistid: \"48869\"' href=\"/restaurants/the-mill/\">The Mill</a> Korean<br/> 2895 Broadway | At 113th St   <div class=\"seamless-order-url_from_search_results\"><a class=\"seamless-order-url\" data-clickstream=\"\" data-cs-fires-on-click-link=\"clicked_seamless-order-url_from_search_results\" data-cs-with-property-text='city: New York, masterlistid: \"48869\"' href=\"https://www.seamless.com/r/a/1124/menu/menupages/291094?utm_source=menupages.com&amp;utm_medium=referral&amp;utm_campaign=order%20online\" onclick=\"_gaq.push(['_trackEvent', 'Partner Link Clicks_Seamless', 'click_Search Results', '']);\" target=\"_blank\">Order From This Restaurant</a></div> </td> <td class=\"price\"> <span class=\"price2\">2</span> </td> <td>uptown</td> <td>morningside-heights</td> <td>korean</td> <td>1</td></tr>\n",
      "______________________\n",
      "\n",
      "<tr> <td class=\"name-address\" scope=\"row\"> <a class=\"link search_result_link\" data-clickstream=\"\" data-cs-fires-on-click-link=\"clicked_searchresults\" data-cs-with-property-text='masterlistid: \"48895\"' href=\"/restaurants/le-monde/\">Le Monde</a> French, Bistro<br/> 2885 Broadway | Btwn 112th &amp; 113th St  </td> <td class=\"price\"> <span class=\"price1\">1</span> </td> <td>uptown</td> <td>morningside-heights</td> <td>french, bistro</td> <td>0</td></tr>\n",
      "______________________\n",
      "\n",
      "<tr> <td class=\"name-address\" scope=\"row\"> <a class=\"link search_result_link\" data-clickstream=\"\" data-cs-fires-on-click-link=\"clicked_searchresults\" data-cs-with-property-text='masterlistid: \"49084\"' href=\"/restaurants/melbas/\">Melba's</a> American (New), Soul Food<br/> 300 W 114th St | At Frederick Douglass Blvd   <div class=\"seamless-order-url_from_search_results\"><a class=\"seamless-order-url\" data-clickstream=\"\" data-cs-fires-on-click-link=\"clicked_seamless-order-url_from_search_results\" data-cs-with-property-text='city: New York, masterlistid: \"49084\"' href=\"https://www.seamless.com/r/a/1124/menu/menupages/305207?utm_source=menupages.com&amp;utm_medium=referral&amp;utm_campaign=order%20online\" onclick=\"_gaq.push(['_trackEvent', 'Partner Link Clicks_Seamless', 'click_Search Results', '']);\" target=\"_blank\">Order From This Restaurant</a></div> </td> <td class=\"price\"> <span class=\"price1\">1</span> </td> <td>uptown</td> <td>morningside-heights</td> <td>american-new, soul-food</td> <td>1</td></tr>\n",
      "______________________\n",
      "\n",
      "<tr> <td class=\"name-address\" scope=\"row\"> <a class=\"link search_result_link\" data-clickstream=\"\" data-cs-fires-on-click-link=\"clicked_searchresults\" data-cs-with-property-text='masterlistid: \"64407\"' href=\"/restaurants/chuck-e-cheeses-4/\">Chuck E Cheese's</a> Pizza, American<br/> 280 St Nicholas Ave | At 124th St  </td> <td class=\"price\"> N/A</td> <td>uptown</td> <td>morningside-heights</td> <td>pizza, american</td> <td>0</td></tr>\n",
      "______________________\n",
      "\n",
      "<tr> <td class=\"name-address\" scope=\"row\"> <a class=\"link search_result_link\" data-clickstream=\"\" data-cs-fires-on-click-link=\"clicked_searchresults\" data-cs-with-property-text='masterlistid: \"232674\"' href=\"/restaurants/haagen-dazs-5/\">Haagen-Dazs</a> Desserts<br/> 2905 Broadway | Btwn 113th &amp; 114th St   <div class=\"seamless-order-url_from_search_results\"><a class=\"seamless-order-url\" data-clickstream=\"\" data-cs-fires-on-click-link=\"clicked_seamless-order-url_from_search_results\" data-cs-with-property-text='city: New York, masterlistid: \"232674\"' href=\"https://www.seamless.com/r/a/1124/menu/menupages/309443?utm_source=menupages.com&amp;utm_medium=referral&amp;utm_campaign=order%20online\" onclick=\"_gaq.push(['_trackEvent', 'Partner Link Clicks_Seamless', 'click_Search Results', '']);\" target=\"_blank\">Order From This Restaurant</a></div> </td> <td class=\"price\"> <span class=\"price1\">1</span> </td> <td>uptown</td> <td>morningside-heights</td> <td>desserts</td> <td>1</td></tr>\n",
      "______________________\n",
      "\n",
      "<tr> <td class=\"name-address\" scope=\"row\"> <a class=\"link search_result_link\" data-clickstream=\"\" data-cs-fires-on-click-link=\"clicked_searchresults\" data-cs-with-property-text='masterlistid: \"249497\"' href=\"/restaurants/orens-9/\">Oren's</a> Coffee &amp; Tea, Sandwiches<br/> 2882 Broadway | Btwn 112th &amp; 113th St  </td> <td class=\"price\"> N/A</td> <td>uptown</td> <td>morningside-heights</td> <td>coffee-tea, sandwiches</td> <td>0</td></tr>\n",
      "______________________\n",
      "\n",
      "<tr> <td class=\"name-address\" scope=\"row\"> <a class=\"link search_result_link\" data-clickstream=\"\" data-cs-fires-on-click-link=\"clicked_searchresults\" data-cs-with-property-text='masterlistid: \"252863\"' href=\"/restaurants/dinosaur-bar-b-que/\">Dinosaur Bar-B-Que</a> Barbecue, Soul Food<br/> 700 W 125th St | At Riverside Dr   <div class=\"seamless-order-url_from_search_results\"><a class=\"seamless-order-url\" data-clickstream=\"\" data-cs-fires-on-click-link=\"clicked_seamless-order-url_from_search_results\" data-cs-with-property-text='city: New York, masterlistid: \"252863\"' href=\"https://www.seamless.com/r/a/1124/menu/menupages/262149?utm_source=menupages.com&amp;utm_medium=referral&amp;utm_campaign=order%20online\" onclick=\"_gaq.push(['_trackEvent', 'Partner Link Clicks_Seamless', 'click_Search Results', '']);\" target=\"_blank\">Order From This Restaurant</a></div> </td> <td class=\"price\"> <span class=\"price3\">3</span> </td> <td>uptown</td> <td>morningside-heights</td> <td>barbecue, soul-food</td> <td>1</td></tr>\n",
      "______________________\n",
      "\n",
      "<tr> <td class=\"name-address\" scope=\"row\"> <a class=\"link search_result_link\" data-clickstream=\"\" data-cs-fires-on-click-link=\"clicked_searchresults\" data-cs-with-property-text='masterlistid: \"259650\"' href=\"/restaurants/symposium-greek-restaurant/\">Symposium Greek Restaurant</a> Greek, Vegetarian<br/> 544 W 113th St | Btwn Broadway &amp; Amsterdam Ave   <div class=\"seamless-order-url_from_search_results\"><a class=\"seamless-order-url\" data-clickstream=\"\" data-cs-fires-on-click-link=\"clicked_seamless-order-url_from_search_results\" data-cs-with-property-text='city: New York, masterlistid: \"259650\"' href=\"https://www.seamless.com/r/a/1124/menu/menupages/316959?utm_source=menupages.com&amp;utm_medium=referral&amp;utm_campaign=order%20online\" onclick=\"_gaq.push(['_trackEvent', 'Partner Link Clicks_Seamless', 'click_Search Results', '']);\" target=\"_blank\">Order From This Restaurant</a></div> </td> <td class=\"price\"> N/A</td> <td>uptown</td> <td>morningside-heights</td> <td>greek, vegetarian</td> <td>1</td></tr>\n",
      "______________________\n",
      "\n",
      "<tr> <td class=\"name-address\" scope=\"row\"> <a class=\"link search_result_link\" data-clickstream=\"\" data-cs-fires-on-click-link=\"clicked_searchresults\" data-cs-with-property-text='masterlistid: \"259651\"' href=\"/restaurants/koronet-pizza/\">Koronet Pizza</a> Pizza<br/> 2848 Broadway | Btwn 110th &amp; 111th St   <div class=\"seamless-order-url_from_search_results\"><a class=\"seamless-order-url\" data-clickstream=\"\" data-cs-fires-on-click-link=\"clicked_seamless-order-url_from_search_results\" data-cs-with-property-text='city: New York, masterlistid: \"259651\"' href=\"https://www.seamless.com/r/a/1124/menu/menupages/304074?utm_source=menupages.com&amp;utm_medium=referral&amp;utm_campaign=order%20online\" onclick=\"_gaq.push(['_trackEvent', 'Partner Link Clicks_Seamless', 'click_Search Results', '']);\" target=\"_blank\">Order From This Restaurant</a></div> </td> <td class=\"price\"> <span class=\"price1\">1</span> </td> <td>uptown</td> <td>morningside-heights</td> <td>pizza</td> <td>1</td></tr>\n",
      "______________________\n",
      "\n",
      "<tr> <td class=\"name-address\" scope=\"row\"> <a class=\"link search_result_link\" data-clickstream=\"\" data-cs-fires-on-click-link=\"clicked_searchresults\" data-cs-with-property-text='masterlistid: \"260320\"' href=\"/restaurants/the-heights-bar-grill/\">The Heights Bar &amp; Grill</a> Southwestern, Tapas, Bar Food<br/> 2867 Broadway | Btwn 111th &amp; 112th St  </td> <td class=\"price\"> <span class=\"price1\">1</span> </td> <td>uptown</td> <td>morningside-heights</td> <td>southwestern, tapas, bar-food</td> <td>0</td></tr>\n",
      "______________________\n",
      "\n",
      "<tr> <td class=\"name-address\" scope=\"row\"> <a class=\"link search_result_link\" data-clickstream=\"\" data-cs-fires-on-click-link=\"clicked_searchresults\" data-cs-with-property-text='masterlistid: \"260321\"' href=\"/restaurants/cafe-nana/\">Cafe Nana</a> Middle Eastern, Kosher<br/> 606 W 115th St | Btwn Broadway &amp; Riverside Dr   <div class=\"seamless-order-url_from_search_results\"><a class=\"seamless-order-url\" data-clickstream=\"\" data-cs-fires-on-click-link=\"clicked_seamless-order-url_from_search_results\" data-cs-with-property-text='city: New York, masterlistid: \"260321\"' href=\"https://www.seamless.com/r/a/1124/menu/menupages/305026?utm_source=menupages.com&amp;utm_medium=referral&amp;utm_campaign=order%20online\" onclick=\"_gaq.push(['_trackEvent', 'Partner Link Clicks_Seamless', 'click_Search Results', '']);\" target=\"_blank\">Order From This Restaurant</a></div> </td> <td class=\"price\"> N/A</td> <td>uptown</td> <td>morningside-heights</td> <td>middle-eastern, kosher</td> <td>1</td></tr>\n",
      "______________________\n",
      "\n",
      "<tr> <td class=\"name-address\" scope=\"row\"> <a class=\"link search_result_link\" data-clickstream=\"\" data-cs-fires-on-click-link=\"clicked_searchresults\" data-cs-with-property-text='masterlistid: \"271631\"' href=\"/restaurants/hamilton-deli/\">Hamilton Deli</a> Deli Food, Sandwiches<br/> 1129 Amsterdam Ave | Btwn 115th &amp; 116th St   <div class=\"seamless-order-url_from_search_results\"><a class=\"seamless-order-url\" data-clickstream=\"\" data-cs-fires-on-click-link=\"clicked_seamless-order-url_from_search_results\" data-cs-with-property-text='city: New York, masterlistid: \"271631\"' href=\"https://www.seamless.com/r/a/1124/menu/menupages/263574?utm_source=menupages.com&amp;utm_medium=referral&amp;utm_campaign=order%20online\" onclick=\"_gaq.push(['_trackEvent', 'Partner Link Clicks_Seamless', 'click_Search Results', '']);\" target=\"_blank\">Order From This Restaurant</a></div> </td> <td class=\"price\"> N/A</td> <td>uptown</td> <td>morningside-heights</td> <td>deli, sandwiches</td> <td>1</td></tr>\n",
      "______________________\n",
      "\n",
      "<tr> <td class=\"name-address\" scope=\"row\"> <a class=\"link search_result_link\" data-clickstream=\"\" data-cs-fires-on-click-link=\"clicked_searchresults\" data-cs-with-property-text='masterlistid: \"272490\"' href=\"/restaurants/community-food-juice/\">Community Food &amp; Juice</a> American (New), Smoothies &amp; Juices, Vegetarian, Healthy, Local/Organic<br/> 2893 Broadway | Btwn 112th &amp; 113th St  </td> <td class=\"price\"> N/A</td> <td>uptown</td> <td>morningside-heights</td> <td>american-new, smoothies-juices, vegetarian, healthy, localorganic</td> <td>0</td></tr>\n",
      "______________________\n",
      "\n",
      "<tr> <td class=\"name-address\" scope=\"row\"> <a class=\"link search_result_link\" data-clickstream=\"\" data-cs-fires-on-click-link=\"clicked_searchresults\" data-cs-with-property-text='masterlistid: \"280232\"' href=\"/restaurants/haakons-hall/\">Haakon's Hall</a> American, Scandinavian<br/> 1187 Amsterdam Ave | Btwn 118th &amp; 119th St  </td> <td class=\"price\"> N/A</td> <td>uptown</td> <td>morningside-heights</td> <td>american, scandinavian</td> <td>0</td></tr>\n",
      "______________________\n",
      "\n",
      "<tr> <td class=\"name-address\" scope=\"row\"> <a class=\"link search_result_link\" data-clickstream=\"\" data-cs-fires-on-click-link=\"clicked_searchresults\" data-cs-with-property-text='masterlistid: \"285753\"' href=\"/restaurants/el-porton/\">El Porton</a> Mexican<br/> 3151 Broadway | Btwn La Salle St &amp; Tiemann Pl   <div class=\"seamless-order-url_from_search_results\"><a class=\"seamless-order-url\" data-clickstream=\"\" data-cs-fires-on-click-link=\"clicked_seamless-order-url_from_search_results\" data-cs-with-property-text='city: New York, masterlistid: \"285753\"' href=\"https://www.seamless.com/r/a/1124/menu/menupages/259315?utm_source=menupages.com&amp;utm_medium=referral&amp;utm_campaign=order%20online\" onclick=\"_gaq.push(['_trackEvent', 'Partner Link Clicks_Seamless', 'click_Search Results', '']);\" target=\"_blank\">Order From This Restaurant</a></div> </td> <td class=\"price\"> N/A</td> <td>uptown</td> <td>morningside-heights</td> <td>mexican</td> <td>1</td></tr>\n",
      "______________________\n",
      "\n",
      "<tr> <td class=\"name-address\" scope=\"row\"> <a class=\"link search_result_link\" data-clickstream=\"\" data-cs-fires-on-click-link=\"clicked_searchresults\" data-cs-with-property-text='masterlistid: \"295238\"' href=\"/restaurants/brads/\">Brad's</a> Coffee &amp; Tea<br/> 2920 Broadway | At 115th St   <div class=\"seamless-order-url_from_search_results\"><a class=\"seamless-order-url\" data-clickstream=\"\" data-cs-fires-on-click-link=\"clicked_seamless-order-url_from_search_results\" data-cs-with-property-text='city: New York, masterlistid: \"295238\"' href=\"https://www.seamless.com/r/a/1124/menu/menupages/261868?utm_source=menupages.com&amp;utm_medium=referral&amp;utm_campaign=order%20online\" onclick=\"_gaq.push(['_trackEvent', 'Partner Link Clicks_Seamless', 'click_Search Results', '']);\" target=\"_blank\">Order From This Restaurant</a></div> </td> <td class=\"price\"> <span class=\"price1\">1</span> </td> <td>uptown</td> <td>morningside-heights</td> <td>coffee-tea</td> <td>1</td></tr>\n",
      "______________________\n",
      "\n",
      "<tr> <td class=\"name-address\" scope=\"row\"> <a class=\"link search_result_link\" data-clickstream=\"\" data-cs-fires-on-click-link=\"clicked_searchresults\" data-cs-with-property-text='masterlistid: \"295701\"' href=\"/restaurants/mels-burger-bar/\">Mel's Burger Bar</a> Burgers, Bar Food<br/> 2850 Broadway | Btwn 110th &amp; 111th St   <div class=\"seamless-order-url_from_search_results\"><a class=\"seamless-order-url\" data-clickstream=\"\" data-cs-fires-on-click-link=\"clicked_seamless-order-url_from_search_results\" data-cs-with-property-text='city: New York, masterlistid: \"295701\"' href=\"https://www.seamless.com/r/a/1124/menu/menupages/320935?utm_source=menupages.com&amp;utm_medium=referral&amp;utm_campaign=order%20online\" onclick=\"_gaq.push(['_trackEvent', 'Partner Link Clicks_Seamless', 'click_Search Results', '']);\" target=\"_blank\">Order From This Restaurant</a></div> </td> <td class=\"price\"> <span class=\"price2\">2</span> </td> <td>uptown</td> <td>morningside-heights</td> <td>burgers, bar-food</td> <td>1</td></tr>\n",
      "______________________\n",
      "\n",
      "<tr> <td class=\"name-address\" scope=\"row\"> <a class=\"link search_result_link\" data-clickstream=\"\" data-cs-fires-on-click-link=\"clicked_searchresults\" data-cs-with-property-text='masterlistid: \"296507\"' href=\"/restaurants/bettolona/\">Bettolona</a> Italian, Pizza, Local/Organic<br/> 3143 Broadway | Btwn La Salle St &amp; Tiemann Pl   <div class=\"seamless-order-url_from_search_results\"><a class=\"seamless-order-url\" data-clickstream=\"\" data-cs-fires-on-click-link=\"clicked_seamless-order-url_from_search_results\" data-cs-with-property-text='city: New York, masterlistid: \"296507\"' href=\"https://www.seamless.com/r/a/1124/menu/menupages/81941?utm_source=menupages.com&amp;utm_medium=referral&amp;utm_campaign=order%20online\" onclick=\"_gaq.push(['_trackEvent', 'Partner Link Clicks_Seamless', 'click_Search Results', '']);\" target=\"_blank\">Order From This Restaurant</a></div> </td> <td class=\"price\"> <span class=\"price1\">1</span> </td> <td>uptown</td> <td>morningside-heights</td> <td>italian, pizza, localorganic</td> <td>1</td></tr>\n",
      "______________________\n",
      "\n",
      "<tr> <td class=\"name-address\" scope=\"row\"> <a class=\"link search_result_link\" data-clickstream=\"\" data-cs-fires-on-click-link=\"clicked_searchresults\" data-cs-with-property-text='masterlistid: \"303538\"' href=\"/restaurants/five-guys-9/\">Five Guys</a> Burgers, Hot Dogs<br/> 2847 Broadway | Btwn 110th &amp; 111th St  </td> <td class=\"price\"> <span class=\"price1\">1</span> </td> <td>uptown</td> <td>morningside-heights</td> <td>burgers, hot-dogs</td> <td>0</td></tr>\n",
      "______________________\n",
      "\n",
      "<tr> <td class=\"name-address\" scope=\"row\"> <a class=\"link search_result_link\" data-clickstream=\"\" data-cs-fires-on-click-link=\"clicked_searchresults\" data-cs-with-property-text='masterlistid: \"305919\"' href=\"/restaurants/nikko/\">Nikko</a> Chinese, Japanese, Sushi, Teahouses<br/> 1280 Amsterdam Ave | At 123rd St   <div class=\"seamless-order-url_from_search_results\"><a class=\"seamless-order-url\" data-clickstream=\"\" data-cs-fires-on-click-link=\"clicked_seamless-order-url_from_search_results\" data-cs-with-property-text='city: New York, masterlistid: \"305919\"' href=\"https://www.seamless.com/r/a/1124/menu/menupages/264367?utm_source=menupages.com&amp;utm_medium=referral&amp;utm_campaign=order%20online\" onclick=\"_gaq.push(['_trackEvent', 'Partner Link Clicks_Seamless', 'click_Search Results', '']);\" target=\"_blank\">Order From This Restaurant</a></div> </td> <td class=\"price\"> <span class=\"price2\">2</span> </td> <td>uptown</td> <td>morningside-heights</td> <td>chinese, japanese, sushi, teahouses</td> <td>1</td></tr>\n",
      "______________________\n",
      "\n",
      "<tr> <td class=\"name-address\" scope=\"row\"> <a class=\"link search_result_link\" data-clickstream=\"\" data-cs-fires-on-click-link=\"clicked_searchresults\" data-cs-with-property-text='masterlistid: \"308682\"' href=\"/restaurants/falafel-on-broadway/\">Falafel on Broadway</a> Middle Eastern<br/> 3151 Broadway | Btwn Tiemann Pl &amp; Lasalle St   <div class=\"seamless-order-url_from_search_results\"><a class=\"seamless-order-url\" data-clickstream=\"\" data-cs-fires-on-click-link=\"clicked_seamless-order-url_from_search_results\" data-cs-with-property-text='city: New York, masterlistid: \"308682\"' href=\"https://www.seamless.com/r/a/1124/menu/menupages/274644?utm_source=menupages.com&amp;utm_medium=referral&amp;utm_campaign=order%20online\" onclick=\"_gaq.push(['_trackEvent', 'Partner Link Clicks_Seamless', 'click_Search Results', '']);\" target=\"_blank\">Order From This Restaurant</a></div> </td> <td class=\"price\"> <span class=\"price1\">1</span> </td> <td>uptown</td> <td>morningside-heights</td> <td>middle-eastern</td> <td>1</td></tr>\n",
      "______________________\n",
      "\n",
      "<tr> <td class=\"name-address\" scope=\"row\"> <a class=\"link search_result_link\" data-clickstream=\"\" data-cs-fires-on-click-link=\"clicked_searchresults\" data-cs-with-property-text='masterlistid: \"333625\"' href=\"/restaurants/sushi-sushi/\">Sushi Sushi</a> Japanese, Sushi<br/> 54 Tiemann Pl | Btwn Claremont Ave &amp; Broadway   <div class=\"seamless-order-url_from_search_results\"><a class=\"seamless-order-url\" data-clickstream=\"\" data-cs-fires-on-click-link=\"clicked_seamless-order-url_from_search_results\" data-cs-with-property-text='city: New York, masterlistid: \"333625\"' href=\"https://www.seamless.com/r/a/1124/menu/menupages/278462?utm_source=menupages.com&amp;utm_medium=referral&amp;utm_campaign=order%20online\" onclick=\"_gaq.push(['_trackEvent', 'Partner Link Clicks_Seamless', 'click_Search Results', '']);\" target=\"_blank\">Order From This Restaurant</a></div> </td> <td class=\"price\"> <span class=\"price1\">1</span> </td> <td>uptown</td> <td>morningside-heights</td> <td>japanese, sushi</td> <td>1</td></tr>\n",
      "______________________\n",
      "\n",
      "<tr> <td class=\"name-address\" scope=\"row\"> <a class=\"link search_result_link\" data-clickstream=\"\" data-cs-fires-on-click-link=\"clicked_searchresults\" data-cs-with-property-text='masterlistid: \"342143\"' href=\"/restaurants/insomnia-cookies-7/\">Insomnia Cookies</a> Bakery &amp; Pastries, Desserts<br/> 1028 Amsterdam Ave | Btwn 110th &amp; 111th St   <div class=\"seamless-order-url_from_search_results\"><a class=\"seamless-order-url\" data-clickstream=\"\" data-cs-fires-on-click-link=\"clicked_seamless-order-url_from_search_results\" data-cs-with-property-text='city: New York, masterlistid: \"342143\"' href=\"https://www.seamless.com/r/a/1124/menu/menupages/298599?utm_source=menupages.com&amp;utm_medium=referral&amp;utm_campaign=order%20online\" onclick=\"_gaq.push(['_trackEvent', 'Partner Link Clicks_Seamless', 'click_Search Results', '']);\" target=\"_blank\">Order From This Restaurant</a></div> </td> <td class=\"price\"> <span class=\"price1\">1</span> </td> <td>uptown</td> <td>morningside-heights</td> <td>bakery-pastries, desserts</td> <td>1</td></tr>\n",
      "______________________\n",
      "\n",
      "<tr> <td class=\"name-address\" scope=\"row\"> <a class=\"link search_result_link\" data-clickstream=\"\" data-cs-fires-on-click-link=\"clicked_searchresults\" data-cs-with-property-text='masterlistid: \"349820\"' href=\"/restaurants/cafe-amrita/\">Cafe Amrita</a> Coffee &amp; Tea, Sandwiches<br/> 301 W 110th St | At 8th Ave  </td> <td class=\"price\"> <span class=\"price1\">1</span> </td> <td>uptown</td> <td>morningside-heights</td> <td>coffee-tea, sandwiches</td> <td>0</td></tr>\n",
      "______________________\n",
      "\n",
      "<tr> <td class=\"name-address\" scope=\"row\"> <a class=\"link search_result_link\" data-clickstream=\"\" data-cs-fires-on-click-link=\"clicked_searchresults\" data-cs-with-property-text='masterlistid: \"351970\"' href=\"/restaurants/pinkberry-16/\">Pinkberry</a> Desserts<br/> 2873 Broadway | Btwn 111th &amp; 112th St  </td> <td class=\"price\"> <span class=\"price2\">2</span> </td> <td>uptown</td> <td>morningside-heights</td> <td>desserts</td> <td>0</td></tr>\n",
      "______________________\n",
      "\n",
      "<tr> <td class=\"name-address\" scope=\"row\"> <a class=\"link search_result_link\" data-clickstream=\"\" data-cs-fires-on-click-link=\"clicked_searchresults\" data-cs-with-property-text='masterlistid: \"352331\"' href=\"/restaurants/artopolis-espresso-cafe/\">Artopolis Espresso Cafe</a> Coffee &amp; Tea, Sandwiches, Crepes<br/> 1090 Amsterdam Ave | Btwn 113th &amp; 114th St   <div class=\"seamless-order-url_from_search_results\"><a class=\"seamless-order-url\" data-clickstream=\"\" data-cs-fires-on-click-link=\"clicked_seamless-order-url_from_search_results\" data-cs-with-property-text='city: New York, masterlistid: \"352331\"' href=\"https://www.seamless.com/r/a/1124/menu/menupages/287218?utm_source=menupages.com&amp;utm_medium=referral&amp;utm_campaign=order%20online\" onclick=\"_gaq.push(['_trackEvent', 'Partner Link Clicks_Seamless', 'click_Search Results', '']);\" target=\"_blank\">Order From This Restaurant</a></div> </td> <td class=\"price\"> <span class=\"price1\">1</span> </td> <td>uptown</td> <td>morningside-heights</td> <td>coffee-tea, sandwiches, crepes</td> <td>1</td></tr>\n",
      "______________________\n",
      "\n",
      "<tr> <td class=\"name-address\" scope=\"row\"> <a class=\"link search_result_link\" data-clickstream=\"\" data-cs-fires-on-click-link=\"clicked_searchresults\" data-cs-with-property-text='masterlistid: \"353769\"' href=\"/restaurants/max-caffe/\">Max Caffe</a> Coffee &amp; Tea, Sandwiches<br/> 1262 Amsterdam Ave | Btwn 122nd &amp; 123rd St  </td> <td class=\"price\"> <span class=\"price2\">2</span> </td> <td>uptown</td> <td>morningside-heights</td> <td>coffee-tea, sandwiches</td> <td>0</td></tr>\n",
      "______________________\n",
      "\n",
      "<tr> <td class=\"name-address\" scope=\"row\"> <a class=\"link search_result_link\" data-clickstream=\"\" data-cs-fires-on-click-link=\"clicked_searchresults\" data-cs-with-property-text='masterlistid: \"354422\"' href=\"/restaurants/chipotle-27/\">Chipotle</a> Mexican<br/> 2843 Broadway | At 110th St  </td> <td class=\"price\"> <span class=\"price1\">1</span> </td> <td>uptown</td> <td>morningside-heights</td> <td>mexican</td> <td>0</td></tr>\n",
      "______________________\n",
      "\n",
      "<tr> <td class=\"name-address\" scope=\"row\"> <a class=\"link search_result_link\" data-clickstream=\"\" data-cs-fires-on-click-link=\"clicked_searchresults\" data-cs-with-property-text='masterlistid: \"357182\"' href=\"/restaurants/chokolat-patisserie/\">Chokolat Patisserie</a> Bakery &amp; Pastries, Desserts<br/> 3111 Broadway | Btwn 123rd &amp; La Salle St  </td> <td class=\"price\"> <span class=\"price5\">5</span> </td> <td>uptown</td> <td>morningside-heights</td> <td>bakery-pastries, desserts</td> <td>0</td></tr>\n",
      "______________________\n",
      "\n",
      "<tr> <td class=\"name-address\" scope=\"row\"> <a class=\"link search_result_link\" data-clickstream=\"\" data-cs-fires-on-click-link=\"clicked_searchresults\" data-cs-with-property-text='masterlistid: \"357467\"' href=\"/restaurants/chokolat-patisserie-2/\">Chokolat Patisserie</a> Bakery &amp; Pastries, Coffee &amp; Tea, Desserts<br/> 3187 Broadway | Btwn Tiemann Pl &amp; 125th St  </td> <td class=\"price\"> <span class=\"price1\">1</span> </td> <td>uptown</td> <td>morningside-heights</td> <td>bakery-pastries, coffee-tea, desserts</td> <td>0</td></tr>\n",
      "______________________\n",
      "\n",
      "<tr> <td class=\"name-address\" scope=\"row\"> <a class=\"link search_result_link\" data-clickstream=\"\" data-cs-fires-on-click-link=\"clicked_searchresults\" data-cs-with-property-text='masterlistid: \"359466\"' href=\"/restaurants/joes-g-h-deli/\">Joe's G-H Deli</a> Deli Food, Sandwiches<br/> 3161 Broadway | Btwn Tiemann Pl &amp; La Salle St  </td> <td class=\"price\"> <span class=\"price2\">2</span> </td> <td>uptown</td> <td>morningside-heights</td> <td>deli, sandwiches</td> <td>0</td></tr>\n",
      "______________________\n",
      "\n",
      "<tr> <td class=\"name-address\" scope=\"row\"> <a class=\"link search_result_link\" data-clickstream=\"\" data-cs-fires-on-click-link=\"clicked_searchresults\" data-cs-with-property-text='masterlistid: \"359503\"' href=\"/restaurants/joe-the-art-of-coffee-5/\">Joe the Art of Coffee</a> Coffee &amp; Tea<br/> 550 W 120th St | Btwn Amsterdam Ave &amp; Broadway  </td> <td class=\"price\"> <span class=\"price1\">1</span> </td> <td>uptown</td> <td>morningside-heights</td> <td>coffee-tea</td> <td>0</td></tr>\n",
      "______________________\n",
      "\n",
      "<tr> <td class=\"name-address\" scope=\"row\"> <a class=\"link search_result_link\" data-clickstream=\"\" data-cs-fires-on-click-link=\"clicked_searchresults\" data-cs-with-property-text='masterlistid: \"359984\"' href=\"/restaurants/levain-bakery-2/\">Levain Bakery</a> Bakery &amp; Pastries, Desserts<br/> 2167 Frederick Douglas Blvd | Btwn 116th &amp; 117th St  </td> <td class=\"price\"> <span class=\"price2\">2</span> </td> <td>uptown</td> <td>morningside-heights</td> <td>bakery-pastries, desserts</td> <td>0</td></tr>\n",
      "______________________\n",
      "\n",
      "<tr> <td class=\"name-address\" scope=\"row\"> <a class=\"link search_result_link\" data-clickstream=\"\" data-cs-fires-on-click-link=\"clicked_searchresults\" data-cs-with-property-text='masterlistid: \"360444\"' href=\"/restaurants/silvana/\">Silvana</a> Middle Eastern, Vegetarian<br/> 300 W 116th St | At Fredrick Douglass Blvd   <div class=\"seamless-order-url_from_search_results\"><a class=\"seamless-order-url\" data-clickstream=\"\" data-cs-fires-on-click-link=\"clicked_seamless-order-url_from_search_results\" data-cs-with-property-text='city: New York, masterlistid: \"360444\"' href=\"https://www.seamless.com/r/a/1124/menu/menupages/288774?utm_source=menupages.com&amp;utm_medium=referral&amp;utm_campaign=order%20online\" onclick=\"_gaq.push(['_trackEvent', 'Partner Link Clicks_Seamless', 'click_Search Results', '']);\" target=\"_blank\">Order From This Restaurant</a></div> </td> <td class=\"price\"> <span class=\"price1\">1</span> </td> <td>uptown</td> <td>morningside-heights</td> <td>middle-eastern, vegetarian</td> <td>1</td></tr>\n",
      "______________________\n",
      "\n",
      "<tr> <td class=\"name-address\" scope=\"row\"> <a class=\"link search_result_link\" data-clickstream=\"\" data-cs-fires-on-click-link=\"clicked_searchresults\" data-cs-with-property-text='masterlistid: \"360644\"' href=\"/restaurants/bier-international/\">Bier International</a> German, Eclectic &amp; International, Bar Food<br/> 2099 Frederick Douglass Blvd | Btwn 113th &amp; 114th St   <div class=\"seamless-order-url_from_search_results\"><a class=\"seamless-order-url\" data-clickstream=\"\" data-cs-fires-on-click-link=\"clicked_seamless-order-url_from_search_results\" data-cs-with-property-text='city: New York, masterlistid: \"360644\"' href=\"https://www.seamless.com/r/a/1124/menu/menupages/289506?utm_source=menupages.com&amp;utm_medium=referral&amp;utm_campaign=order%20online\" onclick=\"_gaq.push(['_trackEvent', 'Partner Link Clicks_Seamless', 'click_Search Results', '']);\" target=\"_blank\">Order From This Restaurant</a></div> </td> <td class=\"price\"> <span class=\"price1\">1</span> </td> <td>uptown</td> <td>morningside-heights</td> <td>german, eclectic, bar-food</td> <td>1</td></tr>\n",
      "______________________\n",
      "\n",
      "<tr> <td class=\"name-address\" scope=\"row\"> <a class=\"link search_result_link\" data-clickstream=\"\" data-cs-fires-on-click-link=\"clicked_searchresults\" data-cs-with-property-text='masterlistid: \"360860\"' href=\"/restaurants/vegenation/\">Vegenation</a> Indian, Vegetarian<br/> 115th St &amp; Broadway   </td> <td class=\"price\"> <span class=\"price1\">1</span> </td> <td>uptown</td> <td>morningside-heights</td> <td>indian, vegetarian</td> <td>0</td></tr>\n",
      "______________________\n",
      "\n",
      "<tr> <td class=\"name-address\" scope=\"row\"> <a class=\"link search_result_link\" data-clickstream=\"\" data-cs-fires-on-click-link=\"clicked_searchresults\" data-cs-with-property-text='masterlistid: \"361028\"' href=\"/restaurants/flat-top/\">Flat Top</a> American (New), Bistro<br/> 1241 Amsterdam Ave | At 121st St   <div class=\"seamless-order-url_from_search_results\"><a class=\"seamless-order-url\" data-clickstream=\"\" data-cs-fires-on-click-link=\"clicked_seamless-order-url_from_search_results\" data-cs-with-property-text='city: New York, masterlistid: \"361028\"' href=\"https://www.seamless.com/r/a/1124/menu/menupages/316719?utm_source=menupages.com&amp;utm_medium=referral&amp;utm_campaign=order%20online\" onclick=\"_gaq.push(['_trackEvent', 'Partner Link Clicks_Seamless', 'click_Search Results', '']);\" target=\"_blank\">Order From This Restaurant</a></div> </td> <td class=\"price\"> <span class=\"price4\">4</span> </td> <td>uptown</td> <td>morningside-heights</td> <td>american-new, bistro</td> <td>1</td></tr>\n",
      "______________________\n",
      "\n",
      "<tr> <td class=\"name-address\" scope=\"row\"> <a class=\"link search_result_link\" data-clickstream=\"\" data-cs-fires-on-click-link=\"clicked_searchresults\" data-cs-with-property-text='masterlistid: \"363009\"' href=\"/restaurants/kuro-kuma/\">Kuro Kuma</a> Coffee &amp; Tea<br/> 3139 Broadway | At La Salle St  </td> <td class=\"price\"> <span class=\"price1\">1</span> </td> <td>uptown</td> <td>morningside-heights</td> <td>coffee-tea</td> <td>0</td></tr>\n",
      "______________________\n",
      "\n",
      "<tr> <td class=\"name-address\" scope=\"row\"> <a class=\"link search_result_link\" data-clickstream=\"\" data-cs-fires-on-click-link=\"clicked_searchresults\" data-cs-with-property-text='masterlistid: \"364075\"' href=\"/restaurants/vinateria/\">Vinateria</a> American (New)<br/> 2221 Frederick Douglass Blvd | At 119th St  </td> <td class=\"price\"> <span class=\"price2\">2</span> </td> <td>uptown</td> <td>morningside-heights</td> <td>american-new</td> <td>0</td></tr>\n",
      "______________________\n",
      "\n",
      "<tr> <td class=\"name-address\" scope=\"row\"> <a class=\"link search_result_link\" data-clickstream=\"\" data-cs-fires-on-click-link=\"clicked_searchresults\" data-cs-with-property-text='masterlistid: \"366197\"' href=\"/restaurants/henan-cart/\">Henan Cart</a> Chinese<br/> W 115th St | At Broadway  </td> <td class=\"price\"> <span class=\"price1\">1</span> </td> <td>uptown</td> <td>morningside-heights</td> <td>chinese</td> <td>0</td></tr>\n",
      "______________________\n",
      "\n",
      "<tr> <td class=\"name-address\" scope=\"row\"> <a class=\"link search_result_link\" data-clickstream=\"\" data-cs-fires-on-click-link=\"clicked_searchresults\" data-cs-with-property-text='masterlistid: \"367497\"' href=\"/restaurants/vine/\">Vine</a> Japanese, Sushi, Thai<br/> 2953 Broadway | Btwn 115th &amp; 116th St   <div class=\"seamless-order-url_from_search_results\"><a class=\"seamless-order-url\" data-clickstream=\"\" data-cs-fires-on-click-link=\"clicked_seamless-order-url_from_search_results\" data-cs-with-property-text='city: New York, masterlistid: \"367497\"' href=\"https://www.seamless.com/r/a/1124/menu/menupages/293742?utm_source=menupages.com&amp;utm_medium=referral&amp;utm_campaign=order%20online\" onclick=\"_gaq.push(['_trackEvent', 'Partner Link Clicks_Seamless', 'click_Search Results', '']);\" target=\"_blank\">Order From This Restaurant</a></div> </td> <td class=\"price\"> <span class=\"price2\">2</span> </td> <td>uptown</td> <td>morningside-heights</td> <td>japanese, sushi, thai</td> <td>1</td></tr>\n",
      "______________________\n",
      "\n",
      "<tr> <td class=\"name-address\" scope=\"row\"> <a class=\"link search_result_link\" data-clickstream=\"\" data-cs-fires-on-click-link=\"clicked_searchresults\" data-cs-with-property-text='masterlistid: \"373592\"' href=\"/restaurants/el-paso-truck/\">El Paso Truck</a> Mexican<br/> Location Varies   </td> <td class=\"price\"> <span class=\"price1\">1</span> </td> <td>uptown</td> <td>morningside-heights</td> <td>mexican</td> <td>0</td></tr>\n",
      "______________________\n",
      "\n",
      "<tr> <td class=\"name-address\" scope=\"row\"> <a class=\"link search_result_link\" data-clickstream=\"\" data-cs-fires-on-click-link=\"clicked_searchresults\" data-cs-with-property-text='masterlistid: \"385035\"' href=\"/restaurants/mamas-fried-chicken-and-pizza/\">Mama's Fried Chicken and Pizza</a> Pizza, Chicken<br/> 2158 Frederick Douglas Blvd | Btwn W 116th &amp; W 117th St   <div class=\"seamless-order-url_from_search_results\"><a class=\"seamless-order-url\" data-clickstream=\"\" data-cs-fires-on-click-link=\"clicked_seamless-order-url_from_search_results\" data-cs-with-property-text='city: New York, masterlistid: \"385035\"' href=\"https://www.seamless.com/r/a/1124/menu/menupages/314159?utm_source=menupages.com&amp;utm_medium=referral&amp;utm_campaign=order%20online\" onclick=\"_gaq.push(['_trackEvent', 'Partner Link Clicks_Seamless', 'click_Search Results', '']);\" target=\"_blank\">Order From This Restaurant</a></div> </td> <td class=\"price\"> <span class=\"price1\">1</span> </td> <td>uptown</td> <td>morningside-heights</td> <td>pizza, chicken</td> <td>1</td></tr>\n",
      "______________________\n",
      "\n",
      "<tr> <td class=\"name-address\" scope=\"row\"> <a class=\"link search_result_link\" data-clickstream=\"\" data-cs-fires-on-click-link=\"clicked_searchresults\" data-cs-with-property-text='masterlistid: \"385052\"' href=\"/restaurants/chapati-house/\">Chapati House</a> Indian<br/> 3153 Broadway | Btwn Tiemann Pl &amp; La Salle St   <div class=\"seamless-order-url_from_search_results\"><a class=\"seamless-order-url\" data-clickstream=\"\" data-cs-fires-on-click-link=\"clicked_seamless-order-url_from_search_results\" data-cs-with-property-text='city: New York, masterlistid: \"385052\"' href=\"https://www.seamless.com/r/a/1124/menu/menupages/288817?utm_source=menupages.com&amp;utm_medium=referral&amp;utm_campaign=order%20online\" onclick=\"_gaq.push(['_trackEvent', 'Partner Link Clicks_Seamless', 'click_Search Results', '']);\" target=\"_blank\">Order From This Restaurant</a></div> </td> <td class=\"price\"> <span class=\"price2\">2</span> </td> <td>uptown</td> <td>morningside-heights</td> <td>indian</td> <td>1</td></tr>\n",
      "______________________\n",
      "\n",
      "<tr> <td class=\"name-address\" scope=\"row\"> <a class=\"link search_result_link\" data-clickstream=\"\" data-cs-fires-on-click-link=\"clicked_searchresults\" data-cs-with-property-text='masterlistid: \"386888\"' href=\"/restaurants/dig-inn-seasonal-market-7/\">Dig Inn Seasonal Market</a> American, Local/Organic<br/> 2884 Broadway | Btwn 112th &amp; 113th St  </td> <td class=\"price\"> <span class=\"price1\">1</span> </td> <td>uptown</td> <td>morningside-heights</td> <td>american, localorganic</td> <td>0</td></tr>\n",
      "______________________\n",
      "\n",
      "<tr> <td class=\"name-address\" scope=\"row\"> <a class=\"link search_result_link\" data-clickstream=\"\" data-cs-fires-on-click-link=\"clicked_searchresults\" data-cs-with-property-text='masterlistid: \"389189\"' href=\"/restaurants/uncle-luoyang/\">Uncle Luoyang</a> Chinese<br/> 3010 Broadway | At W 119th St  </td> <td class=\"price\"> <span class=\"price1\">1</span> </td> <td>uptown</td> <td>morningside-heights</td> <td>chinese</td> <td>0</td></tr>\n",
      "______________________\n",
      "\n",
      "<tr> <td class=\"name-address\" scope=\"row\"> <a class=\"link search_result_link\" data-clickstream=\"\" data-cs-fires-on-click-link=\"clicked_searchresults\" data-cs-with-property-text='masterlistid: \"389453\"' href=\"/restaurants/pita-grill-10/\">Pita Grill</a> Middle Eastern<br/> 1028 Amsterdam Ave | Btwn W 110th &amp; W 111th St   <div class=\"seamless-order-url_from_search_results\"><a class=\"seamless-order-url\" data-clickstream=\"\" data-cs-fires-on-click-link=\"clicked_seamless-order-url_from_search_results\" data-cs-with-property-text='city: New York, masterlistid: \"389453\"' href=\"https://www.seamless.com/r/a/1124/menu/menupages/291068?utm_source=menupages.com&amp;utm_medium=referral&amp;utm_campaign=order%20online\" onclick=\"_gaq.push(['_trackEvent', 'Partner Link Clicks_Seamless', 'click_Search Results', '']);\" target=\"_blank\">Order From This Restaurant</a></div> </td> <td class=\"price\"> <span class=\"price2\">2</span> </td> <td>uptown</td> <td>morningside-heights</td> <td>middle-eastern</td> <td>1</td></tr>\n",
      "______________________\n",
      "\n",
      "<tr> <td class=\"name-address\" scope=\"row\"> <a class=\"link search_result_link\" data-clickstream=\"\" data-cs-fires-on-click-link=\"clicked_searchresults\" data-cs-with-property-text='masterlistid: \"395723\"' href=\"/restaurants/kissaten-jin/\">Kissaten Jin</a> Japanese<br/> 3187 Broadway | At Tiemann Pl  </td> <td class=\"price\"> <span class=\"price1\">1</span> </td> <td>uptown</td> <td>morningside-heights</td> <td>japanese</td> <td>0</td></tr>\n",
      "______________________\n",
      "\n",
      "<tr> <td class=\"name-address\" scope=\"row\"> <a class=\"link search_result_link\" data-clickstream=\"\" data-cs-fires-on-click-link=\"clicked_searchresults\" data-cs-with-property-text='masterlistid: \"396021\"' href=\"/restaurants/serengeti-teas-spices/\">Serengeti Teas &amp; Spices</a> Coffee &amp; Tea, Teahouses<br/> 2292 Frederick Douglass Blvd | Btwn 123rd &amp; 124th St  </td> <td class=\"price\"> <span class=\"price2\">2</span> </td> <td>uptown</td> <td>morningside-heights</td> <td>coffee-tea, teahouses</td> <td>0</td></tr>\n",
      "______________________\n",
      "\n",
      "<tr> <td class=\"name-address\" scope=\"row\"> <a class=\"link search_result_link\" data-clickstream=\"\" data-cs-fires-on-click-link=\"clicked_searchresults\" data-cs-with-property-text='masterlistid: \"424341\"' href=\"/restaurants/lighthouse-fish-market-restaurant/\">Lighthouse Fish Market &amp; Restaurant</a> Seafood, Wings, Fish &amp; Chips<br/> 2451 Frederick Douglas Blvd | Btwn 131st &amp; 133rd St   <div class=\"seamless-order-url_from_search_results\"><a class=\"seamless-order-url\" data-clickstream=\"\" data-cs-fires-on-click-link=\"clicked_seamless-order-url_from_search_results\" data-cs-with-property-text='city: New York, masterlistid: \"424341\"' href=\"https://www.seamless.com/r/a/1124/menu/menupages/296959?utm_source=menupages.com&amp;utm_medium=referral&amp;utm_campaign=order%20online\" onclick=\"_gaq.push(['_trackEvent', 'Partner Link Clicks_Seamless', 'click_Search Results', '']);\" target=\"_blank\">Order From This Restaurant</a></div> </td> <td class=\"price\"> <span class=\"price3\">3</span> </td> <td>uptown</td> <td>morningside-heights</td> <td>seafood, wings, fish--chips</td> <td>1</td></tr>\n",
      "______________________\n",
      "\n",
      "<tr> <td class=\"name-address\" scope=\"row\"> <a class=\"link search_result_link\" data-clickstream=\"\" data-cs-fires-on-click-link=\"clicked_searchresults\" data-cs-with-property-text='masterlistid: \"433793\"' href=\"/restaurants/lolos-seafood-shack/\">Lolo's Seafood Shack</a> Seafood<br/> 303 W 116th St | Btwn Manhattan Ave &amp; Frederick Douglass Blvd   <div class=\"seamless-order-url_from_search_results\"><a class=\"seamless-order-url\" data-clickstream=\"\" data-cs-fires-on-click-link=\"clicked_seamless-order-url_from_search_results\" data-cs-with-property-text='city: New York, masterlistid: \"433793\"' href=\"https://www.seamless.com/r/a/1124/menu/menupages/299281?utm_source=menupages.com&amp;utm_medium=referral&amp;utm_campaign=order%20online\" onclick=\"_gaq.push(['_trackEvent', 'Partner Link Clicks_Seamless', 'click_Search Results', '']);\" target=\"_blank\">Order From This Restaurant</a></div> </td> <td class=\"price\"> <span class=\"price2\">2</span> </td> <td>uptown</td> <td>morningside-heights</td> <td>seafood</td> <td>1</td></tr>\n",
      "______________________\n",
      "\n",
      "<tr> <td class=\"name-address\" scope=\"row\"> <a class=\"link search_result_link\" data-clickstream=\"\" data-cs-fires-on-click-link=\"clicked_searchresults\" data-cs-with-property-text='masterlistid: \"434620\"' href=\"/restaurants/harmony/\">Harmony</a> Sandwiches, Salads, Teahouses<br/> 390 Manhattan Ave | Btwn 116th &amp; 117th St   <div class=\"seamless-order-url_from_search_results\"><a class=\"seamless-order-url\" data-clickstream=\"\" data-cs-fires-on-click-link=\"clicked_seamless-order-url_from_search_results\" data-cs-with-property-text='city: New York, masterlistid: \"434620\"' href=\"https://www.seamless.com/r/a/1124/menu/menupages/299338?utm_source=menupages.com&amp;utm_medium=referral&amp;utm_campaign=order%20online\" onclick=\"_gaq.push(['_trackEvent', 'Partner Link Clicks_Seamless', 'click_Search Results', '']);\" target=\"_blank\">Order From This Restaurant</a></div> </td> <td class=\"price\"> <span class=\"price1\">1</span> </td> <td>uptown</td> <td>morningside-heights</td> <td>sandwiches, salads, teahouses</td> <td>1</td></tr>\n",
      "______________________\n",
      "\n",
      "<tr> <td class=\"name-address\" scope=\"row\"> <a class=\"link search_result_link\" data-clickstream=\"\" data-cs-fires-on-click-link=\"clicked_searchresults\" data-cs-with-property-text='masterlistid: \"475421\"' href=\"/restaurants/bernheim-schwartz/\">Bernheim &amp; Schwartz</a> American, Gastropub<br/> 2911 Broadway | Btwn W 113th &amp; 114th St   <div class=\"seamless-order-url_from_search_results\"><a class=\"seamless-order-url\" data-clickstream=\"\" data-cs-fires-on-click-link=\"clicked_seamless-order-url_from_search_results\" data-cs-with-property-text='city: New York, masterlistid: \"475421\"' href=\"https://www.seamless.com/r/a/1124/menu/menupages/303868?utm_source=menupages.com&amp;utm_medium=referral&amp;utm_campaign=order%20online\" onclick=\"_gaq.push(['_trackEvent', 'Partner Link Clicks_Seamless', 'click_Search Results', '']);\" target=\"_blank\">Order From This Restaurant</a></div> </td> <td class=\"price\"> <span class=\"price2\">2</span> </td> <td>uptown</td> <td>morningside-heights</td> <td>american, gastropub</td> <td>1</td></tr>\n",
      "______________________\n",
      "\n",
      "<tr> <td class=\"name-address\" scope=\"row\"> <a class=\"link search_result_link\" data-clickstream=\"\" data-cs-fires-on-click-link=\"clicked_searchresults\" data-cs-with-property-text='masterlistid: \"477304\"' href=\"/restaurants/bth-restaurant-lounge/\">BTH (By The Hudson)</a> American (New)<br/> 712 W 125th St | At Henry Hudson Pkwy  </td> <td class=\"price\"> <span class=\"price3\">3</span> </td> <td>uptown</td> <td>morningside-heights</td> <td>american-new</td> <td>0</td></tr>\n",
      "______________________\n",
      "\n",
      "<tr> <td class=\"name-address\" scope=\"row\"> <a class=\"link search_result_link\" data-clickstream=\"\" data-cs-fires-on-click-link=\"clicked_searchresults\" data-cs-with-property-text='masterlistid: \"485444\"' href=\"/restaurants/empanadas-monumental-4/\">Empanadas Monumental</a>  1344 Amsterdam Ave    <div class=\"seamless-order-url_from_search_results\"><a class=\"seamless-order-url\" data-clickstream=\"\" data-cs-fires-on-click-link=\"clicked_seamless-order-url_from_search_results\" data-cs-with-property-text='city: New York, masterlistid: \"485444\"' href=\"https://www.seamless.com/r/a/1124/menu/menupages/309538?utm_source=menupages.com&amp;utm_medium=referral&amp;utm_campaign=order%20online\" onclick=\"_gaq.push(['_trackEvent', 'Partner Link Clicks_Seamless', 'click_Search Results', '']);\" target=\"_blank\">Order From This Restaurant</a></div> </td> <td class=\"price\"> N/A</td> <td>uptown</td> <td>morningside-heights</td> <td></td> <td>1</td></tr>\n",
      "______________________\n",
      "\n",
      "<tr> <td class=\"name-address\" scope=\"row\"> <a class=\"link search_result_link\" data-clickstream=\"\" data-cs-fires-on-click-link=\"clicked_searchresults\" data-cs-with-property-text='masterlistid: \"486129\"' href=\"/restaurants/friedmans-3/\">Friedman's</a>  1187 Amsterdam Ave    <div class=\"seamless-order-url_from_search_results\"><a class=\"seamless-order-url\" data-clickstream=\"\" data-cs-fires-on-click-link=\"clicked_seamless-order-url_from_search_results\" data-cs-with-property-text='city: New York, masterlistid: \"486129\"' href=\"https://www.seamless.com/r/a/1124/menu/menupages/309656?utm_source=menupages.com&amp;utm_medium=referral&amp;utm_campaign=order%20online\" onclick=\"_gaq.push(['_trackEvent', 'Partner Link Clicks_Seamless', 'click_Search Results', '']);\" target=\"_blank\">Order From This Restaurant</a></div> </td> <td class=\"price\"> N/A</td> <td>uptown</td> <td>morningside-heights</td> <td></td> <td>1</td></tr>\n",
      "______________________\n",
      "\n",
      "<tr> <td class=\"name-address\" scope=\"row\"> <a class=\"link search_result_link\" data-clickstream=\"\" data-cs-fires-on-click-link=\"clicked_searchresults\" data-cs-with-property-text='masterlistid: \"490267\"' href=\"/restaurants/176-presbyterian-deli/\">176 Presbyterian Deli</a>  1317 St Nicholas Ave    <div class=\"seamless-order-url_from_search_results\"><a class=\"seamless-order-url\" data-clickstream=\"\" data-cs-fires-on-click-link=\"clicked_seamless-order-url_from_search_results\" data-cs-with-property-text='city: New York, masterlistid: \"490267\"' href=\"https://www.seamless.com/r/a/1124/menu/menupages/314765?utm_source=menupages.com&amp;utm_medium=referral&amp;utm_campaign=order%20online\" onclick=\"_gaq.push(['_trackEvent', 'Partner Link Clicks_Seamless', 'click_Search Results', '']);\" target=\"_blank\">Order From This Restaurant</a></div> </td> <td class=\"price\"> N/A</td> <td>uptown</td> <td>morningside-heights</td> <td></td> <td>1</td></tr>\n",
      "______________________\n",
      "\n",
      "<tr> <td class=\"name-address\" scope=\"row\"> <a class=\"link search_result_link\" data-clickstream=\"\" data-cs-fires-on-click-link=\"clicked_searchresults\" data-cs-with-property-text='masterlistid: \"490608\"' href=\"/restaurants/nacho-mamas-2/\">Nacho Mama's</a>  1268 Amsterdam Ave    <div class=\"seamless-order-url_from_search_results\"><a class=\"seamless-order-url\" data-clickstream=\"\" data-cs-fires-on-click-link=\"clicked_seamless-order-url_from_search_results\" data-cs-with-property-text='city: New York, masterlistid: \"490608\"' href=\"https://www.seamless.com/r/a/1124/menu/menupages/315749?utm_source=menupages.com&amp;utm_medium=referral&amp;utm_campaign=order%20online\" onclick=\"_gaq.push(['_trackEvent', 'Partner Link Clicks_Seamless', 'click_Search Results', '']);\" target=\"_blank\">Order From This Restaurant</a></div> </td> <td class=\"price\"> N/A</td> <td>uptown</td> <td>morningside-heights</td> <td></td> <td>1</td></tr>\n",
      "______________________\n",
      "\n",
      "<tr> <td class=\"name-address\" scope=\"row\"> <a class=\"link search_result_link\" data-clickstream=\"\" data-cs-fires-on-click-link=\"clicked_searchresults\" data-cs-with-property-text='masterlistid: \"490701\"' href=\"/restaurants/streetbird-rotisserie/\">Streetbird Rotisserie</a>  2149 Frederick Douglass Blvd    <div class=\"seamless-order-url_from_search_results\"><a class=\"seamless-order-url\" data-clickstream=\"\" data-cs-fires-on-click-link=\"clicked_seamless-order-url_from_search_results\" data-cs-with-property-text='city: New York, masterlistid: \"490701\"' href=\"https://www.seamless.com/r/a/1124/menu/menupages/315939?utm_source=menupages.com&amp;utm_medium=referral&amp;utm_campaign=order%20online\" onclick=\"_gaq.push(['_trackEvent', 'Partner Link Clicks_Seamless', 'click_Search Results', '']);\" target=\"_blank\">Order From This Restaurant</a></div> </td> <td class=\"price\"> N/A</td> <td>uptown</td> <td>morningside-heights</td> <td></td> <td>1</td></tr>\n",
      "______________________\n",
      "\n",
      "<tr> <td class=\"name-address\" scope=\"row\"> <a class=\"link search_result_link\" data-clickstream=\"\" data-cs-fires-on-click-link=\"clicked_searchresults\" data-cs-with-property-text='masterlistid: \"490957\"' href=\"/restaurants/colum-chinese-restaurant/\">Colum Chinese Restaurant</a>  1034 Amsterdam Ave    <div class=\"seamless-order-url_from_search_results\"><a class=\"seamless-order-url\" data-clickstream=\"\" data-cs-fires-on-click-link=\"clicked_seamless-order-url_from_search_results\" data-cs-with-property-text='city: New York, masterlistid: \"490957\"' href=\"https://www.seamless.com/r/a/1124/menu/menupages/316232?utm_source=menupages.com&amp;utm_medium=referral&amp;utm_campaign=order%20online\" onclick=\"_gaq.push(['_trackEvent', 'Partner Link Clicks_Seamless', 'click_Search Results', '']);\" target=\"_blank\">Order From This Restaurant</a></div> </td> <td class=\"price\"> N/A</td> <td>uptown</td> <td>morningside-heights</td> <td></td> <td>1</td></tr>\n",
      "______________________\n",
      "\n",
      "<tr> <td class=\"name-address\" scope=\"row\"> <a class=\"link search_result_link\" data-clickstream=\"\" data-cs-fires-on-click-link=\"clicked_searchresults\" data-cs-with-property-text='masterlistid: \"496904\"' href=\"/restaurants/flacoz-tacoz-2/\">Flacoz Tacoz</a>  1028 Amsterdam Ave    <div class=\"seamless-order-url_from_search_results\"><a class=\"seamless-order-url\" data-clickstream=\"\" data-cs-fires-on-click-link=\"clicked_seamless-order-url_from_search_results\" data-cs-with-property-text='city: New York, masterlistid: \"496904\"' href=\"https://www.seamless.com/r/a/1124/menu/menupages/320600?utm_source=menupages.com&amp;utm_medium=referral&amp;utm_campaign=order%20online\" onclick=\"_gaq.push(['_trackEvent', 'Partner Link Clicks_Seamless', 'click_Search Results', '']);\" target=\"_blank\">Order From This Restaurant</a></div> </td> <td class=\"price\"> N/A</td> <td>uptown</td> <td>morningside-heights</td> <td></td> <td>1</td></tr>\n",
      "______________________\n",
      "\n",
      "<tr> <td class=\"name-address\" scope=\"row\"> <a class=\"link search_result_link\" data-clickstream=\"\" data-cs-fires-on-click-link=\"clicked_searchresults\" data-cs-with-property-text='masterlistid: \"497909\"' href=\"/restaurants/sweetgreen-49/\">sweetgreen</a>  2937 Broadway   </td> <td class=\"price\"> N/A</td> <td>uptown</td> <td>morningside-heights</td> <td></td> <td>0</td></tr>\n",
      "______________________\n",
      "\n",
      "<tr> <td class=\"name-address\" scope=\"row\"> <a class=\"link search_result_link\" data-clickstream=\"\" data-cs-fires-on-click-link=\"clicked_searchresults\" data-cs-with-property-text='masterlistid: \"498418\"' href=\"/restaurants/la-salle-dumpling-room/\">La Salle Dumpling Room</a>  3141 Broadway    <div class=\"seamless-order-url_from_search_results\"><a class=\"seamless-order-url\" data-clickstream=\"\" data-cs-fires-on-click-link=\"clicked_seamless-order-url_from_search_results\" data-cs-with-property-text='city: New York, masterlistid: \"498418\"' href=\"https://www.seamless.com/r/a/1124/menu/menupages/321304?utm_source=menupages.com&amp;utm_medium=referral&amp;utm_campaign=order%20online\" onclick=\"_gaq.push(['_trackEvent', 'Partner Link Clicks_Seamless', 'click_Search Results', '']);\" target=\"_blank\">Order From This Restaurant</a></div> </td> <td class=\"price\"> N/A</td> <td>uptown</td> <td>morningside-heights</td> <td></td> <td>1</td></tr>\n",
      "______________________\n",
      "\n"
     ]
    }
   ],
   "source": [
    "search_table = soup.find(\"table\", {\"class\": \"search-results\"})\n",
    "table_body = search_table.find(\"tbody\")\n",
    "\n",
    "for tr_tag in table_body.find_all('tr'):\n",
    "    print(tr_tag) # Print to make sure your code is working as you hope! \n",
    "    print(\"______________________\\n\") # I like using separators to make prints easier to process! "
   ]
  },
  {
   "cell_type": "code",
   "execution_count": 72,
   "metadata": {
    "collapsed": false,
    "scrolled": true
   },
   "outputs": [
    {
     "name": "stdout",
     "output_type": "stream",
     "text": [
      "Milano Market\n",
      "Massawa\n",
      "China Place\n",
      "Subsconscious\n",
      "Famous Famiglia\n",
      "Kitchenette\n",
      "V & T Pizza\n",
      "New Aroma\n",
      "Peking Garden\n",
      "Tom's Restaurant\n",
      "Pisticci\n",
      "Deluxe\n",
      "Toast\n",
      "Tom's Delicious Pizza\n",
      "West Place\n",
      "Che' Bella Pizza\n",
      "Ajanta\n",
      "Panino Sportivo Roma\n",
      "Max Soha\n",
      "Strokos Pizza\n",
      "Camille's\n",
      "Amsterdam Restaurant\n",
      "Nussbaum & Wu\n",
      "Amir's Grill\n",
      "M2M - Morning To Midnight\n",
      "The Mill\n",
      "Le Monde\n",
      "Melba's\n",
      "Chuck E Cheese's\n",
      "Haagen-Dazs\n",
      "Oren's\n",
      "Dinosaur Bar-B-Que\n",
      "Symposium Greek Restaurant\n",
      "Koronet Pizza\n",
      "The Heights Bar & Grill\n",
      "Cafe Nana\n",
      "Hamilton Deli\n",
      "Community Food & Juice\n",
      "Haakon's Hall\n",
      "El Porton\n",
      "Brad's\n",
      "Mel's Burger Bar\n",
      "Bettolona\n",
      "Five Guys\n",
      "Nikko\n",
      "Falafel on Broadway\n",
      "Sushi Sushi\n",
      "Insomnia Cookies\n",
      "Cafe Amrita\n",
      "Pinkberry\n",
      "Artopolis Espresso Cafe\n",
      "Max Caffe\n",
      "Chipotle\n",
      "Chokolat Patisserie\n",
      "Chokolat Patisserie\n",
      "Joe's G-H Deli\n",
      "Joe the Art of Coffee\n",
      "Levain Bakery\n",
      "Silvana\n",
      "Bier International\n",
      "Vegenation\n",
      "Flat Top\n",
      "Kuro Kuma\n",
      "Vinateria\n",
      "Henan Cart\n",
      "Vine\n",
      "El Paso Truck\n",
      "Mama's Fried Chicken and Pizza\n",
      "Chapati House\n",
      "Dig Inn Seasonal Market\n",
      "Uncle Luoyang\n",
      "Pita Grill\n",
      "Kissaten Jin\n",
      "Serengeti Teas & Spices\n",
      "Lighthouse Fish Market & Restaurant\n",
      "Lolo's Seafood Shack\n",
      "Harmony\n",
      "Bernheim & Schwartz\n",
      "BTH (By The Hudson)\n",
      "Empanadas Monumental\n",
      "Friedman's\n",
      "176 Presbyterian Deli\n",
      "Nacho Mama's\n",
      "Streetbird Rotisserie\n",
      "Colum Chinese Restaurant\n",
      "Flacoz Tacoz\n",
      "sweetgreen\n",
      "La Salle Dumpling Room\n"
     ]
    }
   ],
   "source": [
    "# Get the restaurant names\n",
    "\n",
    "search_table = soup.find(\"table\", {\"class\": \"search-results\"})\n",
    "table_body = search_table.find(\"tbody\")\n",
    "\n",
    "for tr_tag in table_body.find_all('tr'):\n",
    "    name_address_tag = tr_tag.find(\"td\", {\"class\": \"name-address\"})\n",
    "    a_tag = name_address_tag.find(\"a\")\n",
    "    print(a_tag.string)"
   ]
  },
  {
   "cell_type": "code",
   "execution_count": 73,
   "metadata": {
    "collapsed": false,
    "scrolled": true
   },
   "outputs": [
    {
     "name": "stdout",
     "output_type": "stream",
     "text": [
      "Milano Market 2\n",
      "Massawa 0\n",
      "China Place 0\n",
      "Subsconscious 0\n",
      "Famous Famiglia 0\n",
      "Kitchenette 0\n",
      "V & T Pizza 0\n",
      "New Aroma 1\n",
      "Peking Garden 1\n",
      "Tom's Restaurant 1\n",
      "Pisticci 1\n",
      "Deluxe 1\n",
      "Toast 2\n",
      "Tom's Delicious Pizza 2\n",
      "West Place 1\n",
      "Che' Bella Pizza 0\n",
      "Ajanta 0\n",
      "Panino Sportivo Roma 2\n",
      "Max Soha 2\n",
      "Strokos Pizza 3\n",
      "Camille's 1\n",
      "Amsterdam Restaurant 1\n",
      "Nussbaum & Wu 0\n",
      "Amir's Grill 1\n",
      "M2M - Morning To Midnight 1\n",
      "The Mill 2\n",
      "Le Monde 1\n",
      "Melba's 1\n",
      "Chuck E Cheese's 0\n",
      "Haagen-Dazs 1\n",
      "Oren's 0\n",
      "Dinosaur Bar-B-Que 3\n",
      "Symposium Greek Restaurant 0\n",
      "Koronet Pizza 1\n",
      "The Heights Bar & Grill 1\n",
      "Cafe Nana 0\n",
      "Hamilton Deli 0\n",
      "Community Food & Juice 0\n",
      "Haakon's Hall 0\n",
      "El Porton 0\n",
      "Brad's 1\n",
      "Mel's Burger Bar 2\n",
      "Bettolona 1\n",
      "Five Guys 1\n",
      "Nikko 2\n",
      "Falafel on Broadway 1\n",
      "Sushi Sushi 1\n",
      "Insomnia Cookies 1\n",
      "Cafe Amrita 1\n",
      "Pinkberry 2\n",
      "Artopolis Espresso Cafe 1\n",
      "Max Caffe 2\n",
      "Chipotle 1\n",
      "Chokolat Patisserie 5\n",
      "Chokolat Patisserie 1\n",
      "Joe's G-H Deli 2\n",
      "Joe the Art of Coffee 1\n",
      "Levain Bakery 2\n",
      "Silvana 1\n",
      "Bier International 1\n",
      "Vegenation 1\n",
      "Flat Top 4\n",
      "Kuro Kuma 1\n",
      "Vinateria 2\n",
      "Henan Cart 1\n",
      "Vine 2\n",
      "El Paso Truck 1\n",
      "Mama's Fried Chicken and Pizza 1\n",
      "Chapati House 2\n",
      "Dig Inn Seasonal Market 1\n",
      "Uncle Luoyang 1\n",
      "Pita Grill 2\n",
      "Kissaten Jin 1\n",
      "Serengeti Teas & Spices 2\n",
      "Lighthouse Fish Market & Restaurant 3\n",
      "Lolo's Seafood Shack 2\n",
      "Harmony 1\n",
      "Bernheim & Schwartz 2\n",
      "BTH (By The Hudson) 3\n",
      "Empanadas Monumental 0\n",
      "Friedman's 0\n",
      "176 Presbyterian Deli 0\n",
      "Nacho Mama's 0\n",
      "Streetbird Rotisserie 0\n",
      "Colum Chinese Restaurant 0\n",
      "Flacoz Tacoz 0\n",
      "sweetgreen 0\n",
      "La Salle Dumpling Room 0\n"
     ]
    }
   ],
   "source": [
    "# Getting names AND prices\n",
    "\n",
    "search_table = soup.find(\"table\", {\"class\": \"search-results\"})\n",
    "table_body = search_table.find(\"tbody\")\n",
    "\n",
    "for tr_tag in table_body.find_all('tr'):\n",
    "    \n",
    "    # Get the restaurant name from the <a> inside a <td>\n",
    "    name_address_tag = tr_tag.find(\"td\", {\"class\": \"name-address\"})\n",
    "    a_tag = name_address_tag.find(\"a\")\n",
    "    restaurant_name = a_tag.string\n",
    "    \n",
    "    # Get the price from <span> if present\n",
    "    price_tag = tr_tag.find(\"td\", {\"class\": \"price\"})\n",
    "    price_span_tag = price_tag.find(\"span\")\n",
    "    if price_span_tag:\n",
    "        price = int(price_span_tag.string)\n",
    "    else:\n",
    "        price = 0 #some of our restaurants don't have a span tag! \n",
    "    \n",
    "    print(restaurant_name, price)"
   ]
  },
  {
   "cell_type": "markdown",
   "metadata": {},
   "source": [
    "## What if we wrote functions to help make our code more readable? \n",
    "\n",
    "We're going to write this chunk of code in steps -- for complex tasks, it's a good idea to build incrementally. \n"
   ]
  },
  {
   "cell_type": "markdown",
   "metadata": {},
   "source": [
    "**Step 1: Writing a framework for our functions and some test code**"
   ]
  },
  {
   "cell_type": "code",
   "execution_count": 74,
   "metadata": {
    "collapsed": false,
    "scrolled": true
   },
   "outputs": [
    {
     "name": "stdout",
     "output_type": "stream",
     "text": [
      "TEST RESTAURANT 999999\n",
      "TEST RESTAURANT 999999\n",
      "TEST RESTAURANT 999999\n",
      "TEST RESTAURANT 999999\n",
      "TEST RESTAURANT 999999\n",
      "TEST RESTAURANT 999999\n",
      "TEST RESTAURANT 999999\n",
      "TEST RESTAURANT 999999\n",
      "TEST RESTAURANT 999999\n",
      "TEST RESTAURANT 999999\n",
      "TEST RESTAURANT 999999\n",
      "TEST RESTAURANT 999999\n",
      "TEST RESTAURANT 999999\n",
      "TEST RESTAURANT 999999\n",
      "TEST RESTAURANT 999999\n",
      "TEST RESTAURANT 999999\n",
      "TEST RESTAURANT 999999\n",
      "TEST RESTAURANT 999999\n",
      "TEST RESTAURANT 999999\n",
      "TEST RESTAURANT 999999\n",
      "TEST RESTAURANT 999999\n",
      "TEST RESTAURANT 999999\n",
      "TEST RESTAURANT 999999\n",
      "TEST RESTAURANT 999999\n",
      "TEST RESTAURANT 999999\n",
      "TEST RESTAURANT 999999\n",
      "TEST RESTAURANT 999999\n",
      "TEST RESTAURANT 999999\n",
      "TEST RESTAURANT 999999\n",
      "TEST RESTAURANT 999999\n",
      "TEST RESTAURANT 999999\n",
      "TEST RESTAURANT 999999\n",
      "TEST RESTAURANT 999999\n",
      "TEST RESTAURANT 999999\n",
      "TEST RESTAURANT 999999\n",
      "TEST RESTAURANT 999999\n",
      "TEST RESTAURANT 999999\n",
      "TEST RESTAURANT 999999\n",
      "TEST RESTAURANT 999999\n",
      "TEST RESTAURANT 999999\n",
      "TEST RESTAURANT 999999\n",
      "TEST RESTAURANT 999999\n",
      "TEST RESTAURANT 999999\n",
      "TEST RESTAURANT 999999\n",
      "TEST RESTAURANT 999999\n",
      "TEST RESTAURANT 999999\n",
      "TEST RESTAURANT 999999\n",
      "TEST RESTAURANT 999999\n",
      "TEST RESTAURANT 999999\n",
      "TEST RESTAURANT 999999\n",
      "TEST RESTAURANT 999999\n",
      "TEST RESTAURANT 999999\n",
      "TEST RESTAURANT 999999\n",
      "TEST RESTAURANT 999999\n",
      "TEST RESTAURANT 999999\n",
      "TEST RESTAURANT 999999\n",
      "TEST RESTAURANT 999999\n",
      "TEST RESTAURANT 999999\n",
      "TEST RESTAURANT 999999\n",
      "TEST RESTAURANT 999999\n",
      "TEST RESTAURANT 999999\n",
      "TEST RESTAURANT 999999\n",
      "TEST RESTAURANT 999999\n",
      "TEST RESTAURANT 999999\n",
      "TEST RESTAURANT 999999\n",
      "TEST RESTAURANT 999999\n",
      "TEST RESTAURANT 999999\n",
      "TEST RESTAURANT 999999\n",
      "TEST RESTAURANT 999999\n",
      "TEST RESTAURANT 999999\n",
      "TEST RESTAURANT 999999\n",
      "TEST RESTAURANT 999999\n",
      "TEST RESTAURANT 999999\n",
      "TEST RESTAURANT 999999\n",
      "TEST RESTAURANT 999999\n",
      "TEST RESTAURANT 999999\n",
      "TEST RESTAURANT 999999\n",
      "TEST RESTAURANT 999999\n",
      "TEST RESTAURANT 999999\n",
      "TEST RESTAURANT 999999\n",
      "TEST RESTAURANT 999999\n",
      "TEST RESTAURANT 999999\n",
      "TEST RESTAURANT 999999\n",
      "TEST RESTAURANT 999999\n",
      "TEST RESTAURANT 999999\n",
      "TEST RESTAURANT 999999\n",
      "TEST RESTAURANT 999999\n",
      "TEST RESTAURANT 999999\n"
     ]
    }
   ],
   "source": [
    "# Write the framework of a function first and then\n",
    "\n",
    "def get_name(tr_tag):\n",
    "    return \"TEST RESTAURANT\"\n",
    "\n",
    "def get_price(tag):\n",
    "    return \"999999\"\n",
    "\n",
    "\n",
    "# This code will allow us to TEST our functions! Our function frameworks return values of the right type. \n",
    "\n",
    "search_table = soup.find(\"table\", {\"class\": \"search-results\"})\n",
    "table_body = search_table.find(\"tbody\")\n",
    "\n",
    "for tr_tag in table_body.find_all('tr'):\n",
    "    \n",
    "    restaurant_name = get_name(tr_tag)\n",
    "    price = get_price(tr_tag)\n",
    "    \n",
    "    print(restaurant_name, price) \n",
    "    \n",
    "# Yay, it's bring what we told it to. "
   ]
  },
  {
   "cell_type": "markdown",
   "metadata": {},
   "source": [
    "**Step 2: Writing our get_names() function**\n",
    "\n",
    "Copying the code from our for loop\n"
   ]
  },
  {
   "cell_type": "code",
   "execution_count": 75,
   "metadata": {
    "collapsed": false,
    "scrolled": true
   },
   "outputs": [
    {
     "name": "stdout",
     "output_type": "stream",
     "text": [
      "Milano Market 999999\n",
      "Massawa 999999\n",
      "China Place 999999\n",
      "Subsconscious 999999\n",
      "Famous Famiglia 999999\n",
      "Kitchenette 999999\n",
      "V & T Pizza 999999\n",
      "New Aroma 999999\n",
      "Peking Garden 999999\n",
      "Tom's Restaurant 999999\n",
      "Pisticci 999999\n",
      "Deluxe 999999\n",
      "Toast 999999\n",
      "Tom's Delicious Pizza 999999\n",
      "West Place 999999\n",
      "Che' Bella Pizza 999999\n",
      "Ajanta 999999\n",
      "Panino Sportivo Roma 999999\n",
      "Max Soha 999999\n",
      "Strokos Pizza 999999\n",
      "Camille's 999999\n",
      "Amsterdam Restaurant 999999\n",
      "Nussbaum & Wu 999999\n",
      "Amir's Grill 999999\n",
      "M2M - Morning To Midnight 999999\n",
      "The Mill 999999\n",
      "Le Monde 999999\n",
      "Melba's 999999\n",
      "Chuck E Cheese's 999999\n",
      "Haagen-Dazs 999999\n",
      "Oren's 999999\n",
      "Dinosaur Bar-B-Que 999999\n",
      "Symposium Greek Restaurant 999999\n",
      "Koronet Pizza 999999\n",
      "The Heights Bar & Grill 999999\n",
      "Cafe Nana 999999\n",
      "Hamilton Deli 999999\n",
      "Community Food & Juice 999999\n",
      "Haakon's Hall 999999\n",
      "El Porton 999999\n",
      "Brad's 999999\n",
      "Mel's Burger Bar 999999\n",
      "Bettolona 999999\n",
      "Five Guys 999999\n",
      "Nikko 999999\n",
      "Falafel on Broadway 999999\n",
      "Sushi Sushi 999999\n",
      "Insomnia Cookies 999999\n",
      "Cafe Amrita 999999\n",
      "Pinkberry 999999\n",
      "Artopolis Espresso Cafe 999999\n",
      "Max Caffe 999999\n",
      "Chipotle 999999\n",
      "Chokolat Patisserie 999999\n",
      "Chokolat Patisserie 999999\n",
      "Joe's G-H Deli 999999\n",
      "Joe the Art of Coffee 999999\n",
      "Levain Bakery 999999\n",
      "Silvana 999999\n",
      "Bier International 999999\n",
      "Vegenation 999999\n",
      "Flat Top 999999\n",
      "Kuro Kuma 999999\n",
      "Vinateria 999999\n",
      "Henan Cart 999999\n",
      "Vine 999999\n",
      "El Paso Truck 999999\n",
      "Mama's Fried Chicken and Pizza 999999\n",
      "Chapati House 999999\n",
      "Dig Inn Seasonal Market 999999\n",
      "Uncle Luoyang 999999\n",
      "Pita Grill 999999\n",
      "Kissaten Jin 999999\n",
      "Serengeti Teas & Spices 999999\n",
      "Lighthouse Fish Market & Restaurant 999999\n",
      "Lolo's Seafood Shack 999999\n",
      "Harmony 999999\n",
      "Bernheim & Schwartz 999999\n",
      "BTH (By The Hudson) 999999\n",
      "Empanadas Monumental 999999\n",
      "Friedman's 999999\n",
      "176 Presbyterian Deli 999999\n",
      "Nacho Mama's 999999\n",
      "Streetbird Rotisserie 999999\n",
      "Colum Chinese Restaurant 999999\n",
      "Flacoz Tacoz 999999\n",
      "sweetgreen 999999\n",
      "La Salle Dumpling Room 999999\n"
     ]
    }
   ],
   "source": [
    "def get_name(tr_tag):\n",
    "    name_address_tag = tr_tag.find(\"td\", {\"class\": \"name-address\"})\n",
    "    a_tag = name_address_tag.find(\"a\")\n",
    "    restaurant_name = a_tag.string\n",
    "    return restaurant_name\n",
    "\n",
    "def get_price(tag):\n",
    "    return \"999999\"\n",
    "\n",
    "\n",
    "# This code will allow us to TEST our functions! Our function frameworks return values of the right type. \n",
    "\n",
    "search_table = soup.find(\"table\", {\"class\": \"search-results\"})\n",
    "table_body = search_table.find(\"tbody\")\n",
    "\n",
    "for tr_tag in table_body.find_all('tr'):\n",
    "    \n",
    "    restaurant_name = get_name(tr_tag)\n",
    "    price = get_price(tr_tag)\n",
    "    \n",
    "    print(restaurant_name, price)"
   ]
  },
  {
   "cell_type": "markdown",
   "metadata": {},
   "source": [
    "**Step 3: Writing our get_price() function**\n",
    "\n",
    "Again, just copying the code from our for loop"
   ]
  },
  {
   "cell_type": "code",
   "execution_count": 76,
   "metadata": {
    "collapsed": false,
    "scrolled": true
   },
   "outputs": [
    {
     "name": "stdout",
     "output_type": "stream",
     "text": [
      "Milano Market 2\n",
      "Massawa 0\n",
      "China Place 0\n",
      "Subsconscious 0\n",
      "Famous Famiglia 0\n",
      "Kitchenette 0\n",
      "V & T Pizza 0\n",
      "New Aroma 1\n",
      "Peking Garden 1\n",
      "Tom's Restaurant 1\n",
      "Pisticci 1\n",
      "Deluxe 1\n",
      "Toast 2\n",
      "Tom's Delicious Pizza 2\n",
      "West Place 1\n",
      "Che' Bella Pizza 0\n",
      "Ajanta 0\n",
      "Panino Sportivo Roma 2\n",
      "Max Soha 2\n",
      "Strokos Pizza 3\n",
      "Camille's 1\n",
      "Amsterdam Restaurant 1\n",
      "Nussbaum & Wu 0\n",
      "Amir's Grill 1\n",
      "M2M - Morning To Midnight 1\n",
      "The Mill 2\n",
      "Le Monde 1\n",
      "Melba's 1\n",
      "Chuck E Cheese's 0\n",
      "Haagen-Dazs 1\n",
      "Oren's 0\n",
      "Dinosaur Bar-B-Que 3\n",
      "Symposium Greek Restaurant 0\n",
      "Koronet Pizza 1\n",
      "The Heights Bar & Grill 1\n",
      "Cafe Nana 0\n",
      "Hamilton Deli 0\n",
      "Community Food & Juice 0\n",
      "Haakon's Hall 0\n",
      "El Porton 0\n",
      "Brad's 1\n",
      "Mel's Burger Bar 2\n",
      "Bettolona 1\n",
      "Five Guys 1\n",
      "Nikko 2\n",
      "Falafel on Broadway 1\n",
      "Sushi Sushi 1\n",
      "Insomnia Cookies 1\n",
      "Cafe Amrita 1\n",
      "Pinkberry 2\n",
      "Artopolis Espresso Cafe 1\n",
      "Max Caffe 2\n",
      "Chipotle 1\n",
      "Chokolat Patisserie 5\n",
      "Chokolat Patisserie 1\n",
      "Joe's G-H Deli 2\n",
      "Joe the Art of Coffee 1\n",
      "Levain Bakery 2\n",
      "Silvana 1\n",
      "Bier International 1\n",
      "Vegenation 1\n",
      "Flat Top 4\n",
      "Kuro Kuma 1\n",
      "Vinateria 2\n",
      "Henan Cart 1\n",
      "Vine 2\n",
      "El Paso Truck 1\n",
      "Mama's Fried Chicken and Pizza 1\n",
      "Chapati House 2\n",
      "Dig Inn Seasonal Market 1\n",
      "Uncle Luoyang 1\n",
      "Pita Grill 2\n",
      "Kissaten Jin 1\n",
      "Serengeti Teas & Spices 2\n",
      "Lighthouse Fish Market & Restaurant 3\n",
      "Lolo's Seafood Shack 2\n",
      "Harmony 1\n",
      "Bernheim & Schwartz 2\n",
      "BTH (By The Hudson) 3\n",
      "Empanadas Monumental 0\n",
      "Friedman's 0\n",
      "176 Presbyterian Deli 0\n",
      "Nacho Mama's 0\n",
      "Streetbird Rotisserie 0\n",
      "Colum Chinese Restaurant 0\n",
      "Flacoz Tacoz 0\n",
      "sweetgreen 0\n",
      "La Salle Dumpling Room 0\n"
     ]
    }
   ],
   "source": [
    "# Our functions:\n",
    "\n",
    "def get_name(tr_tag):\n",
    "    name_address_tag = tr_tag.find(\"td\", {\"class\": \"name-address\"})\n",
    "    a_tag = name_address_tag.find(\"a\")\n",
    "    restaurant_name = a_tag.string\n",
    "    return restaurant_name\n",
    "\n",
    "def get_price(tr_tag):\n",
    "    price_tag = tr_tag.find(\"td\", {\"class\": \"price\"})\n",
    "    price_span_tag = price_tag.find(\"span\")\n",
    "    if price_span_tag:\n",
    "        price = int(price_span_tag.string)\n",
    "    else:\n",
    "        price = 0 \n",
    "    return price\n",
    "\n",
    "\n",
    "# Looping through all the restaurants:\n",
    "\n",
    "search_table = soup.find(\"table\", {\"class\": \"search-results\"})\n",
    "table_body = search_table.find(\"tbody\")\n",
    "\n",
    "for tr_tag in table_body.find_all('tr'):\n",
    "    \n",
    "    restaurant_name = get_name(tr_tag)\n",
    "    price = get_price(tr_tag)\n",
    "    \n",
    "    print(restaurant_name, price)"
   ]
  },
  {
   "cell_type": "markdown",
   "metadata": {},
   "source": [
    "**Step 4: Setting up our get_cuisines() function**\n",
    "\n",
    "We're writing a dummy function just to test our code basically works."
   ]
  },
  {
   "cell_type": "code",
   "execution_count": 77,
   "metadata": {
    "collapsed": false,
    "scrolled": true
   },
   "outputs": [
    {
     "name": "stdout",
     "output_type": "stream",
     "text": [
      "Milano Market 2 ['stuff', 'blah', 'etc']\n",
      "Massawa 0 ['stuff', 'blah', 'etc']\n",
      "China Place 0 ['stuff', 'blah', 'etc']\n",
      "Subsconscious 0 ['stuff', 'blah', 'etc']\n",
      "Famous Famiglia 0 ['stuff', 'blah', 'etc']\n",
      "Kitchenette 0 ['stuff', 'blah', 'etc']\n",
      "V & T Pizza 0 ['stuff', 'blah', 'etc']\n",
      "New Aroma 1 ['stuff', 'blah', 'etc']\n",
      "Peking Garden 1 ['stuff', 'blah', 'etc']\n",
      "Tom's Restaurant 1 ['stuff', 'blah', 'etc']\n",
      "Pisticci 1 ['stuff', 'blah', 'etc']\n",
      "Deluxe 1 ['stuff', 'blah', 'etc']\n",
      "Toast 2 ['stuff', 'blah', 'etc']\n",
      "Tom's Delicious Pizza 2 ['stuff', 'blah', 'etc']\n",
      "West Place 1 ['stuff', 'blah', 'etc']\n",
      "Che' Bella Pizza 0 ['stuff', 'blah', 'etc']\n",
      "Ajanta 0 ['stuff', 'blah', 'etc']\n",
      "Panino Sportivo Roma 2 ['stuff', 'blah', 'etc']\n",
      "Max Soha 2 ['stuff', 'blah', 'etc']\n",
      "Strokos Pizza 3 ['stuff', 'blah', 'etc']\n",
      "Camille's 1 ['stuff', 'blah', 'etc']\n",
      "Amsterdam Restaurant 1 ['stuff', 'blah', 'etc']\n",
      "Nussbaum & Wu 0 ['stuff', 'blah', 'etc']\n",
      "Amir's Grill 1 ['stuff', 'blah', 'etc']\n",
      "M2M - Morning To Midnight 1 ['stuff', 'blah', 'etc']\n",
      "The Mill 2 ['stuff', 'blah', 'etc']\n",
      "Le Monde 1 ['stuff', 'blah', 'etc']\n",
      "Melba's 1 ['stuff', 'blah', 'etc']\n",
      "Chuck E Cheese's 0 ['stuff', 'blah', 'etc']\n",
      "Haagen-Dazs 1 ['stuff', 'blah', 'etc']\n",
      "Oren's 0 ['stuff', 'blah', 'etc']\n",
      "Dinosaur Bar-B-Que 3 ['stuff', 'blah', 'etc']\n",
      "Symposium Greek Restaurant 0 ['stuff', 'blah', 'etc']\n",
      "Koronet Pizza 1 ['stuff', 'blah', 'etc']\n",
      "The Heights Bar & Grill 1 ['stuff', 'blah', 'etc']\n",
      "Cafe Nana 0 ['stuff', 'blah', 'etc']\n",
      "Hamilton Deli 0 ['stuff', 'blah', 'etc']\n",
      "Community Food & Juice 0 ['stuff', 'blah', 'etc']\n",
      "Haakon's Hall 0 ['stuff', 'blah', 'etc']\n",
      "El Porton 0 ['stuff', 'blah', 'etc']\n",
      "Brad's 1 ['stuff', 'blah', 'etc']\n",
      "Mel's Burger Bar 2 ['stuff', 'blah', 'etc']\n",
      "Bettolona 1 ['stuff', 'blah', 'etc']\n",
      "Five Guys 1 ['stuff', 'blah', 'etc']\n",
      "Nikko 2 ['stuff', 'blah', 'etc']\n",
      "Falafel on Broadway 1 ['stuff', 'blah', 'etc']\n",
      "Sushi Sushi 1 ['stuff', 'blah', 'etc']\n",
      "Insomnia Cookies 1 ['stuff', 'blah', 'etc']\n",
      "Cafe Amrita 1 ['stuff', 'blah', 'etc']\n",
      "Pinkberry 2 ['stuff', 'blah', 'etc']\n",
      "Artopolis Espresso Cafe 1 ['stuff', 'blah', 'etc']\n",
      "Max Caffe 2 ['stuff', 'blah', 'etc']\n",
      "Chipotle 1 ['stuff', 'blah', 'etc']\n",
      "Chokolat Patisserie 5 ['stuff', 'blah', 'etc']\n",
      "Chokolat Patisserie 1 ['stuff', 'blah', 'etc']\n",
      "Joe's G-H Deli 2 ['stuff', 'blah', 'etc']\n",
      "Joe the Art of Coffee 1 ['stuff', 'blah', 'etc']\n",
      "Levain Bakery 2 ['stuff', 'blah', 'etc']\n",
      "Silvana 1 ['stuff', 'blah', 'etc']\n",
      "Bier International 1 ['stuff', 'blah', 'etc']\n",
      "Vegenation 1 ['stuff', 'blah', 'etc']\n",
      "Flat Top 4 ['stuff', 'blah', 'etc']\n",
      "Kuro Kuma 1 ['stuff', 'blah', 'etc']\n",
      "Vinateria 2 ['stuff', 'blah', 'etc']\n",
      "Henan Cart 1 ['stuff', 'blah', 'etc']\n",
      "Vine 2 ['stuff', 'blah', 'etc']\n",
      "El Paso Truck 1 ['stuff', 'blah', 'etc']\n",
      "Mama's Fried Chicken and Pizza 1 ['stuff', 'blah', 'etc']\n",
      "Chapati House 2 ['stuff', 'blah', 'etc']\n",
      "Dig Inn Seasonal Market 1 ['stuff', 'blah', 'etc']\n",
      "Uncle Luoyang 1 ['stuff', 'blah', 'etc']\n",
      "Pita Grill 2 ['stuff', 'blah', 'etc']\n",
      "Kissaten Jin 1 ['stuff', 'blah', 'etc']\n",
      "Serengeti Teas & Spices 2 ['stuff', 'blah', 'etc']\n",
      "Lighthouse Fish Market & Restaurant 3 ['stuff', 'blah', 'etc']\n",
      "Lolo's Seafood Shack 2 ['stuff', 'blah', 'etc']\n",
      "Harmony 1 ['stuff', 'blah', 'etc']\n",
      "Bernheim & Schwartz 2 ['stuff', 'blah', 'etc']\n",
      "BTH (By The Hudson) 3 ['stuff', 'blah', 'etc']\n",
      "Empanadas Monumental 0 ['stuff', 'blah', 'etc']\n",
      "Friedman's 0 ['stuff', 'blah', 'etc']\n",
      "176 Presbyterian Deli 0 ['stuff', 'blah', 'etc']\n",
      "Nacho Mama's 0 ['stuff', 'blah', 'etc']\n",
      "Streetbird Rotisserie 0 ['stuff', 'blah', 'etc']\n",
      "Colum Chinese Restaurant 0 ['stuff', 'blah', 'etc']\n",
      "Flacoz Tacoz 0 ['stuff', 'blah', 'etc']\n",
      "sweetgreen 0 ['stuff', 'blah', 'etc']\n",
      "La Salle Dumpling Room 0 ['stuff', 'blah', 'etc']\n"
     ]
    }
   ],
   "source": [
    "def get_cuisines(tr_tag):\n",
    "    # we want to return a list of strings\n",
    "    \n",
    "    # SOMEDAY HAVE GOOD CODE HERE\n",
    "    \n",
    "    # dummy return to test it\n",
    "    return ['stuff', 'blah', 'etc']\n",
    "\n",
    "for tr_tag in table_body.find_all('tr'):\n",
    "    \n",
    "    restaurant_name = get_name(tr_tag)\n",
    "    price = get_price(tr_tag)\n",
    "    cuisines = get_cuisines(tr_tag)\n",
    "    \n",
    "    print(restaurant_name, price, cuisines)"
   ]
  },
  {
   "cell_type": "markdown",
   "metadata": {},
   "source": [
    "**Step 5: Writing our get_cuisines() function**"
   ]
  },
  {
   "cell_type": "code",
   "execution_count": 78,
   "metadata": {
    "collapsed": false,
    "scrolled": true
   },
   "outputs": [
    {
     "name": "stdout",
     "output_type": "stream",
     "text": [
      "Milano Market 2 ['deli', 'sandwiches']\n",
      "Massawa 0 ['ethiopian', 'african']\n",
      "China Place 0 ['chinese', 'japanese', 'sushi']\n",
      "Subsconscious 0 ['cheese-steaks', 'deli', 'sandwiches', 'salads']\n",
      "Famous Famiglia 0 ['italian', 'pizza']\n",
      "Kitchenette 0 ['bakery-pastries', 'american', 'desserts']\n",
      "V & T Pizza 0 ['italian', 'pizza']\n",
      "New Aroma 1 ['chinese']\n",
      "Peking Garden 1 ['chinese']\n",
      "Tom's Restaurant 1 ['diner']\n",
      "Pisticci 1 ['italian']\n",
      "Deluxe 1 ['diner', 'american']\n",
      "Toast 2 ['american', 'bar-food']\n",
      "Tom's Delicious Pizza 2 ['italian', 'pizza']\n",
      "West Place 1 ['chinese']\n",
      "Che' Bella Pizza 0 ['italian', 'pizza']\n",
      "Ajanta 0 ['indian']\n",
      "Panino Sportivo Roma 2 ['italian', 'coffee-tea', 'sandwiches']\n",
      "Max Soha 2 ['italian']\n",
      "Strokos Pizza 3 ['deli', 'pizza', 'sandwiches', 'chicken']\n",
      "Camille's 1 ['american']\n",
      "Amsterdam Restaurant 1 ['american-new', 'tapas']\n",
      "Nussbaum & Wu 0 ['deli', 'sandwiches', 'bagels', 'salads']\n",
      "Amir's Grill 1 ['middle-eastern']\n",
      "M2M - Morning To Midnight 1 ['japanese', 'sushi', 'deli', 'sandwiches']\n",
      "The Mill 2 ['korean']\n",
      "Le Monde 1 ['french', 'bistro']\n",
      "Melba's 1 ['american-new', 'soul-food']\n",
      "Chuck E Cheese's 0 ['pizza', 'american']\n",
      "Haagen-Dazs 1 ['desserts']\n",
      "Oren's 0 ['coffee-tea', 'sandwiches']\n",
      "Dinosaur Bar-B-Que 3 ['barbecue', 'soul-food']\n",
      "Symposium Greek Restaurant 0 ['greek', 'vegetarian']\n",
      "Koronet Pizza 1 ['pizza']\n",
      "The Heights Bar & Grill 1 ['southwestern', 'tapas', 'bar-food']\n",
      "Cafe Nana 0 ['middle-eastern', 'kosher']\n",
      "Hamilton Deli 0 ['deli', 'sandwiches']\n",
      "Community Food & Juice 0 ['american-new', 'smoothies-juices', 'vegetarian', 'healthy', 'localorganic']\n",
      "Haakon's Hall 0 ['american', 'scandinavian']\n",
      "El Porton 0 ['mexican']\n",
      "Brad's 1 ['coffee-tea']\n",
      "Mel's Burger Bar 2 ['burgers', 'bar-food']\n",
      "Bettolona 1 ['italian', 'pizza', 'localorganic']\n",
      "Five Guys 1 ['burgers', 'hot-dogs']\n",
      "Nikko 2 ['chinese', 'japanese', 'sushi', 'teahouses']\n",
      "Falafel on Broadway 1 ['middle-eastern']\n",
      "Sushi Sushi 1 ['japanese', 'sushi']\n",
      "Insomnia Cookies 1 ['bakery-pastries', 'desserts']\n",
      "Cafe Amrita 1 ['coffee-tea', 'sandwiches']\n",
      "Pinkberry 2 ['desserts']\n",
      "Artopolis Espresso Cafe 1 ['coffee-tea', 'sandwiches', 'crepes']\n",
      "Max Caffe 2 ['coffee-tea', 'sandwiches']\n",
      "Chipotle 1 ['mexican']\n",
      "Chokolat Patisserie 5 ['bakery-pastries', 'desserts']\n",
      "Chokolat Patisserie 1 ['bakery-pastries', 'coffee-tea', 'desserts']\n",
      "Joe's G-H Deli 2 ['deli', 'sandwiches']\n",
      "Joe the Art of Coffee 1 ['coffee-tea']\n",
      "Levain Bakery 2 ['bakery-pastries', 'desserts']\n",
      "Silvana 1 ['middle-eastern', 'vegetarian']\n",
      "Bier International 1 ['german', 'eclectic', 'bar-food']\n",
      "Vegenation 1 ['indian', 'vegetarian']\n",
      "Flat Top 4 ['american-new', 'bistro']\n",
      "Kuro Kuma 1 ['coffee-tea']\n",
      "Vinateria 2 ['american-new']\n",
      "Henan Cart 1 ['chinese']\n",
      "Vine 2 ['japanese', 'sushi', 'thai']\n",
      "El Paso Truck 1 ['mexican']\n",
      "Mama's Fried Chicken and Pizza 1 ['pizza', 'chicken']\n",
      "Chapati House 2 ['indian']\n",
      "Dig Inn Seasonal Market 1 ['american', 'localorganic']\n",
      "Uncle Luoyang 1 ['chinese']\n",
      "Pita Grill 2 ['middle-eastern']\n",
      "Kissaten Jin 1 ['japanese']\n",
      "Serengeti Teas & Spices 2 ['coffee-tea', 'teahouses']\n",
      "Lighthouse Fish Market & Restaurant 3 ['seafood', 'wings', 'fish--chips']\n",
      "Lolo's Seafood Shack 2 ['seafood']\n",
      "Harmony 1 ['sandwiches', 'salads', 'teahouses']\n",
      "Bernheim & Schwartz 2 ['american', 'gastropub']\n",
      "BTH (By The Hudson) 3 ['american-new']\n"
     ]
    },
    {
     "ename": "AttributeError",
     "evalue": "'NoneType' object has no attribute 'split'",
     "output_type": "error",
     "traceback": [
      "\u001b[0;31m---------------------------------------------------------------------------\u001b[0m",
      "\u001b[0;31mAttributeError\u001b[0m                            Traceback (most recent call last)",
      "\u001b[0;32m<ipython-input-78-1c7b78535e5f>\u001b[0m in \u001b[0;36m<module>\u001b[0;34m()\u001b[0m\n\u001b[1;32m     10\u001b[0m     \u001b[0mrestaurant_name\u001b[0m \u001b[0;34m=\u001b[0m \u001b[0mget_name\u001b[0m\u001b[0;34m(\u001b[0m\u001b[0mtr_tag\u001b[0m\u001b[0;34m)\u001b[0m\u001b[0;34m\u001b[0m\u001b[0m\n\u001b[1;32m     11\u001b[0m     \u001b[0mprice\u001b[0m \u001b[0;34m=\u001b[0m \u001b[0mget_price\u001b[0m\u001b[0;34m(\u001b[0m\u001b[0mtr_tag\u001b[0m\u001b[0;34m)\u001b[0m\u001b[0;34m\u001b[0m\u001b[0m\n\u001b[0;32m---> 12\u001b[0;31m     \u001b[0mcuisines\u001b[0m \u001b[0;34m=\u001b[0m \u001b[0mget_cuisines\u001b[0m\u001b[0;34m(\u001b[0m\u001b[0mtr_tag\u001b[0m\u001b[0;34m)\u001b[0m\u001b[0;34m\u001b[0m\u001b[0m\n\u001b[0m\u001b[1;32m     13\u001b[0m \u001b[0;34m\u001b[0m\u001b[0m\n\u001b[1;32m     14\u001b[0m     \u001b[0mprint\u001b[0m\u001b[0;34m(\u001b[0m\u001b[0mrestaurant_name\u001b[0m\u001b[0;34m,\u001b[0m \u001b[0mprice\u001b[0m\u001b[0;34m,\u001b[0m \u001b[0mcuisines\u001b[0m\u001b[0;34m)\u001b[0m\u001b[0;34m\u001b[0m\u001b[0m\n",
      "\u001b[0;32m<ipython-input-78-1c7b78535e5f>\u001b[0m in \u001b[0;36mget_cuisines\u001b[0;34m(tr_tag)\u001b[0m\n\u001b[1;32m      3\u001b[0m     \u001b[0mcuisine_tag\u001b[0m \u001b[0;34m=\u001b[0m \u001b[0mall_td_tags\u001b[0m\u001b[0;34m[\u001b[0m\u001b[0;36m4\u001b[0m\u001b[0;34m]\u001b[0m\u001b[0;34m\u001b[0m\u001b[0m\n\u001b[1;32m      4\u001b[0m     \u001b[0mcuisines\u001b[0m \u001b[0;34m=\u001b[0m \u001b[0mcuisine_tag\u001b[0m\u001b[0;34m.\u001b[0m\u001b[0mstring\u001b[0m\u001b[0;34m\u001b[0m\u001b[0m\n\u001b[0;32m----> 5\u001b[0;31m     \u001b[0mcuisines_list\u001b[0m \u001b[0;34m=\u001b[0m \u001b[0mcuisines\u001b[0m\u001b[0;34m.\u001b[0m\u001b[0msplit\u001b[0m\u001b[0;34m(\u001b[0m\u001b[0;34m\", \"\u001b[0m\u001b[0;34m)\u001b[0m\u001b[0;34m\u001b[0m\u001b[0m\n\u001b[0m\u001b[1;32m      6\u001b[0m     \u001b[0;32mreturn\u001b[0m \u001b[0mcuisines_list\u001b[0m\u001b[0;34m\u001b[0m\u001b[0m\n\u001b[1;32m      7\u001b[0m \u001b[0;34m\u001b[0m\u001b[0m\n",
      "\u001b[0;31mAttributeError\u001b[0m: 'NoneType' object has no attribute 'split'"
     ]
    }
   ],
   "source": [
    "def get_cuisines(tr_tag):\n",
    "    all_td_tags = tr_tag.find_all(\"td\")\n",
    "    cuisine_tag = all_td_tags[4]\n",
    "    cuisines = cuisine_tag.string\n",
    "    cuisines_list = cuisines.split(\", \")\n",
    "    return cuisines_list\n",
    "\n",
    "for tr_tag in table_body.find_all('tr'):\n",
    "    \n",
    "    restaurant_name = get_name(tr_tag)\n",
    "    price = get_price(tr_tag)\n",
    "    cuisines = get_cuisines(tr_tag)\n",
    "    \n",
    "    print(restaurant_name, price, cuisines)\n",
    "    \n",
    "# We run into an error! "
   ]
  },
  {
   "cell_type": "markdown",
   "metadata": {},
   "source": [
    "**Step 6: Debugging our error with strategic print statements**"
   ]
  },
  {
   "cell_type": "code",
   "execution_count": 79,
   "metadata": {
    "collapsed": false
   },
   "outputs": [
    {
     "name": "stdout",
     "output_type": "stream",
     "text": [
      "Milano Market\n",
      "<td>deli, sandwiches</td>\n",
      "Milano Market 2 ['deli', 'sandwiches']\n",
      "Massawa\n",
      "<td>ethiopian, african</td>\n",
      "Massawa 0 ['ethiopian', 'african']\n",
      "China Place\n",
      "<td>chinese, japanese, sushi</td>\n",
      "China Place 0 ['chinese', 'japanese', 'sushi']\n",
      "Subsconscious\n",
      "<td>cheese-steaks, deli, sandwiches, salads</td>\n",
      "Subsconscious 0 ['cheese-steaks', 'deli', 'sandwiches', 'salads']\n",
      "Famous Famiglia\n",
      "<td>italian, pizza</td>\n",
      "Famous Famiglia 0 ['italian', 'pizza']\n",
      "Kitchenette\n",
      "<td>bakery-pastries, american, desserts</td>\n",
      "Kitchenette 0 ['bakery-pastries', 'american', 'desserts']\n",
      "V & T Pizza\n",
      "<td>italian, pizza</td>\n",
      "V & T Pizza 0 ['italian', 'pizza']\n",
      "New Aroma\n",
      "<td>chinese</td>\n",
      "New Aroma 1 ['chinese']\n",
      "Peking Garden\n",
      "<td>chinese</td>\n",
      "Peking Garden 1 ['chinese']\n",
      "Tom's Restaurant\n",
      "<td>diner</td>\n",
      "Tom's Restaurant 1 ['diner']\n",
      "Pisticci\n",
      "<td>italian</td>\n",
      "Pisticci 1 ['italian']\n",
      "Deluxe\n",
      "<td>diner, american</td>\n",
      "Deluxe 1 ['diner', 'american']\n",
      "Toast\n",
      "<td>american, bar-food</td>\n",
      "Toast 2 ['american', 'bar-food']\n",
      "Tom's Delicious Pizza\n",
      "<td>italian, pizza</td>\n",
      "Tom's Delicious Pizza 2 ['italian', 'pizza']\n",
      "West Place\n",
      "<td>chinese</td>\n",
      "West Place 1 ['chinese']\n",
      "Che' Bella Pizza\n",
      "<td>italian, pizza</td>\n",
      "Che' Bella Pizza 0 ['italian', 'pizza']\n",
      "Ajanta\n",
      "<td>indian</td>\n",
      "Ajanta 0 ['indian']\n",
      "Panino Sportivo Roma\n",
      "<td>italian, coffee-tea, sandwiches</td>\n",
      "Panino Sportivo Roma 2 ['italian', 'coffee-tea', 'sandwiches']\n",
      "Max Soha\n",
      "<td>italian</td>\n",
      "Max Soha 2 ['italian']\n",
      "Strokos Pizza\n",
      "<td>deli, pizza, sandwiches, chicken</td>\n",
      "Strokos Pizza 3 ['deli', 'pizza', 'sandwiches', 'chicken']\n",
      "Camille's\n",
      "<td>american</td>\n",
      "Camille's 1 ['american']\n",
      "Amsterdam Restaurant\n",
      "<td>american-new, tapas</td>\n",
      "Amsterdam Restaurant 1 ['american-new', 'tapas']\n",
      "Nussbaum & Wu\n",
      "<td>deli, sandwiches, bagels, salads</td>\n",
      "Nussbaum & Wu 0 ['deli', 'sandwiches', 'bagels', 'salads']\n",
      "Amir's Grill\n",
      "<td>middle-eastern</td>\n",
      "Amir's Grill 1 ['middle-eastern']\n",
      "M2M - Morning To Midnight\n",
      "<td>japanese, sushi, deli, sandwiches</td>\n",
      "M2M - Morning To Midnight 1 ['japanese', 'sushi', 'deli', 'sandwiches']\n",
      "The Mill\n",
      "<td>korean</td>\n",
      "The Mill 2 ['korean']\n",
      "Le Monde\n",
      "<td>french, bistro</td>\n",
      "Le Monde 1 ['french', 'bistro']\n",
      "Melba's\n",
      "<td>american-new, soul-food</td>\n",
      "Melba's 1 ['american-new', 'soul-food']\n",
      "Chuck E Cheese's\n",
      "<td>pizza, american</td>\n",
      "Chuck E Cheese's 0 ['pizza', 'american']\n",
      "Haagen-Dazs\n",
      "<td>desserts</td>\n",
      "Haagen-Dazs 1 ['desserts']\n",
      "Oren's\n",
      "<td>coffee-tea, sandwiches</td>\n",
      "Oren's 0 ['coffee-tea', 'sandwiches']\n",
      "Dinosaur Bar-B-Que\n",
      "<td>barbecue, soul-food</td>\n",
      "Dinosaur Bar-B-Que 3 ['barbecue', 'soul-food']\n",
      "Symposium Greek Restaurant\n",
      "<td>greek, vegetarian</td>\n",
      "Symposium Greek Restaurant 0 ['greek', 'vegetarian']\n",
      "Koronet Pizza\n",
      "<td>pizza</td>\n",
      "Koronet Pizza 1 ['pizza']\n",
      "The Heights Bar & Grill\n",
      "<td>southwestern, tapas, bar-food</td>\n",
      "The Heights Bar & Grill 1 ['southwestern', 'tapas', 'bar-food']\n",
      "Cafe Nana\n",
      "<td>middle-eastern, kosher</td>\n",
      "Cafe Nana 0 ['middle-eastern', 'kosher']\n",
      "Hamilton Deli\n",
      "<td>deli, sandwiches</td>\n",
      "Hamilton Deli 0 ['deli', 'sandwiches']\n",
      "Community Food & Juice\n",
      "<td>american-new, smoothies-juices, vegetarian, healthy, localorganic</td>\n",
      "Community Food & Juice 0 ['american-new', 'smoothies-juices', 'vegetarian', 'healthy', 'localorganic']\n",
      "Haakon's Hall\n",
      "<td>american, scandinavian</td>\n",
      "Haakon's Hall 0 ['american', 'scandinavian']\n",
      "El Porton\n",
      "<td>mexican</td>\n",
      "El Porton 0 ['mexican']\n",
      "Brad's\n",
      "<td>coffee-tea</td>\n",
      "Brad's 1 ['coffee-tea']\n",
      "Mel's Burger Bar\n",
      "<td>burgers, bar-food</td>\n",
      "Mel's Burger Bar 2 ['burgers', 'bar-food']\n",
      "Bettolona\n",
      "<td>italian, pizza, localorganic</td>\n",
      "Bettolona 1 ['italian', 'pizza', 'localorganic']\n",
      "Five Guys\n",
      "<td>burgers, hot-dogs</td>\n",
      "Five Guys 1 ['burgers', 'hot-dogs']\n",
      "Nikko\n",
      "<td>chinese, japanese, sushi, teahouses</td>\n",
      "Nikko 2 ['chinese', 'japanese', 'sushi', 'teahouses']\n",
      "Falafel on Broadway\n",
      "<td>middle-eastern</td>\n",
      "Falafel on Broadway 1 ['middle-eastern']\n",
      "Sushi Sushi\n",
      "<td>japanese, sushi</td>\n",
      "Sushi Sushi 1 ['japanese', 'sushi']\n",
      "Insomnia Cookies\n",
      "<td>bakery-pastries, desserts</td>\n",
      "Insomnia Cookies 1 ['bakery-pastries', 'desserts']\n",
      "Cafe Amrita\n",
      "<td>coffee-tea, sandwiches</td>\n",
      "Cafe Amrita 1 ['coffee-tea', 'sandwiches']\n",
      "Pinkberry\n",
      "<td>desserts</td>\n",
      "Pinkberry 2 ['desserts']\n",
      "Artopolis Espresso Cafe\n",
      "<td>coffee-tea, sandwiches, crepes</td>\n",
      "Artopolis Espresso Cafe 1 ['coffee-tea', 'sandwiches', 'crepes']\n",
      "Max Caffe\n",
      "<td>coffee-tea, sandwiches</td>\n",
      "Max Caffe 2 ['coffee-tea', 'sandwiches']\n",
      "Chipotle\n",
      "<td>mexican</td>\n",
      "Chipotle 1 ['mexican']\n",
      "Chokolat Patisserie\n",
      "<td>bakery-pastries, desserts</td>\n",
      "Chokolat Patisserie 5 ['bakery-pastries', 'desserts']\n",
      "Chokolat Patisserie\n",
      "<td>bakery-pastries, coffee-tea, desserts</td>\n",
      "Chokolat Patisserie 1 ['bakery-pastries', 'coffee-tea', 'desserts']\n",
      "Joe's G-H Deli\n",
      "<td>deli, sandwiches</td>\n",
      "Joe's G-H Deli 2 ['deli', 'sandwiches']\n",
      "Joe the Art of Coffee\n",
      "<td>coffee-tea</td>\n",
      "Joe the Art of Coffee 1 ['coffee-tea']\n",
      "Levain Bakery\n",
      "<td>bakery-pastries, desserts</td>\n",
      "Levain Bakery 2 ['bakery-pastries', 'desserts']\n",
      "Silvana\n",
      "<td>middle-eastern, vegetarian</td>\n",
      "Silvana 1 ['middle-eastern', 'vegetarian']\n",
      "Bier International\n",
      "<td>german, eclectic, bar-food</td>\n",
      "Bier International 1 ['german', 'eclectic', 'bar-food']\n",
      "Vegenation\n",
      "<td>indian, vegetarian</td>\n",
      "Vegenation 1 ['indian', 'vegetarian']\n",
      "Flat Top\n",
      "<td>american-new, bistro</td>\n",
      "Flat Top 4 ['american-new', 'bistro']\n",
      "Kuro Kuma\n",
      "<td>coffee-tea</td>\n",
      "Kuro Kuma 1 ['coffee-tea']\n",
      "Vinateria\n",
      "<td>american-new</td>\n",
      "Vinateria 2 ['american-new']\n",
      "Henan Cart\n",
      "<td>chinese</td>\n",
      "Henan Cart 1 ['chinese']\n",
      "Vine\n",
      "<td>japanese, sushi, thai</td>\n",
      "Vine 2 ['japanese', 'sushi', 'thai']\n",
      "El Paso Truck\n",
      "<td>mexican</td>\n",
      "El Paso Truck 1 ['mexican']\n",
      "Mama's Fried Chicken and Pizza\n",
      "<td>pizza, chicken</td>\n",
      "Mama's Fried Chicken and Pizza 1 ['pizza', 'chicken']\n",
      "Chapati House\n",
      "<td>indian</td>\n",
      "Chapati House 2 ['indian']\n",
      "Dig Inn Seasonal Market\n",
      "<td>american, localorganic</td>\n",
      "Dig Inn Seasonal Market 1 ['american', 'localorganic']\n",
      "Uncle Luoyang\n",
      "<td>chinese</td>\n",
      "Uncle Luoyang 1 ['chinese']\n",
      "Pita Grill\n",
      "<td>middle-eastern</td>\n",
      "Pita Grill 2 ['middle-eastern']\n",
      "Kissaten Jin\n",
      "<td>japanese</td>\n",
      "Kissaten Jin 1 ['japanese']\n",
      "Serengeti Teas & Spices\n",
      "<td>coffee-tea, teahouses</td>\n",
      "Serengeti Teas & Spices 2 ['coffee-tea', 'teahouses']\n",
      "Lighthouse Fish Market & Restaurant\n",
      "<td>seafood, wings, fish--chips</td>\n",
      "Lighthouse Fish Market & Restaurant 3 ['seafood', 'wings', 'fish--chips']\n",
      "Lolo's Seafood Shack\n",
      "<td>seafood</td>\n",
      "Lolo's Seafood Shack 2 ['seafood']\n",
      "Harmony\n",
      "<td>sandwiches, salads, teahouses</td>\n",
      "Harmony 1 ['sandwiches', 'salads', 'teahouses']\n",
      "Bernheim & Schwartz\n",
      "<td>american, gastropub</td>\n",
      "Bernheim & Schwartz 2 ['american', 'gastropub']\n",
      "BTH (By The Hudson)\n",
      "<td>american-new</td>\n",
      "BTH (By The Hudson) 3 ['american-new']\n",
      "Empanadas Monumental\n",
      "<td></td>\n"
     ]
    },
    {
     "ename": "AttributeError",
     "evalue": "'NoneType' object has no attribute 'split'",
     "output_type": "error",
     "traceback": [
      "\u001b[0;31m---------------------------------------------------------------------------\u001b[0m",
      "\u001b[0;31mAttributeError\u001b[0m                            Traceback (most recent call last)",
      "\u001b[0;32m<ipython-input-79-91a3e2306009>\u001b[0m in \u001b[0;36m<module>\u001b[0;34m()\u001b[0m\n\u001b[1;32m     12\u001b[0m     \u001b[0mprice\u001b[0m \u001b[0;34m=\u001b[0m \u001b[0mget_price\u001b[0m\u001b[0;34m(\u001b[0m\u001b[0mtr_tag\u001b[0m\u001b[0;34m)\u001b[0m\u001b[0;34m\u001b[0m\u001b[0m\n\u001b[1;32m     13\u001b[0m     \u001b[0mprint\u001b[0m\u001b[0;34m(\u001b[0m\u001b[0mrestaurant_name\u001b[0m\u001b[0;34m)\u001b[0m \u001b[0;31m# debugging strategy to see what restaurant is causing our code to break\u001b[0m\u001b[0;34m\u001b[0m\u001b[0m\n\u001b[0;32m---> 14\u001b[0;31m     \u001b[0mcuisines\u001b[0m \u001b[0;34m=\u001b[0m \u001b[0mget_cuisines\u001b[0m\u001b[0;34m(\u001b[0m\u001b[0mtr_tag\u001b[0m\u001b[0;34m)\u001b[0m\u001b[0;34m\u001b[0m\u001b[0m\n\u001b[0m\u001b[1;32m     15\u001b[0m \u001b[0;34m\u001b[0m\u001b[0m\n\u001b[1;32m     16\u001b[0m     \u001b[0mprint\u001b[0m\u001b[0;34m(\u001b[0m\u001b[0mrestaurant_name\u001b[0m\u001b[0;34m,\u001b[0m \u001b[0mprice\u001b[0m\u001b[0;34m,\u001b[0m \u001b[0mcuisines\u001b[0m\u001b[0;34m)\u001b[0m\u001b[0;34m\u001b[0m\u001b[0m\n",
      "\u001b[0;32m<ipython-input-79-91a3e2306009>\u001b[0m in \u001b[0;36mget_cuisines\u001b[0;34m(tr_tag)\u001b[0m\n\u001b[1;32m      4\u001b[0m     \u001b[0mprint\u001b[0m\u001b[0;34m(\u001b[0m\u001b[0mcuisine_tag\u001b[0m\u001b[0;34m)\u001b[0m \u001b[0;31m# debugging strategy to see what is causing our code to break\u001b[0m\u001b[0;34m\u001b[0m\u001b[0m\n\u001b[1;32m      5\u001b[0m     \u001b[0mcuisines\u001b[0m \u001b[0;34m=\u001b[0m \u001b[0mcuisine_tag\u001b[0m\u001b[0;34m.\u001b[0m\u001b[0mstring\u001b[0m\u001b[0;34m\u001b[0m\u001b[0m\n\u001b[0;32m----> 6\u001b[0;31m     \u001b[0mcuisines_list\u001b[0m \u001b[0;34m=\u001b[0m \u001b[0mcuisines\u001b[0m\u001b[0;34m.\u001b[0m\u001b[0msplit\u001b[0m\u001b[0;34m(\u001b[0m\u001b[0;34m\", \"\u001b[0m\u001b[0;34m)\u001b[0m\u001b[0;34m\u001b[0m\u001b[0m\n\u001b[0m\u001b[1;32m      7\u001b[0m     \u001b[0;32mreturn\u001b[0m \u001b[0mcuisines_list\u001b[0m\u001b[0;34m\u001b[0m\u001b[0m\n\u001b[1;32m      8\u001b[0m \u001b[0;34m\u001b[0m\u001b[0m\n",
      "\u001b[0;31mAttributeError\u001b[0m: 'NoneType' object has no attribute 'split'"
     ]
    }
   ],
   "source": [
    "def get_cuisines(tr_tag):\n",
    "    all_td_tags = tr_tag.find_all(\"td\")\n",
    "    cuisine_tag = all_td_tags[4]\n",
    "    print(cuisine_tag) # debugging strategy to see what is causing our code to break\n",
    "    cuisines = cuisine_tag.string\n",
    "    cuisines_list = cuisines.split(\", \")\n",
    "    return cuisines_list\n",
    "\n",
    "for tr_tag in table_body.find_all('tr'):\n",
    "    \n",
    "    restaurant_name = get_name(tr_tag)\n",
    "    price = get_price(tr_tag)\n",
    "    print(restaurant_name) # debugging strategy to see what restaurant is causing our code to break\n",
    "    cuisines = get_cuisines(tr_tag)\n",
    "    \n",
    "    print(restaurant_name, price, cuisines)\n",
    "    \n",
    "# sometimes of <td> tag is empty! "
   ]
  },
  {
   "cell_type": "markdown",
   "metadata": {},
   "source": [
    "**Step 7: Correcting get_cuisines() function with if/else condition for NoneTypes**"
   ]
  },
  {
   "cell_type": "code",
   "execution_count": 80,
   "metadata": {
    "collapsed": false,
    "scrolled": true
   },
   "outputs": [
    {
     "name": "stdout",
     "output_type": "stream",
     "text": [
      "Milano Market 2 ['deli', 'sandwiches']\n",
      "Massawa 0 ['ethiopian', 'african']\n",
      "China Place 0 ['chinese', 'japanese', 'sushi']\n",
      "Subsconscious 0 ['cheese-steaks', 'deli', 'sandwiches', 'salads']\n",
      "Famous Famiglia 0 ['italian', 'pizza']\n",
      "Kitchenette 0 ['bakery-pastries', 'american', 'desserts']\n",
      "V & T Pizza 0 ['italian', 'pizza']\n",
      "New Aroma 1 ['chinese']\n",
      "Peking Garden 1 ['chinese']\n",
      "Tom's Restaurant 1 ['diner']\n",
      "Pisticci 1 ['italian']\n",
      "Deluxe 1 ['diner', 'american']\n",
      "Toast 2 ['american', 'bar-food']\n",
      "Tom's Delicious Pizza 2 ['italian', 'pizza']\n",
      "West Place 1 ['chinese']\n",
      "Che' Bella Pizza 0 ['italian', 'pizza']\n",
      "Ajanta 0 ['indian']\n",
      "Panino Sportivo Roma 2 ['italian', 'coffee-tea', 'sandwiches']\n",
      "Max Soha 2 ['italian']\n",
      "Strokos Pizza 3 ['deli', 'pizza', 'sandwiches', 'chicken']\n",
      "Camille's 1 ['american']\n",
      "Amsterdam Restaurant 1 ['american-new', 'tapas']\n",
      "Nussbaum & Wu 0 ['deli', 'sandwiches', 'bagels', 'salads']\n",
      "Amir's Grill 1 ['middle-eastern']\n",
      "M2M - Morning To Midnight 1 ['japanese', 'sushi', 'deli', 'sandwiches']\n",
      "The Mill 2 ['korean']\n",
      "Le Monde 1 ['french', 'bistro']\n",
      "Melba's 1 ['american-new', 'soul-food']\n",
      "Chuck E Cheese's 0 ['pizza', 'american']\n",
      "Haagen-Dazs 1 ['desserts']\n",
      "Oren's 0 ['coffee-tea', 'sandwiches']\n",
      "Dinosaur Bar-B-Que 3 ['barbecue', 'soul-food']\n",
      "Symposium Greek Restaurant 0 ['greek', 'vegetarian']\n",
      "Koronet Pizza 1 ['pizza']\n",
      "The Heights Bar & Grill 1 ['southwestern', 'tapas', 'bar-food']\n",
      "Cafe Nana 0 ['middle-eastern', 'kosher']\n",
      "Hamilton Deli 0 ['deli', 'sandwiches']\n",
      "Community Food & Juice 0 ['american-new', 'smoothies-juices', 'vegetarian', 'healthy', 'localorganic']\n",
      "Haakon's Hall 0 ['american', 'scandinavian']\n",
      "El Porton 0 ['mexican']\n",
      "Brad's 1 ['coffee-tea']\n",
      "Mel's Burger Bar 2 ['burgers', 'bar-food']\n",
      "Bettolona 1 ['italian', 'pizza', 'localorganic']\n",
      "Five Guys 1 ['burgers', 'hot-dogs']\n",
      "Nikko 2 ['chinese', 'japanese', 'sushi', 'teahouses']\n",
      "Falafel on Broadway 1 ['middle-eastern']\n",
      "Sushi Sushi 1 ['japanese', 'sushi']\n",
      "Insomnia Cookies 1 ['bakery-pastries', 'desserts']\n",
      "Cafe Amrita 1 ['coffee-tea', 'sandwiches']\n",
      "Pinkberry 2 ['desserts']\n",
      "Artopolis Espresso Cafe 1 ['coffee-tea', 'sandwiches', 'crepes']\n",
      "Max Caffe 2 ['coffee-tea', 'sandwiches']\n",
      "Chipotle 1 ['mexican']\n",
      "Chokolat Patisserie 5 ['bakery-pastries', 'desserts']\n",
      "Chokolat Patisserie 1 ['bakery-pastries', 'coffee-tea', 'desserts']\n",
      "Joe's G-H Deli 2 ['deli', 'sandwiches']\n",
      "Joe the Art of Coffee 1 ['coffee-tea']\n",
      "Levain Bakery 2 ['bakery-pastries', 'desserts']\n",
      "Silvana 1 ['middle-eastern', 'vegetarian']\n",
      "Bier International 1 ['german', 'eclectic', 'bar-food']\n",
      "Vegenation 1 ['indian', 'vegetarian']\n",
      "Flat Top 4 ['american-new', 'bistro']\n",
      "Kuro Kuma 1 ['coffee-tea']\n",
      "Vinateria 2 ['american-new']\n",
      "Henan Cart 1 ['chinese']\n",
      "Vine 2 ['japanese', 'sushi', 'thai']\n",
      "El Paso Truck 1 ['mexican']\n",
      "Mama's Fried Chicken and Pizza 1 ['pizza', 'chicken']\n",
      "Chapati House 2 ['indian']\n",
      "Dig Inn Seasonal Market 1 ['american', 'localorganic']\n",
      "Uncle Luoyang 1 ['chinese']\n",
      "Pita Grill 2 ['middle-eastern']\n",
      "Kissaten Jin 1 ['japanese']\n",
      "Serengeti Teas & Spices 2 ['coffee-tea', 'teahouses']\n",
      "Lighthouse Fish Market & Restaurant 3 ['seafood', 'wings', 'fish--chips']\n",
      "Lolo's Seafood Shack 2 ['seafood']\n",
      "Harmony 1 ['sandwiches', 'salads', 'teahouses']\n",
      "Bernheim & Schwartz 2 ['american', 'gastropub']\n",
      "BTH (By The Hudson) 3 ['american-new']\n",
      "Empanadas Monumental 0 []\n",
      "Friedman's 0 []\n",
      "176 Presbyterian Deli 0 []\n",
      "Nacho Mama's 0 []\n",
      "Streetbird Rotisserie 0 []\n",
      "Colum Chinese Restaurant 0 []\n",
      "Flacoz Tacoz 0 []\n",
      "sweetgreen 0 []\n",
      "La Salle Dumpling Room 0 []\n"
     ]
    }
   ],
   "source": [
    "def get_cuisines(tr_tag):\n",
    "    all_td_tags = tr_tag.find_all(\"td\")\n",
    "    cuisine_tag = all_td_tags[4]\n",
    "    cuisines = cuisine_tag.string\n",
    "    \n",
    "    if cuisines:\n",
    "        cuisines_list = cuisines.split(\", \")\n",
    "    else:\n",
    "        cuisines_list = []\n",
    "    return cuisines_list\n",
    "\n",
    "for tr_tag in table_body.find_all('tr'):\n",
    "    \n",
    "    restaurant_name = get_name(tr_tag)\n",
    "    price = get_price(tr_tag)\n",
    "    cuisines = get_cuisines(tr_tag)\n",
    "    \n",
    "    print(restaurant_name, price, cuisines)\n",
    "    \n",
    "# Woohoo, everything prints like we'd want it to! "
   ]
  },
  {
   "cell_type": "markdown",
   "metadata": {},
   "source": [
    "**Step 8: Saving our data to a list of dictionaries**\n",
    "\n",
    "We want to do more than just print! The data structure of a list of dictionaries is pretty flexible -- we can go to a pandas DataFrame, a csv, and someday, a SQL table from there. "
   ]
  },
  {
   "cell_type": "code",
   "execution_count": 152,
   "metadata": {
    "collapsed": false
   },
   "outputs": [
    {
     "data": {
      "text/plain": [
       "[{'cuisines': ['deli', 'sandwiches'], 'name': 'Milano Market', 'price': 2},\n",
       " {'cuisines': ['ethiopian', 'african'], 'name': 'Massawa', 'price': 0},\n",
       " {'cuisines': ['chinese', 'japanese', 'sushi'],\n",
       "  'name': 'China Place',\n",
       "  'price': 0},\n",
       " {'cuisines': ['cheese-steaks', 'deli', 'sandwiches', 'salads'],\n",
       "  'name': 'Subsconscious',\n",
       "  'price': 0},\n",
       " {'cuisines': ['italian', 'pizza'], 'name': 'Famous Famiglia', 'price': 0},\n",
       " {'cuisines': ['bakery-pastries', 'american', 'desserts'],\n",
       "  'name': 'Kitchenette',\n",
       "  'price': 0},\n",
       " {'cuisines': ['italian', 'pizza'], 'name': 'V & T Pizza', 'price': 0},\n",
       " {'cuisines': ['chinese'], 'name': 'New Aroma', 'price': 1},\n",
       " {'cuisines': ['chinese'], 'name': 'Peking Garden', 'price': 1},\n",
       " {'cuisines': ['diner'], 'name': \"Tom's Restaurant\", 'price': 1},\n",
       " {'cuisines': ['italian'], 'name': 'Pisticci', 'price': 1},\n",
       " {'cuisines': ['diner', 'american'], 'name': 'Deluxe', 'price': 1},\n",
       " {'cuisines': ['american', 'bar-food'], 'name': 'Toast', 'price': 2},\n",
       " {'cuisines': ['italian', 'pizza'],\n",
       "  'name': \"Tom's Delicious Pizza\",\n",
       "  'price': 2},\n",
       " {'cuisines': ['chinese'], 'name': 'West Place', 'price': 1},\n",
       " {'cuisines': ['italian', 'pizza'], 'name': \"Che' Bella Pizza\", 'price': 0},\n",
       " {'cuisines': ['indian'], 'name': 'Ajanta', 'price': 0},\n",
       " {'cuisines': ['italian', 'coffee-tea', 'sandwiches'],\n",
       "  'name': 'Panino Sportivo Roma',\n",
       "  'price': 2},\n",
       " {'cuisines': ['italian'], 'name': 'Max Soha', 'price': 2},\n",
       " {'cuisines': ['deli', 'pizza', 'sandwiches', 'chicken'],\n",
       "  'name': 'Strokos Pizza',\n",
       "  'price': 3},\n",
       " {'cuisines': ['american'], 'name': \"Camille's\", 'price': 1},\n",
       " {'cuisines': ['american-new', 'tapas'],\n",
       "  'name': 'Amsterdam Restaurant',\n",
       "  'price': 1},\n",
       " {'cuisines': ['deli', 'sandwiches', 'bagels', 'salads'],\n",
       "  'name': 'Nussbaum & Wu',\n",
       "  'price': 0},\n",
       " {'cuisines': ['middle-eastern'], 'name': \"Amir's Grill\", 'price': 1},\n",
       " {'cuisines': ['japanese', 'sushi', 'deli', 'sandwiches'],\n",
       "  'name': 'M2M - Morning To Midnight',\n",
       "  'price': 1},\n",
       " {'cuisines': ['korean'], 'name': 'The Mill', 'price': 2},\n",
       " {'cuisines': ['french', 'bistro'], 'name': 'Le Monde', 'price': 1},\n",
       " {'cuisines': ['american-new', 'soul-food'], 'name': \"Melba's\", 'price': 1},\n",
       " {'cuisines': ['pizza', 'american'], 'name': \"Chuck E Cheese's\", 'price': 0},\n",
       " {'cuisines': ['desserts'], 'name': 'Haagen-Dazs', 'price': 1},\n",
       " {'cuisines': ['coffee-tea', 'sandwiches'], 'name': \"Oren's\", 'price': 0},\n",
       " {'cuisines': ['barbecue', 'soul-food'],\n",
       "  'name': 'Dinosaur Bar-B-Que',\n",
       "  'price': 3},\n",
       " {'cuisines': ['greek', 'vegetarian'],\n",
       "  'name': 'Symposium Greek Restaurant',\n",
       "  'price': 0},\n",
       " {'cuisines': ['pizza'], 'name': 'Koronet Pizza', 'price': 1},\n",
       " {'cuisines': ['southwestern', 'tapas', 'bar-food'],\n",
       "  'name': 'The Heights Bar & Grill',\n",
       "  'price': 1},\n",
       " {'cuisines': ['middle-eastern', 'kosher'], 'name': 'Cafe Nana', 'price': 0},\n",
       " {'cuisines': ['deli', 'sandwiches'], 'name': 'Hamilton Deli', 'price': 0},\n",
       " {'cuisines': ['american-new',\n",
       "   'smoothies-juices',\n",
       "   'vegetarian',\n",
       "   'healthy',\n",
       "   'localorganic'],\n",
       "  'name': 'Community Food & Juice',\n",
       "  'price': 0},\n",
       " {'cuisines': ['american', 'scandinavian'],\n",
       "  'name': \"Haakon's Hall\",\n",
       "  'price': 0},\n",
       " {'cuisines': ['mexican'], 'name': 'El Porton', 'price': 0},\n",
       " {'cuisines': ['coffee-tea'], 'name': \"Brad's\", 'price': 1},\n",
       " {'cuisines': ['burgers', 'bar-food'], 'name': \"Mel's Burger Bar\", 'price': 2},\n",
       " {'cuisines': ['italian', 'pizza', 'localorganic'],\n",
       "  'name': 'Bettolona',\n",
       "  'price': 1},\n",
       " {'cuisines': ['burgers', 'hot-dogs'], 'name': 'Five Guys', 'price': 1},\n",
       " {'cuisines': ['chinese', 'japanese', 'sushi', 'teahouses'],\n",
       "  'name': 'Nikko',\n",
       "  'price': 2},\n",
       " {'cuisines': ['middle-eastern'], 'name': 'Falafel on Broadway', 'price': 1},\n",
       " {'cuisines': ['japanese', 'sushi'], 'name': 'Sushi Sushi', 'price': 1},\n",
       " {'cuisines': ['bakery-pastries', 'desserts'],\n",
       "  'name': 'Insomnia Cookies',\n",
       "  'price': 1},\n",
       " {'cuisines': ['coffee-tea', 'sandwiches'], 'name': 'Cafe Amrita', 'price': 1},\n",
       " {'cuisines': ['desserts'], 'name': 'Pinkberry', 'price': 2},\n",
       " {'cuisines': ['coffee-tea', 'sandwiches', 'crepes'],\n",
       "  'name': 'Artopolis Espresso Cafe',\n",
       "  'price': 1},\n",
       " {'cuisines': ['coffee-tea', 'sandwiches'], 'name': 'Max Caffe', 'price': 2},\n",
       " {'cuisines': ['mexican'], 'name': 'Chipotle', 'price': 1},\n",
       " {'cuisines': ['bakery-pastries', 'desserts'],\n",
       "  'name': 'Chokolat Patisserie',\n",
       "  'price': 5},\n",
       " {'cuisines': ['bakery-pastries', 'coffee-tea', 'desserts'],\n",
       "  'name': 'Chokolat Patisserie',\n",
       "  'price': 1},\n",
       " {'cuisines': ['deli', 'sandwiches'], 'name': \"Joe's G-H Deli\", 'price': 2},\n",
       " {'cuisines': ['coffee-tea'], 'name': 'Joe the Art of Coffee', 'price': 1},\n",
       " {'cuisines': ['bakery-pastries', 'desserts'],\n",
       "  'name': 'Levain Bakery',\n",
       "  'price': 2},\n",
       " {'cuisines': ['middle-eastern', 'vegetarian'], 'name': 'Silvana', 'price': 1},\n",
       " {'cuisines': ['german', 'eclectic', 'bar-food'],\n",
       "  'name': 'Bier International',\n",
       "  'price': 1},\n",
       " {'cuisines': ['indian', 'vegetarian'], 'name': 'Vegenation', 'price': 1},\n",
       " {'cuisines': ['american-new', 'bistro'], 'name': 'Flat Top', 'price': 4},\n",
       " {'cuisines': ['coffee-tea'], 'name': 'Kuro Kuma', 'price': 1},\n",
       " {'cuisines': ['american-new'], 'name': 'Vinateria', 'price': 2},\n",
       " {'cuisines': ['chinese'], 'name': 'Henan Cart', 'price': 1},\n",
       " {'cuisines': ['japanese', 'sushi', 'thai'], 'name': 'Vine', 'price': 2},\n",
       " {'cuisines': ['mexican'], 'name': 'El Paso Truck', 'price': 1},\n",
       " {'cuisines': ['pizza', 'chicken'],\n",
       "  'name': \"Mama's Fried Chicken and Pizza\",\n",
       "  'price': 1},\n",
       " {'cuisines': ['indian'], 'name': 'Chapati House', 'price': 2},\n",
       " {'cuisines': ['american', 'localorganic'],\n",
       "  'name': 'Dig Inn Seasonal Market',\n",
       "  'price': 1},\n",
       " {'cuisines': ['chinese'], 'name': 'Uncle Luoyang', 'price': 1},\n",
       " {'cuisines': ['middle-eastern'], 'name': 'Pita Grill', 'price': 2},\n",
       " {'cuisines': ['japanese'], 'name': 'Kissaten Jin', 'price': 1},\n",
       " {'cuisines': ['coffee-tea', 'teahouses'],\n",
       "  'name': 'Serengeti Teas & Spices',\n",
       "  'price': 2},\n",
       " {'cuisines': ['seafood', 'wings', 'fish--chips'],\n",
       "  'name': 'Lighthouse Fish Market & Restaurant',\n",
       "  'price': 3},\n",
       " {'cuisines': ['seafood'], 'name': \"Lolo's Seafood Shack\", 'price': 2},\n",
       " {'cuisines': ['sandwiches', 'salads', 'teahouses'],\n",
       "  'name': 'Harmony',\n",
       "  'price': 1},\n",
       " {'cuisines': ['american', 'gastropub'],\n",
       "  'name': 'Bernheim & Schwartz',\n",
       "  'price': 2},\n",
       " {'cuisines': ['american-new'], 'name': 'BTH (By The Hudson)', 'price': 3},\n",
       " {'cuisines': [], 'name': 'Empanadas Monumental', 'price': 0},\n",
       " {'cuisines': [], 'name': \"Friedman's\", 'price': 0},\n",
       " {'cuisines': [], 'name': '176 Presbyterian Deli', 'price': 0},\n",
       " {'cuisines': [], 'name': \"Nacho Mama's\", 'price': 0},\n",
       " {'cuisines': [], 'name': 'Streetbird Rotisserie', 'price': 0},\n",
       " {'cuisines': [], 'name': 'Colum Chinese Restaurant', 'price': 0},\n",
       " {'cuisines': [], 'name': 'Flacoz Tacoz', 'price': 0},\n",
       " {'cuisines': [], 'name': 'sweetgreen', 'price': 0},\n",
       " {'cuisines': [], 'name': 'La Salle Dumpling Room', 'price': 0}]"
      ]
     },
     "execution_count": 152,
     "metadata": {},
     "output_type": "execute_result"
    }
   ],
   "source": [
    "restaurants = []\n",
    "for tr_tag in table_body.find_all('tr'):\n",
    "    \n",
    "    restaurant_name = get_name(tr_tag)\n",
    "    price = get_price(tr_tag)\n",
    "    cuisines = get_cuisines(tr_tag)\n",
    "    \n",
    "    rest_dict = {'name': restaurant_name, 'price': int(price), 'cuisines': cuisines}\n",
    "    restaurants.append(rest_dict)\n",
    "    \n",
    "restaurants"
   ]
  },
  {
   "cell_type": "markdown",
   "metadata": {},
   "source": [
    "**Step 9: pandas DataFrame!**"
   ]
  },
  {
   "cell_type": "code",
   "execution_count": 85,
   "metadata": {
    "collapsed": true
   },
   "outputs": [],
   "source": [
    "import pandas as pd\n",
    "df = pd.DataFrame(restaurants)"
   ]
  },
  {
   "cell_type": "code",
   "execution_count": 86,
   "metadata": {
    "collapsed": false,
    "scrolled": true
   },
   "outputs": [
    {
     "data": {
      "text/html": [
       "<div>\n",
       "<table border=\"1\" class=\"dataframe\">\n",
       "  <thead>\n",
       "    <tr style=\"text-align: right;\">\n",
       "      <th></th>\n",
       "      <th>cuisines</th>\n",
       "      <th>name</th>\n",
       "      <th>price</th>\n",
       "    </tr>\n",
       "  </thead>\n",
       "  <tbody>\n",
       "    <tr>\n",
       "      <th>0</th>\n",
       "      <td>[deli, sandwiches]</td>\n",
       "      <td>Milano Market</td>\n",
       "      <td>2</td>\n",
       "    </tr>\n",
       "    <tr>\n",
       "      <th>1</th>\n",
       "      <td>[ethiopian, african]</td>\n",
       "      <td>Massawa</td>\n",
       "      <td>0</td>\n",
       "    </tr>\n",
       "    <tr>\n",
       "      <th>2</th>\n",
       "      <td>[chinese, japanese, sushi]</td>\n",
       "      <td>China Place</td>\n",
       "      <td>0</td>\n",
       "    </tr>\n",
       "    <tr>\n",
       "      <th>3</th>\n",
       "      <td>[cheese-steaks, deli, sandwiches, salads]</td>\n",
       "      <td>Subsconscious</td>\n",
       "      <td>0</td>\n",
       "    </tr>\n",
       "    <tr>\n",
       "      <th>4</th>\n",
       "      <td>[italian, pizza]</td>\n",
       "      <td>Famous Famiglia</td>\n",
       "      <td>0</td>\n",
       "    </tr>\n",
       "    <tr>\n",
       "      <th>5</th>\n",
       "      <td>[bakery-pastries, american, desserts]</td>\n",
       "      <td>Kitchenette</td>\n",
       "      <td>0</td>\n",
       "    </tr>\n",
       "    <tr>\n",
       "      <th>6</th>\n",
       "      <td>[italian, pizza]</td>\n",
       "      <td>V &amp; T Pizza</td>\n",
       "      <td>0</td>\n",
       "    </tr>\n",
       "    <tr>\n",
       "      <th>7</th>\n",
       "      <td>[chinese]</td>\n",
       "      <td>New Aroma</td>\n",
       "      <td>1</td>\n",
       "    </tr>\n",
       "    <tr>\n",
       "      <th>8</th>\n",
       "      <td>[chinese]</td>\n",
       "      <td>Peking Garden</td>\n",
       "      <td>1</td>\n",
       "    </tr>\n",
       "    <tr>\n",
       "      <th>9</th>\n",
       "      <td>[diner]</td>\n",
       "      <td>Tom's Restaurant</td>\n",
       "      <td>1</td>\n",
       "    </tr>\n",
       "    <tr>\n",
       "      <th>10</th>\n",
       "      <td>[italian]</td>\n",
       "      <td>Pisticci</td>\n",
       "      <td>1</td>\n",
       "    </tr>\n",
       "    <tr>\n",
       "      <th>11</th>\n",
       "      <td>[diner, american]</td>\n",
       "      <td>Deluxe</td>\n",
       "      <td>1</td>\n",
       "    </tr>\n",
       "    <tr>\n",
       "      <th>12</th>\n",
       "      <td>[american, bar-food]</td>\n",
       "      <td>Toast</td>\n",
       "      <td>2</td>\n",
       "    </tr>\n",
       "    <tr>\n",
       "      <th>13</th>\n",
       "      <td>[italian, pizza]</td>\n",
       "      <td>Tom's Delicious Pizza</td>\n",
       "      <td>2</td>\n",
       "    </tr>\n",
       "    <tr>\n",
       "      <th>14</th>\n",
       "      <td>[chinese]</td>\n",
       "      <td>West Place</td>\n",
       "      <td>1</td>\n",
       "    </tr>\n",
       "    <tr>\n",
       "      <th>15</th>\n",
       "      <td>[italian, pizza]</td>\n",
       "      <td>Che' Bella Pizza</td>\n",
       "      <td>0</td>\n",
       "    </tr>\n",
       "    <tr>\n",
       "      <th>16</th>\n",
       "      <td>[indian]</td>\n",
       "      <td>Ajanta</td>\n",
       "      <td>0</td>\n",
       "    </tr>\n",
       "    <tr>\n",
       "      <th>17</th>\n",
       "      <td>[italian, coffee-tea, sandwiches]</td>\n",
       "      <td>Panino Sportivo Roma</td>\n",
       "      <td>2</td>\n",
       "    </tr>\n",
       "    <tr>\n",
       "      <th>18</th>\n",
       "      <td>[italian]</td>\n",
       "      <td>Max Soha</td>\n",
       "      <td>2</td>\n",
       "    </tr>\n",
       "    <tr>\n",
       "      <th>19</th>\n",
       "      <td>[deli, pizza, sandwiches, chicken]</td>\n",
       "      <td>Strokos Pizza</td>\n",
       "      <td>3</td>\n",
       "    </tr>\n",
       "    <tr>\n",
       "      <th>20</th>\n",
       "      <td>[american]</td>\n",
       "      <td>Camille's</td>\n",
       "      <td>1</td>\n",
       "    </tr>\n",
       "    <tr>\n",
       "      <th>21</th>\n",
       "      <td>[american-new, tapas]</td>\n",
       "      <td>Amsterdam Restaurant</td>\n",
       "      <td>1</td>\n",
       "    </tr>\n",
       "    <tr>\n",
       "      <th>22</th>\n",
       "      <td>[deli, sandwiches, bagels, salads]</td>\n",
       "      <td>Nussbaum &amp; Wu</td>\n",
       "      <td>0</td>\n",
       "    </tr>\n",
       "    <tr>\n",
       "      <th>23</th>\n",
       "      <td>[middle-eastern]</td>\n",
       "      <td>Amir's Grill</td>\n",
       "      <td>1</td>\n",
       "    </tr>\n",
       "    <tr>\n",
       "      <th>24</th>\n",
       "      <td>[japanese, sushi, deli, sandwiches]</td>\n",
       "      <td>M2M - Morning To Midnight</td>\n",
       "      <td>1</td>\n",
       "    </tr>\n",
       "    <tr>\n",
       "      <th>25</th>\n",
       "      <td>[korean]</td>\n",
       "      <td>The Mill</td>\n",
       "      <td>2</td>\n",
       "    </tr>\n",
       "    <tr>\n",
       "      <th>26</th>\n",
       "      <td>[french, bistro]</td>\n",
       "      <td>Le Monde</td>\n",
       "      <td>1</td>\n",
       "    </tr>\n",
       "    <tr>\n",
       "      <th>27</th>\n",
       "      <td>[american-new, soul-food]</td>\n",
       "      <td>Melba's</td>\n",
       "      <td>1</td>\n",
       "    </tr>\n",
       "    <tr>\n",
       "      <th>28</th>\n",
       "      <td>[pizza, american]</td>\n",
       "      <td>Chuck E Cheese's</td>\n",
       "      <td>0</td>\n",
       "    </tr>\n",
       "    <tr>\n",
       "      <th>29</th>\n",
       "      <td>[desserts]</td>\n",
       "      <td>Haagen-Dazs</td>\n",
       "      <td>1</td>\n",
       "    </tr>\n",
       "    <tr>\n",
       "      <th>...</th>\n",
       "      <td>...</td>\n",
       "      <td>...</td>\n",
       "      <td>...</td>\n",
       "    </tr>\n",
       "    <tr>\n",
       "      <th>58</th>\n",
       "      <td>[middle-eastern, vegetarian]</td>\n",
       "      <td>Silvana</td>\n",
       "      <td>1</td>\n",
       "    </tr>\n",
       "    <tr>\n",
       "      <th>59</th>\n",
       "      <td>[german, eclectic, bar-food]</td>\n",
       "      <td>Bier International</td>\n",
       "      <td>1</td>\n",
       "    </tr>\n",
       "    <tr>\n",
       "      <th>60</th>\n",
       "      <td>[indian, vegetarian]</td>\n",
       "      <td>Vegenation</td>\n",
       "      <td>1</td>\n",
       "    </tr>\n",
       "    <tr>\n",
       "      <th>61</th>\n",
       "      <td>[american-new, bistro]</td>\n",
       "      <td>Flat Top</td>\n",
       "      <td>4</td>\n",
       "    </tr>\n",
       "    <tr>\n",
       "      <th>62</th>\n",
       "      <td>[coffee-tea]</td>\n",
       "      <td>Kuro Kuma</td>\n",
       "      <td>1</td>\n",
       "    </tr>\n",
       "    <tr>\n",
       "      <th>63</th>\n",
       "      <td>[american-new]</td>\n",
       "      <td>Vinateria</td>\n",
       "      <td>2</td>\n",
       "    </tr>\n",
       "    <tr>\n",
       "      <th>64</th>\n",
       "      <td>[chinese]</td>\n",
       "      <td>Henan Cart</td>\n",
       "      <td>1</td>\n",
       "    </tr>\n",
       "    <tr>\n",
       "      <th>65</th>\n",
       "      <td>[japanese, sushi, thai]</td>\n",
       "      <td>Vine</td>\n",
       "      <td>2</td>\n",
       "    </tr>\n",
       "    <tr>\n",
       "      <th>66</th>\n",
       "      <td>[mexican]</td>\n",
       "      <td>El Paso Truck</td>\n",
       "      <td>1</td>\n",
       "    </tr>\n",
       "    <tr>\n",
       "      <th>67</th>\n",
       "      <td>[pizza, chicken]</td>\n",
       "      <td>Mama's Fried Chicken and Pizza</td>\n",
       "      <td>1</td>\n",
       "    </tr>\n",
       "    <tr>\n",
       "      <th>68</th>\n",
       "      <td>[indian]</td>\n",
       "      <td>Chapati House</td>\n",
       "      <td>2</td>\n",
       "    </tr>\n",
       "    <tr>\n",
       "      <th>69</th>\n",
       "      <td>[american, localorganic]</td>\n",
       "      <td>Dig Inn Seasonal Market</td>\n",
       "      <td>1</td>\n",
       "    </tr>\n",
       "    <tr>\n",
       "      <th>70</th>\n",
       "      <td>[chinese]</td>\n",
       "      <td>Uncle Luoyang</td>\n",
       "      <td>1</td>\n",
       "    </tr>\n",
       "    <tr>\n",
       "      <th>71</th>\n",
       "      <td>[middle-eastern]</td>\n",
       "      <td>Pita Grill</td>\n",
       "      <td>2</td>\n",
       "    </tr>\n",
       "    <tr>\n",
       "      <th>72</th>\n",
       "      <td>[japanese]</td>\n",
       "      <td>Kissaten Jin</td>\n",
       "      <td>1</td>\n",
       "    </tr>\n",
       "    <tr>\n",
       "      <th>73</th>\n",
       "      <td>[coffee-tea, teahouses]</td>\n",
       "      <td>Serengeti Teas &amp; Spices</td>\n",
       "      <td>2</td>\n",
       "    </tr>\n",
       "    <tr>\n",
       "      <th>74</th>\n",
       "      <td>[seafood, wings, fish--chips]</td>\n",
       "      <td>Lighthouse Fish Market &amp; Restaurant</td>\n",
       "      <td>3</td>\n",
       "    </tr>\n",
       "    <tr>\n",
       "      <th>75</th>\n",
       "      <td>[seafood]</td>\n",
       "      <td>Lolo's Seafood Shack</td>\n",
       "      <td>2</td>\n",
       "    </tr>\n",
       "    <tr>\n",
       "      <th>76</th>\n",
       "      <td>[sandwiches, salads, teahouses]</td>\n",
       "      <td>Harmony</td>\n",
       "      <td>1</td>\n",
       "    </tr>\n",
       "    <tr>\n",
       "      <th>77</th>\n",
       "      <td>[american, gastropub]</td>\n",
       "      <td>Bernheim &amp; Schwartz</td>\n",
       "      <td>2</td>\n",
       "    </tr>\n",
       "    <tr>\n",
       "      <th>78</th>\n",
       "      <td>[american-new]</td>\n",
       "      <td>BTH (By The Hudson)</td>\n",
       "      <td>3</td>\n",
       "    </tr>\n",
       "    <tr>\n",
       "      <th>79</th>\n",
       "      <td>[]</td>\n",
       "      <td>Empanadas Monumental</td>\n",
       "      <td>0</td>\n",
       "    </tr>\n",
       "    <tr>\n",
       "      <th>80</th>\n",
       "      <td>[]</td>\n",
       "      <td>Friedman's</td>\n",
       "      <td>0</td>\n",
       "    </tr>\n",
       "    <tr>\n",
       "      <th>81</th>\n",
       "      <td>[]</td>\n",
       "      <td>176 Presbyterian Deli</td>\n",
       "      <td>0</td>\n",
       "    </tr>\n",
       "    <tr>\n",
       "      <th>82</th>\n",
       "      <td>[]</td>\n",
       "      <td>Nacho Mama's</td>\n",
       "      <td>0</td>\n",
       "    </tr>\n",
       "    <tr>\n",
       "      <th>83</th>\n",
       "      <td>[]</td>\n",
       "      <td>Streetbird Rotisserie</td>\n",
       "      <td>0</td>\n",
       "    </tr>\n",
       "    <tr>\n",
       "      <th>84</th>\n",
       "      <td>[]</td>\n",
       "      <td>Colum Chinese Restaurant</td>\n",
       "      <td>0</td>\n",
       "    </tr>\n",
       "    <tr>\n",
       "      <th>85</th>\n",
       "      <td>[]</td>\n",
       "      <td>Flacoz Tacoz</td>\n",
       "      <td>0</td>\n",
       "    </tr>\n",
       "    <tr>\n",
       "      <th>86</th>\n",
       "      <td>[]</td>\n",
       "      <td>sweetgreen</td>\n",
       "      <td>0</td>\n",
       "    </tr>\n",
       "    <tr>\n",
       "      <th>87</th>\n",
       "      <td>[]</td>\n",
       "      <td>La Salle Dumpling Room</td>\n",
       "      <td>0</td>\n",
       "    </tr>\n",
       "  </tbody>\n",
       "</table>\n",
       "<p>88 rows × 3 columns</p>\n",
       "</div>"
      ],
      "text/plain": [
       "                                     cuisines  \\\n",
       "0                          [deli, sandwiches]   \n",
       "1                        [ethiopian, african]   \n",
       "2                  [chinese, japanese, sushi]   \n",
       "3   [cheese-steaks, deli, sandwiches, salads]   \n",
       "4                            [italian, pizza]   \n",
       "5       [bakery-pastries, american, desserts]   \n",
       "6                            [italian, pizza]   \n",
       "7                                   [chinese]   \n",
       "8                                   [chinese]   \n",
       "9                                     [diner]   \n",
       "10                                  [italian]   \n",
       "11                          [diner, american]   \n",
       "12                       [american, bar-food]   \n",
       "13                           [italian, pizza]   \n",
       "14                                  [chinese]   \n",
       "15                           [italian, pizza]   \n",
       "16                                   [indian]   \n",
       "17          [italian, coffee-tea, sandwiches]   \n",
       "18                                  [italian]   \n",
       "19         [deli, pizza, sandwiches, chicken]   \n",
       "20                                 [american]   \n",
       "21                      [american-new, tapas]   \n",
       "22         [deli, sandwiches, bagels, salads]   \n",
       "23                           [middle-eastern]   \n",
       "24        [japanese, sushi, deli, sandwiches]   \n",
       "25                                   [korean]   \n",
       "26                           [french, bistro]   \n",
       "27                  [american-new, soul-food]   \n",
       "28                          [pizza, american]   \n",
       "29                                 [desserts]   \n",
       "..                                        ...   \n",
       "58               [middle-eastern, vegetarian]   \n",
       "59               [german, eclectic, bar-food]   \n",
       "60                       [indian, vegetarian]   \n",
       "61                     [american-new, bistro]   \n",
       "62                               [coffee-tea]   \n",
       "63                             [american-new]   \n",
       "64                                  [chinese]   \n",
       "65                    [japanese, sushi, thai]   \n",
       "66                                  [mexican]   \n",
       "67                           [pizza, chicken]   \n",
       "68                                   [indian]   \n",
       "69                   [american, localorganic]   \n",
       "70                                  [chinese]   \n",
       "71                           [middle-eastern]   \n",
       "72                                 [japanese]   \n",
       "73                    [coffee-tea, teahouses]   \n",
       "74              [seafood, wings, fish--chips]   \n",
       "75                                  [seafood]   \n",
       "76            [sandwiches, salads, teahouses]   \n",
       "77                      [american, gastropub]   \n",
       "78                             [american-new]   \n",
       "79                                         []   \n",
       "80                                         []   \n",
       "81                                         []   \n",
       "82                                         []   \n",
       "83                                         []   \n",
       "84                                         []   \n",
       "85                                         []   \n",
       "86                                         []   \n",
       "87                                         []   \n",
       "\n",
       "                                   name  price  \n",
       "0                         Milano Market      2  \n",
       "1                               Massawa      0  \n",
       "2                           China Place      0  \n",
       "3                         Subsconscious      0  \n",
       "4                       Famous Famiglia      0  \n",
       "5                           Kitchenette      0  \n",
       "6                           V & T Pizza      0  \n",
       "7                             New Aroma      1  \n",
       "8                         Peking Garden      1  \n",
       "9                      Tom's Restaurant      1  \n",
       "10                             Pisticci      1  \n",
       "11                               Deluxe      1  \n",
       "12                                Toast      2  \n",
       "13                Tom's Delicious Pizza      2  \n",
       "14                           West Place      1  \n",
       "15                     Che' Bella Pizza      0  \n",
       "16                               Ajanta      0  \n",
       "17                 Panino Sportivo Roma      2  \n",
       "18                             Max Soha      2  \n",
       "19                        Strokos Pizza      3  \n",
       "20                            Camille's      1  \n",
       "21                 Amsterdam Restaurant      1  \n",
       "22                        Nussbaum & Wu      0  \n",
       "23                         Amir's Grill      1  \n",
       "24            M2M - Morning To Midnight      1  \n",
       "25                             The Mill      2  \n",
       "26                             Le Monde      1  \n",
       "27                              Melba's      1  \n",
       "28                     Chuck E Cheese's      0  \n",
       "29                          Haagen-Dazs      1  \n",
       "..                                  ...    ...  \n",
       "58                              Silvana      1  \n",
       "59                   Bier International      1  \n",
       "60                           Vegenation      1  \n",
       "61                             Flat Top      4  \n",
       "62                            Kuro Kuma      1  \n",
       "63                            Vinateria      2  \n",
       "64                           Henan Cart      1  \n",
       "65                                 Vine      2  \n",
       "66                        El Paso Truck      1  \n",
       "67       Mama's Fried Chicken and Pizza      1  \n",
       "68                        Chapati House      2  \n",
       "69              Dig Inn Seasonal Market      1  \n",
       "70                        Uncle Luoyang      1  \n",
       "71                           Pita Grill      2  \n",
       "72                         Kissaten Jin      1  \n",
       "73              Serengeti Teas & Spices      2  \n",
       "74  Lighthouse Fish Market & Restaurant      3  \n",
       "75                 Lolo's Seafood Shack      2  \n",
       "76                              Harmony      1  \n",
       "77                  Bernheim & Schwartz      2  \n",
       "78                  BTH (By The Hudson)      3  \n",
       "79                 Empanadas Monumental      0  \n",
       "80                           Friedman's      0  \n",
       "81                176 Presbyterian Deli      0  \n",
       "82                         Nacho Mama's      0  \n",
       "83                Streetbird Rotisserie      0  \n",
       "84             Colum Chinese Restaurant      0  \n",
       "85                         Flacoz Tacoz      0  \n",
       "86                           sweetgreen      0  \n",
       "87               La Salle Dumpling Room      0  \n",
       "\n",
       "[88 rows x 3 columns]"
      ]
     },
     "execution_count": 86,
     "metadata": {},
     "output_type": "execute_result"
    }
   ],
   "source": [
    "df"
   ]
  },
  {
   "cell_type": "markdown",
   "metadata": {
    "collapsed": true
   },
   "source": [
    "## putting this into SQL\n",
    "\"schema\" ---> designing the tables\n",
    "* what tables do we need\n",
    "* what should those table have in them? (Columns and data types)\n",
    "\n",
    "why we need more than one table? The way how relational data works. You have restaurants that has more than one cousine. We want to be able to able to do data normalization, which is a term use in relational data base. Its about separate data so any piece of data only appears one time. \n",
    "\n",
    "\"entities\" ---> the thing you are storing\n",
    "\n",
    "* first entitiy = restaurants: name, price and a list of cusines\n",
    "* second entitity = which cuisines a restaurant is associeted \n",
    "\n",
    "Restaurant table:  `id` {unique integer identifying the restaurant}\n",
    "`name` string wirh restaurant name\n",
    "`price` integer that correspoonds to the number of dollar sings\n",
    "`kind` string that identifies the cuisines type itself\n",
    "\n",
    "cuisines table:\n",
    "`restaurant_id` number associated with the restaurant)\n",
    "`kind` \n",
    "------\n",
    "Sample entry from restaurant table\n",
    "id: 4\n",
    "name: brad's \n",
    "price: 1\n",
    "-----\n",
    "\n",
    "sample entry from cuisines table\n",
    "restaurant_id: 4\n",
    "kind: coffee_tea\n",
    "---\n",
    "restaurant_id:4\n",
    "kind: seafood\n",
    "\n",
    "\"setup phae\" creating database and creating tables \"one time\" --> psql\n",
    "\"working with data phase\" --> inserting records, selecting stuff ---> python "
   ]
  },
  {
   "cell_type": "markdown",
   "metadata": {},
   "source": [
    "sql data types like \n",
    "* int integers\n",
    "* varchar(n) strring with lengt n\n",
    "* numeric number/decimal \n",
    "* \"serial\" -> integer that is automatically assigned \n"
   ]
  },
  {
   "cell_type": "markdown",
   "metadata": {},
   "source": [
    "## Connect to the database"
   ]
  },
  {
   "cell_type": "code",
   "execution_count": 139,
   "metadata": {
    "collapsed": false
   },
   "outputs": [],
   "source": [
    "import pg8000\n",
    "conn = pg8000.connect(database=\"menupages\")"
   ]
  },
  {
   "cell_type": "code",
   "execution_count": 140,
   "metadata": {
    "collapsed": false
   },
   "outputs": [
    {
     "data": {
      "text/plain": [
       "pg8000.core.Connection"
      ]
     },
     "execution_count": 140,
     "metadata": {},
     "output_type": "execute_result"
    }
   ],
   "source": [
    "type(conn)"
   ]
  },
  {
   "cell_type": "code",
   "execution_count": 163,
   "metadata": {
    "collapsed": true
   },
   "outputs": [],
   "source": [
    "conn.rollback() #execute this whenever toy make a SQL problem "
   ]
  },
  {
   "cell_type": "code",
   "execution_count": 142,
   "metadata": {
    "collapsed": true
   },
   "outputs": [],
   "source": [
    "cursor = conn.cursor()"
   ]
  },
  {
   "cell_type": "markdown",
   "metadata": {},
   "source": [
    "cursor objects:\n",
    "    \n",
    "* execute() <-- execute a SQL statement\n",
    "* fetchone() <--- fetches the first recrod of the results of a statement (as list)\n",
    "* fetchall() <---- returns all the rowes of the result of a statement( as a list of lists)"
   ]
  },
  {
   "cell_type": "code",
   "execution_count": 119,
   "metadata": {
    "collapsed": true
   },
   "outputs": [],
   "source": [
    "cursor.execute(\"INSERT INTO restaurant (name, price) VALUES ('good Food Places', 3)\")\n",
    "conn.commit()"
   ]
  },
  {
   "cell_type": "code",
   "execution_count": 120,
   "metadata": {
    "collapsed": false
   },
   "outputs": [
    {
     "name": "stdout",
     "output_type": "stream",
     "text": [
      "[2, 'Panino Sportivo Roma', 2]\n",
      "[3, 'Max Soha', 2]\n",
      "[4, 'good Food Places', 3]\n",
      "[5, 'good Food Places', 3]\n",
      "[6, 'Palace of Vegan Nosh', 3]\n",
      "[7, 'Palace of Vegan Nosh', 3]\n",
      "[8, 'good Food Places', 3]\n"
     ]
    }
   ],
   "source": [
    "cursor.execute(\"select * from restaurant\")\n",
    "for item in cursor.fetchall():\n",
    "    print(item)"
   ]
  },
  {
   "cell_type": "code",
   "execution_count": 121,
   "metadata": {
    "collapsed": true
   },
   "outputs": [],
   "source": [
    "cursor.execute(\"INSERT INTO restaurant (name, price) VALUES ('Palace of Vegan Nosh', 3) returning id\")\n",
    "results = cursor.fetchone()\n",
    "conn.commit()"
   ]
  },
  {
   "cell_type": "code",
   "execution_count": 122,
   "metadata": {
    "collapsed": false
   },
   "outputs": [
    {
     "data": {
      "text/plain": [
       "[9]"
      ]
     },
     "execution_count": 122,
     "metadata": {},
     "output_type": "execute_result"
    }
   ],
   "source": [
    "results"
   ]
  },
  {
   "cell_type": "code",
   "execution_count": 123,
   "metadata": {
    "collapsed": true
   },
   "outputs": [],
   "source": [
    "rowld = results[0]"
   ]
  },
  {
   "cell_type": "code",
   "execution_count": 124,
   "metadata": {
    "collapsed": false
   },
   "outputs": [
    {
     "data": {
      "text/plain": [
       "9"
      ]
     },
     "execution_count": 124,
     "metadata": {},
     "output_type": "execute_result"
    }
   ],
   "source": [
    "rowld"
   ]
  },
  {
   "cell_type": "markdown",
   "metadata": {},
   "source": [
    "## Quoting and parameters in SQL"
   ]
  },
  {
   "cell_type": "code",
   "execution_count": 125,
   "metadata": {
    "collapsed": false
   },
   "outputs": [
    {
     "ename": "ProgrammingError",
     "evalue": "('ERROR', '42601', 'syntax error at or near \"s\"', '52', 'scan.l', '1081', 'scanner_yyerror', '', '')",
     "output_type": "error",
     "traceback": [
      "\u001b[0;31m---------------------------------------------------------------------------\u001b[0m",
      "\u001b[0;31mKeyError\u001b[0m                                  Traceback (most recent call last)",
      "\u001b[0;32m/usr/local/lib/python3.5/site-packages/pg8000/core.py\u001b[0m in \u001b[0;36mexecute\u001b[0;34m(self, cursor, operation, vals)\u001b[0m\n\u001b[1;32m   1896\u001b[0m         \u001b[0;32mtry\u001b[0m\u001b[0;34m:\u001b[0m\u001b[0;34m\u001b[0m\u001b[0m\n\u001b[0;32m-> 1897\u001b[0;31m             \u001b[0mps\u001b[0m \u001b[0;34m=\u001b[0m \u001b[0mcache\u001b[0m\u001b[0;34m[\u001b[0m\u001b[0;34m'ps'\u001b[0m\u001b[0;34m]\u001b[0m\u001b[0;34m[\u001b[0m\u001b[0mkey\u001b[0m\u001b[0;34m]\u001b[0m\u001b[0;34m\u001b[0m\u001b[0m\n\u001b[0m\u001b[1;32m   1898\u001b[0m             \u001b[0mcursor\u001b[0m\u001b[0;34m.\u001b[0m\u001b[0mps\u001b[0m \u001b[0;34m=\u001b[0m \u001b[0mps\u001b[0m\u001b[0;34m\u001b[0m\u001b[0m\n",
      "\u001b[0;31mKeyError\u001b[0m: (\"INSERT INTO restaurant (name, price) VALUES ('Brad's', 3) returning id\", ())",
      "\nDuring handling of the above exception, another exception occurred:\n",
      "\u001b[0;31mProgrammingError\u001b[0m                          Traceback (most recent call last)",
      "\u001b[0;32m<ipython-input-125-4906bbc0b15f>\u001b[0m in \u001b[0;36m<module>\u001b[0;34m()\u001b[0m\n\u001b[0;32m----> 1\u001b[0;31m \u001b[0mcursor\u001b[0m\u001b[0;34m.\u001b[0m\u001b[0mexecute\u001b[0m\u001b[0;34m(\u001b[0m\u001b[0;34m\"INSERT INTO restaurant (name, price) VALUES ('Brad's', 3) returning id\"\u001b[0m\u001b[0;34m)\u001b[0m\u001b[0;34m\u001b[0m\u001b[0m\n\u001b[0m\u001b[1;32m      2\u001b[0m \u001b[0mresults\u001b[0m \u001b[0;34m=\u001b[0m \u001b[0mcursor\u001b[0m\u001b[0;34m.\u001b[0m\u001b[0mfetchone\u001b[0m\u001b[0;34m(\u001b[0m\u001b[0;34m)\u001b[0m\u001b[0;34m[\u001b[0m\u001b[0;36m0\u001b[0m\u001b[0;34m]\u001b[0m\u001b[0;34m\u001b[0m\u001b[0m\n\u001b[1;32m      3\u001b[0m \u001b[0mconn\u001b[0m\u001b[0;34m.\u001b[0m\u001b[0mcommit\u001b[0m\u001b[0;34m(\u001b[0m\u001b[0;34m)\u001b[0m\u001b[0;34m\u001b[0m\u001b[0m\n",
      "\u001b[0;32m/usr/local/lib/python3.5/site-packages/pg8000/core.py\u001b[0m in \u001b[0;36mexecute\u001b[0;34m(self, operation, args, stream)\u001b[0m\n\u001b[1;32m    905\u001b[0m                 \u001b[0;32mif\u001b[0m \u001b[0;32mnot\u001b[0m \u001b[0mself\u001b[0m\u001b[0;34m.\u001b[0m\u001b[0m_c\u001b[0m\u001b[0;34m.\u001b[0m\u001b[0min_transaction\u001b[0m \u001b[0;32mand\u001b[0m \u001b[0;32mnot\u001b[0m \u001b[0mself\u001b[0m\u001b[0;34m.\u001b[0m\u001b[0m_c\u001b[0m\u001b[0;34m.\u001b[0m\u001b[0mautocommit\u001b[0m\u001b[0;34m:\u001b[0m\u001b[0;34m\u001b[0m\u001b[0m\n\u001b[1;32m    906\u001b[0m                     \u001b[0mself\u001b[0m\u001b[0;34m.\u001b[0m\u001b[0m_c\u001b[0m\u001b[0;34m.\u001b[0m\u001b[0mexecute\u001b[0m\u001b[0;34m(\u001b[0m\u001b[0mself\u001b[0m\u001b[0;34m,\u001b[0m \u001b[0;34m\"begin transaction\"\u001b[0m\u001b[0;34m,\u001b[0m \u001b[0;32mNone\u001b[0m\u001b[0;34m)\u001b[0m\u001b[0;34m\u001b[0m\u001b[0m\n\u001b[0;32m--> 907\u001b[0;31m                 \u001b[0mself\u001b[0m\u001b[0;34m.\u001b[0m\u001b[0m_c\u001b[0m\u001b[0;34m.\u001b[0m\u001b[0mexecute\u001b[0m\u001b[0;34m(\u001b[0m\u001b[0mself\u001b[0m\u001b[0;34m,\u001b[0m \u001b[0moperation\u001b[0m\u001b[0;34m,\u001b[0m \u001b[0margs\u001b[0m\u001b[0;34m)\u001b[0m\u001b[0;34m\u001b[0m\u001b[0m\n\u001b[0m\u001b[1;32m    908\u001b[0m         \u001b[0;32mexcept\u001b[0m \u001b[0mAttributeError\u001b[0m \u001b[0;32mas\u001b[0m \u001b[0me\u001b[0m\u001b[0;34m:\u001b[0m\u001b[0;34m\u001b[0m\u001b[0m\n\u001b[1;32m    909\u001b[0m             \u001b[0;32mif\u001b[0m \u001b[0mself\u001b[0m\u001b[0;34m.\u001b[0m\u001b[0m_c\u001b[0m \u001b[0;32mis\u001b[0m \u001b[0;32mNone\u001b[0m\u001b[0;34m:\u001b[0m\u001b[0;34m\u001b[0m\u001b[0m\n",
      "\u001b[0;32m/usr/local/lib/python3.5/site-packages/pg8000/core.py\u001b[0m in \u001b[0;36mexecute\u001b[0;34m(self, cursor, operation, vals)\u001b[0m\n\u001b[1;32m   1944\u001b[0m                 \u001b[0;32mraise\u001b[0m \u001b[0mOperationalError\u001b[0m\u001b[0;34m(\u001b[0m\u001b[0mstr\u001b[0m\u001b[0;34m(\u001b[0m\u001b[0me\u001b[0m\u001b[0;34m)\u001b[0m\u001b[0;34m)\u001b[0m\u001b[0;34m\u001b[0m\u001b[0m\n\u001b[1;32m   1945\u001b[0m \u001b[0;34m\u001b[0m\u001b[0m\n\u001b[0;32m-> 1946\u001b[0;31m             \u001b[0mself\u001b[0m\u001b[0;34m.\u001b[0m\u001b[0mhandle_messages\u001b[0m\u001b[0;34m(\u001b[0m\u001b[0mcursor\u001b[0m\u001b[0;34m)\u001b[0m\u001b[0;34m\u001b[0m\u001b[0m\n\u001b[0m\u001b[1;32m   1947\u001b[0m \u001b[0;34m\u001b[0m\u001b[0m\n\u001b[1;32m   1948\u001b[0m             \u001b[0;31m# We've got row_desc that allows us to identify what we're\u001b[0m\u001b[0;34m\u001b[0m\u001b[0;34m\u001b[0m\u001b[0m\n",
      "\u001b[0;32m/usr/local/lib/python3.5/site-packages/pg8000/core.py\u001b[0m in \u001b[0;36mhandle_messages\u001b[0;34m(self, cursor)\u001b[0m\n\u001b[1;32m   2092\u001b[0m \u001b[0;34m\u001b[0m\u001b[0m\n\u001b[1;32m   2093\u001b[0m         \u001b[0;32mif\u001b[0m \u001b[0mself\u001b[0m\u001b[0;34m.\u001b[0m\u001b[0merror\u001b[0m \u001b[0;32mis\u001b[0m \u001b[0;32mnot\u001b[0m \u001b[0;32mNone\u001b[0m\u001b[0;34m:\u001b[0m\u001b[0;34m\u001b[0m\u001b[0m\n\u001b[0;32m-> 2094\u001b[0;31m             \u001b[0;32mraise\u001b[0m \u001b[0mself\u001b[0m\u001b[0;34m.\u001b[0m\u001b[0merror\u001b[0m\u001b[0;34m\u001b[0m\u001b[0m\n\u001b[0m\u001b[1;32m   2095\u001b[0m \u001b[0;34m\u001b[0m\u001b[0m\n\u001b[1;32m   2096\u001b[0m     \u001b[0;31m# Byte1('C') - Identifies the message as a close command.\u001b[0m\u001b[0;34m\u001b[0m\u001b[0;34m\u001b[0m\u001b[0m\n",
      "\u001b[0;31mProgrammingError\u001b[0m: ('ERROR', '42601', 'syntax error at or near \"s\"', '52', 'scan.l', '1081', 'scanner_yyerror', '', '')"
     ]
    }
   ],
   "source": [
    "#WILL NOT WORK\n",
    "cursor.execute(\"INSERT INTO restaurant (name, price) VALUES ('Brad's', 3) returning id\")\n",
    "results = cursor.fetchone()[0]\n",
    "conn.commit()"
   ]
  },
  {
   "cell_type": "code",
   "execution_count": null,
   "metadata": {
    "collapsed": true
   },
   "outputs": [],
   "source": [
    "#SQL injection attack\n",
    "restaurant = \"'Restaurant'); Delete from restaurant;\"\n",
    "string in python --> \"quote\" \"escape\" ---> valid sql statement\n",
    "#very weird difficult and arquade"
   ]
  },
  {
   "cell_type": "code",
   "execution_count": 147,
   "metadata": {
    "collapsed": false
   },
   "outputs": [],
   "source": [
    "rest_insert = \"INSERT INTO restaurant (name, price) VALUES (%s, %s)\"\n",
    "cursor.execute(rest_insert, [\"Brad's\", 1])\n",
    "# pg8000 does the work: \"INSERT INTOrestaurant (name, price) values ('Brad\\'\\'s', 1)\"\n",
    "conn.commit()"
   ]
  },
  {
   "cell_type": "markdown",
   "metadata": {},
   "source": [
    "## Insert a restaurant and its cuisines!!"
   ]
  },
  {
   "cell_type": "code",
   "execution_count": 144,
   "metadata": {
    "collapsed": false
   },
   "outputs": [],
   "source": [
    "cursor.execute(\"insert into restaurant (name, price) values (%s, %s) returning id\", [\"Test Restaurant\", 2])\n",
    "rowid = cursor.fetchone()[0]\n",
    "conn.commit()"
   ]
  },
  {
   "cell_type": "code",
   "execution_count": 146,
   "metadata": {
    "collapsed": false
   },
   "outputs": [
    {
     "data": {
      "text/plain": [
       "<bound method Connection.commit of <pg8000.core.Connection object at 0x1073b9908>>"
      ]
     },
     "execution_count": 146,
     "metadata": {},
     "output_type": "execute_result"
    }
   ],
   "source": [
    "#let's say Test Restaunrant servers fondue and casseroles\n",
    "cuisine_insert = \"insert into cuisine (restaurant_id, kind) values (%s, %s)\"\n",
    "cursor.execute(cuisine_insert, [rowid, \"fondue\"])\n",
    "cursor.execute(cuisine_insert, [rowid, 'casseroles'])\n",
    "conn.commit"
   ]
  },
  {
   "cell_type": "markdown",
   "metadata": {},
   "source": [
    "## Insert many restaurants!!"
   ]
  },
  {
   "cell_type": "code",
   "execution_count": 150,
   "metadata": {
    "collapsed": false
   },
   "outputs": [
    {
     "ename": "NotSupportedError",
     "evalue": "type <class 'bs4.element.NavigableString'>not mapped to pg type",
     "output_type": "error",
     "traceback": [
      "\u001b[0;31m---------------------------------------------------------------------------\u001b[0m",
      "\u001b[0;31mKeyError\u001b[0m                                  Traceback (most recent call last)",
      "\u001b[0;32m/usr/local/lib/python3.5/site-packages/pg8000/core.py\u001b[0m in \u001b[0;36mmake_params\u001b[0;34m(self, values)\u001b[0m\n\u001b[1;32m   1854\u001b[0m             \u001b[0;32mtry\u001b[0m\u001b[0;34m:\u001b[0m\u001b[0;34m\u001b[0m\u001b[0m\n\u001b[0;32m-> 1855\u001b[0;31m                 \u001b[0mparams\u001b[0m\u001b[0;34m.\u001b[0m\u001b[0mappend\u001b[0m\u001b[0;34m(\u001b[0m\u001b[0mself\u001b[0m\u001b[0;34m.\u001b[0m\u001b[0mpy_types\u001b[0m\u001b[0;34m[\u001b[0m\u001b[0mtyp\u001b[0m\u001b[0;34m]\u001b[0m\u001b[0;34m)\u001b[0m\u001b[0;34m\u001b[0m\u001b[0m\n\u001b[0m\u001b[1;32m   1856\u001b[0m             \u001b[0;32mexcept\u001b[0m \u001b[0mKeyError\u001b[0m\u001b[0;34m:\u001b[0m\u001b[0;34m\u001b[0m\u001b[0m\n",
      "\u001b[0;31mKeyError\u001b[0m: <class 'bs4.element.NavigableString'>",
      "\nDuring handling of the above exception, another exception occurred:\n",
      "\u001b[0;31mKeyError\u001b[0m                                  Traceback (most recent call last)",
      "\u001b[0;32m/usr/local/lib/python3.5/site-packages/pg8000/core.py\u001b[0m in \u001b[0;36mmake_params\u001b[0;34m(self, values)\u001b[0m\n\u001b[1;32m   1857\u001b[0m                 \u001b[0;32mtry\u001b[0m\u001b[0;34m:\u001b[0m\u001b[0;34m\u001b[0m\u001b[0m\n\u001b[0;32m-> 1858\u001b[0;31m                     \u001b[0mparams\u001b[0m\u001b[0;34m.\u001b[0m\u001b[0mappend\u001b[0m\u001b[0;34m(\u001b[0m\u001b[0mself\u001b[0m\u001b[0;34m.\u001b[0m\u001b[0minspect_funcs\u001b[0m\u001b[0;34m[\u001b[0m\u001b[0mtyp\u001b[0m\u001b[0;34m]\u001b[0m\u001b[0;34m(\u001b[0m\u001b[0mvalue\u001b[0m\u001b[0;34m)\u001b[0m\u001b[0;34m)\u001b[0m\u001b[0;34m\u001b[0m\u001b[0m\n\u001b[0m\u001b[1;32m   1859\u001b[0m                 \u001b[0;32mexcept\u001b[0m \u001b[0mKeyError\u001b[0m \u001b[0;32mas\u001b[0m \u001b[0me\u001b[0m\u001b[0;34m:\u001b[0m\u001b[0;34m\u001b[0m\u001b[0m\n",
      "\u001b[0;31mKeyError\u001b[0m: <class 'bs4.element.NavigableString'>",
      "\nDuring handling of the above exception, another exception occurred:\n",
      "\u001b[0;31mNotSupportedError\u001b[0m                         Traceback (most recent call last)",
      "\u001b[0;32m<ipython-input-150-8f56fb39b1f8>\u001b[0m in \u001b[0;36m<module>\u001b[0;34m()\u001b[0m\n\u001b[1;32m      2\u001b[0m \u001b[0;32mfor\u001b[0m \u001b[0mitem\u001b[0m \u001b[0;32min\u001b[0m \u001b[0mrestaurants\u001b[0m\u001b[0;34m:\u001b[0m\u001b[0;34m\u001b[0m\u001b[0m\n\u001b[1;32m      3\u001b[0m     \u001b[0;31m#execute sql statement with data from the restaurant!\u001b[0m\u001b[0;34m\u001b[0m\u001b[0;34m\u001b[0m\u001b[0m\n\u001b[0;32m----> 4\u001b[0;31m     \u001b[0mcursor\u001b[0m\u001b[0;34m.\u001b[0m\u001b[0mexecute\u001b[0m\u001b[0;34m(\u001b[0m\u001b[0mrest_insert\u001b[0m\u001b[0;34m,\u001b[0m \u001b[0;34m[\u001b[0m\u001b[0mitem\u001b[0m\u001b[0;34m[\u001b[0m\u001b[0;34m'name'\u001b[0m\u001b[0;34m]\u001b[0m\u001b[0;34m,\u001b[0m \u001b[0mitem\u001b[0m\u001b[0;34m[\u001b[0m\u001b[0;34m'price'\u001b[0m\u001b[0;34m]\u001b[0m\u001b[0;34m]\u001b[0m\u001b[0;34m)\u001b[0m\u001b[0;34m\u001b[0m\u001b[0m\n\u001b[0m\u001b[1;32m      5\u001b[0m \u001b[0mconn\u001b[0m\u001b[0;34m.\u001b[0m\u001b[0mcommit\u001b[0m\u001b[0;34m\u001b[0m\u001b[0m\n",
      "\u001b[0;32m/usr/local/lib/python3.5/site-packages/pg8000/core.py\u001b[0m in \u001b[0;36mexecute\u001b[0;34m(self, operation, args, stream)\u001b[0m\n\u001b[1;32m    905\u001b[0m                 \u001b[0;32mif\u001b[0m \u001b[0;32mnot\u001b[0m \u001b[0mself\u001b[0m\u001b[0;34m.\u001b[0m\u001b[0m_c\u001b[0m\u001b[0;34m.\u001b[0m\u001b[0min_transaction\u001b[0m \u001b[0;32mand\u001b[0m \u001b[0;32mnot\u001b[0m \u001b[0mself\u001b[0m\u001b[0;34m.\u001b[0m\u001b[0m_c\u001b[0m\u001b[0;34m.\u001b[0m\u001b[0mautocommit\u001b[0m\u001b[0;34m:\u001b[0m\u001b[0;34m\u001b[0m\u001b[0m\n\u001b[1;32m    906\u001b[0m                     \u001b[0mself\u001b[0m\u001b[0;34m.\u001b[0m\u001b[0m_c\u001b[0m\u001b[0;34m.\u001b[0m\u001b[0mexecute\u001b[0m\u001b[0;34m(\u001b[0m\u001b[0mself\u001b[0m\u001b[0;34m,\u001b[0m \u001b[0;34m\"begin transaction\"\u001b[0m\u001b[0;34m,\u001b[0m \u001b[0;32mNone\u001b[0m\u001b[0;34m)\u001b[0m\u001b[0;34m\u001b[0m\u001b[0m\n\u001b[0;32m--> 907\u001b[0;31m                 \u001b[0mself\u001b[0m\u001b[0;34m.\u001b[0m\u001b[0m_c\u001b[0m\u001b[0;34m.\u001b[0m\u001b[0mexecute\u001b[0m\u001b[0;34m(\u001b[0m\u001b[0mself\u001b[0m\u001b[0;34m,\u001b[0m \u001b[0moperation\u001b[0m\u001b[0;34m,\u001b[0m \u001b[0margs\u001b[0m\u001b[0;34m)\u001b[0m\u001b[0;34m\u001b[0m\u001b[0m\n\u001b[0m\u001b[1;32m    908\u001b[0m         \u001b[0;32mexcept\u001b[0m \u001b[0mAttributeError\u001b[0m \u001b[0;32mas\u001b[0m \u001b[0me\u001b[0m\u001b[0;34m:\u001b[0m\u001b[0;34m\u001b[0m\u001b[0m\n\u001b[1;32m    909\u001b[0m             \u001b[0;32mif\u001b[0m \u001b[0mself\u001b[0m\u001b[0;34m.\u001b[0m\u001b[0m_c\u001b[0m \u001b[0;32mis\u001b[0m \u001b[0;32mNone\u001b[0m\u001b[0;34m:\u001b[0m\u001b[0;34m\u001b[0m\u001b[0m\n",
      "\u001b[0;32m/usr/local/lib/python3.5/site-packages/pg8000/core.py\u001b[0m in \u001b[0;36mexecute\u001b[0;34m(self, cursor, operation, vals)\u001b[0m\n\u001b[1;32m   1891\u001b[0m \u001b[0;34m\u001b[0m\u001b[0m\n\u001b[1;32m   1892\u001b[0m         \u001b[0margs\u001b[0m \u001b[0;34m=\u001b[0m \u001b[0mmake_args\u001b[0m\u001b[0;34m(\u001b[0m\u001b[0mvals\u001b[0m\u001b[0;34m)\u001b[0m\u001b[0;34m\u001b[0m\u001b[0m\n\u001b[0;32m-> 1893\u001b[0;31m         \u001b[0mparams\u001b[0m \u001b[0;34m=\u001b[0m \u001b[0mself\u001b[0m\u001b[0;34m.\u001b[0m\u001b[0mmake_params\u001b[0m\u001b[0;34m(\u001b[0m\u001b[0margs\u001b[0m\u001b[0;34m)\u001b[0m\u001b[0;34m\u001b[0m\u001b[0m\n\u001b[0m\u001b[1;32m   1894\u001b[0m         \u001b[0mkey\u001b[0m \u001b[0;34m=\u001b[0m \u001b[0moperation\u001b[0m\u001b[0;34m,\u001b[0m \u001b[0mparams\u001b[0m\u001b[0;34m\u001b[0m\u001b[0m\n\u001b[1;32m   1895\u001b[0m \u001b[0;34m\u001b[0m\u001b[0m\n",
      "\u001b[0;32m/usr/local/lib/python3.5/site-packages/pg8000/core.py\u001b[0m in \u001b[0;36mmake_params\u001b[0;34m(self, values)\u001b[0m\n\u001b[1;32m   1859\u001b[0m                 \u001b[0;32mexcept\u001b[0m \u001b[0mKeyError\u001b[0m \u001b[0;32mas\u001b[0m \u001b[0me\u001b[0m\u001b[0;34m:\u001b[0m\u001b[0;34m\u001b[0m\u001b[0m\n\u001b[1;32m   1860\u001b[0m                     raise NotSupportedError(\n\u001b[0;32m-> 1861\u001b[0;31m                         \"type \" + str(e) + \"not mapped to pg type\")\n\u001b[0m\u001b[1;32m   1862\u001b[0m         \u001b[0;32mreturn\u001b[0m \u001b[0mtuple\u001b[0m\u001b[0;34m(\u001b[0m\u001b[0mparams\u001b[0m\u001b[0;34m)\u001b[0m\u001b[0;34m\u001b[0m\u001b[0m\n\u001b[1;32m   1863\u001b[0m \u001b[0;34m\u001b[0m\u001b[0m\n",
      "\u001b[0;31mNotSupportedError\u001b[0m: type <class 'bs4.element.NavigableString'>not mapped to pg type"
     ]
    }
   ],
   "source": [
    "rest_insert = \"insert into restaurant (name, price) values (%s, %s)\"\n",
    "for item in restaurants:\n",
    "    #execute sql statement with data from the restaurant!\n",
    "    cursor.execute(rest_insert, [item['name'], item['price']])\n",
    "conn.commit  "
   ]
  },
  {
   "cell_type": "code",
   "execution_count": 153,
   "metadata": {
    "collapsed": false
   },
   "outputs": [
    {
     "data": {
      "text/plain": [
       "{'cuisines': ['deli', 'sandwiches'], 'name': 'Milano Market', 'price': 2}"
      ]
     },
     "execution_count": 153,
     "metadata": {},
     "output_type": "execute_result"
    }
   ],
   "source": [
    "first = restaurants[0]\n",
    "first"
   ]
  },
  {
   "cell_type": "code",
   "execution_count": 154,
   "metadata": {
    "collapsed": false
   },
   "outputs": [
    {
     "name": "stdout",
     "output_type": "stream",
     "text": [
      "Milano Market\n"
     ]
    }
   ],
   "source": [
    "print(first ['name'])"
   ]
  },
  {
   "cell_type": "code",
   "execution_count": 155,
   "metadata": {
    "collapsed": false
   },
   "outputs": [
    {
     "data": {
      "text/plain": [
       "bs4.element.NavigableString"
      ]
     },
     "execution_count": 155,
     "metadata": {},
     "output_type": "execute_result"
    }
   ],
   "source": [
    "type(first['name'])"
   ]
  },
  {
   "cell_type": "markdown",
   "metadata": {},
   "source": [
    "##why isnt this just a string?\n",
    "wheneever you use the `.string` atribute of a Beuatiful soup tag objects, the type of that value is `bs4.element.navigableString`.\n",
    "fortunately, there is an easy fix: `str(val)`"
   ]
  },
  {
   "cell_type": "code",
   "execution_count": 157,
   "metadata": {
    "collapsed": false
   },
   "outputs": [],
   "source": [
    "rest_insert = \"insert into restaurant (name, price) values (%s, %s)\"\n",
    "for item in restaurants:\n",
    "    #execute sql statement with data from the restaurant!\n",
    "    cursor.execute(rest_insert, [str(item['name']), item['price']])\n",
    "conn.commit()  "
   ]
  },
  {
   "cell_type": "code",
   "execution_count": 158,
   "metadata": {
    "collapsed": true
   },
   "outputs": [],
   "source": [
    "cursor.execute(\"insert into restaurant (name, price) values (%s, %s) returning id\", [\"Test Restaurant\", 2])\n",
    "rowid = cursor.fetchone()[0]\n",
    "conn.commit()"
   ]
  },
  {
   "cell_type": "code",
   "execution_count": 164,
   "metadata": {
    "collapsed": true
   },
   "outputs": [],
   "source": [
    "conn.rollback()"
   ]
  },
  {
   "cell_type": "code",
   "execution_count": 159,
   "metadata": {
    "collapsed": true
   },
   "outputs": [],
   "source": [
    "## /Inserting voth restaunrants and their cuisiness"
   ]
  },
  {
   "cell_type": "code",
   "execution_count": 165,
   "metadata": {
    "collapsed": false
   },
   "outputs": [
    {
     "data": {
      "text/plain": [
       "[{'cuisines': ['deli', 'sandwiches'], 'name': 'Milano Market', 'price': 2},\n",
       " {'cuisines': ['ethiopian', 'african'], 'name': 'Massawa', 'price': 0},\n",
       " {'cuisines': ['chinese', 'japanese', 'sushi'],\n",
       "  'name': 'China Place',\n",
       "  'price': 0},\n",
       " {'cuisines': ['cheese-steaks', 'deli', 'sandwiches', 'salads'],\n",
       "  'name': 'Subsconscious',\n",
       "  'price': 0},\n",
       " {'cuisines': ['italian', 'pizza'], 'name': 'Famous Famiglia', 'price': 0},\n",
       " {'cuisines': ['bakery-pastries', 'american', 'desserts'],\n",
       "  'name': 'Kitchenette',\n",
       "  'price': 0},\n",
       " {'cuisines': ['italian', 'pizza'], 'name': 'V & T Pizza', 'price': 0},\n",
       " {'cuisines': ['chinese'], 'name': 'New Aroma', 'price': 1},\n",
       " {'cuisines': ['chinese'], 'name': 'Peking Garden', 'price': 1},\n",
       " {'cuisines': ['diner'], 'name': \"Tom's Restaurant\", 'price': 1},\n",
       " {'cuisines': ['italian'], 'name': 'Pisticci', 'price': 1},\n",
       " {'cuisines': ['diner', 'american'], 'name': 'Deluxe', 'price': 1},\n",
       " {'cuisines': ['american', 'bar-food'], 'name': 'Toast', 'price': 2},\n",
       " {'cuisines': ['italian', 'pizza'],\n",
       "  'name': \"Tom's Delicious Pizza\",\n",
       "  'price': 2},\n",
       " {'cuisines': ['chinese'], 'name': 'West Place', 'price': 1},\n",
       " {'cuisines': ['italian', 'pizza'], 'name': \"Che' Bella Pizza\", 'price': 0},\n",
       " {'cuisines': ['indian'], 'name': 'Ajanta', 'price': 0},\n",
       " {'cuisines': ['italian', 'coffee-tea', 'sandwiches'],\n",
       "  'name': 'Panino Sportivo Roma',\n",
       "  'price': 2},\n",
       " {'cuisines': ['italian'], 'name': 'Max Soha', 'price': 2},\n",
       " {'cuisines': ['deli', 'pizza', 'sandwiches', 'chicken'],\n",
       "  'name': 'Strokos Pizza',\n",
       "  'price': 3},\n",
       " {'cuisines': ['american'], 'name': \"Camille's\", 'price': 1},\n",
       " {'cuisines': ['american-new', 'tapas'],\n",
       "  'name': 'Amsterdam Restaurant',\n",
       "  'price': 1},\n",
       " {'cuisines': ['deli', 'sandwiches', 'bagels', 'salads'],\n",
       "  'name': 'Nussbaum & Wu',\n",
       "  'price': 0},\n",
       " {'cuisines': ['middle-eastern'], 'name': \"Amir's Grill\", 'price': 1},\n",
       " {'cuisines': ['japanese', 'sushi', 'deli', 'sandwiches'],\n",
       "  'name': 'M2M - Morning To Midnight',\n",
       "  'price': 1},\n",
       " {'cuisines': ['korean'], 'name': 'The Mill', 'price': 2},\n",
       " {'cuisines': ['french', 'bistro'], 'name': 'Le Monde', 'price': 1},\n",
       " {'cuisines': ['american-new', 'soul-food'], 'name': \"Melba's\", 'price': 1},\n",
       " {'cuisines': ['pizza', 'american'], 'name': \"Chuck E Cheese's\", 'price': 0},\n",
       " {'cuisines': ['desserts'], 'name': 'Haagen-Dazs', 'price': 1},\n",
       " {'cuisines': ['coffee-tea', 'sandwiches'], 'name': \"Oren's\", 'price': 0},\n",
       " {'cuisines': ['barbecue', 'soul-food'],\n",
       "  'name': 'Dinosaur Bar-B-Que',\n",
       "  'price': 3},\n",
       " {'cuisines': ['greek', 'vegetarian'],\n",
       "  'name': 'Symposium Greek Restaurant',\n",
       "  'price': 0},\n",
       " {'cuisines': ['pizza'], 'name': 'Koronet Pizza', 'price': 1},\n",
       " {'cuisines': ['southwestern', 'tapas', 'bar-food'],\n",
       "  'name': 'The Heights Bar & Grill',\n",
       "  'price': 1},\n",
       " {'cuisines': ['middle-eastern', 'kosher'], 'name': 'Cafe Nana', 'price': 0},\n",
       " {'cuisines': ['deli', 'sandwiches'], 'name': 'Hamilton Deli', 'price': 0},\n",
       " {'cuisines': ['american-new',\n",
       "   'smoothies-juices',\n",
       "   'vegetarian',\n",
       "   'healthy',\n",
       "   'localorganic'],\n",
       "  'name': 'Community Food & Juice',\n",
       "  'price': 0},\n",
       " {'cuisines': ['american', 'scandinavian'],\n",
       "  'name': \"Haakon's Hall\",\n",
       "  'price': 0},\n",
       " {'cuisines': ['mexican'], 'name': 'El Porton', 'price': 0},\n",
       " {'cuisines': ['coffee-tea'], 'name': \"Brad's\", 'price': 1},\n",
       " {'cuisines': ['burgers', 'bar-food'], 'name': \"Mel's Burger Bar\", 'price': 2},\n",
       " {'cuisines': ['italian', 'pizza', 'localorganic'],\n",
       "  'name': 'Bettolona',\n",
       "  'price': 1},\n",
       " {'cuisines': ['burgers', 'hot-dogs'], 'name': 'Five Guys', 'price': 1},\n",
       " {'cuisines': ['chinese', 'japanese', 'sushi', 'teahouses'],\n",
       "  'name': 'Nikko',\n",
       "  'price': 2},\n",
       " {'cuisines': ['middle-eastern'], 'name': 'Falafel on Broadway', 'price': 1},\n",
       " {'cuisines': ['japanese', 'sushi'], 'name': 'Sushi Sushi', 'price': 1},\n",
       " {'cuisines': ['bakery-pastries', 'desserts'],\n",
       "  'name': 'Insomnia Cookies',\n",
       "  'price': 1},\n",
       " {'cuisines': ['coffee-tea', 'sandwiches'], 'name': 'Cafe Amrita', 'price': 1},\n",
       " {'cuisines': ['desserts'], 'name': 'Pinkberry', 'price': 2},\n",
       " {'cuisines': ['coffee-tea', 'sandwiches', 'crepes'],\n",
       "  'name': 'Artopolis Espresso Cafe',\n",
       "  'price': 1},\n",
       " {'cuisines': ['coffee-tea', 'sandwiches'], 'name': 'Max Caffe', 'price': 2},\n",
       " {'cuisines': ['mexican'], 'name': 'Chipotle', 'price': 1},\n",
       " {'cuisines': ['bakery-pastries', 'desserts'],\n",
       "  'name': 'Chokolat Patisserie',\n",
       "  'price': 5},\n",
       " {'cuisines': ['bakery-pastries', 'coffee-tea', 'desserts'],\n",
       "  'name': 'Chokolat Patisserie',\n",
       "  'price': 1},\n",
       " {'cuisines': ['deli', 'sandwiches'], 'name': \"Joe's G-H Deli\", 'price': 2},\n",
       " {'cuisines': ['coffee-tea'], 'name': 'Joe the Art of Coffee', 'price': 1},\n",
       " {'cuisines': ['bakery-pastries', 'desserts'],\n",
       "  'name': 'Levain Bakery',\n",
       "  'price': 2},\n",
       " {'cuisines': ['middle-eastern', 'vegetarian'], 'name': 'Silvana', 'price': 1},\n",
       " {'cuisines': ['german', 'eclectic', 'bar-food'],\n",
       "  'name': 'Bier International',\n",
       "  'price': 1},\n",
       " {'cuisines': ['indian', 'vegetarian'], 'name': 'Vegenation', 'price': 1},\n",
       " {'cuisines': ['american-new', 'bistro'], 'name': 'Flat Top', 'price': 4},\n",
       " {'cuisines': ['coffee-tea'], 'name': 'Kuro Kuma', 'price': 1},\n",
       " {'cuisines': ['american-new'], 'name': 'Vinateria', 'price': 2},\n",
       " {'cuisines': ['chinese'], 'name': 'Henan Cart', 'price': 1},\n",
       " {'cuisines': ['japanese', 'sushi', 'thai'], 'name': 'Vine', 'price': 2},\n",
       " {'cuisines': ['mexican'], 'name': 'El Paso Truck', 'price': 1},\n",
       " {'cuisines': ['pizza', 'chicken'],\n",
       "  'name': \"Mama's Fried Chicken and Pizza\",\n",
       "  'price': 1},\n",
       " {'cuisines': ['indian'], 'name': 'Chapati House', 'price': 2},\n",
       " {'cuisines': ['american', 'localorganic'],\n",
       "  'name': 'Dig Inn Seasonal Market',\n",
       "  'price': 1},\n",
       " {'cuisines': ['chinese'], 'name': 'Uncle Luoyang', 'price': 1},\n",
       " {'cuisines': ['middle-eastern'], 'name': 'Pita Grill', 'price': 2},\n",
       " {'cuisines': ['japanese'], 'name': 'Kissaten Jin', 'price': 1},\n",
       " {'cuisines': ['coffee-tea', 'teahouses'],\n",
       "  'name': 'Serengeti Teas & Spices',\n",
       "  'price': 2},\n",
       " {'cuisines': ['seafood', 'wings', 'fish--chips'],\n",
       "  'name': 'Lighthouse Fish Market & Restaurant',\n",
       "  'price': 3},\n",
       " {'cuisines': ['seafood'], 'name': \"Lolo's Seafood Shack\", 'price': 2},\n",
       " {'cuisines': ['sandwiches', 'salads', 'teahouses'],\n",
       "  'name': 'Harmony',\n",
       "  'price': 1},\n",
       " {'cuisines': ['american', 'gastropub'],\n",
       "  'name': 'Bernheim & Schwartz',\n",
       "  'price': 2},\n",
       " {'cuisines': ['american-new'], 'name': 'BTH (By The Hudson)', 'price': 3},\n",
       " {'cuisines': [], 'name': 'Empanadas Monumental', 'price': 0},\n",
       " {'cuisines': [], 'name': \"Friedman's\", 'price': 0},\n",
       " {'cuisines': [], 'name': '176 Presbyterian Deli', 'price': 0},\n",
       " {'cuisines': [], 'name': \"Nacho Mama's\", 'price': 0},\n",
       " {'cuisines': [], 'name': 'Streetbird Rotisserie', 'price': 0},\n",
       " {'cuisines': [], 'name': 'Colum Chinese Restaurant', 'price': 0},\n",
       " {'cuisines': [], 'name': 'Flacoz Tacoz', 'price': 0},\n",
       " {'cuisines': [], 'name': 'sweetgreen', 'price': 0},\n",
       " {'cuisines': [], 'name': 'La Salle Dumpling Room', 'price': 0}]"
      ]
     },
     "execution_count": 165,
     "metadata": {},
     "output_type": "execute_result"
    }
   ],
   "source": [
    "restaurants"
   ]
  },
  {
   "cell_type": "code",
   "execution_count": 166,
   "metadata": {
    "collapsed": false
   },
   "outputs": [
    {
     "name": "stdout",
     "output_type": "stream",
     "text": [
      " - inserting cuisine deli\n",
      " - inserting cuisine sandwiches\n",
      " - inserting cuisine ethiopian\n",
      " - inserting cuisine african\n",
      " - inserting cuisine chinese\n",
      " - inserting cuisine japanese\n",
      " - inserting cuisine sushi\n",
      " - inserting cuisine cheese-steaks\n",
      " - inserting cuisine deli\n",
      " - inserting cuisine sandwiches\n",
      " - inserting cuisine salads\n",
      " - inserting cuisine italian\n",
      " - inserting cuisine pizza\n",
      " - inserting cuisine bakery-pastries\n",
      " - inserting cuisine american\n",
      " - inserting cuisine desserts\n",
      " - inserting cuisine italian\n",
      " - inserting cuisine pizza\n",
      " - inserting cuisine chinese\n",
      " - inserting cuisine chinese\n",
      " - inserting cuisine diner\n",
      " - inserting cuisine italian\n",
      " - inserting cuisine diner\n",
      " - inserting cuisine american\n",
      " - inserting cuisine american\n",
      " - inserting cuisine bar-food\n",
      " - inserting cuisine italian\n",
      " - inserting cuisine pizza\n",
      " - inserting cuisine chinese\n",
      " - inserting cuisine italian\n",
      " - inserting cuisine pizza\n",
      " - inserting cuisine indian\n",
      " - inserting cuisine italian\n",
      " - inserting cuisine coffee-tea\n",
      " - inserting cuisine sandwiches\n",
      " - inserting cuisine italian\n",
      " - inserting cuisine deli\n",
      " - inserting cuisine pizza\n",
      " - inserting cuisine sandwiches\n",
      " - inserting cuisine chicken\n",
      " - inserting cuisine american\n",
      " - inserting cuisine american-new\n",
      " - inserting cuisine tapas\n",
      " - inserting cuisine deli\n",
      " - inserting cuisine sandwiches\n",
      " - inserting cuisine bagels\n",
      " - inserting cuisine salads\n",
      " - inserting cuisine middle-eastern\n",
      " - inserting cuisine japanese\n",
      " - inserting cuisine sushi\n",
      " - inserting cuisine deli\n",
      " - inserting cuisine sandwiches\n",
      " - inserting cuisine korean\n",
      " - inserting cuisine french\n",
      " - inserting cuisine bistro\n",
      " - inserting cuisine american-new\n",
      " - inserting cuisine soul-food\n",
      " - inserting cuisine pizza\n",
      " - inserting cuisine american\n",
      " - inserting cuisine desserts\n",
      " - inserting cuisine coffee-tea\n",
      " - inserting cuisine sandwiches\n",
      " - inserting cuisine barbecue\n",
      " - inserting cuisine soul-food\n",
      " - inserting cuisine greek\n",
      " - inserting cuisine vegetarian\n",
      " - inserting cuisine pizza\n",
      " - inserting cuisine southwestern\n",
      " - inserting cuisine tapas\n",
      " - inserting cuisine bar-food\n",
      " - inserting cuisine middle-eastern\n",
      " - inserting cuisine kosher\n",
      " - inserting cuisine deli\n",
      " - inserting cuisine sandwiches\n",
      " - inserting cuisine american-new\n",
      " - inserting cuisine smoothies-juices\n",
      " - inserting cuisine vegetarian\n",
      " - inserting cuisine healthy\n",
      " - inserting cuisine localorganic\n",
      " - inserting cuisine american\n",
      " - inserting cuisine scandinavian\n",
      " - inserting cuisine mexican\n",
      " - inserting cuisine coffee-tea\n",
      " - inserting cuisine burgers\n",
      " - inserting cuisine bar-food\n",
      " - inserting cuisine italian\n",
      " - inserting cuisine pizza\n",
      " - inserting cuisine localorganic\n",
      " - inserting cuisine burgers\n",
      " - inserting cuisine hot-dogs\n",
      " - inserting cuisine chinese\n",
      " - inserting cuisine japanese\n",
      " - inserting cuisine sushi\n",
      " - inserting cuisine teahouses\n",
      " - inserting cuisine middle-eastern\n",
      " - inserting cuisine japanese\n",
      " - inserting cuisine sushi\n",
      " - inserting cuisine bakery-pastries\n",
      " - inserting cuisine desserts\n",
      " - inserting cuisine coffee-tea\n",
      " - inserting cuisine sandwiches\n",
      " - inserting cuisine desserts\n",
      " - inserting cuisine coffee-tea\n",
      " - inserting cuisine sandwiches\n",
      " - inserting cuisine crepes\n",
      " - inserting cuisine coffee-tea\n",
      " - inserting cuisine sandwiches\n",
      " - inserting cuisine mexican\n",
      " - inserting cuisine bakery-pastries\n",
      " - inserting cuisine desserts\n",
      " - inserting cuisine bakery-pastries\n",
      " - inserting cuisine coffee-tea\n",
      " - inserting cuisine desserts\n",
      " - inserting cuisine deli\n",
      " - inserting cuisine sandwiches\n",
      " - inserting cuisine coffee-tea\n",
      " - inserting cuisine bakery-pastries\n",
      " - inserting cuisine desserts\n",
      " - inserting cuisine middle-eastern\n",
      " - inserting cuisine vegetarian\n",
      " - inserting cuisine german\n",
      " - inserting cuisine eclectic\n",
      " - inserting cuisine bar-food\n",
      " - inserting cuisine indian\n",
      " - inserting cuisine vegetarian\n",
      " - inserting cuisine american-new\n",
      " - inserting cuisine bistro\n",
      " - inserting cuisine coffee-tea\n",
      " - inserting cuisine american-new\n",
      " - inserting cuisine chinese\n",
      " - inserting cuisine japanese\n",
      " - inserting cuisine sushi\n",
      " - inserting cuisine thai\n",
      " - inserting cuisine mexican\n",
      " - inserting cuisine pizza\n",
      " - inserting cuisine chicken\n",
      " - inserting cuisine indian\n",
      " - inserting cuisine american\n",
      " - inserting cuisine localorganic\n",
      " - inserting cuisine chinese\n",
      " - inserting cuisine middle-eastern\n",
      " - inserting cuisine japanese\n",
      " - inserting cuisine coffee-tea\n",
      " - inserting cuisine teahouses\n",
      " - inserting cuisine seafood\n",
      " - inserting cuisine wings\n",
      " - inserting cuisine fish--chips\n",
      " - inserting cuisine seafood\n",
      " - inserting cuisine sandwiches\n",
      " - inserting cuisine salads\n",
      " - inserting cuisine teahouses\n",
      " - inserting cuisine american\n",
      " - inserting cuisine gastropub\n",
      " - inserting cuisine american-new\n"
     ]
    }
   ],
   "source": [
    "rest_insert = \"insert into restaurant (name, price) values (%s, %s) returning id\"\n",
    "cuisine  = \"insert into cuisine (restaurant_id, kind) values (%s, %s)\"\n",
    "for item in restaurants:\n",
    "    #execute sql statement with data from the restaurant!\n",
    "    cursor.execute(rest_insert, [str(item['name']), item['price']])\n",
    "    rowid = cursor.fetchone()[0]\n",
    "    for cuisine in item['cuisines']:\n",
    "        print(\" - inserting cuisine\", cuisine)\n",
    "        cursor.execute(cuisine_insert, [rowid, str(cuisine)])\n",
    "    # insert restaunrant_id, cuisine kind into cuisine table\n",
    "conn.commit()  "
   ]
  },
  {
   "cell_type": "code",
   "execution_count": null,
   "metadata": {
    "collapsed": true
   },
   "outputs": [],
   "source": [
    "poem = \"\"\"Whose woods these are I think I know\n",
    "His house is in the village though\"\"\""
   ]
  }
 ],
 "metadata": {
  "kernelspec": {
   "display_name": "Python 3",
   "language": "python",
   "name": "python3"
  },
  "language_info": {
   "codemirror_mode": {
    "name": "ipython",
    "version": 3
   },
   "file_extension": ".py",
   "mimetype": "text/x-python",
   "name": "python",
   "nbconvert_exporter": "python",
   "pygments_lexer": "ipython3",
   "version": "3.5.1"
  }
 },
 "nbformat": 4,
 "nbformat_minor": 0
}
