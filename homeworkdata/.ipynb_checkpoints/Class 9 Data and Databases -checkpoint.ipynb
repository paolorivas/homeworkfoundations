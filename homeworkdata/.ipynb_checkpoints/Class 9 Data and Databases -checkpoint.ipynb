{
 "cells": [
  {
   "cell_type": "markdown",
   "metadata": {},
   "source": [
    "## sorting list (for the extra bonus of the homework)"
   ]
  },
  {
   "cell_type": "code",
   "execution_count": 24,
   "metadata": {
    "collapsed": true
   },
   "outputs": [],
   "source": [
    "x = [\"aardvark\", \"bee\", 'croco', 'duck', \"emo\"]"
   ]
  },
  {
   "cell_type": "code",
   "execution_count": 25,
   "metadata": {
    "collapsed": false
   },
   "outputs": [
    {
     "data": {
      "text/plain": [
       "['emo', 'duck', 'croco', 'bee', 'aardvark']"
      ]
     },
     "execution_count": 25,
     "metadata": {},
     "output_type": "execute_result"
    }
   ],
   "source": [
    "#sorted by second letter ['aardvark', 'bee', 'emu', 'crocodrile; 'duck' ]\n",
    "sorted(x, reverse=True)"
   ]
  },
  {
   "cell_type": "code",
   "execution_count": 26,
   "metadata": {
    "collapsed": true
   },
   "outputs": [],
   "source": [
    "#sorted(x, key=???) when you want to sort by the second letter of the list."
   ]
  },
  {
   "cell_type": "code",
   "execution_count": 27,
   "metadata": {
    "collapsed": true
   },
   "outputs": [],
   "source": [
    "def get_second_letter(s):\n",
    "    return s[1]"
   ]
  },
  {
   "cell_type": "code",
   "execution_count": 28,
   "metadata": {
    "collapsed": false
   },
   "outputs": [
    {
     "data": {
      "text/plain": [
       "'h'"
      ]
     },
     "execution_count": 28,
     "metadata": {},
     "output_type": "execute_result"
    }
   ],
   "source": [
    "get_second_letter(\"cheese\")"
   ]
  },
  {
   "cell_type": "code",
   "execution_count": 29,
   "metadata": {
    "collapsed": false
   },
   "outputs": [
    {
     "data": {
      "text/plain": [
       "['aardvark', 'bee', 'emo', 'croco', 'duck']"
      ]
     },
     "execution_count": 29,
     "metadata": {},
     "output_type": "execute_result"
    }
   ],
   "source": [
    "sorted(x, key=get_second_letter)"
   ]
  },
  {
   "cell_type": "markdown",
   "metadata": {},
   "source": [
    "## Lambda functions!\n",
    "a way of writing a function on a single line "
   ]
  },
  {
   "cell_type": "code",
   "execution_count": 30,
   "metadata": {
    "collapsed": true
   },
   "outputs": [],
   "source": [
    "#normal function\n",
    "def get_second_letter(s):\n",
    "    return s[1]"
   ]
  },
  {
   "cell_type": "code",
   "execution_count": 31,
   "metadata": {
    "collapsed": true
   },
   "outputs": [],
   "source": [
    "get_second_letter = lambda s: s[1]"
   ]
  },
  {
   "cell_type": "code",
   "execution_count": 32,
   "metadata": {
    "collapsed": false
   },
   "outputs": [
    {
     "data": {
      "text/plain": [
       "'e'"
      ]
     },
     "execution_count": 32,
     "metadata": {},
     "output_type": "execute_result"
    }
   ],
   "source": [
    "get_second_letter(\"hello\")"
   ]
  },
  {
   "cell_type": "code",
   "execution_count": 35,
   "metadata": {
    "collapsed": false
   },
   "outputs": [
    {
     "data": {
      "text/plain": [
       "['aardvark', 'bee', 'emo', 'croco', 'duck']"
      ]
     },
     "execution_count": 35,
     "metadata": {},
     "output_type": "execute_result"
    }
   ],
   "source": [
    "sorted(x, key = lambda s: s[1])"
   ]
  },
  {
   "cell_type": "code",
   "execution_count": 19,
   "metadata": {
    "collapsed": false
   },
   "outputs": [],
   "source": [
    "# [P['name'] for p in sorted(planets, hey=lambda x: x['moons'])]"
   ]
  },
  {
   "cell_type": "code",
   "execution_count": 20,
   "metadata": {
    "collapsed": false
   },
   "outputs": [],
   "source": [
    "# def get moon_count(d):\n",
    "#     return d['moons']\n",
    "# sorted(planets, key=get_moon_count)"
   ]
  },
  {
   "cell_type": "code",
   "execution_count": 21,
   "metadata": {
    "collapsed": true
   },
   "outputs": [],
   "source": [
    "#written in  SQL:\n",
    "#Select name from planet order by moons"
   ]
  },
  {
   "cell_type": "markdown",
   "metadata": {},
   "source": [
    "## tuple "
   ]
  },
  {
   "cell_type": "code",
   "execution_count": 39,
   "metadata": {
    "collapsed": true
   },
   "outputs": [],
   "source": [
    "t = [5]"
   ]
  },
  {
   "cell_type": "code",
   "execution_count": 40,
   "metadata": {
    "collapsed": false
   },
   "outputs": [
    {
     "name": "stdout",
     "output_type": "stream",
     "text": [
      "25\n"
     ]
    }
   ],
   "source": [
    "for item in t:\n",
    "    print(item * item)"
   ]
  },
  {
   "cell_type": "code",
   "execution_count": 41,
   "metadata": {
    "collapsed": true
   },
   "outputs": [],
   "source": [
    "t.append(30)"
   ]
  },
  {
   "cell_type": "code",
   "execution_count": 42,
   "metadata": {
    "collapsed": true
   },
   "outputs": [],
   "source": [
    "carefree_list = [5, 33, 32, 66, 44]"
   ]
  },
  {
   "cell_type": "code",
   "execution_count": 43,
   "metadata": {
    "collapsed": true
   },
   "outputs": [],
   "source": [
    "carefree_list[1] = 'Mr Fluffypants'"
   ]
  },
  {
   "cell_type": "code",
   "execution_count": 45,
   "metadata": {
    "collapsed": false
   },
   "outputs": [
    {
     "data": {
      "text/plain": [
       "[5, 'Mr Fluffypants', 32, 66, 44]"
      ]
     },
     "execution_count": 45,
     "metadata": {},
     "output_type": "execute_result"
    }
   ],
   "source": [
    "carefree_list\n"
   ]
  },
  {
   "cell_type": "code",
   "execution_count": 48,
   "metadata": {
    "collapsed": false
   },
   "outputs": [],
   "source": [
    "t[1] = 'Mr. Fluffypants'"
   ]
  },
  {
   "cell_type": "code",
   "execution_count": 49,
   "metadata": {
    "collapsed": false
   },
   "outputs": [
    {
     "data": {
      "text/plain": [
       "[5, 'Mr. Fluffypants']"
      ]
     },
     "execution_count": 49,
     "metadata": {},
     "output_type": "execute_result"
    }
   ],
   "source": [
    "t\n"
   ]
  },
  {
   "cell_type": "code",
   "execution_count": 50,
   "metadata": {
    "collapsed": true
   },
   "outputs": [],
   "source": [
    "#inmutable data type\n",
    "#one benefit is exactly that: cant be changed\n",
    "#other benefit is that tuples are memory-effcient"
   ]
  },
  {
   "cell_type": "code",
   "execution_count": 51,
   "metadata": {
    "collapsed": true
   },
   "outputs": [],
   "source": [
    "import sys"
   ]
  },
  {
   "cell_type": "code",
   "execution_count": 52,
   "metadata": {
    "collapsed": true
   },
   "outputs": [],
   "source": [
    "hello = [1, 2, 3]"
   ]
  },
  {
   "cell_type": "code",
   "execution_count": 54,
   "metadata": {
    "collapsed": false
   },
   "outputs": [
    {
     "data": {
      "text/plain": [
       "88"
      ]
     },
     "execution_count": 54,
     "metadata": {},
     "output_type": "execute_result"
    }
   ],
   "source": [
    "sys.getsizeof(hello)"
   ]
  },
  {
   "cell_type": "markdown",
   "metadata": {},
   "source": [
    "## Back to regular expressions for a moment\n",
    "#### Grouping with multiple matches in th same string "
   ]
  },
  {
   "cell_type": "code",
   "execution_count": 59,
   "metadata": {
    "collapsed": true
   },
   "outputs": [],
   "source": [
    "test = \"one 1 two 2 three 3 four 4 five 5\""
   ]
  },
  {
   "cell_type": "code",
   "execution_count": 63,
   "metadata": {
    "collapsed": false
   },
   "outputs": [
    {
     "data": {
      "text/plain": [
       "['one 1', 'two 2', 'three 3', 'four 4', 'five 5']"
      ]
     },
     "execution_count": 63,
     "metadata": {},
     "output_type": "execute_result"
    }
   ],
   "source": [
    "import re\n",
    "re.findall(r\"\\w+ \\d\", test)"
   ]
  },
  {
   "cell_type": "code",
   "execution_count": 64,
   "metadata": {
    "collapsed": false
   },
   "outputs": [
    {
     "ename": "SyntaxError",
     "evalue": "unexpected EOF while parsing (<ipython-input-64-b4449377acf8>, line 1)",
     "output_type": "error",
     "traceback": [
      "\u001b[0;36m  File \u001b[0;32m\"<ipython-input-64-b4449377acf8>\"\u001b[0;36m, line \u001b[0;32m1\u001b[0m\n\u001b[0;31m    for item in re.findall(r\"(\\w+) (\\d)\", test):\u001b[0m\n\u001b[0m                                                ^\u001b[0m\n\u001b[0;31mSyntaxError\u001b[0m\u001b[0;31m:\u001b[0m unexpected EOF while parsing\n"
     ]
    }
   ],
   "source": [
    "for item in re.findall(r\"(\\w+) (\\d)\", test):\n"
   ]
  },
  {
   "cell_type": "code",
   "execution_count": 65,
   "metadata": {
    "collapsed": true
   },
   "outputs": [],
   "source": [
    "all_subjects = open(\"enronsubjects.txt\").read()"
   ]
  },
  {
   "cell_type": "code",
   "execution_count": 68,
   "metadata": {
    "collapsed": false
   },
   "outputs": [
    {
     "data": {
      "text/plain": [
       "['713',\n",
       " '713',\n",
       " '713',\n",
       " '713',\n",
       " '713',\n",
       " '713',\n",
       " '713',\n",
       " '713',\n",
       " '713',\n",
       " '713',\n",
       " '713',\n",
       " '281',\n",
       " '713',\n",
       " '713',\n",
       " '713',\n",
       " '713',\n",
       " '713',\n",
       " '713',\n",
       " '281',\n",
       " '713',\n",
       " '713',\n",
       " '713',\n",
       " '614',\n",
       " '713',\n",
       " '303',\n",
       " '281',\n",
       " '800',\n",
       " '800',\n",
       " '888']"
      ]
     },
     "execution_count": 68,
     "metadata": {},
     "output_type": "execute_result"
    }
   ],
   "source": [
    "[item[0] for item in re.findall (r\"(\\d{3})-(\\d{3})-(\\d{4})\", all_subjects)]"
   ]
  },
  {
   "cell_type": "markdown",
   "metadata": {},
   "source": [
    "### Monetary amounts in the subjects lines\n",
    "match something like $10 m,k,b"
   ]
  },
  {
   "cell_type": "code",
   "execution_count": 70,
   "metadata": {
    "collapsed": false
   },
   "outputs": [
    {
     "data": {
      "text/plain": [
       "[('22', '8'),\n",
       " ('22', '8'),\n",
       " ('10', 'M'),\n",
       " ('10', 'M'),\n",
       " ('10', 'M'),\n",
       " ('10', 'M'),\n",
       " ('6', '8'),\n",
       " ('25', 'million'),\n",
       " ('25', 'million'),\n",
       " ('25', 'million'),\n",
       " ('25', 'million'),\n",
       " ('25', 'million'),\n",
       " ('25', 'million'),\n",
       " ('25', 'million'),\n",
       " ('25', 'million'),\n",
       " ('25', 'million'),\n",
       " ('25', 'million'),\n",
       " ('25', 'million'),\n",
       " ('25', 'million'),\n",
       " ('25', 'million'),\n",
       " ('25', 'million'),\n",
       " ('82', '0'),\n",
       " ('82', '0'),\n",
       " ('40', 'Million'),\n",
       " ('27', 'Billion'),\n",
       " ('27', 'Billion'),\n",
       " ('5', '0'),\n",
       " ('5', '0'),\n",
       " ('89', '5'),\n",
       " ('89', '5'),\n",
       " ('1', '9'),\n",
       " ('1', '9'),\n",
       " ('1', '9'),\n",
       " ('1', '9'),\n",
       " ('870', 'K'),\n",
       " ('870', 'K'),\n",
       " ('14', '1'),\n",
       " ('14', '1'),\n",
       " ('21', 'billion'),\n",
       " ('6', 'million'),\n",
       " ('14', 'bln'),\n",
       " ('14', 'bln'),\n",
       " ('100', 'PRICE'),\n",
       " ('250', 'Cap'),\n",
       " ('350', 'MM'),\n",
       " ('1', '2'),\n",
       " ('1', '2'),\n",
       " ('1', '2'),\n",
       " ('1', '2'),\n",
       " ('10', 'Three'),\n",
       " ('70', '0'),\n",
       " ('70', '0'),\n",
       " ('70', '0'),\n",
       " ('10', 'you'),\n",
       " ('10', 'you'),\n",
       " ('13', 'B'),\n",
       " ('13', 'B'),\n",
       " ('100', 'on'),\n",
       " ('500', 'k'),\n",
       " ('500', 'k'),\n",
       " ('500', 'k'),\n",
       " ('500', 'k'),\n",
       " ('500', 'k'),\n",
       " ('500', 'k'),\n",
       " ('500', 'k'),\n",
       " ('500', 'k'),\n",
       " ('500', 'k'),\n",
       " ('2', 'Billion'),\n",
       " ('2', 'Billion'),\n",
       " ('2', 'Billion'),\n",
       " ('2', 'Billion'),\n",
       " ('97', '1'),\n",
       " ('97', '1'),\n",
       " ('97', '1'),\n",
       " ('97', '1'),\n",
       " ('97', '1'),\n",
       " ('97', '1'),\n",
       " ('1', 'Billion'),\n",
       " ('1', 'Billion'),\n",
       " ('39', 'in'),\n",
       " ('39', 'in'),\n",
       " ('1', '0'),\n",
       " ('1', '0'),\n",
       " ('14', '9'),\n",
       " ('5', '0'),\n",
       " ('5', '0'),\n",
       " ('5', '0'),\n",
       " ('2', '1'),\n",
       " ('21', 'P'),\n",
       " ('550', 'Million'),\n",
       " ('455', 'Million'),\n",
       " ('5', 'million'),\n",
       " ('5', 'million'),\n",
       " ('5', 'million'),\n",
       " ('7', 'MM'),\n",
       " ('7', 'MM'),\n",
       " ('7', 'MM'),\n",
       " ('7', 'MM'),\n",
       " ('7', 'MM'),\n",
       " ('7', 'MM'),\n",
       " ('100', 'Price'),\n",
       " ('2', '0'),\n",
       " ('2', '0'),\n",
       " ('2', '0'),\n",
       " ('2', '0'),\n",
       " ('10', '0'),\n",
       " ('10', '0'),\n",
       " ('10', '0'),\n",
       " ('2', '0'),\n",
       " ('2', '0'),\n",
       " ('2', '9'),\n",
       " ('2', '9'),\n",
       " ('2', '9'),\n",
       " ('2', '9'),\n",
       " ('2', '9'),\n",
       " ('2', '9'),\n",
       " ('160', '0'),\n",
       " ('160', '0'),\n",
       " ('160', '0'),\n",
       " ('160', '0'),\n",
       " ('160', '0'),\n",
       " ('160', '0'),\n",
       " ('160', '0'),\n",
       " ('2', 'Billion'),\n",
       " ('2', 'Billion'),\n",
       " ('2', 'Billion'),\n",
       " ('6', '7'),\n",
       " ('100', 'mil'),\n",
       " ('50', 'per'),\n",
       " ('21', '2'),\n",
       " ('21', '2'),\n",
       " ('21', '2'),\n",
       " ('21', '2'),\n",
       " ('21', '2'),\n",
       " ('21', '2'),\n",
       " ('19', '5'),\n",
       " ('19', '5'),\n",
       " ('19', '5'),\n",
       " ('19', '5'),\n",
       " ('19', '5'),\n",
       " ('19', '5'),\n",
       " ('19', '5'),\n",
       " ('19', '5'),\n",
       " ('19', '5'),\n",
       " ('19', '5'),\n",
       " ('19', '5'),\n",
       " ('19', '5'),\n",
       " ('4', '2'),\n",
       " ('4', '2'),\n",
       " ('4', '2'),\n",
       " ('7', 'MM'),\n",
       " ('7', 'MM'),\n",
       " ('7', 'MM'),\n",
       " ('1', '0'),\n",
       " ('1', '0'),\n",
       " ('1', '6'),\n",
       " ('1', '6'),\n",
       " ('1', '6'),\n",
       " ('8', 'Million'),\n",
       " ('8', 'Million'),\n",
       " ('500', 'mm'),\n",
       " ('500', 'mm'),\n",
       " ('500', 'mm'),\n",
       " ('80', 'million'),\n",
       " ('80', 'million'),\n",
       " ('80', 'million'),\n",
       " ('80', 'million'),\n",
       " ('80', 'million'),\n",
       " ('80', 'million'),\n",
       " ('80', 'million'),\n",
       " ('50', 'M'),\n",
       " ('102', 'Target'),\n",
       " ('102', 'Target'),\n",
       " ('20', '0'),\n",
       " ('5', '0'),\n",
       " ('25', 'Million'),\n",
       " ('25', 'Million'),\n",
       " ('25', 'Million'),\n",
       " ('120', 'EXTRA'),\n",
       " ('120', 'EXTRA'),\n",
       " ('45', 'Million'),\n",
       " ('45', 'Million'),\n",
       " ('14', '7'),\n",
       " ('14', '7'),\n",
       " ('14', '7'),\n",
       " ('14', '7'),\n",
       " ('14', '7'),\n",
       " ('14', '7'),\n",
       " ('14', '7'),\n",
       " ('600', 'B'),\n",
       " ('600', 'B'),\n",
       " ('14', '7'),\n",
       " ('14', '7'),\n",
       " ('14', '7'),\n",
       " ('24', '0'),\n",
       " ('24', '0'),\n",
       " ('2', '2'),\n",
       " ('2', '2'),\n",
       " ('2', '2'),\n",
       " ('100', 'k'),\n",
       " ('7', '7'),\n",
       " ('18', '3'),\n",
       " ('130', 'Million'),\n",
       " ('130', 'Million'),\n",
       " ('130', 'Million'),\n",
       " ('1', 'mm'),\n",
       " ('1', '0'),\n",
       " ('1', '0'),\n",
       " ('1', '0'),\n",
       " ('1', '0'),\n",
       " ('1', '0'),\n",
       " ('1', '0'),\n",
       " ('128', 'Return'),\n",
       " ('128', 'Return')]"
      ]
     },
     "execution_count": 70,
     "metadata": {},
     "output_type": "execute_result"
    }
   ],
   "source": [
    "re.findall(r\"\\$(\\d+) ?(\\w+)\", all_subjects)"
   ]
  },
  {
   "cell_type": "code",
   "execution_count": 73,
   "metadata": {
    "collapsed": false
   },
   "outputs": [
    {
     "data": {
      "text/plain": [
       "139151006340"
      ]
     },
     "execution_count": 73,
     "metadata": {},
     "output_type": "execute_result"
    }
   ],
   "source": [
    "vals= []\n",
    "for item in re.findall(r\"\\$(\\d+) ?([mMbBkK])\", all_subjects):\n",
    "    multiplier = item[1].lower()\n",
    "    number_val = int(item[0])\n",
    "    if multiplier == 'K':\n",
    "        number_val *= 1000\n",
    "    elif multiplier == 'm':\n",
    "        number_val *= 1000000\n",
    "    elif multiplier == 'b':\n",
    "        number_val *= 100000000\n",
    "    vals.append(number_val)\n",
    "sum(vals)    \n",
    "\n",
    "     "
   ]
  },
  {
   "cell_type": "markdown",
   "metadata": {},
   "source": [
    "### substitution with regular expressions"
   ]
  },
  {
   "cell_type": "code",
   "execution_count": 74,
   "metadata": {
    "collapsed": true
   },
   "outputs": [],
   "source": [
    "message = \"this is a test, this is only a test\""
   ]
  },
  {
   "cell_type": "code",
   "execution_count": 76,
   "metadata": {
    "collapsed": false
   },
   "outputs": [
    {
     "data": {
      "text/plain": [
       "'that is a test, that is only a test'"
      ]
     },
     "execution_count": 76,
     "metadata": {},
     "output_type": "execute_result"
    }
   ],
   "source": [
    "message.replace(\"this\", \"that\").replace(\"text\", \"walrus\")"
   ]
  },
  {
   "cell_type": "code",
   "execution_count": 78,
   "metadata": {
    "collapsed": false
   },
   "outputs": [
    {
     "data": {
      "text/plain": [
       "'that is a test, that is only a test'"
      ]
     },
     "execution_count": 78,
     "metadata": {},
     "output_type": "execute_result"
    }
   ],
   "source": [
    "message = \"This is a test, this is only a test\"\n",
    "re.sub(r\"[Tt]his\", \"that\", message)"
   ]
  },
  {
   "cell_type": "code",
   "execution_count": 80,
   "metadata": {
    "collapsed": false
   },
   "outputs": [
    {
     "data": {
      "text/plain": [
       "'PIKACHU PIKACHU PIKACHU PIKACHU, PIKACHU PIKACHU PIKACHU PIKACHU PIKACHU'"
      ]
     },
     "execution_count": 80,
     "metadata": {},
     "output_type": "execute_result"
    }
   ],
   "source": [
    "re.sub(r\"\\b\\w+\\b\", \"PIKACHU\", message)"
   ]
  },
  {
   "cell_type": "code",
   "execution_count": 85,
   "metadata": {
    "collapsed": false
   },
   "outputs": [],
   "source": [
    "anon = re.sub(r\"(\\d{3})-(\\d{3})-(\\d{4})\", r\"\\1-\\2-XXXX\", all_subjects)"
   ]
  },
  {
   "cell_type": "code",
   "execution_count": 89,
   "metadata": {
    "collapsed": false
   },
   "outputs": [
    {
     "data": {
      "text/plain": [
       "['713-853-XXXX',\n",
       " '713-222-XXXX',\n",
       " '713-222-XXXX',\n",
       " '713-222-XXXX',\n",
       " '713-222-XXXX',\n",
       " '713-222-XXXX',\n",
       " '713-222-XXXX',\n",
       " '713-222-XXXX',\n",
       " '713-222-XXXX',\n",
       " '713-222-XXXX',\n",
       " '713-222-XXXX',\n",
       " '281-296-XXXX',\n",
       " '713-851-XXXX',\n",
       " '713-345-XXXX',\n",
       " '713-345-XXXX',\n",
       " '713-345-XXXX',\n",
       " '713-345-XXXX',\n",
       " '713-345-XXXX',\n",
       " '281-367-XXXX or',\n",
       " '713-528-XXXX',\n",
       " '713-850-XXXXw/713-703-XXXXc and ',\n",
       " '614-888-XXXX',\n",
       " '713-767-XXXX re Debbie Chance',\n",
       " '303-571-XXXX',\n",
       " '281-537-XXXX (home)',\n",
       " '800-937-XXXX,',\n",
       " '800-937-XXXX and ask for the Jul',\n",
       " '888-296-XXXX, HC:']"
      ]
     },
     "execution_count": 89,
     "metadata": {},
     "output_type": "execute_result"
    }
   ],
   "source": [
    "re.findall(r\"\\d{3}-\\d{3}-X{4}.{,20}\", anon)"
   ]
  },
  {
   "cell_type": "markdown",
   "metadata": {},
   "source": [
    "## HTML to SQL \n",
    "scrapping websites"
   ]
  },
  {
   "cell_type": "code",
   "execution_count": 111,
   "metadata": {
    "collapsed": false
   },
   "outputs": [
    {
     "data": {
      "text/plain": [
       "('menu.html', <http.client.HTTPMessage at 0x109d3f400>)"
      ]
     },
     "execution_count": 111,
     "metadata": {},
     "output_type": "execute_result"
    }
   ],
   "source": [
    "from urllib.request import urlretrieve\n",
    "urlretrieve(\"https://raw.githubusercontent.com/ledeprogram/data-and-databases/master/menupages-morningside-heights.html\", \"menu.html\")\n"
   ]
  },
  {
   "cell_type": "code",
   "execution_count": 99,
   "metadata": {
    "collapsed": false
   },
   "outputs": [],
   "source": [
    "#store:\n",
    "#     *restaurant name\n",
    "#     *price ($$$$$)\n",
    "#     *cuisines\n",
    "\n",
    "# every restauatrant has a `<tr>` that is a child of a the `<table>` tag with class `search-results`\n",
    "# restaurant are in <td> tag with class= `name-address`\n",
    "# restaurant names are un <a> tag inside that <td>\n",
    "# restaurant price in a `span` insude an `<td> with a class `price`\n",
    "# the cuisine of the restaurant is in a `<td> tag iwth no class, the fifth `<td> tag that is a child of a the restaurants `<tr>`\n",
    "\n",
    "#target:\n",
    " \n",
    "*list of diccionaties\n",
    "\n",
    "[ \n",
    "  {'name: \"Brads\", price: 1, Cuisines: [coffee]},\n",
    "  {}'name': \"Cafe Nana\", 'price'\n",
    "    ]"
   ]
  },
  {
   "cell_type": "code",
   "execution_count": 100,
   "metadata": {
    "collapsed": false
   },
   "outputs": [],
   "source": [
    "# syntax: urlretreive(url, filename)"
   ]
  },
  {
   "cell_type": "code",
   "execution_count": 113,
   "metadata": {
    "collapsed": true
   },
   "outputs": [],
   "source": [
    "from bs4 import BeautifulSoup"
   ]
  },
  {
   "cell_type": "code",
   "execution_count": 120,
   "metadata": {
    "collapsed": false
   },
   "outputs": [],
   "source": [
    "raw_html = open(\"menu.html\").read()\n",
    "soup = BeautifulSoup(raw_html, \"html.parser\")"
   ]
  },
  {
   "cell_type": "code",
   "execution_count": 121,
   "metadata": {
    "collapsed": true
   },
   "outputs": [],
   "source": [
    "#Just the names"
   ]
  },
  {
   "cell_type": "code",
   "execution_count": 122,
   "metadata": {
    "collapsed": false
   },
   "outputs": [
    {
     "ename": "AttributeError",
     "evalue": "'NoneType' object has no attribute 'find'",
     "output_type": "error",
     "traceback": [
      "\u001b[0;31m---------------------------------------------------------------------------\u001b[0m",
      "\u001b[0;31mAttributeError\u001b[0m                            Traceback (most recent call last)",
      "\u001b[0;32m<ipython-input-122-957540aeafed>\u001b[0m in \u001b[0;36m<module>\u001b[0;34m()\u001b[0m\n\u001b[1;32m      3\u001b[0m \u001b[0;32mfor\u001b[0m \u001b[0mtr_tag\u001b[0m \u001b[0;32min\u001b[0m \u001b[0mtable_body\u001b[0m\u001b[0;34m.\u001b[0m\u001b[0mfind_all\u001b[0m\u001b[0;34m(\u001b[0m\u001b[0;34m'tr'\u001b[0m\u001b[0;34m)\u001b[0m\u001b[0;34m:\u001b[0m\u001b[0;34m\u001b[0m\u001b[0m\n\u001b[1;32m      4\u001b[0m     \u001b[0mname_adress_tag\u001b[0m \u001b[0;34m=\u001b[0m \u001b[0mtr_tag\u001b[0m\u001b[0;34m.\u001b[0m\u001b[0mfind\u001b[0m\u001b[0;34m(\u001b[0m\u001b[0;34m'td'\u001b[0m\u001b[0;34m,\u001b[0m \u001b[0;34m{\u001b[0m\u001b[0;34m'class'\u001b[0m\u001b[0;34m:\u001b[0m \u001b[0;34m'name-adress'\u001b[0m\u001b[0;34m}\u001b[0m\u001b[0;34m)\u001b[0m\u001b[0;34m\u001b[0m\u001b[0m\n\u001b[0;32m----> 5\u001b[0;31m     \u001b[0ma_tag\u001b[0m \u001b[0;34m=\u001b[0m \u001b[0mname_adress_tag\u001b[0m\u001b[0;34m.\u001b[0m\u001b[0mfind\u001b[0m\u001b[0;34m(\u001b[0m\u001b[0;34m'a'\u001b[0m\u001b[0;34m)\u001b[0m\u001b[0;34m\u001b[0m\u001b[0m\n\u001b[0m\u001b[1;32m      6\u001b[0m     \u001b[0mprint\u001b[0m\u001b[0;34m(\u001b[0m\u001b[0mtr_tag\u001b[0m\u001b[0;34m)\u001b[0m\u001b[0;34m\u001b[0m\u001b[0m\n",
      "\u001b[0;31mAttributeError\u001b[0m: 'NoneType' object has no attribute 'find'"
     ]
    }
   ],
   "source": [
    "search_table = soup.find(\"table\", {'class': 'search-results'})\n",
    "table_body = search_table.find('tbody')\n",
    "for tr_tag in table_body.find_all('tr'):\n",
    "    name_adress_tag = tr_tag.find('td', {'class': 'name-adress'})\n",
    "    a_tag = name_adress_tag.find('a')\n",
    "    print(tr_tag)"
   ]
  },
  {
   "cell_type": "code",
   "execution_count": null,
   "metadata": {
    "collapsed": true
   },
   "outputs": [],
   "source": [
    "#how about names and prices? and maybe the cuisine too"
   ]
  },
  {
   "cell_type": "code",
   "execution_count": null,
   "metadata": {
    "collapsed": true
   },
   "outputs": [],
   "source": []
  },
  {
   "cell_type": "code",
   "execution_count": 123,
   "metadata": {
    "collapsed": false
   },
   "outputs": [
    {
     "ename": "IndentationError",
     "evalue": "expected an indented block (<ipython-input-123-0a472f49bd4f>, line 13)",
     "output_type": "error",
     "traceback": [
      "\u001b[0;36m  File \u001b[0;32m\"<ipython-input-123-0a472f49bd4f>\"\u001b[0;36m, line \u001b[0;32m13\u001b[0m\n\u001b[0;31m    price = price_span_tag.string\u001b[0m\n\u001b[0m        ^\u001b[0m\n\u001b[0;31mIndentationError\u001b[0m\u001b[0;31m:\u001b[0m expected an indented block\n"
     ]
    }
   ],
   "source": [
    "search_table = sopu.find(\"table\", {'class': 'search-results'})\n",
    "table_body = search_table.find('tbody')\n",
    "for tr_tag in table_body.find_all('tr'):\n",
    "    # get restaurant name from the inside a td\n",
    "    # restaurant name = get_name(tr_tag)\n",
    "    name_adress_tag = tre_tag.find('td', {'class': 'name-adress'})\n",
    "    a_tag = name_adress_tag.find('a')\n",
    "    restaurant_name = a_tag.string\n",
    "    # get the price from the span if present\n",
    "    price_tag = tr.tag.find('td', {'class': 'price'})\n",
    "    price_span_tag = price_tag.fid('span')\n",
    "    if price_pan_tag:\n",
    "    price = price_span_tag.string\n",
    "    else:\n",
    "        price = 0\n",
    "    print(restaurant_name, price)"
   ]
  },
  {
   "cell_type": "code",
   "execution_count": null,
   "metadata": {
    "collapsed": true
   },
   "outputs": [],
   "source": [
    "# much organized code using functions"
   ]
  },
  {
   "cell_type": "code",
   "execution_count": 124,
   "metadata": {
    "collapsed": false
   },
   "outputs": [
    {
     "ename": "IndentationError",
     "evalue": "expected an indented block (<ipython-input-124-fc415126fe80>, line 10)",
     "output_type": "error",
     "traceback": [
      "\u001b[0;36m  File \u001b[0;32m\"<ipython-input-124-fc415126fe80>\"\u001b[0;36m, line \u001b[0;32m10\u001b[0m\n\u001b[0;31m    price = price_span_tag.string\u001b[0m\n\u001b[0m        ^\u001b[0m\n\u001b[0;31mIndentationError\u001b[0m\u001b[0;31m:\u001b[0m expected an indented block\n"
     ]
    }
   ],
   "source": [
    "def get_name(tr_tag):\n",
    "    name_adress_tag = tre_tag.find('td', {'class': 'name-adress'})\n",
    "    a_tag = name_adress_tag.find('a')\n",
    "    restaurant_name = a_tag.string\n",
    "    return restaurant_name\n",
    "def get_price(tr_tag):\n",
    "    price_tag = tr.tag.find('td', {'class': 'price'})\n",
    "    price_span_tag = price_tag.fid('span')\n",
    "    if price_pan_tag:\n",
    "    price = price_span_tag.string\n",
    "    else:\n",
    "        price = 0\n",
    "    return price \n",
    "def get_cuisines(tr_tag):\n",
    "    all_td_tag = tr_tag.find_all('td')\n",
    "    cuisine_tag = all_td_tags[4]\n",
    "    cuisines = int(cuisining_tag.string)\n",
    "    if cuisines:\n",
    "        cuisines_list = cuisines.split(\", \")\n",
    "    else:\n",
    "        cuisines_list = []\n",
    "    return cuisines_list\n"
   ]
  },
  {
   "cell_type": "code",
   "execution_count": 125,
   "metadata": {
    "collapsed": false
   },
   "outputs": [
    {
     "ename": "NameError",
     "evalue": "name 'sopu' is not defined",
     "output_type": "error",
     "traceback": [
      "\u001b[0;31m---------------------------------------------------------------------------\u001b[0m",
      "\u001b[0;31mNameError\u001b[0m                                 Traceback (most recent call last)",
      "\u001b[0;32m<ipython-input-125-de43f4e64670>\u001b[0m in \u001b[0;36m<module>\u001b[0;34m()\u001b[0m\n\u001b[1;32m      1\u001b[0m \u001b[0mrestaurants\u001b[0m \u001b[0;34m=\u001b[0m \u001b[0;34m[\u001b[0m\u001b[0;34m]\u001b[0m\u001b[0;34m\u001b[0m\u001b[0m\n\u001b[0;32m----> 2\u001b[0;31m \u001b[0msearch_table\u001b[0m \u001b[0;34m=\u001b[0m \u001b[0msopu\u001b[0m\u001b[0;34m.\u001b[0m\u001b[0mfind\u001b[0m\u001b[0;34m(\u001b[0m\u001b[0;34m\"table\"\u001b[0m\u001b[0;34m,\u001b[0m \u001b[0;34m{\u001b[0m\u001b[0;34m'class'\u001b[0m\u001b[0;34m:\u001b[0m \u001b[0;34m'search-results'\u001b[0m\u001b[0;34m}\u001b[0m\u001b[0;34m)\u001b[0m\u001b[0;34m\u001b[0m\u001b[0m\n\u001b[0m\u001b[1;32m      3\u001b[0m \u001b[0mtable_body\u001b[0m \u001b[0;34m=\u001b[0m \u001b[0msearch_table\u001b[0m\u001b[0;34m.\u001b[0m\u001b[0mfind\u001b[0m\u001b[0;34m(\u001b[0m\u001b[0;34m'tbody'\u001b[0m\u001b[0;34m)\u001b[0m\u001b[0;34m\u001b[0m\u001b[0m\n\u001b[1;32m      4\u001b[0m \u001b[0;32mfor\u001b[0m \u001b[0mtr_tag\u001b[0m \u001b[0;32min\u001b[0m \u001b[0mtable_body\u001b[0m\u001b[0;34m.\u001b[0m\u001b[0mfind_all\u001b[0m\u001b[0;34m(\u001b[0m\u001b[0;34m'tr'\u001b[0m\u001b[0;34m)\u001b[0m\u001b[0;34m:\u001b[0m\u001b[0;34m\u001b[0m\u001b[0m\n\u001b[1;32m      5\u001b[0m     \u001b[0mrestaurant_name\u001b[0m \u001b[0;34m=\u001b[0m \u001b[0mget_name\u001b[0m\u001b[0;34m(\u001b[0m\u001b[0mtr_tag\u001b[0m\u001b[0;34m)\u001b[0m\u001b[0;34m\u001b[0m\u001b[0m\n",
      "\u001b[0;31mNameError\u001b[0m: name 'sopu' is not defined"
     ]
    }
   ],
   "source": [
    "restaurants = []\n",
    "search_table = sopu.find(\"table\", {'class': 'search-results'})\n",
    "table_body = search_table.find('tbody')\n",
    "for tr_tag in table_body.find_all('tr'): \n",
    "    restaurant_name = get_name(tr_tag)\n",
    "    price = get_price(tr_tag)\n",
    "    cuisines = get_cuisines(tr_tag)\n",
    "    rest_dict = {'name': restaurant_name, 'price': price, 'cuisines': cuisines }\n",
    "    restaurants.append(rest_dict)\n",
    "restaurants"
   ]
  },
  {
   "cell_type": "code",
   "execution_count": 126,
   "metadata": {
    "collapsed": true
   },
   "outputs": [],
   "source": [
    "# we want a list of str with get_cousines as a function"
   ]
  },
  {
   "cell_type": "code",
   "execution_count": 127,
   "metadata": {
    "collapsed": false
   },
   "outputs": [
    {
     "ename": "SyntaxError",
     "evalue": "invalid syntax (<ipython-input-127-451c6f6f942e>, line 1)",
     "output_type": "error",
     "traceback": [
      "\u001b[0;36m  File \u001b[0;32m\"<ipython-input-127-451c6f6f942e>\"\u001b[0;36m, line \u001b[0;32m1\u001b[0m\n\u001b[0;31m    import\u001b[0m\n\u001b[0m          ^\u001b[0m\n\u001b[0;31mSyntaxError\u001b[0m\u001b[0;31m:\u001b[0m invalid syntax\n"
     ]
    }
   ],
   "source": [
    "import"
   ]
  },
  {
   "cell_type": "code",
   "execution_count": null,
   "metadata": {
    "collapsed": true
   },
   "outputs": [],
   "source": []
  }
 ],
 "metadata": {
  "kernelspec": {
   "display_name": "Python 3",
   "language": "python",
   "name": "python3"
  },
  "language_info": {
   "codemirror_mode": {
    "name": "ipython",
    "version": 3
   },
   "file_extension": ".py",
   "mimetype": "text/x-python",
   "name": "python",
   "nbconvert_exporter": "python",
   "pygments_lexer": "ipython3",
   "version": "3.5.1"
  }
 },
 "nbformat": 4,
 "nbformat_minor": 0
}
