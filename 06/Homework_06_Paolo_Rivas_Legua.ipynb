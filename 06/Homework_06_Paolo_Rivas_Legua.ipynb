{
 "cells": [
  {
   "cell_type": "markdown",
   "metadata": {
    "collapsed": true
   },
   "source": [
    "\n",
    "#### You'll be using the Dark Sky Forecast API from Forecast.io, available at https://developer.forecast.io. It's a pretty simple API, but be sure to read the documentation!\n",
    "A forecast request returns the current forecast (for the next week): https://api.forecast.io/forecast/APIKEY/LATITUDE,LONGITUDE\n",
    "A time-machine request returns the observed weather at a given time (for many places, up to 60 years in the past): https://api.forecast.io/forecast/APIKEY/LATITUDE,LONGITUDE,TIME\n",
    "1) Make a request from the Forecast.io API for where you were born (or lived, or want to visit!)."
   ]
  },
  {
   "cell_type": "code",
   "execution_count": 1,
   "metadata": {
    "collapsed": true
   },
   "outputs": [],
   "source": [
    "import requests"
   ]
  },
  {
   "cell_type": "code",
   "execution_count": 2,
   "metadata": {
    "collapsed": true
   },
   "outputs": [],
   "source": [
    "response = requests.get(\"https://api.forecast.io/forecast/5afc9217d7eea82824254c951b1b57f4/-12.0561,-77.0268\")"
   ]
  },
  {
   "cell_type": "code",
   "execution_count": 3,
   "metadata": {
    "collapsed": false
   },
   "outputs": [
    {
     "data": {
      "text/plain": [
       "dict_keys(['timezone', 'latitude', 'hourly', 'offset', 'flags', 'daily', 'longitude', 'currently'])"
      ]
     },
     "execution_count": 3,
     "metadata": {},
     "output_type": "execute_result"
    }
   ],
   "source": [
    "weather_Lima = response.json()\n",
    "weather_Lima.keys()"
   ]
  },
  {
   "cell_type": "markdown",
   "metadata": {},
   "source": [
    "I have chosen Lima-Peru, the city I was born. "
   ]
  },
  {
   "cell_type": "code",
   "execution_count": 4,
   "metadata": {
    "collapsed": false
   },
   "outputs": [
    {
     "name": "stdout",
     "output_type": "stream",
     "text": [
      "America/Lima\n"
     ]
    }
   ],
   "source": [
    "print(weather_Lima['timezone'])"
   ]
  },
  {
   "cell_type": "code",
   "execution_count": 5,
   "metadata": {
    "collapsed": false
   },
   "outputs": [
    {
     "name": "stdout",
     "output_type": "stream",
     "text": [
      "Longitude: -77.0268 Latitude: -12.0561\n"
     ]
    }
   ],
   "source": [
    "print(\"Longitude:\", weather_Lima['longitude'], \"Latitude:\", weather_Lima['latitude'])"
   ]
  },
  {
   "cell_type": "markdown",
   "metadata": {},
   "source": [
    "#### 2) What's the current wind speed? How much warmer does it feel than it actually is?"
   ]
  },
  {
   "cell_type": "code",
   "execution_count": 6,
   "metadata": {
    "collapsed": false
   },
   "outputs": [
    {
     "data": {
      "text/plain": [
       "dict_keys(['windBearing', 'precipIntensity', 'temperature', 'windSpeed', 'summary', 'pressure', 'humidity', 'time', 'cloudCover', 'ozone', 'icon', 'precipProbability', 'apparentTemperature', 'dewPoint'])"
      ]
     },
     "execution_count": 6,
     "metadata": {},
     "output_type": "execute_result"
    }
   ],
   "source": [
    "weather_Lima['currently'].keys()"
   ]
  },
  {
   "cell_type": "code",
   "execution_count": 7,
   "metadata": {
    "collapsed": false
   },
   "outputs": [
    {
     "name": "stdout",
     "output_type": "stream",
     "text": [
      "The wind in Lima is currently blowing at 8.5 mph\n"
     ]
    }
   ],
   "source": [
    "Lima_windspeed = weather_Lima['currently']['windSpeed']\n",
    "print(\"The wind in Lima is currently blowing at\", Lima_windspeed, \"mph\")"
   ]
  },
  {
   "cell_type": "code",
   "execution_count": 8,
   "metadata": {
    "collapsed": false
   },
   "outputs": [
    {
     "name": "stdout",
     "output_type": "stream",
     "text": [
      "The temperature feels exactly as expected: 63.78 degrees Fahrenheit\n"
     ]
    }
   ],
   "source": [
    "weather = weather_Lima['currently']\n",
    "Temperature = int(weather['apparentTemperature']) - int(weather['temperature'])\n",
    "if Temperature == 0:\n",
    "    print(\"The temperature feels exactly as expected:\", weather['temperature'], \"degrees Fahrenheit\")\n",
    "elif Temperature > 0:\n",
    "    print(\"It feels\", Temperature, \"degrees Fahrenheit warmer than the actual temperature:\", weather['temperature'], \"degrees Fahrenheit\")\n",
    "else:\n",
    "    print(\"It feels\", Temperature, \"degrees Fahrenheit colder than the actual temperature:\", weather['temperature'], \"degrees Fahrenheit\")"
   ]
  },
  {
   "cell_type": "markdown",
   "metadata": {},
   "source": [
    "#### 3) The first daily forecast is the forecast for today. For the place you decided on up above, how much of the moon is currently visible?"
   ]
  },
  {
   "cell_type": "code",
   "execution_count": 9,
   "metadata": {
    "collapsed": false
   },
   "outputs": [
    {
     "data": {
      "text/plain": [
       "dict_keys(['data', 'summary', 'icon'])"
      ]
     },
     "execution_count": 9,
     "metadata": {},
     "output_type": "execute_result"
    }
   ],
   "source": [
    "weather_Lima['daily'].keys()"
   ]
  },
  {
   "cell_type": "code",
   "execution_count": 10,
   "metadata": {
    "collapsed": false
   },
   "outputs": [
    {
     "data": {
      "text/plain": [
       "[{'apparentTemperatureMax': 67.24,\n",
       "  'apparentTemperatureMaxTime': 1466964000,\n",
       "  'apparentTemperatureMin': 54.37,\n",
       "  'apparentTemperatureMinTime': 1466928000,\n",
       "  'cloudCover': 0.11,\n",
       "  'dewPoint': 52.53,\n",
       "  'humidity': 0.76,\n",
       "  'icon': 'clear-day',\n",
       "  'moonPhase': 0.71,\n",
       "  'ozone': 249.47,\n",
       "  'precipIntensity': 0,\n",
       "  'precipIntensityMax': 0,\n",
       "  'precipProbability': 0,\n",
       "  'pressure': 1014.8,\n",
       "  'summary': 'Clear throughout the day.',\n",
       "  'sunriseTime': 1466940581,\n",
       "  'sunsetTime': 1466981690,\n",
       "  'temperatureMax': 67.24,\n",
       "  'temperatureMaxTime': 1466964000,\n",
       "  'temperatureMin': 54.37,\n",
       "  'temperatureMinTime': 1466928000,\n",
       "  'time': 1466917200,\n",
       "  'windBearing': 178,\n",
       "  'windSpeed': 7.07},\n",
       " {'apparentTemperatureMax': 72.03,\n",
       "  'apparentTemperatureMaxTime': 1467050400,\n",
       "  'apparentTemperatureMin': 56.44,\n",
       "  'apparentTemperatureMinTime': 1467025200,\n",
       "  'cloudCover': 0.11,\n",
       "  'dewPoint': 54.31,\n",
       "  'humidity': 0.75,\n",
       "  'icon': 'clear-day',\n",
       "  'moonPhase': 0.75,\n",
       "  'ozone': 247.33,\n",
       "  'precipIntensity': 0,\n",
       "  'precipIntensityMax': 0,\n",
       "  'precipProbability': 0,\n",
       "  'pressure': 1014.19,\n",
       "  'summary': 'Clear throughout the day.',\n",
       "  'sunriseTime': 1467026990,\n",
       "  'sunsetTime': 1467068104,\n",
       "  'temperatureMax': 72.03,\n",
       "  'temperatureMaxTime': 1467050400,\n",
       "  'temperatureMin': 56.44,\n",
       "  'temperatureMinTime': 1467025200,\n",
       "  'time': 1467003600,\n",
       "  'windBearing': 174,\n",
       "  'windSpeed': 7.74},\n",
       " {'apparentTemperatureMax': 71.16,\n",
       "  'apparentTemperatureMaxTime': 1467136800,\n",
       "  'apparentTemperatureMin': 56.71,\n",
       "  'apparentTemperatureMinTime': 1467108000,\n",
       "  'cloudCover': 0.13,\n",
       "  'dewPoint': 55.01,\n",
       "  'humidity': 0.78,\n",
       "  'icon': 'clear-day',\n",
       "  'moonPhase': 0.79,\n",
       "  'ozone': 244.46,\n",
       "  'precipIntensity': 0,\n",
       "  'precipIntensityMax': 0,\n",
       "  'precipProbability': 0,\n",
       "  'pressure': 1014.55,\n",
       "  'summary': 'Clear throughout the day.',\n",
       "  'sunriseTime': 1467113399,\n",
       "  'sunsetTime': 1467154518,\n",
       "  'temperatureMax': 71.16,\n",
       "  'temperatureMaxTime': 1467136800,\n",
       "  'temperatureMin': 56.71,\n",
       "  'temperatureMinTime': 1467108000,\n",
       "  'time': 1467090000,\n",
       "  'windBearing': 183,\n",
       "  'windSpeed': 5.78},\n",
       " {'apparentTemperatureMax': 72.42,\n",
       "  'apparentTemperatureMaxTime': 1467223200,\n",
       "  'apparentTemperatureMin': 55.53,\n",
       "  'apparentTemperatureMinTime': 1467194400,\n",
       "  'cloudCover': 0.04,\n",
       "  'dewPoint': 54.7,\n",
       "  'humidity': 0.77,\n",
       "  'icon': 'clear-day',\n",
       "  'moonPhase': 0.83,\n",
       "  'ozone': 240.97,\n",
       "  'precipIntensity': 0,\n",
       "  'precipIntensityMax': 0,\n",
       "  'precipProbability': 0,\n",
       "  'pressure': 1014.93,\n",
       "  'summary': 'Clear throughout the day.',\n",
       "  'sunriseTime': 1467199807,\n",
       "  'sunsetTime': 1467240933,\n",
       "  'temperatureMax': 72.42,\n",
       "  'temperatureMaxTime': 1467223200,\n",
       "  'temperatureMin': 55.53,\n",
       "  'temperatureMinTime': 1467194400,\n",
       "  'time': 1467176400,\n",
       "  'windBearing': 181,\n",
       "  'windSpeed': 5.46},\n",
       " {'apparentTemperatureMax': 70.02,\n",
       "  'apparentTemperatureMaxTime': 1467309600,\n",
       "  'apparentTemperatureMin': 56.59,\n",
       "  'apparentTemperatureMinTime': 1467280800,\n",
       "  'cloudCover': 0.08,\n",
       "  'dewPoint': 54.27,\n",
       "  'humidity': 0.77,\n",
       "  'icon': 'clear-day',\n",
       "  'moonPhase': 0.86,\n",
       "  'ozone': 238.8,\n",
       "  'precipIntensity': 0,\n",
       "  'precipIntensityMax': 0,\n",
       "  'precipProbability': 0,\n",
       "  'pressure': 1015.16,\n",
       "  'summary': 'Clear throughout the day.',\n",
       "  'sunriseTime': 1467286214,\n",
       "  'sunsetTime': 1467327348,\n",
       "  'temperatureMax': 70.02,\n",
       "  'temperatureMaxTime': 1467309600,\n",
       "  'temperatureMin': 56.59,\n",
       "  'temperatureMinTime': 1467280800,\n",
       "  'time': 1467262800,\n",
       "  'windBearing': 181,\n",
       "  'windSpeed': 5.92},\n",
       " {'apparentTemperatureMax': 68.11,\n",
       "  'apparentTemperatureMaxTime': 1467399600,\n",
       "  'apparentTemperatureMin': 56.36,\n",
       "  'apparentTemperatureMinTime': 1467370800,\n",
       "  'cloudCover': 0.26,\n",
       "  'dewPoint': 54.3,\n",
       "  'humidity': 0.79,\n",
       "  'icon': 'partly-cloudy-night',\n",
       "  'moonPhase': 0.9,\n",
       "  'ozone': 238.52,\n",
       "  'precipIntensity': 0,\n",
       "  'precipIntensityMax': 0,\n",
       "  'precipProbability': 0,\n",
       "  'pressure': 1016.08,\n",
       "  'summary': 'Partly cloudy throughout the day.',\n",
       "  'sunriseTime': 1467372621,\n",
       "  'sunsetTime': 1467413763,\n",
       "  'temperatureMax': 68.11,\n",
       "  'temperatureMaxTime': 1467399600,\n",
       "  'temperatureMin': 56.36,\n",
       "  'temperatureMinTime': 1467370800,\n",
       "  'time': 1467349200,\n",
       "  'windBearing': 181,\n",
       "  'windSpeed': 5.53},\n",
       " {'apparentTemperatureMax': 69.44,\n",
       "  'apparentTemperatureMaxTime': 1467482400,\n",
       "  'apparentTemperatureMin': 56.12,\n",
       "  'apparentTemperatureMinTime': 1467450000,\n",
       "  'cloudCover': 0.6,\n",
       "  'dewPoint': 53.93,\n",
       "  'humidity': 0.77,\n",
       "  'icon': 'partly-cloudy-day',\n",
       "  'moonPhase': 0.94,\n",
       "  'ozone': 242.32,\n",
       "  'precipIntensity': 0,\n",
       "  'precipIntensityMax': 0,\n",
       "  'precipProbability': 0,\n",
       "  'pressure': 1016.65,\n",
       "  'summary': 'Mostly cloudy throughout the day.',\n",
       "  'sunriseTime': 1467459027,\n",
       "  'sunsetTime': 1467500178,\n",
       "  'temperatureMax': 69.44,\n",
       "  'temperatureMaxTime': 1467482400,\n",
       "  'temperatureMin': 56.12,\n",
       "  'temperatureMinTime': 1467450000,\n",
       "  'time': 1467435600,\n",
       "  'windBearing': 177,\n",
       "  'windSpeed': 5.62},\n",
       " {'apparentTemperatureMax': 69.06,\n",
       "  'apparentTemperatureMaxTime': 1467568800,\n",
       "  'apparentTemperatureMin': 55.28,\n",
       "  'apparentTemperatureMinTime': 1467543600,\n",
       "  'cloudCover': 0.55,\n",
       "  'dewPoint': 53.57,\n",
       "  'humidity': 0.79,\n",
       "  'icon': 'partly-cloudy-day',\n",
       "  'moonPhase': 0.97,\n",
       "  'ozone': 245.26,\n",
       "  'precipIntensity': 0,\n",
       "  'precipIntensityMax': 0,\n",
       "  'precipProbability': 0,\n",
       "  'pressure': 1017.15,\n",
       "  'summary': 'Partly cloudy throughout the day.',\n",
       "  'sunriseTime': 1467545433,\n",
       "  'sunsetTime': 1467586593,\n",
       "  'temperatureMax': 69.06,\n",
       "  'temperatureMaxTime': 1467568800,\n",
       "  'temperatureMin': 55.28,\n",
       "  'temperatureMinTime': 1467543600,\n",
       "  'time': 1467522000,\n",
       "  'windBearing': 175,\n",
       "  'windSpeed': 5.66}]"
      ]
     },
     "execution_count": 10,
     "metadata": {},
     "output_type": "execute_result"
    }
   ],
   "source": [
    "weather_Lima['daily']['data']"
   ]
  },
  {
   "cell_type": "code",
   "execution_count": 11,
   "metadata": {
    "collapsed": false
   },
   "outputs": [
    {
     "name": "stdout",
     "output_type": "stream",
     "text": [
      "Tommorrow the Moon is in a Waning Gibbous phase.\n"
     ]
    }
   ],
   "source": [
    "for moon in weather_Lima['daily']['data']:\n",
    "    moon_forecast = moon['moonPhase']\n",
    "    break\n",
    "if moon_forecast == 0:\n",
    "    print(\"Tomorrow is New Moon.\")\n",
    "elif moon_forecast > .75:\n",
    "    print(\"Tomorrow the Moon is in a Waning Crescent phase.\")\n",
    "elif moon_forecast == .75:\n",
    "    print(\"Tomorrow is last quarter Moon.\")\n",
    "elif moon_forecast > .5:\n",
    "    print(\"Tommorrow the Moon is in a Waning Gibbous phase.\")\n",
    "elif moon_forecast == .5:\n",
    "    print(\"Tommorrow is Full Moon.\")\n",
    "elif moon_forecast > .25:\n",
    "    print(\"Tommorrow the Moon is a Waxing Gibbous phase.\")\n",
    "elif moon_forecast == .25:\n",
    "    print(\"Tommorrow is first Quarter Moon.\")\n",
    "elif moon_forecast > 0:\n",
    "        print(\"Tommorrow the Moon is in a Waxing Crescent phase. This is the first phase after New Moon.\")\n",
    "\n",
    "    "
   ]
  },
  {
   "cell_type": "markdown",
   "metadata": {
    "collapsed": true
   },
   "source": [
    "#### 4) What's the difference between the high and low temperatures for today?"
   ]
  },
  {
   "cell_type": "code",
   "execution_count": 13,
   "metadata": {
    "collapsed": false
   },
   "outputs": [
    {
     "name": "stdout",
     "output_type": "stream",
     "text": [
      "{'windBearing': 183, 'precipIntensity': 0, 'temperature': 63.78, 'windSpeed': 8.5, 'summary': 'Clear', 'pressure': 1013.3, 'humidity': 0.7, 'time': 1466977579, 'cloudCover': 0.08, 'ozone': 247.64, 'icon': 'clear-day', 'precipProbability': 0, 'apparentTemperature': 63.78, 'dewPoint': 53.95}\n"
     ]
    }
   ],
   "source": [
    "print(weather_Lima['currently'])"
   ]
  },
  {
   "cell_type": "code",
   "execution_count": 42,
   "metadata": {
    "collapsed": false
   },
   "outputs": [
    {
     "data": {
      "text/plain": [
       "dict_keys(['timezone', 'latitude', 'hourly', 'offset', 'flags', 'daily', 'longitude', 'currently'])"
      ]
     },
     "execution_count": 42,
     "metadata": {},
     "output_type": "execute_result"
    }
   ],
   "source": [
    "response = requests.get(\"https://api.forecast.io/forecast/5afc9217d7eea82824254c951b1b57f4/-12.0561,-77.0268\")\n",
    "hist_weather_Lima = response.json()\n",
    "hist_weather_Lima.keys()"
   ]
  },
  {
   "cell_type": "code",
   "execution_count": 43,
   "metadata": {
    "collapsed": false
   },
   "outputs": [
    {
     "data": {
      "text/plain": [
       "dict_keys(['data', 'summary', 'icon'])"
      ]
     },
     "execution_count": 43,
     "metadata": {},
     "output_type": "execute_result"
    }
   ],
   "source": [
    "hist_weather_Lima['daily'].keys()"
   ]
  },
  {
   "cell_type": "code",
   "execution_count": 54,
   "metadata": {
    "collapsed": false
   },
   "outputs": [],
   "source": [
    "today_lim = hist_weather_Lima['daily']['data']"
   ]
  },
  {
   "cell_type": "code",
   "execution_count": 60,
   "metadata": {
    "collapsed": false
   },
   "outputs": [],
   "source": [
    "maxi = today_lim[0]['temperatureMax']\n",
    "mini = today_lim[0]['temperatureMin']"
   ]
  },
  {
   "cell_type": "code",
   "execution_count": 62,
   "metadata": {
    "collapsed": false
   },
   "outputs": [
    {
     "name": "stdout",
     "output_type": "stream",
     "text": [
      "The diffrence between the highist and lowest temp. for today in Lima, Peru, was 13 Fahrenheit\n"
     ]
    }
   ],
   "source": [
    "Min_Max = maxi - mini\n",
    "print(\"The diffrence between the highist and lowest temp. for today in Lima, Peru, was\", round(Min_Max), \"Fahrenheit\")"
   ]
  },
  {
   "cell_type": "markdown",
   "metadata": {},
   "source": [
    "#### 5) Loop through the daily forecast, printing out the next week's worth of predictions. I'd like to know the high temperature for each day, and whether it's hot, warm, or cold, based on what temperatures you think are hot, warm or cold."
   ]
  },
  {
   "cell_type": "code",
   "execution_count": 47,
   "metadata": {
    "collapsed": false
   },
   "outputs": [
    {
     "data": {
      "text/plain": [
       "dict_keys(['timezone', 'latitude', 'hourly', 'offset', 'flags', 'daily', 'longitude', 'currently'])"
      ]
     },
     "execution_count": 47,
     "metadata": {},
     "output_type": "execute_result"
    }
   ],
   "source": [
    "response = requests.get(\"https://api.forecast.io/forecast/5afc9217d7eea82824254c951b1b57f4/-12.0561,-77.0268\")\n",
    "daily_weather_Lima = response.json()\n",
    "daily_weather_Lima.keys()"
   ]
  },
  {
   "cell_type": "code",
   "execution_count": 75,
   "metadata": {
    "collapsed": true
   },
   "outputs": [],
   "source": [
    "week_report = daily_weather_Lima['daily']['data'][1:] #For the following 7 days"
   ]
  },
  {
   "cell_type": "code",
   "execution_count": 74,
   "metadata": {
    "collapsed": false
   },
   "outputs": [
    {
     "name": "stdout",
     "output_type": "stream",
     "text": [
      "The maximum temperature in Lima for this day is 22 degrees. This is warm\n",
      "The maximum temperature in Lima for this day is 22 degrees. This is warm\n",
      "The maximum temperature in Lima for this day is 22 degrees. This is warm\n",
      "The maximum temperature in Lima for this day is 21 degrees. This is warm\n",
      "The maximum temperature in Lima for this day is 20 degrees. This is warm\n",
      "The maximum temperature in Lima for this day is 21 degrees. This is warm\n",
      "The maximum temperature in Lima for this day is 21 degrees. This is warm\n"
     ]
    }
   ],
   "source": [
    "for day in week_report:\n",
    "    Celsius = (day['temperatureMax'] - 32) * 5 / 9\n",
    "    if Celsius > 28:\n",
    "        Temperature = \"hot\"\n",
    "    elif Celsius > 18:\n",
    "        Temperature = \"warm\"\n",
    "    else:\n",
    "        Temperature = \"cold\"\n",
    "    print(\"The maximum temperature in Lima for this day is\", round(Celsius), \"degrees. This is\", Temperature) "
   ]
  },
  {
   "cell_type": "markdown",
   "metadata": {},
   "source": [
    "####  6) What's the weather looking like for the rest of today in Miami, Florida? I'd like to know the temperature for every hour, and if it's going to have cloud cover of more than 0.5 say \"{temperature} and cloudy\" instead of just the temperature."
   ]
  },
  {
   "cell_type": "code",
   "execution_count": 76,
   "metadata": {
    "collapsed": false
   },
   "outputs": [
    {
     "data": {
      "text/plain": [
       "dict_keys(['timezone', 'latitude', 'hourly', 'offset', 'minutely', 'daily', 'longitude', 'currently', 'flags'])"
      ]
     },
     "execution_count": 76,
     "metadata": {},
     "output_type": "execute_result"
    }
   ],
   "source": [
    "response = requests.get(\"https://api.forecast.io/forecast/e554f37a8164ce189acd210d00a452e0/25.7617,-80.1918\")\n",
    "Florida = response.json()\n",
    "Florida.keys()"
   ]
  },
  {
   "cell_type": "code",
   "execution_count": null,
   "metadata": {
    "collapsed": true
   },
   "outputs": [],
   "source": []
  }
 ],
 "metadata": {
  "kernelspec": {
   "display_name": "Python 3",
   "language": "python",
   "name": "python3"
  },
  "language_info": {
   "codemirror_mode": {
    "name": "ipython",
    "version": 3
   },
   "file_extension": ".py",
   "mimetype": "text/x-python",
   "name": "python",
   "nbconvert_exporter": "python",
   "pygments_lexer": "ipython3",
   "version": "3.5.1"
  }
 },
 "nbformat": 4,
 "nbformat_minor": 0
}
