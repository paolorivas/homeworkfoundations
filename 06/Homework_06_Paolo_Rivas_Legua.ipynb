{
 "cells": [
  {
   "cell_type": "markdown",
   "metadata": {
    "collapsed": true
   },
   "source": [
    "\n",
    "#### You'll be using the Dark Sky Forecast API from Forecast.io, available at https://developer.forecast.io. It's a pretty simple API, but be sure to read the documentation!\n",
    "A forecast request returns the current forecast (for the next week): https://api.forecast.io/forecast/APIKEY/LATITUDE,LONGITUDE\n",
    "A time-machine request returns the observed weather at a given time (for many places, up to 60 years in the past): https://api.forecast.io/forecast/APIKEY/LATITUDE,LONGITUDE,TIME\n",
    "1) Make a request from the Forecast.io API for where you were born (or lived, or want to visit!)."
   ]
  },
  {
   "cell_type": "code",
   "execution_count": 1,
   "metadata": {
    "collapsed": true
   },
   "outputs": [],
   "source": [
    "import requests"
   ]
  },
  {
   "cell_type": "code",
   "execution_count": 2,
   "metadata": {
    "collapsed": true
   },
   "outputs": [],
   "source": [
    "response = requests.get(\"https://api.forecast.io/forecast/5afc9217d7eea82824254c951b1b57f4/-12.0561,-77.0268\")"
   ]
  },
  {
   "cell_type": "code",
   "execution_count": 4,
   "metadata": {
    "collapsed": false
   },
   "outputs": [
    {
     "data": {
      "text/plain": [
       "dict_keys(['timezone', 'latitude', 'currently', 'offset', 'flags', 'daily', 'longitude', 'hourly'])"
      ]
     },
     "execution_count": 4,
     "metadata": {},
     "output_type": "execute_result"
    }
   ],
   "source": [
    "weather_Lima = response.json()\n",
    "weather_Lima.keys()"
   ]
  },
  {
   "cell_type": "markdown",
   "metadata": {},
   "source": [
    "I have chosen Lima-Peru, the city I was born. "
   ]
  },
  {
   "cell_type": "code",
   "execution_count": 5,
   "metadata": {
    "collapsed": false
   },
   "outputs": [
    {
     "name": "stdout",
     "output_type": "stream",
     "text": [
      "America/Lima\n"
     ]
    }
   ],
   "source": [
    "print(weather_Lima['timezone'])"
   ]
  },
  {
   "cell_type": "code",
   "execution_count": 6,
   "metadata": {
    "collapsed": false
   },
   "outputs": [
    {
     "name": "stdout",
     "output_type": "stream",
     "text": [
      "Longitude: -77.0268 Latitude: -12.0561\n"
     ]
    }
   ],
   "source": [
    "print(\"Longitude:\", weather_Lima['longitude'], \"Latitude:\", weather_Lima['latitude'])"
   ]
  },
  {
   "cell_type": "markdown",
   "metadata": {},
   "source": [
    "#### 2) What's the current wind speed? How much warmer does it feel than it actually is?"
   ]
  },
  {
   "cell_type": "code",
   "execution_count": 7,
   "metadata": {
    "collapsed": false
   },
   "outputs": [
    {
     "data": {
      "text/plain": [
       "dict_keys(['summary', 'precipIntensity', 'cloudCover', 'pressure', 'windSpeed', 'time', 'icon', 'apparentTemperature', 'windBearing', 'ozone', 'humidity', 'precipProbability', 'dewPoint', 'temperature'])"
      ]
     },
     "execution_count": 7,
     "metadata": {},
     "output_type": "execute_result"
    }
   ],
   "source": [
    "weather_Lima['currently'].keys()"
   ]
  },
  {
   "cell_type": "code",
   "execution_count": 14,
   "metadata": {
    "collapsed": false
   },
   "outputs": [
    {
     "name": "stdout",
     "output_type": "stream",
     "text": [
      "The wind in Lima is currently blowing at 7.76 mph\n"
     ]
    }
   ],
   "source": [
    "Lima_windspeed = weather_Lima['currently']['windSpeed']\n",
    "print(\"The wind in Lima is currently blowing at\", Lima_windspeed, \"mph\")"
   ]
  },
  {
   "cell_type": "code",
   "execution_count": 17,
   "metadata": {
    "collapsed": false
   },
   "outputs": [
    {
     "name": "stdout",
     "output_type": "stream",
     "text": [
      "The temperature feels exactly as expected: 58.27 degrees Fahrenheit\n"
     ]
    }
   ],
   "source": [
    "weather = weather_Lima['currently']\n",
    "Temperature = int(weather['apparentTemperature']) - int(weather['temperature'])\n",
    "if Temperature == 0:\n",
    "    print(\"The temperature feels exactly as expected:\", weather['temperature'], \"degrees Fahrenheit\")\n",
    "elif Temperature > 0:\n",
    "    print(\"It feels\", Temperature, \"degrees Fahrenheit warmer than the actual temperature:\", weather['temperature'], \"degrees Fahrenheit\")\n",
    "else:\n",
    "    print(\"It feels\", Temperature, \"degrees Fahrenheit colder than the actual temperature:\", weather['temperature'], \"degrees Fahrenheit\")"
   ]
  },
  {
   "cell_type": "markdown",
   "metadata": {},
   "source": [
    "#### 3) The first daily forecast is the forecast for today. For the place you decided on up above, how much of the moon is currently visible?"
   ]
  },
  {
   "cell_type": "code",
   "execution_count": 18,
   "metadata": {
    "collapsed": false
   },
   "outputs": [
    {
     "data": {
      "text/plain": [
       "dict_keys(['icon', 'summary', 'data'])"
      ]
     },
     "execution_count": 18,
     "metadata": {},
     "output_type": "execute_result"
    }
   ],
   "source": [
    "weather_Lima['daily'].keys()"
   ]
  },
  {
   "cell_type": "code",
   "execution_count": 19,
   "metadata": {
    "collapsed": false
   },
   "outputs": [
    {
     "data": {
      "text/plain": [
       "[{'apparentTemperatureMax': 65.66,\n",
       "  'apparentTemperatureMaxTime': 1466359200,\n",
       "  'apparentTemperatureMin': 56.2,\n",
       "  'apparentTemperatureMinTime': 1466326800,\n",
       "  'cloudCover': 0.17,\n",
       "  'dewPoint': 54.37,\n",
       "  'humidity': 0.82,\n",
       "  'icon': 'clear-day',\n",
       "  'moonPhase': 0.47,\n",
       "  'ozone': 247.78,\n",
       "  'precipIntensity': 0,\n",
       "  'precipIntensityMax': 0,\n",
       "  'precipProbability': 0,\n",
       "  'pressure': 1015.91,\n",
       "  'summary': 'Clear throughout the day.',\n",
       "  'sunriseTime': 1466335702,\n",
       "  'sunsetTime': 1466376800,\n",
       "  'temperatureMax': 65.66,\n",
       "  'temperatureMaxTime': 1466359200,\n",
       "  'temperatureMin': 56.2,\n",
       "  'temperatureMinTime': 1466326800,\n",
       "  'time': 1466312400,\n",
       "  'windBearing': 180,\n",
       "  'windSpeed': 7.28},\n",
       " {'apparentTemperatureMax': 70.96,\n",
       "  'apparentTemperatureMaxTime': 1466445600,\n",
       "  'apparentTemperatureMin': 56.34,\n",
       "  'apparentTemperatureMinTime': 1466413200,\n",
       "  'cloudCover': 0.13,\n",
       "  'dewPoint': 54.89,\n",
       "  'humidity': 0.79,\n",
       "  'icon': 'clear-day',\n",
       "  'moonPhase': 0.51,\n",
       "  'ozone': 247.83,\n",
       "  'precipIntensity': 0,\n",
       "  'precipIntensityMax': 0,\n",
       "  'precipProbability': 0,\n",
       "  'pressure': 1015.17,\n",
       "  'summary': 'Clear throughout the day.',\n",
       "  'sunriseTime': 1466422115,\n",
       "  'sunsetTime': 1466463212,\n",
       "  'temperatureMax': 70.96,\n",
       "  'temperatureMaxTime': 1466445600,\n",
       "  'temperatureMin': 56.34,\n",
       "  'temperatureMinTime': 1466413200,\n",
       "  'time': 1466398800,\n",
       "  'windBearing': 174,\n",
       "  'windSpeed': 8.05},\n",
       " {'apparentTemperatureMax': 70.93,\n",
       "  'apparentTemperatureMaxTime': 1466532000,\n",
       "  'apparentTemperatureMin': 56.86,\n",
       "  'apparentTemperatureMinTime': 1466503200,\n",
       "  'cloudCover': 0.36,\n",
       "  'dewPoint': 54.76,\n",
       "  'humidity': 0.78,\n",
       "  'icon': 'partly-cloudy-day',\n",
       "  'moonPhase': 0.54,\n",
       "  'ozone': 248.09,\n",
       "  'precipIntensity': 0,\n",
       "  'precipIntensityMax': 0,\n",
       "  'precipProbability': 0,\n",
       "  'pressure': 1014.88,\n",
       "  'summary': 'Partly cloudy throughout the day.',\n",
       "  'sunriseTime': 1466508527,\n",
       "  'sunsetTime': 1466549624,\n",
       "  'temperatureMax': 70.93,\n",
       "  'temperatureMaxTime': 1466532000,\n",
       "  'temperatureMin': 56.86,\n",
       "  'temperatureMinTime': 1466503200,\n",
       "  'time': 1466485200,\n",
       "  'windBearing': 177,\n",
       "  'windSpeed': 6.87},\n",
       " {'apparentTemperatureMax': 70.78,\n",
       "  'apparentTemperatureMaxTime': 1466618400,\n",
       "  'apparentTemperatureMin': 56.79,\n",
       "  'apparentTemperatureMinTime': 1466586000,\n",
       "  'cloudCover': 0.47,\n",
       "  'dewPoint': 54.8,\n",
       "  'humidity': 0.79,\n",
       "  'icon': 'partly-cloudy-day',\n",
       "  'moonPhase': 0.57,\n",
       "  'ozone': 246.39,\n",
       "  'precipIntensity': 0,\n",
       "  'precipIntensityMax': 0,\n",
       "  'precipProbability': 0,\n",
       "  'pressure': 1015.27,\n",
       "  'summary': 'Partly cloudy throughout the day.',\n",
       "  'sunriseTime': 1466594939,\n",
       "  'sunsetTime': 1466636037,\n",
       "  'temperatureMax': 70.78,\n",
       "  'temperatureMaxTime': 1466618400,\n",
       "  'temperatureMin': 56.79,\n",
       "  'temperatureMinTime': 1466586000,\n",
       "  'time': 1466571600,\n",
       "  'windBearing': 177,\n",
       "  'windSpeed': 6.6},\n",
       " {'apparentTemperatureMax': 70.79,\n",
       "  'apparentTemperatureMaxTime': 1466704800,\n",
       "  'apparentTemperatureMin': 56.7,\n",
       "  'apparentTemperatureMinTime': 1466668800,\n",
       "  'cloudCover': 0.4,\n",
       "  'dewPoint': 53.91,\n",
       "  'humidity': 0.76,\n",
       "  'icon': 'partly-cloudy-day',\n",
       "  'moonPhase': 0.61,\n",
       "  'ozone': 243.35,\n",
       "  'precipIntensity': 0,\n",
       "  'precipIntensityMax': 0,\n",
       "  'precipProbability': 0,\n",
       "  'pressure': 1015.79,\n",
       "  'summary': 'Partly cloudy until evening.',\n",
       "  'sunriseTime': 1466681350,\n",
       "  'sunsetTime': 1466722450,\n",
       "  'temperatureMax': 70.79,\n",
       "  'temperatureMaxTime': 1466704800,\n",
       "  'temperatureMin': 56.7,\n",
       "  'temperatureMinTime': 1466668800,\n",
       "  'time': 1466658000,\n",
       "  'windBearing': 174,\n",
       "  'windSpeed': 6.05},\n",
       " {'apparentTemperatureMax': 69.49,\n",
       "  'apparentTemperatureMaxTime': 1466791200,\n",
       "  'apparentTemperatureMin': 56.76,\n",
       "  'apparentTemperatureMinTime': 1466762400,\n",
       "  'cloudCover': 0.19,\n",
       "  'dewPoint': 53.13,\n",
       "  'humidity': 0.75,\n",
       "  'icon': 'partly-cloudy-night',\n",
       "  'moonPhase': 0.64,\n",
       "  'ozone': 245.66,\n",
       "  'precipIntensity': 0,\n",
       "  'precipIntensityMax': 0,\n",
       "  'precipProbability': 0,\n",
       "  'pressure': 1015.13,\n",
       "  'summary': 'Partly cloudy overnight.',\n",
       "  'sunriseTime': 1466767761,\n",
       "  'sunsetTime': 1466808863,\n",
       "  'temperatureMax': 69.49,\n",
       "  'temperatureMaxTime': 1466791200,\n",
       "  'temperatureMin': 56.76,\n",
       "  'temperatureMinTime': 1466762400,\n",
       "  'time': 1466744400,\n",
       "  'windBearing': 180,\n",
       "  'windSpeed': 5.99},\n",
       " {'apparentTemperatureMax': 68.49,\n",
       "  'apparentTemperatureMaxTime': 1466874000,\n",
       "  'apparentTemperatureMin': 56.81,\n",
       "  'apparentTemperatureMinTime': 1466845200,\n",
       "  'cloudCover': 0.51,\n",
       "  'dewPoint': 52.82,\n",
       "  'humidity': 0.75,\n",
       "  'icon': 'partly-cloudy-day',\n",
       "  'moonPhase': 0.68,\n",
       "  'ozone': 247.62,\n",
       "  'precipIntensity': 0,\n",
       "  'precipIntensityMax': 0,\n",
       "  'precipProbability': 0,\n",
       "  'pressure': 1013.85,\n",
       "  'summary': 'Partly cloudy throughout the day.',\n",
       "  'sunriseTime': 1466854171,\n",
       "  'sunsetTime': 1466895276,\n",
       "  'temperatureMax': 68.49,\n",
       "  'temperatureMaxTime': 1466874000,\n",
       "  'temperatureMin': 56.81,\n",
       "  'temperatureMinTime': 1466845200,\n",
       "  'time': 1466830800,\n",
       "  'windBearing': 184,\n",
       "  'windSpeed': 5.38},\n",
       " {'apparentTemperatureMax': 67.19,\n",
       "  'apparentTemperatureMaxTime': 1466960400,\n",
       "  'apparentTemperatureMin': 54.86,\n",
       "  'apparentTemperatureMinTime': 1466931600,\n",
       "  'cloudCover': 0.74,\n",
       "  'dewPoint': 52.47,\n",
       "  'humidity': 0.75,\n",
       "  'icon': 'partly-cloudy-day',\n",
       "  'moonPhase': 0.71,\n",
       "  'ozone': 247.95,\n",
       "  'precipIntensity': 0,\n",
       "  'precipIntensityMax': 0,\n",
       "  'precipProbability': 0,\n",
       "  'pressure': 1014.86,\n",
       "  'summary': 'Mostly cloudy throughout the day.',\n",
       "  'sunriseTime': 1466940581,\n",
       "  'sunsetTime': 1466981690,\n",
       "  'temperatureMax': 67.19,\n",
       "  'temperatureMaxTime': 1466960400,\n",
       "  'temperatureMin': 54.86,\n",
       "  'temperatureMinTime': 1466931600,\n",
       "  'time': 1466917200,\n",
       "  'windBearing': 192,\n",
       "  'windSpeed': 4.11}]"
      ]
     },
     "execution_count": 19,
     "metadata": {},
     "output_type": "execute_result"
    }
   ],
   "source": [
    "weather_Lima['daily']['data']"
   ]
  },
  {
   "cell_type": "code",
   "execution_count": 28,
   "metadata": {
    "collapsed": false
   },
   "outputs": [
    {
     "name": "stdout",
     "output_type": "stream",
     "text": [
      "Tommorrow the Moon is a Waxing Gibbous phase.\n"
     ]
    }
   ],
   "source": [
    "for moon in weather_Lima['daily']['data']:\n",
    "    moon_forecast = moon['moonPhase']\n",
    "    break\n",
    "if moon_forecast == 0:\n",
    "    print(\"Tomorrow is New Moon.\")\n",
    "elif moon_forecast > .75:\n",
    "    print(\"Tomorrow the Moon is in a Waning Crescent phase.\")\n",
    "elif moon_forecast == .75:\n",
    "    print(\"Tomorrow is last quarter Moon.\")\n",
    "elif moon_forecast > .5:\n",
    "    print(\"Tommorrow the Moon is in a Waning Gibbous phase.\")\n",
    "elif moon_forecast == .5:\n",
    "    print(\"Tommorrow is Full Moon.\")\n",
    "elif moon_forecast > .25:\n",
    "    print(\"Tommorrow the Moon is a Waxing Gibbous phase.\")\n",
    "elif moon_forecast == .25:\n",
    "    print(\"Tommorrow is first Quarter Moon.\")\n",
    "elif moon_forecast > 0:\n",
    "        print(\"Tommorrow the Moon is in a Waxing Crescent phase. This is the first phase after New Moon.\")\n",
    "\n",
    "    "
   ]
  },
  {
   "cell_type": "code",
   "execution_count": null,
   "metadata": {
    "collapsed": true
   },
   "outputs": [],
   "source": []
  }
 ],
 "metadata": {
  "kernelspec": {
   "display_name": "Python 3",
   "language": "python",
   "name": "python3"
  },
  "language_info": {
   "codemirror_mode": {
    "name": "ipython",
    "version": 3
   },
   "file_extension": ".py",
   "mimetype": "text/x-python",
   "name": "python",
   "nbconvert_exporter": "python",
   "pygments_lexer": "ipython3",
   "version": "3.5.1"
  }
 },
 "nbformat": 4,
 "nbformat_minor": 0
}
