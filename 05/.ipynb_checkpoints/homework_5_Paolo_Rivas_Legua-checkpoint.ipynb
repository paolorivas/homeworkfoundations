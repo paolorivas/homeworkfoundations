{
 "cells": [
  {
   "cell_type": "code",
   "execution_count": 158,
   "metadata": {
    "collapsed": true
   },
   "outputs": [],
   "source": [
    "import requests"
   ]
  },
  {
   "cell_type": "code",
   "execution_count": 159,
   "metadata": {
    "collapsed": true
   },
   "outputs": [],
   "source": [
    "#Question 1\n",
    "response = requests.get(\"https://api.spotify.com/v1/search?q=lil&type=artist&limit=50&market=US\")\n",
    "data = response.json()"
   ]
  },
  {
   "cell_type": "code",
   "execution_count": 160,
   "metadata": {
    "collapsed": false
   },
   "outputs": [
    {
     "data": {
      "text/plain": [
       "dict"
      ]
     },
     "execution_count": 160,
     "metadata": {},
     "output_type": "execute_result"
    }
   ],
   "source": [
    "type(data)"
   ]
  },
  {
   "cell_type": "code",
   "execution_count": 161,
   "metadata": {
    "collapsed": false
   },
   "outputs": [
    {
     "data": {
      "text/plain": [
       "dict_keys(['artists'])"
      ]
     },
     "execution_count": 161,
     "metadata": {},
     "output_type": "execute_result"
    }
   ],
   "source": [
    "data.keys()"
   ]
  },
  {
   "cell_type": "code",
   "execution_count": 162,
   "metadata": {
    "collapsed": false
   },
   "outputs": [
    {
     "data": {
      "text/plain": [
       "dict_keys(['href', 'offset', 'previous', 'limit', 'items', 'next', 'total'])"
      ]
     },
     "execution_count": 162,
     "metadata": {},
     "output_type": "execute_result"
    }
   ],
   "source": [
    "data['artists'].keys()"
   ]
  },
  {
   "cell_type": "code",
   "execution_count": 163,
   "metadata": {
    "collapsed": false
   },
   "outputs": [],
   "source": [
    "artists = data['artists']['items']"
   ]
  },
  {
   "cell_type": "code",
   "execution_count": 164,
   "metadata": {
    "collapsed": false
   },
   "outputs": [
    {
     "name": "stdout",
     "output_type": "stream",
     "text": [
      "Lil Wayne 86\n",
      "Lil Yachty 74\n",
      "Lil Uzi Vert 74\n",
      "Lil Dicky 69\n",
      "Boosie Badazz 67\n",
      "Lil Jon 72\n",
      "King Lil G 61\n",
      "Lil Durk 60\n",
      "Lil Jon & The East Side Boyz 60\n",
      "Lil Bibby 54\n",
      "G Herbo 53\n",
      "Lil Rob 50\n",
      "Lil Scrappy 50\n",
      "Lil Reese 50\n",
      "Bow Wow 57\n",
      "Lil Keke 48\n",
      "Lil Wyte 50\n",
      "Lil Blood 46\n",
      "Lil Snupe 45\n",
      "Lil Boom 47\n",
      "Lil Mama 45\n",
      "Lil B 44\n",
      "Lil' Kim 62\n",
      "Lil Cuete 40\n",
      "Lil Phat 40\n",
      "Lil Debbie 43\n",
      "Lil Twist 40\n",
      "Lil Trill 37\n",
      "Lil Goofy 36\n",
      "Lil Lonnie 37\n",
      "Lil AJ 37\n",
      "Lil Haiti 38\n",
      "Lil Cray 36\n",
      "Mr. Lil One 36\n",
      "Lil Twon 36\n",
      "Lil Mouse 35\n",
      "Lil Yase 34\n",
      "Lil Silva 43\n",
      "Lil Flash 38\n",
      "Lil Suzy 34\n",
      "Lil Eddie 41\n",
      "Lil Rue 34\n",
      "Lil Kesh 39\n",
      "Lil Wayne, DJ Drama 35\n",
      "Lil C 33\n",
      "Lil Rick 39\n",
      "Lil E 35\n",
      "Lil June 32\n",
      "Lil Fate 34\n",
      "Lil' Flip 50\n"
     ]
    }
   ],
   "source": [
    "for artist in artists:\n",
    "    print(artist['name'], artist['popularity'])"
   ]
  },
  {
   "cell_type": "markdown",
   "metadata": {},
   "source": [
    "#### Question 2: What genres are most represented in the search results? Edit your previous printout to also display a list of their genres in the format \"GENRE_1, GENRE_2, GENRE_3\". If there are no genres, print \"No genres listed\"."
   ]
  },
  {
   "cell_type": "code",
   "execution_count": 165,
   "metadata": {
    "collapsed": false
   },
   "outputs": [
    {
     "name": "stdout",
     "output_type": "stream",
     "text": [
      "Lil Wayne 86\n",
      "Genres list:  dirty south rap, pop rap, southern hip hop, trap music\n",
      "Lil Yachty 74\n",
      "no genres listed\n",
      "Lil Uzi Vert 74\n",
      "no genres listed\n",
      "Lil Dicky 69\n",
      "no genres listed\n",
      "Boosie Badazz 67\n",
      "no genres listed\n",
      "Lil Jon 72\n",
      "Genres list:  crunk, dirty south rap, southern hip hop\n",
      "King Lil G 61\n",
      "no genres listed\n",
      "Lil Durk 60\n",
      "no genres listed\n",
      "Lil Jon & The East Side Boyz 60\n",
      "no genres listed\n",
      "Lil Bibby 54\n",
      "no genres listed\n",
      "G Herbo 53\n",
      "no genres listed\n",
      "Lil Rob 50\n",
      "Genres list:  chicano rap, latin hip hop\n",
      "Lil Scrappy 50\n",
      "Genres list:  crunk, dirty south rap, southern hip hop, trap music\n",
      "Lil Reese 50\n",
      "no genres listed\n",
      "Bow Wow 57\n",
      "Genres list:  hip pop, pop rap\n",
      "Lil Keke 48\n",
      "no genres listed\n",
      "Lil Wyte 50\n",
      "Genres list:  juggalo\n",
      "Lil Blood 46\n",
      "no genres listed\n",
      "Lil Snupe 45\n",
      "no genres listed\n",
      "Lil Boom 47\n",
      "no genres listed\n",
      "Lil Mama 45\n",
      "Genres list:  hip pop\n",
      "Lil B 44\n",
      "no genres listed\n",
      "Lil' Kim 62\n",
      "Genres list:  hip pop\n",
      "Lil Cuete 40\n",
      "Genres list:  chicano rap\n",
      "Lil Phat 40\n",
      "no genres listed\n",
      "Lil Debbie 43\n",
      "no genres listed\n",
      "Lil Twist 40\n",
      "Genres list:  jerk\n",
      "Lil Trill 37\n",
      "Genres list:  deep trap\n",
      "Lil Goofy 36\n",
      "no genres listed\n",
      "Lil Lonnie 37\n",
      "no genres listed\n",
      "Lil AJ 37\n",
      "no genres listed\n",
      "Lil Haiti 38\n",
      "no genres listed\n",
      "Lil Cray 36\n",
      "no genres listed\n",
      "Mr. Lil One 36\n",
      "Genres list:  chicano rap\n",
      "Lil Twon 36\n",
      "no genres listed\n",
      "Lil Mouse 35\n",
      "no genres listed\n",
      "Lil Yase 34\n",
      "no genres listed\n",
      "Lil Silva 43\n",
      "no genres listed\n",
      "Lil Flash 38\n",
      "no genres listed\n",
      "Lil Suzy 34\n",
      "Genres list:  freestyle\n",
      "Lil Eddie 41\n",
      "no genres listed\n",
      "Lil Rue 34\n",
      "no genres listed\n",
      "Lil Kesh 39\n",
      "no genres listed\n",
      "Lil Wayne, DJ Drama 35\n",
      "no genres listed\n",
      "Lil C 33\n",
      "no genres listed\n",
      "Lil Rick 39\n",
      "Genres list:  soca\n",
      "Lil E 35\n",
      "no genres listed\n",
      "Lil June 32\n",
      "no genres listed\n",
      "Lil Fate 34\n",
      "no genres listed\n",
      "Lil' Flip 50\n",
      "Genres list:  crunk, dirty south rap\n"
     ]
    }
   ],
   "source": [
    "#Question 2 awnser.\n",
    "for artist in artists:\n",
    "    print(artist['name'], artist['popularity'])\n",
    "    if len(artist['genres']) == 0:\n",
    "        print(\"no genres listed\")\n",
    "    else:\n",
    "        genres = \", \".join(artist['genres'])\n",
    "        print(\"Genres list: \", genres)\n"
   ]
  },
  {
   "cell_type": "markdown",
   "metadata": {},
   "source": [
    "#### Question 3.1: who is the most popular of all lils?"
   ]
  },
  {
   "cell_type": "code",
   "execution_count": 166,
   "metadata": {
    "collapsed": false
   },
   "outputs": [
    {
     "name": "stdout",
     "output_type": "stream",
     "text": [
      "Lil Wayne 86\n",
      "86 compering to 0\n",
      "fund new one!\n",
      "oh, nice try Lil Wayne\n",
      "Lil Wayne {'href': None, 'total': 2635716}\n",
      "Lil Yachty 74\n",
      "74 compering to 0\n",
      "fund new one!\n",
      "This is the new king!\n",
      "Lil Yachty {'href': None, 'total': 44566}\n",
      "Lil Uzi Vert 74\n",
      "74 compering to 74\n",
      "Lil Uzi Vert {'href': None, 'total': 67468}\n",
      "Lil Dicky 69\n",
      "69 compering to 74\n",
      "Lil Dicky {'href': None, 'total': 235174}\n",
      "Boosie Badazz 67\n",
      "67 compering to 74\n",
      "Boosie Badazz {'href': None, 'total': 222389}\n",
      "Lil Jon 72\n",
      "72 compering to 74\n",
      "Lil Jon {'href': None, 'total': 257332}\n",
      "King Lil G 61\n",
      "61 compering to 74\n",
      "King Lil G {'href': None, 'total': 65645}\n",
      "Lil Durk 60\n",
      "60 compering to 74\n",
      "Lil Durk {'href': None, 'total': 135694}\n",
      "Lil Jon & The East Side Boyz 60\n",
      "60 compering to 74\n",
      "Lil Jon & The East Side Boyz {'href': None, 'total': 17278}\n",
      "Lil Bibby 54\n",
      "54 compering to 74\n",
      "Lil Bibby {'href': None, 'total': 44949}\n",
      "G Herbo 53\n",
      "53 compering to 74\n",
      "G Herbo {'href': None, 'total': 52754}\n",
      "Lil Rob 50\n",
      "50 compering to 74\n",
      "Lil Rob {'href': None, 'total': 36265}\n",
      "Lil Scrappy 50\n",
      "50 compering to 74\n",
      "Lil Scrappy {'href': None, 'total': 27311}\n",
      "Lil Reese 50\n",
      "50 compering to 74\n",
      "Lil Reese {'href': None, 'total': 24074}\n",
      "Bow Wow 57\n",
      "57 compering to 74\n",
      "Bow Wow {'href': None, 'total': 119257}\n",
      "Lil Keke 48\n",
      "48 compering to 74\n",
      "Lil Keke {'href': None, 'total': 18962}\n",
      "Lil Wyte 50\n",
      "50 compering to 74\n",
      "Lil Wyte {'href': None, 'total': 31403}\n",
      "Lil Blood 46\n",
      "46 compering to 74\n",
      "Lil Blood {'href': None, 'total': 5617}\n",
      "Lil Snupe 45\n",
      "45 compering to 74\n",
      "Lil Snupe {'href': None, 'total': 34409}\n",
      "Lil Boom 47\n",
      "47 compering to 74\n",
      "Lil Boom {'href': None, 'total': 343}\n",
      "Lil Mama 45\n",
      "45 compering to 74\n",
      "Lil Mama {'href': None, 'total': 21282}\n",
      "Lil B 44\n",
      "44 compering to 74\n",
      "Lil B {'href': None, 'total': 262}\n",
      "Lil' Kim 62\n",
      "62 compering to 74\n",
      "Lil' Kim {'href': None, 'total': 70915}\n",
      "Lil Cuete 40\n",
      "40 compering to 74\n",
      "Lil Cuete {'href': None, 'total': 15704}\n",
      "Lil Phat 40\n",
      "40 compering to 74\n",
      "Lil Phat {'href': None, 'total': 5390}\n",
      "Lil Debbie 43\n",
      "43 compering to 74\n",
      "Lil Debbie {'href': None, 'total': 14666}\n",
      "Lil Twist 40\n",
      "40 compering to 74\n",
      "Lil Twist {'href': None, 'total': 14862}\n",
      "Lil Trill 37\n",
      "37 compering to 74\n",
      "Lil Trill {'href': None, 'total': 2144}\n",
      "Lil Goofy 36\n",
      "36 compering to 74\n",
      "Lil Goofy {'href': None, 'total': 1361}\n",
      "Lil Lonnie 37\n",
      "37 compering to 74\n",
      "Lil Lonnie {'href': None, 'total': 1455}\n",
      "Lil AJ 37\n",
      "37 compering to 74\n",
      "Lil AJ {'href': None, 'total': 920}\n",
      "Lil Haiti 38\n",
      "38 compering to 74\n",
      "Lil Haiti {'href': None, 'total': 763}\n",
      "Lil Cray 36\n",
      "36 compering to 74\n",
      "Lil Cray {'href': None, 'total': 1030}\n",
      "Mr. Lil One 36\n",
      "36 compering to 74\n",
      "Mr. Lil One {'href': None, 'total': 4779}\n",
      "Lil Twon 36\n",
      "36 compering to 74\n",
      "Lil Twon {'href': None, 'total': 339}\n",
      "Lil Mouse 35\n",
      "35 compering to 74\n",
      "Lil Mouse {'href': None, 'total': 16426}\n",
      "Lil Yase 34\n",
      "34 compering to 74\n",
      "Lil Yase {'href': None, 'total': 1185}\n",
      "Lil Silva 43\n",
      "43 compering to 74\n",
      "Lil Silva {'href': None, 'total': 9582}\n",
      "Lil Flash 38\n",
      "38 compering to 74\n",
      "Lil Flash {'href': None, 'total': 1804}\n",
      "Lil Suzy 34\n",
      "34 compering to 74\n",
      "Lil Suzy {'href': None, 'total': 5962}\n",
      "Lil Eddie 41\n",
      "41 compering to 74\n",
      "Lil Eddie {'href': None, 'total': 1659}\n",
      "Lil Rue 34\n",
      "34 compering to 74\n",
      "Lil Rue {'href': None, 'total': 3308}\n",
      "Lil Kesh 39\n",
      "39 compering to 74\n",
      "Lil Kesh {'href': None, 'total': 1704}\n",
      "Lil Wayne, DJ Drama 35\n",
      "35 compering to 74\n",
      "Lil Wayne, DJ Drama {'href': None, 'total': 12930}\n",
      "Lil C 33\n",
      "33 compering to 74\n",
      "Lil C {'href': None, 'total': 1714}\n",
      "Lil Rick 39\n",
      "39 compering to 74\n",
      "Lil Rick {'href': None, 'total': 1842}\n",
      "Lil E 35\n",
      "35 compering to 74\n",
      "Lil E {'href': None, 'total': 146}\n",
      "Lil June 32\n",
      "32 compering to 74\n",
      "Lil June {'href': None, 'total': 1444}\n",
      "Lil Fate 34\n",
      "34 compering to 74\n",
      "Lil Fate {'href': None, 'total': 113}\n",
      "Lil' Flip 50\n",
      "50 compering to 74\n",
      "Lil' Flip {'href': None, 'total': 20153}\n",
      "anwser for question 2\n",
      "Lil Yachty  is the most popular of all the lil with 74 of score.\n"
     ]
    }
   ],
   "source": [
    "most_popular_name = \"\"\n",
    "most_popular_score = 0\n",
    "\n",
    "for artist in artists:\n",
    "    #countring problem:\n",
    "    followers = artist['followers']\n",
    "    print(artist['name'], artist['popularity'])\n",
    "    print(artist['popularity'], \"compering to\", most_popular_score)\n",
    "    if artist['popularity'] > most_popular_score:\n",
    "        print(\"fund new one!\")\n",
    "        if artist['name'] == \"Lil Wayne\":\n",
    "            print(\"oh, nice try\", artist['name'])\n",
    "        else:\n",
    "            print(\"This is the new king!\")\n",
    "            most_popular_name = artist['name']\n",
    "            most_popular_score = artist['popularity']\n",
    "    print(artist['name'], followers)   \n",
    "print('anwser for question 2')\n",
    "print(most_popular_name,\" is the most popular of all the lil with\", most_popular_score,\"of score.\")\n"
   ]
  },
  {
   "cell_type": "markdown",
   "metadata": {},
   "source": [
    "#### Question 3.2 Does the most popular of all the 'lil' has the more followers?"
   ]
  },
  {
   "cell_type": "code",
   "execution_count": 167,
   "metadata": {
    "collapsed": false
   },
   "outputs": [
    {
     "name": "stdout",
     "output_type": "stream",
     "text": [
      "Lil Wayne 86 2635716\n",
      "not you wayne\n",
      "Lil Yachty 74 44566\n",
      "updating the new winner\n",
      "Lil Uzi Vert 74 67468\n",
      "updating the new winner\n",
      "Lil Dicky 69 235174\n",
      "updating the new winner\n",
      "Boosie Badazz 67 222389\n",
      "Lil Jon 72 257332\n",
      "updating the new winner\n",
      "King Lil G 61 65645\n",
      "Lil Durk 60 135694\n",
      "Lil Jon & The East Side Boyz 60 17278\n",
      "Lil Bibby 54 44949\n",
      "G Herbo 53 52754\n",
      "Lil Rob 50 36265\n",
      "Lil Scrappy 50 27311\n",
      "Lil Reese 50 24074\n",
      "Bow Wow 57 119257\n",
      "Lil Keke 48 18962\n",
      "Lil Wyte 50 31403\n",
      "Lil Blood 46 5617\n",
      "Lil Snupe 45 34409\n",
      "Lil Boom 47 343\n",
      "Lil Mama 45 21282\n",
      "Lil B 44 262\n",
      "Lil' Kim 62 70915\n",
      "Lil Cuete 40 15704\n",
      "Lil Phat 40 5390\n",
      "Lil Debbie 43 14666\n",
      "Lil Twist 40 14862\n",
      "Lil Trill 37 2144\n",
      "Lil Goofy 36 1361\n",
      "Lil Lonnie 37 1455\n",
      "Lil AJ 37 920\n",
      "Lil Haiti 38 763\n",
      "Lil Cray 36 1030\n",
      "Mr. Lil One 36 4779\n",
      "Lil Twon 36 339\n",
      "Lil Mouse 35 16426\n",
      "Lil Yase 34 1185\n",
      "Lil Silva 43 9582\n",
      "Lil Flash 38 1804\n",
      "Lil Suzy 34 5962\n",
      "Lil Eddie 41 1659\n",
      "Lil Rue 34 3308\n",
      "Lil Kesh 39 1704\n",
      "Lil Wayne, DJ Drama 35 12930\n",
      "Lil C 33 1714\n",
      "Lil Rick 39 1842\n",
      "Lil E 35 146\n",
      "Lil June 32 1444\n",
      "Lil Fate 34 113\n",
      "Lil' Flip 50 20153\n",
      "who has more followers?\n",
      "Lil Jon is the winner and has arround 257332 followers\n",
      "Lil Yachty is not the winner in the followers category\n"
     ]
    }
   ],
   "source": [
    "\n",
    "most_followers_name = \"\"\n",
    "most_followers_score = 0\n",
    "artists = data['artists']['items']\n",
    "for artist in artists:\n",
    "    total_followers = artist['followers']['total']\n",
    "    print(artist['name'], artist['popularity'], total_followers)\n",
    "    if total_followers > most_followers_score:\n",
    "        if artist['name'] == \"Lil Wayne\":\n",
    "            print(\"not you wayne\")\n",
    "        else:\n",
    "            print('updating the new winner')\n",
    "            most_followers_name = artist['name']\n",
    "            most_followers_score = total_followers\n",
    "print(\"who has more followers?\")\n",
    "print(most_followers_name,\"is the winner and has arround\", most_followers_score, \"followers\") \n",
    "if most_followers_name != \"Lil Yatchy\":\n",
    "    print(\"Lil Yachty is not the winner in the followers category\")\n",
    "   \n",
    "    \n",
    "    "
   ]
  },
  {
   "cell_type": "markdown",
   "metadata": {},
   "source": [
    "#### Question 4 (first part)"
   ]
  },
  {
   "cell_type": "code",
   "execution_count": 168,
   "metadata": {
    "collapsed": false
   },
   "outputs": [
    {
     "name": "stdout",
     "output_type": "stream",
     "text": [
      "found lil kim\n",
      "62\n"
     ]
    }
   ],
   "source": [
    "#Question 4 (firt part)\n",
    "for artist in artists:\n",
    "    if artist['name'] == \"Lil' Kim\":\n",
    "        print(\"found lil kim\")\n",
    "        print(artist['popularity'])"
   ]
  },
  {
   "cell_type": "code",
   "execution_count": 169,
   "metadata": {
    "collapsed": false
   },
   "outputs": [
    {
     "name": "stdout",
     "output_type": "stream",
     "text": [
      "Lil Wayne is MORE POPULAR with a score of 86\n",
      "Lil Yachty is MORE POPULAR with a score of 74\n",
      "Lil Uzi Vert is MORE POPULAR with a score of 74\n",
      "Lil Dicky is MORE POPULAR with a score of 69\n",
      "Boosie Badazz is MORE POPULAR with a score of 67\n",
      "Lil Jon is MORE POPULAR with a score of 72\n",
      "Artist that are more popular than Lil Kim: Lil Wayne, Lil Yachty, Lil Uzi Vert, Lil Dicky, Boosie Badazz, Lil Jon\n"
     ]
    }
   ],
   "source": [
    "#Question 4 (second part)\n",
    "lil_kim_popularity = 62\n",
    "\n",
    "# AGGREGATION PROBLEM\n",
    "more_popular_than_lil_kim = []\n",
    "\n",
    "# THE LOOP\n",
    "for artist in artists:\n",
    "    if artist['popularity'] > lil_kim_popularity:\n",
    "        print(artist['name'], \"is MORE POPULAR with a score of\", artist['popularity'])\n",
    "        more_popular_than_lil_kim.append(artist['name'])\n",
    "new_list = \", \".join(more_popular_than_lil_kim)\n",
    "print(\"Artist that are more popular than Lil Kim:\", new_list)"
   ]
  },
  {
   "cell_type": "markdown",
   "metadata": {},
   "source": [
    "### Question 5 Picking up artists"
   ]
  },
  {
   "cell_type": "code",
   "execution_count": 170,
   "metadata": {
    "collapsed": false,
    "scrolled": true
   },
   "outputs": [
    {
     "name": "stdout",
     "output_type": "stream",
     "text": [
      "Lil Wayne 55Aa2cqylxrFIXC767Z865\n",
      "Lil Yachty 6icQOAFXDZKsumw3YXyusw\n",
      "Lil Uzi Vert 4O15NlyKLIASxsJ0PrXPfz\n",
      "Lil Dicky 1tqhsYv8yBBdwANFNzHtcr\n",
      "Boosie Badazz 6z7xFFHxYkE9t8bwIF0Bvg\n",
      "Lil Jon 7sfl4Xt5KmfyDs2T3SVSMK\n",
      "King Lil G 6L3x3if9RVimruryD9LoFb\n",
      "Lil Durk 3hcs9uc56yIGFCSy9leWe7\n",
      "Lil Jon & The East Side Boyz 3ciRvbBIVz9fBoPbtSYq4x\n",
      "Lil Bibby 4uSN8Y3kgFNVULUWsZEAVW\n",
      "G Herbo 5QdEbQJ3ylBnc3gsIASAT5\n",
      "Lil Rob 7B7TGqQe7QTVm2U6q8jzk1\n",
      "Lil Scrappy 5einkgXXrjhfYCyac1FANB\n",
      "Lil Reese 1bPxKZtCdjB1aj1csBJpdS\n",
      "Bow Wow 7352aRY2mqSxBZwzUb6LmA\n",
      "Lil Keke 1grI9x4Uzos1Asx8JmRW6T\n",
      "Lil Wyte 21O7WwRkik43ErKppxDKJq\n",
      "Lil Blood 74nSA5FdDOuuLw7Rn5JnuP\n",
      "Lil Snupe 42FaEHFfyxTdZQ5W28dXnj\n",
      "Lil Boom 1mmlWsyPJvvxMdabcGJjRn\n",
      "Lil Mama 5qK5bOC6wLtuLhG5KvU17c\n",
      "Lil B 4dqh62yIzDBmrMeBOLiP5F\n",
      "Lil' Kim 5tth2a3v0sWwV1C7bApBdX\n",
      "Lil Cuete 1I5u5Umau1AgHl0ZbPL1oR\n",
      "Lil Phat 3QnIBUOS4mUzs67rZ8r4c9\n",
      "Lil Debbie 3FNZcjyqT7F5upP99JV0oN\n",
      "Lil Twist 564gvOqSRcQoYAhaBpTiK2\n",
      "Lil Trill 5EQERGi7ffHvHsv3bnqzBn\n",
      "Lil Goofy 3rWaFjgOi5mjQfllMfN3VI\n",
      "Lil Lonnie 6zSBkdKFLKKggDtE3amfCk\n",
      "Lil AJ 2jXwYLNnCxNavms4mc1DYM\n",
      "Lil Haiti 4E9dumwOMLlTyXUp1i2WdI\n",
      "Lil Cray 43BqexhEx5NKF7VfeOYP9m\n",
      "Mr. Lil One 6tslWi0BXiDdtChermDzkU\n",
      "Lil Twon 5YZZbPdI7P7te3lW3dTpzK\n",
      "Lil Mouse 1cEHxCgGlEgqBc91YOcAEQ\n",
      "Lil Yase 4vIlHBnzWKbmWe8ZOkT1ZT\n",
      "Lil Silva 2Kv0ApBohrL213X9avMrEn\n",
      "Lil Flash 069qBEK34YGoX7nSIT74Eg\n",
      "Lil Suzy 5HPsVk1MblCoa44WLJsQwN\n",
      "Lil Eddie 5CY0QKsbUBpQJIE2yycsYi\n",
      "Lil Rue 4IFVaKBbEO8Qkurg6nmoc4\n",
      "Lil Kesh 38XiDu0kK3Z5jdHUDqBzNT\n",
      "Lil Wayne, DJ Drama 65npPa1U4cgobX9wU7Jgpb\n",
      "Lil C 69swdLSkKxCQBMYJ55O2mA\n",
      "Lil Rick 1qKzKUnuQsjB83hBZffoq0\n",
      "Lil E 0zn6yzsbWj3EPMgOTqfG5k\n",
      "Lil June 3GH3KD2078kLPpEkN1UN26\n",
      "Lil Fate 6JUnsP7jmvYmdhbg7lTMQj\n",
      "Lil' Flip 4Q5sPmM8j4SpMqL4UA1DtS\n"
     ]
    }
   ],
   "source": [
    "for artist in artists:\n",
    "    print(artist['name'], artist['id'] )\n",
    "    "
   ]
  },
  {
   "cell_type": "markdown",
   "metadata": {},
   "source": [
    "#### 6) Will the world explode if a musicians swears? Get an average popularity for their explicit songs vs. their non-explicit songs. How many minutes of explicit songs do they have? Non-explicit?"
   ]
  },
  {
   "cell_type": "code",
   "execution_count": 171,
   "metadata": {
    "collapsed": false
   },
   "outputs": [],
   "source": [
    "#Artist chosen:\n",
    "#Lil_Uzi_Vert_id = 4O15NlyKLIASxsJ0PrXPfz\n",
    "#Lil_Dicky_id = 1tqhsYv8yBBdwANFNzHtcr\n",
    "import requests\n",
    "response = requests.get(\"https://api.spotify.com/v1/artists/4O15NlyKLIASxsJ0PrXPfz/top-tracks?country=US\")\n",
    "data2 = response.json()\n"
   ]
  },
  {
   "cell_type": "markdown",
   "metadata": {},
   "source": [
    "* First Lil'Uzi Vert"
   ]
  },
  {
   "cell_type": "code",
   "execution_count": 172,
   "metadata": {
    "collapsed": false
   },
   "outputs": [
    {
     "data": {
      "text/plain": [
       "dict"
      ]
     },
     "execution_count": 172,
     "metadata": {},
     "output_type": "execute_result"
    }
   ],
   "source": [
    "type(data2)"
   ]
  },
  {
   "cell_type": "code",
   "execution_count": 173,
   "metadata": {
    "collapsed": false
   },
   "outputs": [
    {
     "data": {
      "text/plain": [
       "dict_keys(['tracks'])"
      ]
     },
     "execution_count": 173,
     "metadata": {},
     "output_type": "execute_result"
    }
   ],
   "source": [
    "data2.keys()"
   ]
  },
  {
   "cell_type": "code",
   "execution_count": 174,
   "metadata": {
    "collapsed": false
   },
   "outputs": [
    {
     "data": {
      "text/plain": [
       "list"
      ]
     },
     "execution_count": 174,
     "metadata": {},
     "output_type": "execute_result"
    }
   ],
   "source": [
    "type(data2['tracks'])"
   ]
  },
  {
   "cell_type": "code",
   "execution_count": 175,
   "metadata": {
    "collapsed": false
   },
   "outputs": [
    {
     "name": "stdout",
     "output_type": "stream",
     "text": [
      "Money Longer is explicit\n",
      "You Was Right is explicit\n",
      "Top is explicit\n",
      "Ps & Qs is explicit\n",
      "7am is explicit\n",
      "Canadian Goose is explicit\n",
      "Hi Roller is explicit\n",
      "All My Chains is explicit\n",
      "Baby Are You Home is explicit\n",
      "Grab the Wheel is explicit\n",
      "#######\n",
      "10 tracks of Lil Uzi are explicit , 0 tracks are not explicit\n"
     ]
    }
   ],
   "source": [
    "List_of_explicit_tracks= []\n",
    "List_of_non_explicit_tracks= []\n",
    "tracks = data2['tracks']\n",
    "for track in tracks:\n",
    "    if track['explicit'] == True:\n",
    "        print(track['name'], \"is explicit\")\n",
    "        List_of_explicit_tracks.append(track['name'])\n",
    "    else:\n",
    "        print(track['name'],\"with a popularity of\", track['popularity'], \"is not explicit\")\n",
    "        List_of_non_explicit_tracks.append(track['name'])\n",
    "  \n",
    "print(\"#######\")\n",
    "print(len(List_of_explicit_tracks), \"tracks of Lil Uzi are explicit\",\",\",len(List_of_non_explicit_tracks), \"tracks are not explicit\")\n"
   ]
  },
  {
   "cell_type": "code",
   "execution_count": 176,
   "metadata": {
    "collapsed": true
   },
   "outputs": [],
   "source": [
    "lil_uzi_tracks = tracks"
   ]
  },
  {
   "cell_type": "code",
   "execution_count": 153,
   "metadata": {
    "collapsed": false
   },
   "outputs": [
    {
     "name": "stdout",
     "output_type": "stream",
     "text": [
      "The average of popularity of explicit tracks: 386.3\n",
      "The average of popularity of non explicit tracks: 0\n",
      "The duration of explicit tracks in minutes: 196.67875\n"
     ]
    }
   ],
   "source": [
    "explicit_track_pop_total = 0\n",
    "non_explicit_track_pop_total = 0\n",
    "lil_uzi_list_explicit = []\n",
    "lil_uzi_list_nonexplicit = []\n",
    "for tracks in lil_uzi_tracks:\n",
    "    if tracks['explicit'] == True:\n",
    "        explicit_track_pop_total = explicit_track_pop_total + tracks['popularity']\n",
    "        lil_uzi_list_explicit.append(explicit_track_pop_total)\n",
    "        \n",
    "    elif tracks['explicit'] == False:\n",
    "        non_explicit_track_pop_total = non_explicit_track_pop_total + tracks['popularity']\n",
    "        lil_uzi_list_nonexplicit.append(non_explicit_track_pop_total)\n",
    "        \n",
    "explicit_track_duration_total = 0\n",
    "non_explicit_track_duration_total = 0\n",
    "lil_uzi_list_explicit_dur = []\n",
    "lil_uzi_list_nonexplicit_dur = []\n",
    "for tracks in lil_uzi_tracks:\n",
    "    if tracks['explicit'] == True:\n",
    "        explicit_track_duration_total = explicit_track_duration_total + tracks['duration_ms']\n",
    "        lil_uzi_list_explicit_dur.append(explicit_track_duration_total)\n",
    "        \n",
    "    elif tracks['explicit'] == False:\n",
    "        non_explicit_track_pop_total = non_explicit_track_duration_total + tracks['duration_ms']\n",
    "        lil_uzi_list_nonexplicit_dur.append(non_explicit_track_duration_total)        \n",
    "        \n",
    "print(\"The average of popularity of explicit tracks:\", float(sum(lil_uzi_list_explicit))/len(lil_uzi_list_explicit))\n",
    "print(\"The average of popularity of non explicit tracks:\",sum(lil_uzi_list_nonexplicit)) #We already now this is 0\n",
    "print(\"The duration of explicit tracks in minutes:\", sum(lil_uzi_list_explicit_dur)/60000)"
   ]
  },
  {
   "cell_type": "code",
   "execution_count": null,
   "metadata": {
    "collapsed": true
   },
   "outputs": [],
   "source": []
  },
  {
   "cell_type": "markdown",
   "metadata": {},
   "source": [
    "* Now Lil Dicky"
   ]
  },
  {
   "cell_type": "code",
   "execution_count": 177,
   "metadata": {
    "collapsed": false
   },
   "outputs": [],
   "source": [
    "import requests\n",
    "response = requests.get(\"https://api.spotify.com/v1/artists/1tqhsYv8yBBdwANFNzHtcr/top-tracks?country=US\")\n",
    "data4 = response.json()\n",
    "lil_Dicky_tracks = data4"
   ]
  },
  {
   "cell_type": "code",
   "execution_count": 154,
   "metadata": {
    "collapsed": false
   },
   "outputs": [
    {
     "name": "stdout",
     "output_type": "stream",
     "text": [
      "$ave Dat Money (feat. Fetty Wap & Rich Homie Quan) is explicit\n",
      "Professional Rapper (feat. Snoop Dogg) is explicit\n",
      "Molly (feat. Brendon Urie of Panic at the Disco) is explicit\n",
      "Lemme Freak is explicit\n",
      "Personality (feat. T Pain) is explicit\n",
      "White Crime is explicit\n",
      "Bruh... is explicit\n",
      "Pillow Talking (feat. Brain) is explicit\n",
      "Who Knew is explicit\n",
      "Oh Well (feat. Jace of Two-9) is explicit\n",
      "#######\n",
      "10 tracks of Lil Dicky are explicit , 0 tracks are not explicit\n"
     ]
    }
   ],
   "source": [
    "List_of_explicit_tracks2= []\n",
    "List_of_non_explicit_tracks2= []\n",
    "tracks2 = lil_Dicky_tracks['tracks']\n",
    "for track in tracks2:\n",
    "    if track['explicit'] == True:\n",
    "        print(track['name'], \"is explicit\")\n",
    "        List_of_explicit_tracks2.append(track['name'])\n",
    "    elif tracks['explicit'] == False:\n",
    "        print(track['name'],\"with a popularity of\", track['popularity'], \"is not explicit\")\n",
    "        List_of_non_explicit_tracks2.append(track['name'])\n",
    "  \n",
    "print(\"#######\")\n",
    "print(len(List_of_explicit_tracks2), \"tracks of Lil Dicky are explicit\",\",\", len(List_of_non_explicit_tracks2), \"tracks are not explicit\")"
   ]
  },
  {
   "cell_type": "code",
   "execution_count": 182,
   "metadata": {
    "collapsed": false
   },
   "outputs": [
    {
     "name": "stdout",
     "output_type": "stream",
     "text": [
      "The average of popularity of explicit tracks: 670.0\n",
      "The average of popularity of non explicit tracks: 0\n",
      "The duration of explicit tracks in minutes: 270.24451666666664\n"
     ]
    }
   ],
   "source": [
    "explicit_track_pop_total2 = 0\n",
    "non_explicit_track_pop_total2 = 0\n",
    "lil_Dick_list_explicit = []\n",
    "lil_Dick_list_nonexplicit = []\n",
    "tracks3 = lil_Dicky_tracks['tracks']\n",
    "for tracks in tracks3:\n",
    "    if tracks['explicit'] == True:\n",
    "        explicit_track_pop_total2 = explicit_track_pop_total2 + tracks['popularity']\n",
    "        lil_Dick_list_explicit.append(explicit_track_pop_total)\n",
    "        \n",
    "    elif tracks['explicit'] == False:\n",
    "        non_explicit_track_pop_total2 = non_explicit_track_pop_total2 + tracks['popularity']\n",
    "        lil_Dick_list_nonexplicit.append(non_explicit_track_pop_total)\n",
    "        explicit_track_duration_total = 0\n",
    "        \n",
    "explicit_track_duration_total2 = 0        \n",
    "non_explicit_track_duration_total2 = 0\n",
    "lil_Dick_list_explicit_dur = []\n",
    "lil_Dick_list_nonexplicit_dur = []\n",
    "tracks3 = lil_Dicky_tracks['tracks']\n",
    "for tracks in tracks3:\n",
    "    if tracks['explicit'] == True:\n",
    "        explicit_track_duration_total2 = explicit_track_duration_total2 + tracks['duration_ms']\n",
    "        lil_Dick_list_explicit_dur.append(explicit_track_duration_total2)\n",
    "        \n",
    "    elif tracks['explicit'] == False:\n",
    "        non_explicit_track_duration_total2 = non_explicit_track_duration_total2 + tracks['duration_ms']\n",
    "        lil_Dick_list_nonexplicit_dur.append(non_explicit_track_duration_total2)\n",
    "        \n",
    "print(\"The average of popularity of explicit tracks:\", float(sum(lil_Dick_list_explicit))/len(lil_Dick_list_explicit))\n",
    "print(\"The average of popularity of non explicit tracks:\",sum(lil_Dick_list_nonexplicit)) #We already now this is 0\n",
    "print(\"The duration of explicit tracks in minutes:\", sum(lil_Dick_list_explicit_dur)/60000)"
   ]
  },
  {
   "cell_type": "markdown",
   "metadata": {},
   "source": [
    "#### 7 a) Since we're talking about Lils, what about Biggies? How many total \"Biggie\" artists are there? How many total \"Lil\"s? If you made 1 request every 5 seconds, how long would it take to download information on all the Lils vs the Biggies?\n"
   ]
  },
  {
   "cell_type": "code",
   "execution_count": 183,
   "metadata": {
    "collapsed": true
   },
   "outputs": [],
   "source": [
    "# BIGGIE DATA\n",
    "response = requests.get('https://api.spotify.com/v1/search?query=Biggie&type=artist&limit=50&market=US')\n",
    "Biggie_data = response.json()"
   ]
  },
  {
   "cell_type": "code",
   "execution_count": 184,
   "metadata": {
    "collapsed": true
   },
   "outputs": [],
   "source": [
    "# LIL'S DATA\n",
    "response = requests.get('https://api.spotify.com/v1/search?query=Lil&type=artist&limit=50&market=US')\n",
    "Lil_data = response.json()"
   ]
  },
  {
   "cell_type": "code",
   "execution_count": 187,
   "metadata": {
    "collapsed": false
   },
   "outputs": [
    {
     "name": "stdout",
     "output_type": "stream",
     "text": [
      "There are 50 artists named Biggie on Spotify and 4527 named with Lil on it\n"
     ]
    }
   ],
   "source": [
    "response = requests.get('https://api.spotify.com/v1/search?query=Lil&type=artist&limit=50&market=US')\n",
    "Lil_data = response.json()\n",
    "\n",
    "Biggie_artists = Biggie_data['artists']['total']\n",
    "Lil_artists = Lil_data['artists']['total']\n",
    "print(\"There are\", Biggie_artists, \"artists named Biggie on Spotify and\", Lil_artists, \"named with Lil on it\",)"
   ]
  },
  {
   "cell_type": "code",
   "execution_count": 190,
   "metadata": {
    "collapsed": false
   },
   "outputs": [
    {
     "name": "stdout",
     "output_type": "stream",
     "text": [
      "It would take 5 seconds to download all the Biggie artists and 453 seconds to download the Lil artists.\n"
     ]
    }
   ],
   "source": [
    "Total_Download_Time_Biggie = Biggie_artists / 50 * 5\n",
    "Total_Download_Time_Lil = Lil_artists / 50 * 5\n",
    "print(\"It would take\", round(Total_Download_Time_Biggie), \"seconds to download all the Biggie artists and\", round(Total_Download_Time_Lil), \"seconds to download the Lil artists.\" )"
   ]
  },
  {
   "cell_type": "markdown",
   "metadata": {},
   "source": [
    "#### 8) Out of the top 50 \"Lil\"s and the top 50 \"Biggie\"s, who is more popular on average?"
   ]
  },
  {
   "cell_type": "code",
   "execution_count": 193,
   "metadata": {
    "collapsed": false
   },
   "outputs": [
    {
     "name": "stdout",
     "output_type": "stream",
     "text": [
      "Lil Wayne 86\n",
      "Lil Yachty 74\n",
      "Lil Uzi Vert 74\n",
      "Lil Dicky 69\n",
      "Boosie Badazz 67\n",
      "Lil Jon 72\n",
      "King Lil G 61\n",
      "Lil Durk 60\n",
      "Lil Jon & The East Side Boyz 60\n",
      "Lil Bibby 54\n",
      "G Herbo 53\n",
      "Lil Rob 50\n",
      "Lil Scrappy 50\n",
      "Lil Reese 50\n",
      "Bow Wow 57\n",
      "Lil Keke 48\n",
      "Lil Wyte 50\n",
      "Lil Blood 46\n",
      "Lil Snupe 45\n",
      "Lil Boom 47\n",
      "Lil Mama 45\n",
      "Lil B 44\n",
      "Lil' Kim 62\n",
      "Lil Cuete 40\n",
      "Lil Phat 40\n",
      "Lil Debbie 43\n",
      "Lil Twist 40\n",
      "Lil Trill 37\n",
      "Lil Goofy 36\n",
      "Lil Lonnie 37\n",
      "Lil AJ 37\n",
      "Lil Haiti 38\n",
      "Lil Cray 36\n",
      "Mr. Lil One 36\n",
      "Lil Twon 36\n",
      "Lil Mouse 35\n",
      "Lil Yase 34\n",
      "Lil Silva 43\n",
      "Lil Flash 38\n",
      "Lil Suzy 34\n",
      "Lil Eddie 41\n",
      "Lil Rue 34\n",
      "Lil Kesh 39\n",
      "Lil Wayne, DJ Drama 35\n",
      "Lil C 33\n",
      "Lil Rick 39\n",
      "Lil E 35\n",
      "Lil June 32\n",
      "Lil Fate 34\n",
      "Lil' Flip 50\n"
     ]
    }
   ],
   "source": [
    "Lil_artists_pop = Lil_data['artists']['items']\n",
    "for popularity in Lil_artists_pop:\n",
    "    print(popularity['name'], popularity['popularity'])"
   ]
  },
  {
   "cell_type": "code",
   "execution_count": 194,
   "metadata": {
    "collapsed": false
   },
   "outputs": [
    {
     "name": "stdout",
     "output_type": "stream",
     "text": [
      "The Notorious B.I.G. 76\n",
      "Biggie D 20\n",
      "Biggie 23\n",
      "Biggie Irie 16\n",
      "Fabolous|Biggie|Busta|Nate Dogg 11\n",
      "Biggie Smalls 13\n",
      "Biggie Paul 17\n",
      "Biggie the Kid 4\n",
      "Alief Biggie 4\n",
      "Papa Biggie 0\n",
      "Mister Biggie 0\n",
      "Biggie & Foldy 0\n",
      "Biggie Bash 6\n",
      "Dj Majah & Blaq Biggie Blaq 2\n",
      "Biggie Tembo 1\n",
      "Louis Biggie 0\n",
      "Biggie Da Roxter 0\n",
      "Biggie Dutch 0\n",
      "Biggie Dutch feat. Marina Wilde 0\n",
      "MC Biggie 0\n",
      "Mr Biggie 0\n",
      "Biggie & Anjay 0\n",
      "Balder & Biggie 2\n",
      "Poppa Biggie 0\n",
      "Biggie Mic 0\n",
      "Babie Biggie 0\n",
      "Biggie Moe 0\n",
      "MC Biggiedoy 0\n",
      "Biggie Lu 0\n",
      "Biggie Bandit 0\n",
      "Biggie Babylon 0\n",
      "Biggieballzh 0\n",
      "1000 LBS (Biggie Irie 0\n",
      "Biggie Brown 0\n",
      "Biggie Vinkeloe 0\n",
      "Biggie Sam 0\n",
      "Crenshaw Biggie 0\n",
      "Biggie Whit 0\n",
      "Biggie Smiles 0\n",
      "Biggie Nabwelela 1\n",
      "Biggie Roggie Shirima 0\n",
      "Wandung'u Biggie 0\n",
      "Biggie Jackson 0\n",
      "Kevy K Biggie 0\n",
      "Andrew Biggie 0\n",
      "Biggie Fab 0\n",
      "Dj Biggie B 0\n",
      "Biggie Talls 0\n",
      "Biggie Smalls Featuring Grand Puba 0\n",
      "Luke Biggie 0\n"
     ]
    }
   ],
   "source": [
    "Biggie_pop = Biggie_data['artists']['items']\n",
    "for artist in Biggie_pop:\n",
    "    print(artist['name'], artist['popularity'])"
   ]
  },
  {
   "cell_type": "code",
   "execution_count": 195,
   "metadata": {
    "collapsed": false
   },
   "outputs": [
    {
     "name": "stdout",
     "output_type": "stream",
     "text": [
      "The average rating for the top 50 artists called Lil is: 47\n",
      "The average rating for the top 50 artists called Biggie is: 4\n"
     ]
    }
   ],
   "source": [
    "Lil_artists_pop = Lil_data['artists']['items']\n",
    "popularity_total = 0\n",
    "for popularity in Lil_artists_pop:\n",
    "    popularity_total = popularity_total + popularity['popularity']\n",
    "print(\"The average rating for the top 50 artists called Lil is:\", round(popularity_total / 50))\n",
    "\n",
    "Biggie_artists_pop = Biggie_data['artists']['items']\n",
    "Biggie_popularity_total = 0\n",
    "for popularity2 in Biggie_artists_pop:\n",
    "    Biggie_popularity_total = Biggie_popularity_total + popularity2['popularity']\n",
    "print(\"The average rating for the top 50 artists called Biggie is:\", round(Biggie_popularity_total / 50) )"
   ]
  },
  {
   "cell_type": "code",
   "execution_count": null,
   "metadata": {
    "collapsed": false
   },
   "outputs": [],
   "source": []
  },
  {
   "cell_type": "code",
   "execution_count": null,
   "metadata": {
    "collapsed": true
   },
   "outputs": [],
   "source": []
  }
 ],
 "metadata": {
  "kernelspec": {
   "display_name": "Python 3",
   "language": "python",
   "name": "python3"
  },
  "language_info": {
   "codemirror_mode": {
    "name": "ipython",
    "version": 3
   },
   "file_extension": ".py",
   "mimetype": "text/x-python",
   "name": "python",
   "nbconvert_exporter": "python",
   "pygments_lexer": "ipython3",
   "version": "3.5.1"
  }
 },
 "nbformat": 4,
 "nbformat_minor": 0
}
