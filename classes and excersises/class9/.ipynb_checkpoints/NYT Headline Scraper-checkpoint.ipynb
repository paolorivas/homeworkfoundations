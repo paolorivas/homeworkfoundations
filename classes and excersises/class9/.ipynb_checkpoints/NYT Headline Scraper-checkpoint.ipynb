{
 "cells": [
  {
   "cell_type": "code",
   "execution_count": 3,
   "metadata": {
    "collapsed": false
   },
   "outputs": [],
   "source": [
    "import requests\n",
    "from bs4 import BeautifulSoup"
   ]
  },
  {
   "cell_type": "code",
   "execution_count": 11,
   "metadata": {
    "collapsed": false
   },
   "outputs": [],
   "source": [
    "# Grab the NYT homepage\n",
    "response = requests.get(\"http://www.nytimes.com\")"
   ]
  },
  {
   "cell_type": "code",
   "execution_count": 12,
   "metadata": {
    "collapsed": true
   },
   "outputs": [],
   "source": [
    "# Feed it into BeautifulSoup\n",
    "doc = BeautifulSoup(response.text, 'html.parser')"
   ]
  },
  {
   "cell_type": "code",
   "execution_count": 13,
   "metadata": {
    "collapsed": false
   },
   "outputs": [
    {
     "data": {
      "text/plain": [
       "141"
      ]
     },
     "execution_count": 13,
     "metadata": {},
     "output_type": "execute_result"
    }
   ],
   "source": [
    "# Get out the stories\n",
    "stories = doc.find_all(\"article\", { 'class': 'story' })\n",
    "len(stories)"
   ]
  },
  {
   "cell_type": "code",
   "execution_count": 25,
   "metadata": {
    "collapsed": false
   },
   "outputs": [],
   "source": [
    "all_stories = []\n",
    "# Grab their headlines and bylines\n",
    "for story in stories:\n",
    "    # Grab all of the h2's inside of the story\n",
    "    headline = story.find('h2', {'class': 'story-heading'})\n",
    "    # If a headline exists, then process the rest!\n",
    "    if headline:\n",
    "        # They're COVERED in whitespace\n",
    "        headline_text = headline.text.strip()\n",
    "        # Make a dictionary with the headline\n",
    "        this_story = { 'headline': headline_text }\n",
    "        byline = story.find('p', {'class': 'byline'})\n",
    "        # Not all of them have a byline\n",
    "        if byline:\n",
    "            byline_text = byline.text.strip()\n",
    "            this_story['byline'] = byline_text\n",
    "        all_stories.append(this_story)"
   ]
  },
  {
   "cell_type": "code",
   "execution_count": 32,
   "metadata": {
    "collapsed": false
   },
   "outputs": [
    {
     "data": {
      "text/plain": [
       "[{'byline': 'By MAGGIE HABERMAN 9:55 AM ET',\n",
       "  'headline': 'Trump Fires His Campaign Chief in Pivot to General Race'},\n",
       " {'byline': 'By JONATHAN MAHLER and MATT FLEGENHEIMER',\n",
       "  'headline': 'What Trump Learned From Joe McCarthy’s Top Aide'},\n",
       " {'headline': 'Clinton Seeks Running Mate to Click With Her, Not Compete'},\n",
       " {'byline': 'By WILLIAM K. RASHBAUM and JOSEPH GOLDSTEIN 10:07 AM ET',\n",
       "  'headline': '3 New York Police Officials Arrested on Corruption Charges'},\n",
       " {'byline': 'By REBECCA R. RUIZ 11:08 AM ET',\n",
       "  'headline': 'Senators Question Doping Agency on Handling of Russia'},\n",
       " {'byline': 'By SCOTT CACCIOLA', 'headline': ''},\n",
       " {'headline': 'Is This Heaven? No, It’s Cleveland 11:52 AM ET'},\n",
       " {'headline': 'Sports of The Times: James Makes N.B.A. History 8:13 AM ET'},\n",
       " {'byline': 'By ADEEL HASSAN', 'headline': 'Your Monday Briefing'},\n",
       " {'byline': 'By KIT EATON', 'headline': 'The Smartphone Way to Inner Calm'},\n",
       " {'byline': 'By AARON E. CARROLL',\n",
       "  'headline': 'The Benefits of Exercise Explained'},\n",
       " {'byline': 'By NICHOLAS CASEY',\n",
       "  'headline': 'Venezuelans Storm Stores as Hunger Grips the Nation'},\n",
       " {'headline': 'Venezuela Casts a Long Shadow on Elections in Spain'},\n",
       " {'byline': 'By ADAM LIPTAK 9:36 AM ET',\n",
       "  'headline': 'Justices Turn Away Challenge to Connecticut Gun Law'},\n",
       " {'headline': 'Orlando Shooter Said U.S. Should ‘Stop Bombing’ Syria 11:04 AM ET'},\n",
       " {'headline': '4 Key Questions as Senate Considers New Gun Measures'},\n",
       " {'byline': 'By SARAH ALMUKHTAR, TIM WALLACE and DEREK WATKINS',\n",
       "  'headline': 'A Look at the Islamic State’s Victories and Losses'},\n",
       " {'byline': 'By THE NEW YORK TIMES',\n",
       "  'headline': 'What Does the First Day of Summer Look Like?'},\n",
       " {'headline': 'Ex-C.E.O. of Volkswagen Is Under Investigation 9:54 AM ET'},\n",
       " {'headline': 'Kabul Bombing Kills Security Contractors, Officials Say 12:18 PM ET'},\n",
       " {'headline': 'Dustin Johnson Wins U.S. Open Despite Controversy'},\n",
       " {'headline': 'Brooklyn Residents Seek Answers for Killing'},\n",
       " {'headline': 'TV Recaps: ‘Game of Thrones’  |  ‘Veep’  | ‘Silicon Valley’NYT Now'},\n",
       " {'headline': 'Two Astonishing Views of O.J. Simpson'},\n",
       " {'headline': 'In Coral Spawning, Hope for Endangered Reefs'},\n",
       " {'headline': 'A Quest to Get Americans to Care About Rugby'},\n",
       " {'byline': 'By SEYED HOSSEIN MOUSAVIAN and REZA NASRI',\n",
       "  'headline': 'Obama Needs to Protect the Iran Deal'},\n",
       " {'headline': 'Editorial: The Broken Promise of Closing Guantánamo'},\n",
       " {'headline': 'Blow: The G.O.P.’s Cynical Gay Ploy'},\n",
       " {'headline': 'Cohen: Jo Cox and Britain’s Place in Europe 7:03 AM ET'},\n",
       " {'headline': 'Krugman: A Tale of Two Parties'},\n",
       " {'headline': 'Join us on Facebook »'},\n",
       " {'byline': 'By VIET THANH NGUYEN',\n",
       "  'headline': 'The ‘American Tragedy’ of Vietnam'},\n",
       " {'byline': 'By BERT STRATTON', 'headline': 'Cleveland Is Believeland'},\n",
       " {'headline': 'Op-Ed: What the President Can’t Do for the Economy'},\n",
       " {'headline': 'What Sent a Reporter Back to First Grade — Even During Maternity Leave'},\n",
       " {'headline': 'Watch The Orlando Shooting Story Take Shape'},\n",
       " {'headline': 'What Sent a Reporter Back to First Grade — Even During Maternity Leave'},\n",
       " {'headline': 'Play Today’s Puzzle'},\n",
       " {'headline': 'Play Today’s Puzzle'},\n",
       " {'headline': 'Hockey Problems'},\n",
       " {'headline': 'Decades Later, Hydrogen Bomb’s Damage Lingers'},\n",
       " {'headline': 'The Stone: The Violence of Forgetting'},\n",
       " {'headline': 'What Sent a Reporter Back to First Grade'},\n",
       " {'headline': 'Consequences of a Brexit'},\n",
       " {'headline': 'Finding Beauty in the Ordinary'},\n",
       " {'headline': 'Not Forgotten: Anderson Cooper on His Father'},\n",
       " {'headline': 'The Sisterhood of Political Progeny'},\n",
       " {'headline': 'Op-Ed: The ‘American Tragedy’ of Vietnam'},\n",
       " {'headline': 'GIF Shows Evolution of Orlando Breaking News'},\n",
       " {'headline': 'Op-Ed: Obama Needs to Protect the Iran Deal'},\n",
       " {'headline': 'The Sound of Music Is in His Heart'},\n",
       " {'headline': 'The Law School Bust'},\n",
       " {'headline': 'E.U. Countries Warn Britain on ‘Brexit’: You’ll Pay if You Leave Us'},\n",
       " {'headline': 'Anti-Immigration Poster Denounced by a Top ‘Brexit’ Advocate'},\n",
       " {'headline': 'Wall St. Rises as Fears of a ‘Brexit’ Ease'},\n",
       " {'headline': 'Martin Winterkorn, Ex-C.E.O. of Volkswagen, Is Under Investigation'},\n",
       " {'headline': 'Editorial: Heading Off the Next Extremist'},\n",
       " {'headline': 'Frank Bruni: The Republicans’ Big Hot Mess'},\n",
       " {'headline': 'Orlando Gunman Told Police That U.S. Should ‘Stop Bombing’ Syria and Iraq'},\n",
       " {'headline': '4 Key Questions as Senate Considers New Gun Safety Measures'},\n",
       " {'headline': 'Airbnb Vows to Fight Racism, but Its Users Can’t Sue to Prompt Fairness'},\n",
       " {'headline': 'Europe’s Emergency Workers Turn to Drones to Save Lives'},\n",
       " {'headline': '‘Made in L.A.,’ at the Hammer, Excavates Hollywood’s Past'},\n",
       " {'headline': 'Books of The Times: Review: Natashia Deón’s ‘Grace,’ a Tale of Slavery, Its Ghosts and Legacy'},\n",
       " {'headline': 'Donald Trump’s June Stumbles Mirror Those of Mitt Romney'},\n",
       " {'headline': 'What Donald Trump Learned From Joseph McCarthy’s Right-Hand Man'},\n",
       " {'headline': 'A Face in the Crowd at Moncler Gamme Bleu: Big Sean'},\n",
       " {'headline': 'Table for Three: Cecile Richards, Barbara Bush and the Sisterhood of Political Progeny'},\n",
       " {'headline': 'Anton Yelchin, ‘Star Trek’ Actor, Dies at 27'},\n",
       " {'headline': '‘Finding Dory’ Sets Box Office Record for Pixar'},\n",
       " {'headline': '3 N.Y.P.D. Commanders Are Arrested on Corruption Charges'},\n",
       " {'headline': 'Yearbook Project Collects Stories of Children Killed in Shootings'},\n",
       " {'headline': 'Cavaliers 93, Warriors 89 | Cleveland wins series, 4-3: Cavaliers Defeat Warriors to Win Their First N.B.A. Title'},\n",
       " {'headline': 'Sports of The Times: A Long-Sought Title Belongs to LeBron James'},\n",
       " {'headline': 'Leslie Odom Jr. to Leave ‘Hamilton’ on July 9'},\n",
       " {'headline': 'Review: ‘I’ll Say She Is’ Revives a Marx Brothers Revue'},\n",
       " {'headline': 'An Unwelcome Tourist Arrives in New Jersey: Clinging Jellyfish'},\n",
       " {'headline': 'ScienceTake: The Grackle’s Secret to Success'},\n",
       " {'headline': 'Prince Be, Who Infused Rap With Mysticism, Dies at 46'},\n",
       " {'headline': 'Donald Shea, Officer Who Captured Infamous Bank Robber, Dies at 90'},\n",
       " {'headline': 'Review: In ‘Suited,’ Searching for Clothes That Truly Fit'},\n",
       " {'headline': 'Anton Yelchin, ‘Star Trek’ Actor, Dies at 27'},\n",
       " {'headline': 'Personal Health: No Such Thing as a Healthy Smoker'},\n",
       " {'headline': 'Food Banks Take on a Contributor to Diabetes: Themselves'},\n",
       " {'headline': '4 Roller Coasters That Put the Theme in Theme Park'},\n",
       " {'headline': 'Carry-On: What David Sedaris Can’t Travel Without'},\n",
       " {'headline': 'Books of The Times: Review: Natashia Deón’s ‘Grace,’ a Tale of Slavery, Its Ghosts and Legacy'},\n",
       " {'headline': 'Nonfiction: Susan Faludi’s ‘In the Darkroom’'},\n",
       " {'headline': 'An Expensive Law Degree, and No Place to Use It'},\n",
       " {'headline': 'Race/Related: Moving to Make Amends, Georgetown President Meets With Descendant of Slaves'},\n",
       " {'headline': 'City Kitchen: A Creamy, Sweet Tribute to Summer'},\n",
       " {'headline': 'A Good Appetite: Hot Honey Shrimp Is Spicy, Sweet and Speedy'},\n",
       " {'headline': 'Opinion: Donald Trump’s Place'},\n",
       " {'headline': 'Editorial: Heading Off the Next Extremist'},\n",
       " {'headline': 'Checklist for Winning a Bidding War'},\n",
       " {'headline': 'What I Love: John Leguizamo’s Walls May Talk, but They Don’t Criticize'},\n",
       " {'headline': 'The 2016 Race: Yes, Political Ads Are Still Important, Even for Donald Trump'},\n",
       " {'headline': 'The New Health Care: Why You Should Exercise (No, Not to Lose Weight)'},\n",
       " {'headline': 'Feature: Can Netflix Survive in the New World It Created?'},\n",
       " {'headline': 'Notebook: Why ‘Transcending Race’ Is a Lie'},\n",
       " {'headline': 'Driven: Mazda’s CX-9: A Crossover That’s a Treat for Parents'},\n",
       " {'headline': 'Wheels: Skeptics of Self-Driving Cars Span Generations'},\n",
       " {'headline': '15 Minutes With Ai Weiwei'},\n",
       " {'headline': 'Men’s Fashion Shows: Raf Simons in Florence'},\n",
       " {'headline': 'Tune In to The Times: The Times on the Air: Terrorism, Trump and Trolls'},\n",
       " {'headline': 'Looking Back: 1948-2016 | A Times Art Treasure Comes to an Omaha Library'},\n",
       " {'byline': 'By LISA PREVOST',\n",
       "  'headline': 'Checklist for Winning a Bidding War'},\n",
       " {'headline': 'Search for Homes for Sale or Rent'},\n",
       " {'headline': 'Sell Your Home'},\n",
       " {'byline': 'By JOANNE KAUFMAN',\n",
       "  'headline': 'John Leguizamo’s Walls May Talk, but They Don’t Criticize'}]"
      ]
     },
     "execution_count": 32,
     "metadata": {},
     "output_type": "execute_result"
    }
   ],
   "source": [
    "all_stories"
   ]
  },
  {
   "cell_type": "code",
   "execution_count": 33,
   "metadata": {
    "collapsed": false
   },
   "outputs": [
    {
     "data": {
      "text/plain": [
       "111"
      ]
     },
     "execution_count": 33,
     "metadata": {},
     "output_type": "execute_result"
    }
   ],
   "source": [
    "len(all_stories)"
   ]
  },
  {
   "cell_type": "code",
   "execution_count": 34,
   "metadata": {
    "collapsed": false
   },
   "outputs": [],
   "source": [
    "import pandas as pd"
   ]
  },
  {
   "cell_type": "code",
   "execution_count": 36,
   "metadata": {
    "collapsed": false
   },
   "outputs": [
    {
     "data": {
      "text/html": [
       "<div>\n",
       "<table border=\"1\" class=\"dataframe\">\n",
       "  <thead>\n",
       "    <tr style=\"text-align: right;\">\n",
       "      <th></th>\n",
       "      <th>byline</th>\n",
       "      <th>headline</th>\n",
       "    </tr>\n",
       "  </thead>\n",
       "  <tbody>\n",
       "    <tr>\n",
       "      <th>0</th>\n",
       "      <td>By MAGGIE HABERMAN 9:55 AM ET</td>\n",
       "      <td>Trump Fires His Campaign Chief in Pivot to Gen...</td>\n",
       "    </tr>\n",
       "    <tr>\n",
       "      <th>1</th>\n",
       "      <td>By JONATHAN MAHLER and MATT FLEGENHEIMER</td>\n",
       "      <td>What Trump Learned From Joe McCarthy’s Top Aide</td>\n",
       "    </tr>\n",
       "  </tbody>\n",
       "</table>\n",
       "</div>"
      ],
      "text/plain": [
       "                                     byline  \\\n",
       "0             By MAGGIE HABERMAN 9:55 AM ET   \n",
       "1  By JONATHAN MAHLER and MATT FLEGENHEIMER   \n",
       "\n",
       "                                            headline  \n",
       "0  Trump Fires His Campaign Chief in Pivot to Gen...  \n",
       "1    What Trump Learned From Joe McCarthy’s Top Aide  "
      ]
     },
     "execution_count": 36,
     "metadata": {},
     "output_type": "execute_result"
    }
   ],
   "source": [
    "# Convert the headlines and bylines into a pandas DataFrame\n",
    "stories_df = pd.DataFrame(all_stories)\n",
    "stories_df.head(2)"
   ]
  },
  {
   "cell_type": "code",
   "execution_count": 38,
   "metadata": {
    "collapsed": true
   },
   "outputs": [],
   "source": [
    "stories_df.to_csv(\"nyt-data.csv\")"
   ]
  },
  {
   "cell_type": "code",
   "execution_count": 39,
   "metadata": {
    "collapsed": true
   },
   "outputs": [],
   "source": [
    "# We want \"nyt-data-2016-06-20.csv\"\n",
    "# We will use \"nyt-data`date +\"%Y-%m-%d`.csv\"\n",
    "import time\n"
   ]
  },
  {
   "cell_type": "code",
   "execution_count": 43,
   "metadata": {
    "collapsed": false
   },
   "outputs": [
    {
     "data": {
      "text/plain": [
       "'2016-06-20-12-47'"
      ]
     },
     "execution_count": 43,
     "metadata": {},
     "output_type": "execute_result"
    }
   ],
   "source": [
    "datestring = time.strftime(\"%Y-%m-%d-%H-%M\")\n",
    "datestring"
   ]
  },
  {
   "cell_type": "code",
   "execution_count": 45,
   "metadata": {
    "collapsed": true
   },
   "outputs": [],
   "source": [
    "filename = \"nyt-data-\" + datestring + \".csv\"\n",
    "stories_df.to_csv(filename, index=False)"
   ]
  },
  {
   "cell_type": "code",
   "execution_count": null,
   "metadata": {
    "collapsed": true
   },
   "outputs": [],
   "source": []
  }
 ],
 "metadata": {
  "kernelspec": {
   "display_name": "Python 3",
   "language": "python",
   "name": "python3"
  },
  "language_info": {
   "codemirror_mode": {
    "name": "ipython",
    "version": 3
   },
   "file_extension": ".py",
   "mimetype": "text/x-python",
   "name": "python",
   "nbconvert_exporter": "python",
   "pygments_lexer": "ipython3",
   "version": "3.5.1"
  }
 },
 "nbformat": 4,
 "nbformat_minor": 0
}
