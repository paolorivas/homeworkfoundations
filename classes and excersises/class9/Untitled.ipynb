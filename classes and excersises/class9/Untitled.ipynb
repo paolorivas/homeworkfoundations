{
 "cells": [
  {
   "cell_type": "code",
   "execution_count": 1,
   "metadata": {
    "collapsed": true
   },
   "outputs": [],
   "source": [
    "import requests\n",
    "from bs4 import BeautifulSoup\n"
   ]
  },
  {
   "cell_type": "code",
   "execution_count": 7,
   "metadata": {
    "collapsed": false
   },
   "outputs": [],
   "source": [
    "#grab the NYT homepage\n",
    "response = requests.get(\"http://www.nytimes.com\")"
   ]
  },
  {
   "cell_type": "code",
   "execution_count": 8,
   "metadata": {
    "collapsed": true
   },
   "outputs": [],
   "source": [
    "#feed t into BSP\n",
    "doc = BeautifulSoup(response.text, 'html.parser')"
   ]
  },
  {
   "cell_type": "code",
   "execution_count": 9,
   "metadata": {
    "collapsed": false
   },
   "outputs": [
    {
     "data": {
      "text/plain": [
       "141"
      ]
     },
     "execution_count": 9,
     "metadata": {},
     "output_type": "execute_result"
    }
   ],
   "source": [
    "#get out the stories \n",
    "stories = doc.find_all(\"article\", {'class': 'story'})\n",
    "len(stories)"
   ]
  },
  {
   "cell_type": "code",
   "execution_count": 29,
   "metadata": {
    "collapsed": false
   },
   "outputs": [
    {
     "data": {
      "text/plain": [
       "[{'headlines': 'John Leguizamo’s Walls May Talk, but They Don’t Criticize'},\n",
       " {'headlines': 'Trump Fires His Campaign Chief in Pivot to General Race'},\n",
       " {'headlines': 'What Trump Learned From Joe McCarthy’s Top Aide'},\n",
       " {'headlines': 'Clinton Seeks Running Mate to Click With Her, Not Compete'},\n",
       " {'headlines': '3 New York Police Officials Arrested on Corruption Charges'},\n",
       " {'headlines': 'Senators Question Doping Agency on Handling of Russia'},\n",
       " {'headlines': ''},\n",
       " {'headlines': 'Is This Heaven? No, It’s Cleveland 11:52 AM ET'},\n",
       " {'headlines': 'Sports of The Times: James Makes N.B.A. History 8:13 AM ET'},\n",
       " {'headlines': 'Your Monday Briefing'},\n",
       " {'headlines': 'The Smartphone Way to Inner Calm'},\n",
       " {'headlines': 'The Benefits of Exercise Explained'},\n",
       " {'headlines': 'Venezuelans Storm Stores as Hunger Grips the Nation'},\n",
       " {'headlines': 'Venezuela Casts a Long Shadow on Elections in Spain'},\n",
       " {'headlines': 'Justices Turn Away Challenge to Connecticut Gun Law'},\n",
       " {'headlines': 'Orlando Shooter Said U.S. Should ‘Stop Bombing’ Syria 11:04 AM ET'},\n",
       " {'headlines': '4 Key Questions as Senate Considers New Gun Measures'},\n",
       " {'headlines': 'A Look at the Islamic State’s Victories and Losses'},\n",
       " {'headlines': 'What Does the First Day of Summer Look Like?'},\n",
       " {'headlines': 'Ex-C.E.O. of Volkswagen Is Under Investigation 9:54 AM ET'},\n",
       " {'headlines': 'Kabul Bombing Kills Security Contractors, Officials Say 12:18 PM ET'},\n",
       " {'headlines': 'Dustin Johnson Wins U.S. Open Despite Controversy'},\n",
       " {'headlines': 'Brooklyn Residents Seek Answers for Killing'},\n",
       " {'headlines': 'TV Recaps: ‘Game of Thrones’  |  ‘Veep’  | ‘Silicon Valley’NYT Now'},\n",
       " {'headlines': 'Two Astonishing Views of O.J. Simpson'},\n",
       " {'headlines': 'In Coral Spawning, Hope for Endangered Reefs'},\n",
       " {'headlines': 'A Quest to Get Americans to Care About Rugby'},\n",
       " {'headlines': 'Obama Needs to Protect the Iran Deal'},\n",
       " {'headlines': 'Editorial: The Broken Promise of Closing Guantánamo'},\n",
       " {'headlines': 'Blow: The G.O.P.’s Cynical Gay Ploy'},\n",
       " {'headlines': 'Cohen: Jo Cox and Britain’s Place in Europe 7:03 AM ET'},\n",
       " {'headlines': 'Krugman: A Tale of Two Parties'},\n",
       " {'headlines': 'Join us on Facebook »'},\n",
       " {'headlines': 'The ‘American Tragedy’ of Vietnam'},\n",
       " {'headlines': 'Cleveland Is Believeland'},\n",
       " {'headlines': 'Op-Ed: What the President Can’t Do for the Economy'},\n",
       " {'headlines': 'What Sent a Reporter Back to First Grade — Even During Maternity Leave'},\n",
       " {'headlines': 'Watch The Orlando Shooting Story Take Shape'},\n",
       " {'headlines': 'What Sent a Reporter Back to First Grade — Even During Maternity Leave'},\n",
       " {'headlines': 'Play Today’s Puzzle'},\n",
       " {'headlines': 'Play Today’s Puzzle'},\n",
       " {'headlines': 'Hockey Problems'},\n",
       " {'headlines': 'Decades Later, Hydrogen Bomb’s Damage Lingers'},\n",
       " {'headlines': 'The Stone: The Violence of Forgetting'},\n",
       " {'headlines': 'What Sent a Reporter Back to First Grade'},\n",
       " {'headlines': 'Consequences of a Brexit'},\n",
       " {'headlines': 'Finding Beauty in the Ordinary'},\n",
       " {'headlines': 'Not Forgotten: Anderson Cooper on His Father'},\n",
       " {'headlines': 'The Sisterhood of Political Progeny'},\n",
       " {'headlines': 'Op-Ed: The ‘American Tragedy’ of Vietnam'},\n",
       " {'headlines': 'GIF Shows Evolution of Orlando Breaking News'},\n",
       " {'headlines': 'Op-Ed: Obama Needs to Protect the Iran Deal'},\n",
       " {'headlines': 'The Sound of Music Is in His Heart'},\n",
       " {'headlines': 'The Law School Bust'},\n",
       " {'headlines': 'E.U. Countries Warn Britain on ‘Brexit’: You’ll Pay if You Leave Us'},\n",
       " {'headlines': 'Anti-Immigration Poster Denounced by a Top ‘Brexit’ Advocate'},\n",
       " {'headlines': 'Wall St. Rises as Fears of a ‘Brexit’ Ease'},\n",
       " {'headlines': 'Martin Winterkorn, Ex-C.E.O. of Volkswagen, Is Under Investigation'},\n",
       " {'headlines': 'Editorial: Heading Off the Next Extremist'},\n",
       " {'headlines': 'Frank Bruni: The Republicans’ Big Hot Mess'},\n",
       " {'headlines': 'Orlando Gunman Told Police That U.S. Should ‘Stop Bombing’ Syria and Iraq'},\n",
       " {'headlines': '4 Key Questions as Senate Considers New Gun Safety Measures'},\n",
       " {'headlines': 'Airbnb Vows to Fight Racism, but Its Users Can’t Sue to Prompt Fairness'},\n",
       " {'headlines': 'Europe’s Emergency Workers Turn to Drones to Save Lives'},\n",
       " {'headlines': '‘Made in L.A.,’ at the Hammer, Excavates Hollywood’s Past'},\n",
       " {'headlines': 'Books of The Times: Review: Natashia Deón’s ‘Grace,’ a Tale of Slavery, Its Ghosts and Legacy'},\n",
       " {'headlines': 'Donald Trump’s June Stumbles Mirror Those of Mitt Romney'},\n",
       " {'headlines': 'What Donald Trump Learned From Joseph McCarthy’s Right-Hand Man'},\n",
       " {'headlines': 'A Face in the Crowd at Moncler Gamme Bleu: Big Sean'},\n",
       " {'headlines': 'Table for Three: Cecile Richards, Barbara Bush and the Sisterhood of Political Progeny'},\n",
       " {'headlines': 'Anton Yelchin, ‘Star Trek’ Actor, Dies at 27'},\n",
       " {'headlines': '‘Finding Dory’ Sets Box Office Record for Pixar'},\n",
       " {'headlines': '3 N.Y.P.D. Commanders Are Arrested on Corruption Charges'},\n",
       " {'headlines': 'Yearbook Project Collects Stories of Children Killed in Shootings'},\n",
       " {'headlines': 'Cavaliers 93, Warriors 89 | Cleveland wins series, 4-3: Cavaliers Defeat Warriors to Win Their First N.B.A. Title'},\n",
       " {'headlines': 'Sports of The Times: A Long-Sought Title Belongs to LeBron James'},\n",
       " {'headlines': 'Leslie Odom Jr. to Leave ‘Hamilton’ on July 9'},\n",
       " {'headlines': 'Review: ‘I’ll Say She Is’ Revives a Marx Brothers Revue'},\n",
       " {'headlines': 'An Unwelcome Tourist Arrives in New Jersey: Clinging Jellyfish'},\n",
       " {'headlines': 'ScienceTake: The Grackle’s Secret to Success'},\n",
       " {'headlines': 'Prince Be, Who Infused Rap With Mysticism, Dies at 46'},\n",
       " {'headlines': 'Donald Shea, Officer Who Captured Infamous Bank Robber, Dies at 90'},\n",
       " {'headlines': 'Review: In ‘Suited,’ Searching for Clothes That Truly Fit'},\n",
       " {'headlines': 'Anton Yelchin, ‘Star Trek’ Actor, Dies at 27'},\n",
       " {'headlines': 'Personal Health: No Such Thing as a Healthy Smoker'},\n",
       " {'headlines': 'Food Banks Take on a Contributor to Diabetes: Themselves'},\n",
       " {'headlines': '4 Roller Coasters That Put the Theme in Theme Park'},\n",
       " {'headlines': 'Carry-On: What David Sedaris Can’t Travel Without'},\n",
       " {'headlines': 'Books of The Times: Review: Natashia Deón’s ‘Grace,’ a Tale of Slavery, Its Ghosts and Legacy'},\n",
       " {'headlines': 'Nonfiction: Susan Faludi’s ‘In the Darkroom’'},\n",
       " {'headlines': 'An Expensive Law Degree, and No Place to Use It'},\n",
       " {'headlines': 'Race/Related: Moving to Make Amends, Georgetown President Meets With Descendant of Slaves'},\n",
       " {'headlines': 'City Kitchen: A Creamy, Sweet Tribute to Summer'},\n",
       " {'headlines': 'A Good Appetite: Hot Honey Shrimp Is Spicy, Sweet and Speedy'},\n",
       " {'headlines': 'Opinion: Donald Trump’s Place'},\n",
       " {'headlines': 'Editorial: Heading Off the Next Extremist'},\n",
       " {'headlines': 'Checklist for Winning a Bidding War'},\n",
       " {'headlines': 'What I Love: John Leguizamo’s Walls May Talk, but They Don’t Criticize'},\n",
       " {'headlines': 'The 2016 Race: Yes, Political Ads Are Still Important, Even for Donald Trump'},\n",
       " {'headlines': 'The New Health Care: Why You Should Exercise (No, Not to Lose Weight)'},\n",
       " {'headlines': 'Feature: Can Netflix Survive in the New World It Created?'},\n",
       " {'headlines': 'Notebook: Why ‘Transcending Race’ Is a Lie'},\n",
       " {'headlines': 'Driven: Mazda’s CX-9: A Crossover That’s a Treat for Parents'},\n",
       " {'headlines': 'Wheels: Skeptics of Self-Driving Cars Span Generations'},\n",
       " {'headlines': '15 Minutes With Ai Weiwei'},\n",
       " {'headlines': 'Men’s Fashion Shows: Raf Simons in Florence'},\n",
       " {'headlines': 'Tune In to The Times: The Times on the Air: Terrorism, Trump and Trolls'},\n",
       " {'headlines': 'Looking Back: 1948-2016 | A Times Art Treasure Comes to an Omaha Library'},\n",
       " {'headlines': 'Checklist for Winning a Bidding War'},\n",
       " {'headlines': 'Search for Homes for Sale or Rent'},\n",
       " {'headlines': 'Sell Your Home'}]"
      ]
     },
     "execution_count": 29,
     "metadata": {},
     "output_type": "execute_result"
    }
   ],
   "source": [
    "all_stories = []\n",
    "#grab the headlines and bylines\n",
    "for story in stories:\n",
    "    headline = story.find('h2', {'class':'story-heading'})\n",
    "    if headline:\n",
    "        this_story= {'headlines': headline_text}\n",
    "        headline_text = headline.text.strip()\n",
    "        byline = story.find('p', {'class': 'byline'})\n",
    "        if byline:\n",
    "            by_line_text = byline.text.strip()\n",
    "        all_stories.append(this_story)    \n",
    "    \n",
    "all_stories"
   ]
  },
  {
   "cell_type": "code",
   "execution_count": 5,
   "metadata": {
    "collapsed": true
   },
   "outputs": [],
   "source": [
    "#ave the headlines and bylines to a timestamped CSV"
   ]
  },
  {
   "cell_type": "code",
   "execution_count": 20,
   "metadata": {
    "collapsed": false
   },
   "outputs": [
    {
     "name": "stdout",
     "output_type": "stream",
     "text": [
      "Requirement already satisfied (use --upgrade to upgrade): pandas in /usr/local/lib/python3.5/site-packages\n",
      "Requirement already satisfied (use --upgrade to upgrade): pytz>=2011k in /usr/local/lib/python3.5/site-packages (from pandas)\n",
      "Requirement already satisfied (use --upgrade to upgrade): python-dateutil>=2 in /usr/local/lib/python3.5/site-packages (from pandas)\n",
      "Requirement already satisfied (use --upgrade to upgrade): numpy>=1.7.0 in /usr/local/lib/python3.5/site-packages (from pandas)\n",
      "Requirement already satisfied (use --upgrade to upgrade): six>=1.5 in /usr/local/lib/python3.5/site-packages (from python-dateutil>=2->pandas)\n"
     ]
    }
   ],
   "source": [
    "!pip install pandas"
   ]
  },
  {
   "cell_type": "code",
   "execution_count": 24,
   "metadata": {
    "collapsed": true
   },
   "outputs": [],
   "source": [
    "import pandas as pd"
   ]
  },
  {
   "cell_type": "code",
   "execution_count": 30,
   "metadata": {
    "collapsed": false
   },
   "outputs": [
    {
     "data": {
      "text/html": [
       "<div>\n",
       "<table border=\"1\" class=\"dataframe\">\n",
       "  <thead>\n",
       "    <tr style=\"text-align: right;\">\n",
       "      <th></th>\n",
       "      <th>headlines</th>\n",
       "    </tr>\n",
       "  </thead>\n",
       "  <tbody>\n",
       "    <tr>\n",
       "      <th>0</th>\n",
       "      <td>John Leguizamo’s Walls May Talk, but They Don’...</td>\n",
       "    </tr>\n",
       "    <tr>\n",
       "      <th>1</th>\n",
       "      <td>Trump Fires His Campaign Chief in Pivot to Gen...</td>\n",
       "    </tr>\n",
       "    <tr>\n",
       "      <th>2</th>\n",
       "      <td>What Trump Learned From Joe McCarthy’s Top Aide</td>\n",
       "    </tr>\n",
       "    <tr>\n",
       "      <th>3</th>\n",
       "      <td>Clinton Seeks Running Mate to Click With Her, ...</td>\n",
       "    </tr>\n",
       "    <tr>\n",
       "      <th>4</th>\n",
       "      <td>3 New York Police Officials Arrested on Corrup...</td>\n",
       "    </tr>\n",
       "  </tbody>\n",
       "</table>\n",
       "</div>"
      ],
      "text/plain": [
       "                                           headlines\n",
       "0  John Leguizamo’s Walls May Talk, but They Don’...\n",
       "1  Trump Fires His Campaign Chief in Pivot to Gen...\n",
       "2    What Trump Learned From Joe McCarthy’s Top Aide\n",
       "3  Clinton Seeks Running Mate to Click With Her, ...\n",
       "4  3 New York Police Officials Arrested on Corrup..."
      ]
     },
     "execution_count": 30,
     "metadata": {},
     "output_type": "execute_result"
    }
   ],
   "source": [
    "stories_df = pd.DataFrame(all_stories)\n",
    "stories_df.head()"
   ]
  },
  {
   "cell_type": "code",
   "execution_count": 32,
   "metadata": {
    "collapsed": false
   },
   "outputs": [],
   "source": [
    "stories_df.to_csv(\"nyt-data.cvs\")"
   ]
  },
  {
   "cell_type": "code",
   "execution_count": 33,
   "metadata": {
    "collapsed": true
   },
   "outputs": [],
   "source": [
    "import time"
   ]
  },
  {
   "cell_type": "code",
   "execution_count": 37,
   "metadata": {
    "collapsed": false
   },
   "outputs": [
    {
     "data": {
      "text/plain": [
       "'2016-06-20-12-46-PM'"
      ]
     },
     "execution_count": 37,
     "metadata": {},
     "output_type": "execute_result"
    }
   ],
   "source": [
    "datastring =  time.strftime(\"%Y-%m-%d-%I-%M-%p\")\n",
    "datastring"
   ]
  },
  {
   "cell_type": "code",
   "execution_count": 40,
   "metadata": {
    "collapsed": false
   },
   "outputs": [],
   "source": [
    "filename = \"nyt-data-\" + datastring + \".csv\"\n",
    "stories_df.to_csv(filename, index=False)"
   ]
  },
  {
   "cell_type": "code",
   "execution_count": null,
   "metadata": {
    "collapsed": true
   },
   "outputs": [],
   "source": []
  }
 ],
 "metadata": {
  "kernelspec": {
   "display_name": "Python 3",
   "language": "python",
   "name": "python3"
  },
  "language_info": {
   "codemirror_mode": {
    "name": "ipython",
    "version": 3
   },
   "file_extension": ".py",
   "mimetype": "text/x-python",
   "name": "python",
   "nbconvert_exporter": "python",
   "pygments_lexer": "ipython3",
   "version": "3.5.1"
  }
 },
 "nbformat": 4,
 "nbformat_minor": 0
}
